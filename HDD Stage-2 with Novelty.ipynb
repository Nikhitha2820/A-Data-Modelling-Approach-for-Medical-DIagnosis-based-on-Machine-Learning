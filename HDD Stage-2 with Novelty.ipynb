{
  "cells": [
    {
      "cell_type": "markdown",
      "metadata": {
        "id": "tvwtHDNXP1r5"
      },
      "source": [
        "# **HEART DISEASE DATASET (STAGE-2)**"
      ]
    },
    {
      "cell_type": "markdown",
      "metadata": {
        "id": "MwZsbiE1RlHs"
      },
      "source": [
        "### **DATA ACQUISITION**"
      ]
    },
    {
      "cell_type": "code",
      "execution_count": null,
      "metadata": {
        "id": "kc141Oopq1Q_"
      },
      "outputs": [],
      "source": [
        "import numpy as np\n",
        "import pandas as pd \n",
        "import matplotlib.pyplot as plt \n",
        "%matplotlib inline \n",
        "import seaborn as sns\n",
        "import warnings\n",
        "warnings.filterwarnings(\"ignore\")"
      ]
    },
    {
      "cell_type": "code",
      "execution_count": null,
      "metadata": {
        "colab": {
          "base_uri": "https://localhost:8080/",
          "height": 206
        },
        "id": "z_GH9TcCrJEN",
        "outputId": "9f0660dc-6f2c-46fd-9a8d-063680d89dc0"
      },
      "outputs": [
        {
          "output_type": "execute_result",
          "data": {
            "text/plain": [
              "   AGE  SEX  CP  RBP  SCH  FBS  RES  MHR  EIA  OPK  PES  VCA  THA  LB\n",
              "0   52    1   0  125  212    0    1  168    0  1.0    2    2    3   1\n",
              "1   53    1   0  140  203    1    0  155    1  3.1    0    0    3   1\n",
              "2   70    1   0  145  174    0    1  125    1  2.6    0    0    3   1\n",
              "3   61    1   0  148  203    0    1  161    0  0.0    2    1    3   1\n",
              "4   62    0   0  138  294    1    1  106    0  1.9    1    3    2   1"
            ],
            "text/html": [
              "\n",
              "  <div id=\"df-5eace0b2-00e0-4558-a14d-9dc0f9276c92\">\n",
              "    <div class=\"colab-df-container\">\n",
              "      <div>\n",
              "<style scoped>\n",
              "    .dataframe tbody tr th:only-of-type {\n",
              "        vertical-align: middle;\n",
              "    }\n",
              "\n",
              "    .dataframe tbody tr th {\n",
              "        vertical-align: top;\n",
              "    }\n",
              "\n",
              "    .dataframe thead th {\n",
              "        text-align: right;\n",
              "    }\n",
              "</style>\n",
              "<table border=\"1\" class=\"dataframe\">\n",
              "  <thead>\n",
              "    <tr style=\"text-align: right;\">\n",
              "      <th></th>\n",
              "      <th>AGE</th>\n",
              "      <th>SEX</th>\n",
              "      <th>CP</th>\n",
              "      <th>RBP</th>\n",
              "      <th>SCH</th>\n",
              "      <th>FBS</th>\n",
              "      <th>RES</th>\n",
              "      <th>MHR</th>\n",
              "      <th>EIA</th>\n",
              "      <th>OPK</th>\n",
              "      <th>PES</th>\n",
              "      <th>VCA</th>\n",
              "      <th>THA</th>\n",
              "      <th>LB</th>\n",
              "    </tr>\n",
              "  </thead>\n",
              "  <tbody>\n",
              "    <tr>\n",
              "      <th>0</th>\n",
              "      <td>52</td>\n",
              "      <td>1</td>\n",
              "      <td>0</td>\n",
              "      <td>125</td>\n",
              "      <td>212</td>\n",
              "      <td>0</td>\n",
              "      <td>1</td>\n",
              "      <td>168</td>\n",
              "      <td>0</td>\n",
              "      <td>1.0</td>\n",
              "      <td>2</td>\n",
              "      <td>2</td>\n",
              "      <td>3</td>\n",
              "      <td>1</td>\n",
              "    </tr>\n",
              "    <tr>\n",
              "      <th>1</th>\n",
              "      <td>53</td>\n",
              "      <td>1</td>\n",
              "      <td>0</td>\n",
              "      <td>140</td>\n",
              "      <td>203</td>\n",
              "      <td>1</td>\n",
              "      <td>0</td>\n",
              "      <td>155</td>\n",
              "      <td>1</td>\n",
              "      <td>3.1</td>\n",
              "      <td>0</td>\n",
              "      <td>0</td>\n",
              "      <td>3</td>\n",
              "      <td>1</td>\n",
              "    </tr>\n",
              "    <tr>\n",
              "      <th>2</th>\n",
              "      <td>70</td>\n",
              "      <td>1</td>\n",
              "      <td>0</td>\n",
              "      <td>145</td>\n",
              "      <td>174</td>\n",
              "      <td>0</td>\n",
              "      <td>1</td>\n",
              "      <td>125</td>\n",
              "      <td>1</td>\n",
              "      <td>2.6</td>\n",
              "      <td>0</td>\n",
              "      <td>0</td>\n",
              "      <td>3</td>\n",
              "      <td>1</td>\n",
              "    </tr>\n",
              "    <tr>\n",
              "      <th>3</th>\n",
              "      <td>61</td>\n",
              "      <td>1</td>\n",
              "      <td>0</td>\n",
              "      <td>148</td>\n",
              "      <td>203</td>\n",
              "      <td>0</td>\n",
              "      <td>1</td>\n",
              "      <td>161</td>\n",
              "      <td>0</td>\n",
              "      <td>0.0</td>\n",
              "      <td>2</td>\n",
              "      <td>1</td>\n",
              "      <td>3</td>\n",
              "      <td>1</td>\n",
              "    </tr>\n",
              "    <tr>\n",
              "      <th>4</th>\n",
              "      <td>62</td>\n",
              "      <td>0</td>\n",
              "      <td>0</td>\n",
              "      <td>138</td>\n",
              "      <td>294</td>\n",
              "      <td>1</td>\n",
              "      <td>1</td>\n",
              "      <td>106</td>\n",
              "      <td>0</td>\n",
              "      <td>1.9</td>\n",
              "      <td>1</td>\n",
              "      <td>3</td>\n",
              "      <td>2</td>\n",
              "      <td>1</td>\n",
              "    </tr>\n",
              "  </tbody>\n",
              "</table>\n",
              "</div>\n",
              "      <button class=\"colab-df-convert\" onclick=\"convertToInteractive('df-5eace0b2-00e0-4558-a14d-9dc0f9276c92')\"\n",
              "              title=\"Convert this dataframe to an interactive table.\"\n",
              "              style=\"display:none;\">\n",
              "        \n",
              "  <svg xmlns=\"http://www.w3.org/2000/svg\" height=\"24px\"viewBox=\"0 0 24 24\"\n",
              "       width=\"24px\">\n",
              "    <path d=\"M0 0h24v24H0V0z\" fill=\"none\"/>\n",
              "    <path d=\"M18.56 5.44l.94 2.06.94-2.06 2.06-.94-2.06-.94-.94-2.06-.94 2.06-2.06.94zm-11 1L8.5 8.5l.94-2.06 2.06-.94-2.06-.94L8.5 2.5l-.94 2.06-2.06.94zm10 10l.94 2.06.94-2.06 2.06-.94-2.06-.94-.94-2.06-.94 2.06-2.06.94z\"/><path d=\"M17.41 7.96l-1.37-1.37c-.4-.4-.92-.59-1.43-.59-.52 0-1.04.2-1.43.59L10.3 9.45l-7.72 7.72c-.78.78-.78 2.05 0 2.83L4 21.41c.39.39.9.59 1.41.59.51 0 1.02-.2 1.41-.59l7.78-7.78 2.81-2.81c.8-.78.8-2.07 0-2.86zM5.41 20L4 18.59l7.72-7.72 1.47 1.35L5.41 20z\"/>\n",
              "  </svg>\n",
              "      </button>\n",
              "      \n",
              "  <style>\n",
              "    .colab-df-container {\n",
              "      display:flex;\n",
              "      flex-wrap:wrap;\n",
              "      gap: 12px;\n",
              "    }\n",
              "\n",
              "    .colab-df-convert {\n",
              "      background-color: #E8F0FE;\n",
              "      border: none;\n",
              "      border-radius: 50%;\n",
              "      cursor: pointer;\n",
              "      display: none;\n",
              "      fill: #1967D2;\n",
              "      height: 32px;\n",
              "      padding: 0 0 0 0;\n",
              "      width: 32px;\n",
              "    }\n",
              "\n",
              "    .colab-df-convert:hover {\n",
              "      background-color: #E2EBFA;\n",
              "      box-shadow: 0px 1px 2px rgba(60, 64, 67, 0.3), 0px 1px 3px 1px rgba(60, 64, 67, 0.15);\n",
              "      fill: #174EA6;\n",
              "    }\n",
              "\n",
              "    [theme=dark] .colab-df-convert {\n",
              "      background-color: #3B4455;\n",
              "      fill: #D2E3FC;\n",
              "    }\n",
              "\n",
              "    [theme=dark] .colab-df-convert:hover {\n",
              "      background-color: #434B5C;\n",
              "      box-shadow: 0px 1px 3px 1px rgba(0, 0, 0, 0.15);\n",
              "      filter: drop-shadow(0px 1px 2px rgba(0, 0, 0, 0.3));\n",
              "      fill: #FFFFFF;\n",
              "    }\n",
              "  </style>\n",
              "\n",
              "      <script>\n",
              "        const buttonEl =\n",
              "          document.querySelector('#df-5eace0b2-00e0-4558-a14d-9dc0f9276c92 button.colab-df-convert');\n",
              "        buttonEl.style.display =\n",
              "          google.colab.kernel.accessAllowed ? 'block' : 'none';\n",
              "\n",
              "        async function convertToInteractive(key) {\n",
              "          const element = document.querySelector('#df-5eace0b2-00e0-4558-a14d-9dc0f9276c92');\n",
              "          const dataTable =\n",
              "            await google.colab.kernel.invokeFunction('convertToInteractive',\n",
              "                                                     [key], {});\n",
              "          if (!dataTable) return;\n",
              "\n",
              "          const docLinkHtml = 'Like what you see? Visit the ' +\n",
              "            '<a target=\"_blank\" href=https://colab.research.google.com/notebooks/data_table.ipynb>data table notebook</a>'\n",
              "            + ' to learn more about interactive tables.';\n",
              "          element.innerHTML = '';\n",
              "          dataTable['output_type'] = 'display_data';\n",
              "          await google.colab.output.renderOutput(dataTable, element);\n",
              "          const docLink = document.createElement('div');\n",
              "          docLink.innerHTML = docLinkHtml;\n",
              "          element.appendChild(docLink);\n",
              "        }\n",
              "      </script>\n",
              "    </div>\n",
              "  </div>\n",
              "  "
            ]
          },
          "metadata": {},
          "execution_count": 4
        }
      ],
      "source": [
        "hr1=pd.read_csv('Heart_Dataset.csv',on_bad_lines='skip') \n",
        "hr1=hr1.rename(columns={'age':'AGE','sex':'SEX','cp':'CP','trestbps':'RBP','chol':'SCH','fbs':'FBS','restecg':'RES','thalach':'MHR','exang':'EIA','oldpeak':'OPK','slope':'PES','ca':'VCA','thal':'THA','LB1':'LB'})\n",
        "hr1.head()"
      ]
    },
    {
      "cell_type": "markdown",
      "metadata": {
        "id": "pRwW34yEWxmV"
      },
      "source": [
        "**OUTLIER DETECTION AND REMOVAL**"
      ]
    },
    {
      "cell_type": "code",
      "execution_count": null,
      "metadata": {
        "colab": {
          "base_uri": "https://localhost:8080/",
          "height": 452
        },
        "id": "j8wRlmhhONSZ",
        "outputId": "15b7d0a1-018b-4f6a-b410-b5f91980e806"
      },
      "outputs": [
        {
          "output_type": "stream",
          "name": "stdout",
          "text": [
            "526\n",
            "[526, 499]\n"
          ]
        },
        {
          "output_type": "display_data",
          "data": {
            "text/html": [
              "<html>\n",
              "<head><meta charset=\"utf-8\" /></head>\n",
              "<body>\n",
              "    <div>            <script src=\"https://cdnjs.cloudflare.com/ajax/libs/mathjax/2.7.5/MathJax.js?config=TeX-AMS-MML_SVG\"></script><script type=\"text/javascript\">if (window.MathJax && window.MathJax.Hub && window.MathJax.Hub.Config) {window.MathJax.Hub.Config({SVG: {font: \"STIX-Web\"}});}</script>                <script type=\"text/javascript\">window.PlotlyConfig = {MathJaxConfig: 'local'};</script>\n",
              "        <script src=\"https://cdn.plot.ly/plotly-2.18.2.min.js\"></script>                <div id=\"0da754f8-9723-45de-9a0a-65411f245c60\" class=\"plotly-graph-div\" style=\"height:400px; width:700px;\"></div>            <script type=\"text/javascript\">                                    window.PLOTLYENV=window.PLOTLYENV || {};                                    if (document.getElementById(\"0da754f8-9723-45de-9a0a-65411f245c60\")) {                    Plotly.newPlot(                        \"0da754f8-9723-45de-9a0a-65411f245c60\",                        [{\"domain\":{\"x\":[0.0,1.0],\"y\":[0.0,1.0]},\"hovertemplate\":\"label=%{label}<br>value=%{value}<extra></extra>\",\"labels\":[\"Healthy\",\"Not Healthy\"],\"legendgroup\":\"\",\"name\":\"\",\"showlegend\":true,\"values\":[526,499],\"type\":\"pie\"}],                        {\"template\":{\"data\":{\"histogram2dcontour\":[{\"type\":\"histogram2dcontour\",\"colorbar\":{\"outlinewidth\":0,\"ticks\":\"\"},\"colorscale\":[[0.0,\"#0d0887\"],[0.1111111111111111,\"#46039f\"],[0.2222222222222222,\"#7201a8\"],[0.3333333333333333,\"#9c179e\"],[0.4444444444444444,\"#bd3786\"],[0.5555555555555556,\"#d8576b\"],[0.6666666666666666,\"#ed7953\"],[0.7777777777777778,\"#fb9f3a\"],[0.8888888888888888,\"#fdca26\"],[1.0,\"#f0f921\"]]}],\"choropleth\":[{\"type\":\"choropleth\",\"colorbar\":{\"outlinewidth\":0,\"ticks\":\"\"}}],\"histogram2d\":[{\"type\":\"histogram2d\",\"colorbar\":{\"outlinewidth\":0,\"ticks\":\"\"},\"colorscale\":[[0.0,\"#0d0887\"],[0.1111111111111111,\"#46039f\"],[0.2222222222222222,\"#7201a8\"],[0.3333333333333333,\"#9c179e\"],[0.4444444444444444,\"#bd3786\"],[0.5555555555555556,\"#d8576b\"],[0.6666666666666666,\"#ed7953\"],[0.7777777777777778,\"#fb9f3a\"],[0.8888888888888888,\"#fdca26\"],[1.0,\"#f0f921\"]]}],\"heatmap\":[{\"type\":\"heatmap\",\"colorbar\":{\"outlinewidth\":0,\"ticks\":\"\"},\"colorscale\":[[0.0,\"#0d0887\"],[0.1111111111111111,\"#46039f\"],[0.2222222222222222,\"#7201a8\"],[0.3333333333333333,\"#9c179e\"],[0.4444444444444444,\"#bd3786\"],[0.5555555555555556,\"#d8576b\"],[0.6666666666666666,\"#ed7953\"],[0.7777777777777778,\"#fb9f3a\"],[0.8888888888888888,\"#fdca26\"],[1.0,\"#f0f921\"]]}],\"heatmapgl\":[{\"type\":\"heatmapgl\",\"colorbar\":{\"outlinewidth\":0,\"ticks\":\"\"},\"colorscale\":[[0.0,\"#0d0887\"],[0.1111111111111111,\"#46039f\"],[0.2222222222222222,\"#7201a8\"],[0.3333333333333333,\"#9c179e\"],[0.4444444444444444,\"#bd3786\"],[0.5555555555555556,\"#d8576b\"],[0.6666666666666666,\"#ed7953\"],[0.7777777777777778,\"#fb9f3a\"],[0.8888888888888888,\"#fdca26\"],[1.0,\"#f0f921\"]]}],\"contourcarpet\":[{\"type\":\"contourcarpet\",\"colorbar\":{\"outlinewidth\":0,\"ticks\":\"\"}}],\"contour\":[{\"type\":\"contour\",\"colorbar\":{\"outlinewidth\":0,\"ticks\":\"\"},\"colorscale\":[[0.0,\"#0d0887\"],[0.1111111111111111,\"#46039f\"],[0.2222222222222222,\"#7201a8\"],[0.3333333333333333,\"#9c179e\"],[0.4444444444444444,\"#bd3786\"],[0.5555555555555556,\"#d8576b\"],[0.6666666666666666,\"#ed7953\"],[0.7777777777777778,\"#fb9f3a\"],[0.8888888888888888,\"#fdca26\"],[1.0,\"#f0f921\"]]}],\"surface\":[{\"type\":\"surface\",\"colorbar\":{\"outlinewidth\":0,\"ticks\":\"\"},\"colorscale\":[[0.0,\"#0d0887\"],[0.1111111111111111,\"#46039f\"],[0.2222222222222222,\"#7201a8\"],[0.3333333333333333,\"#9c179e\"],[0.4444444444444444,\"#bd3786\"],[0.5555555555555556,\"#d8576b\"],[0.6666666666666666,\"#ed7953\"],[0.7777777777777778,\"#fb9f3a\"],[0.8888888888888888,\"#fdca26\"],[1.0,\"#f0f921\"]]}],\"mesh3d\":[{\"type\":\"mesh3d\",\"colorbar\":{\"outlinewidth\":0,\"ticks\":\"\"}}],\"scatter\":[{\"fillpattern\":{\"fillmode\":\"overlay\",\"size\":10,\"solidity\":0.2},\"type\":\"scatter\"}],\"parcoords\":[{\"type\":\"parcoords\",\"line\":{\"colorbar\":{\"outlinewidth\":0,\"ticks\":\"\"}}}],\"scatterpolargl\":[{\"type\":\"scatterpolargl\",\"marker\":{\"colorbar\":{\"outlinewidth\":0,\"ticks\":\"\"}}}],\"bar\":[{\"error_x\":{\"color\":\"#2a3f5f\"},\"error_y\":{\"color\":\"#2a3f5f\"},\"marker\":{\"line\":{\"color\":\"#E5ECF6\",\"width\":0.5},\"pattern\":{\"fillmode\":\"overlay\",\"size\":10,\"solidity\":0.2}},\"type\":\"bar\"}],\"scattergeo\":[{\"type\":\"scattergeo\",\"marker\":{\"colorbar\":{\"outlinewidth\":0,\"ticks\":\"\"}}}],\"scatterpolar\":[{\"type\":\"scatterpolar\",\"marker\":{\"colorbar\":{\"outlinewidth\":0,\"ticks\":\"\"}}}],\"histogram\":[{\"marker\":{\"pattern\":{\"fillmode\":\"overlay\",\"size\":10,\"solidity\":0.2}},\"type\":\"histogram\"}],\"scattergl\":[{\"type\":\"scattergl\",\"marker\":{\"colorbar\":{\"outlinewidth\":0,\"ticks\":\"\"}}}],\"scatter3d\":[{\"type\":\"scatter3d\",\"line\":{\"colorbar\":{\"outlinewidth\":0,\"ticks\":\"\"}},\"marker\":{\"colorbar\":{\"outlinewidth\":0,\"ticks\":\"\"}}}],\"scattermapbox\":[{\"type\":\"scattermapbox\",\"marker\":{\"colorbar\":{\"outlinewidth\":0,\"ticks\":\"\"}}}],\"scatterternary\":[{\"type\":\"scatterternary\",\"marker\":{\"colorbar\":{\"outlinewidth\":0,\"ticks\":\"\"}}}],\"scattercarpet\":[{\"type\":\"scattercarpet\",\"marker\":{\"colorbar\":{\"outlinewidth\":0,\"ticks\":\"\"}}}],\"carpet\":[{\"aaxis\":{\"endlinecolor\":\"#2a3f5f\",\"gridcolor\":\"white\",\"linecolor\":\"white\",\"minorgridcolor\":\"white\",\"startlinecolor\":\"#2a3f5f\"},\"baxis\":{\"endlinecolor\":\"#2a3f5f\",\"gridcolor\":\"white\",\"linecolor\":\"white\",\"minorgridcolor\":\"white\",\"startlinecolor\":\"#2a3f5f\"},\"type\":\"carpet\"}],\"table\":[{\"cells\":{\"fill\":{\"color\":\"#EBF0F8\"},\"line\":{\"color\":\"white\"}},\"header\":{\"fill\":{\"color\":\"#C8D4E3\"},\"line\":{\"color\":\"white\"}},\"type\":\"table\"}],\"barpolar\":[{\"marker\":{\"line\":{\"color\":\"#E5ECF6\",\"width\":0.5},\"pattern\":{\"fillmode\":\"overlay\",\"size\":10,\"solidity\":0.2}},\"type\":\"barpolar\"}],\"pie\":[{\"automargin\":true,\"type\":\"pie\"}]},\"layout\":{\"autotypenumbers\":\"strict\",\"colorway\":[\"#636efa\",\"#EF553B\",\"#00cc96\",\"#ab63fa\",\"#FFA15A\",\"#19d3f3\",\"#FF6692\",\"#B6E880\",\"#FF97FF\",\"#FECB52\"],\"font\":{\"color\":\"#2a3f5f\"},\"hovermode\":\"closest\",\"hoverlabel\":{\"align\":\"left\"},\"paper_bgcolor\":\"white\",\"plot_bgcolor\":\"#E5ECF6\",\"polar\":{\"bgcolor\":\"#E5ECF6\",\"angularaxis\":{\"gridcolor\":\"white\",\"linecolor\":\"white\",\"ticks\":\"\"},\"radialaxis\":{\"gridcolor\":\"white\",\"linecolor\":\"white\",\"ticks\":\"\"}},\"ternary\":{\"bgcolor\":\"#E5ECF6\",\"aaxis\":{\"gridcolor\":\"white\",\"linecolor\":\"white\",\"ticks\":\"\"},\"baxis\":{\"gridcolor\":\"white\",\"linecolor\":\"white\",\"ticks\":\"\"},\"caxis\":{\"gridcolor\":\"white\",\"linecolor\":\"white\",\"ticks\":\"\"}},\"coloraxis\":{\"colorbar\":{\"outlinewidth\":0,\"ticks\":\"\"}},\"colorscale\":{\"sequential\":[[0.0,\"#0d0887\"],[0.1111111111111111,\"#46039f\"],[0.2222222222222222,\"#7201a8\"],[0.3333333333333333,\"#9c179e\"],[0.4444444444444444,\"#bd3786\"],[0.5555555555555556,\"#d8576b\"],[0.6666666666666666,\"#ed7953\"],[0.7777777777777778,\"#fb9f3a\"],[0.8888888888888888,\"#fdca26\"],[1.0,\"#f0f921\"]],\"sequentialminus\":[[0.0,\"#0d0887\"],[0.1111111111111111,\"#46039f\"],[0.2222222222222222,\"#7201a8\"],[0.3333333333333333,\"#9c179e\"],[0.4444444444444444,\"#bd3786\"],[0.5555555555555556,\"#d8576b\"],[0.6666666666666666,\"#ed7953\"],[0.7777777777777778,\"#fb9f3a\"],[0.8888888888888888,\"#fdca26\"],[1.0,\"#f0f921\"]],\"diverging\":[[0,\"#8e0152\"],[0.1,\"#c51b7d\"],[0.2,\"#de77ae\"],[0.3,\"#f1b6da\"],[0.4,\"#fde0ef\"],[0.5,\"#f7f7f7\"],[0.6,\"#e6f5d0\"],[0.7,\"#b8e186\"],[0.8,\"#7fbc41\"],[0.9,\"#4d9221\"],[1,\"#276419\"]]},\"xaxis\":{\"gridcolor\":\"white\",\"linecolor\":\"white\",\"ticks\":\"\",\"title\":{\"standoff\":15},\"zerolinecolor\":\"white\",\"automargin\":true,\"zerolinewidth\":2},\"yaxis\":{\"gridcolor\":\"white\",\"linecolor\":\"white\",\"ticks\":\"\",\"title\":{\"standoff\":15},\"zerolinecolor\":\"white\",\"automargin\":true,\"zerolinewidth\":2},\"scene\":{\"xaxis\":{\"backgroundcolor\":\"#E5ECF6\",\"gridcolor\":\"white\",\"linecolor\":\"white\",\"showbackground\":true,\"ticks\":\"\",\"zerolinecolor\":\"white\",\"gridwidth\":2},\"yaxis\":{\"backgroundcolor\":\"#E5ECF6\",\"gridcolor\":\"white\",\"linecolor\":\"white\",\"showbackground\":true,\"ticks\":\"\",\"zerolinecolor\":\"white\",\"gridwidth\":2},\"zaxis\":{\"backgroundcolor\":\"#E5ECF6\",\"gridcolor\":\"white\",\"linecolor\":\"white\",\"showbackground\":true,\"ticks\":\"\",\"zerolinecolor\":\"white\",\"gridwidth\":2}},\"shapedefaults\":{\"line\":{\"color\":\"#2a3f5f\"}},\"annotationdefaults\":{\"arrowcolor\":\"#2a3f5f\",\"arrowhead\":0,\"arrowwidth\":1},\"geo\":{\"bgcolor\":\"white\",\"landcolor\":\"#E5ECF6\",\"subunitcolor\":\"white\",\"showland\":true,\"showlakes\":true,\"lakecolor\":\"white\"},\"title\":{\"x\":0.05},\"mapbox\":{\"style\":\"light\"}}},\"legend\":{\"tracegroupgap\":0},\"title\":{\"text\":\"Healthy vs Heart Disease\"},\"piecolorway\":[\"skyblue\",\"black\"],\"height\":400,\"width\":700},                        {\"responsive\": true}                    ).then(function(){\n",
              "                            \n",
              "var gd = document.getElementById('0da754f8-9723-45de-9a0a-65411f245c60');\n",
              "var x = new MutationObserver(function (mutations, observer) {{\n",
              "        var display = window.getComputedStyle(gd).display;\n",
              "        if (!display || display === 'none') {{\n",
              "            console.log([gd, 'removed!']);\n",
              "            Plotly.purge(gd);\n",
              "            observer.disconnect();\n",
              "        }}\n",
              "}});\n",
              "\n",
              "// Listen for the removal of the full notebook cells\n",
              "var notebookContainer = gd.closest('#notebook-container');\n",
              "if (notebookContainer) {{\n",
              "    x.observe(notebookContainer, {childList: true});\n",
              "}}\n",
              "\n",
              "// Listen for the clearing of the current output cell\n",
              "var outputEl = gd.closest('.output');\n",
              "if (outputEl) {{\n",
              "    x.observe(outputEl, {childList: true});\n",
              "}}\n",
              "\n",
              "                        })                };                            </script>        </div>\n",
              "</body>\n",
              "</html>"
            ]
          },
          "metadata": {}
        }
      ],
      "source": [
        "import plotly.express as px\n",
        "labels=[\"Healthy\",\"Not Healthy\"]\n",
        "\n",
        "healthy_or_not = hr1['LB'].value_counts().tolist()\n",
        "values = [healthy_or_not[0], healthy_or_not[1]]\n",
        "print(healthy_or_not[0])\n",
        "print(values)\n",
        "\n",
        "fig = px.pie(values=hr1['LB'].value_counts(), names=labels , width=700, height=400, color_discrete_sequence=[\"skyblue\",\"black\"],title=\"Healthy vs Heart Disease\")\n",
        "fig.show()\n"
      ]
    },
    {
      "cell_type": "code",
      "execution_count": null,
      "metadata": {
        "colab": {
          "base_uri": "https://localhost:8080/",
          "height": 847
        },
        "id": "XEToeIEpBEs9",
        "outputId": "092343b7-97c2-4507-ba7c-81c174cf2170"
      },
      "outputs": [
        {
          "output_type": "execute_result",
          "data": {
            "text/plain": [
              "<Axes: >"
            ]
          },
          "metadata": {},
          "execution_count": 6
        },
        {
          "output_type": "display_data",
          "data": {
            "text/plain": [
              "<Figure size 1000x1000 with 1 Axes>"
            ],
            "image/png": "[encoded data removed]"
          },
          "metadata": {}
        }
      ],
      "source": [
        "hr1.boxplot(figsize=(10,10))"
      ]
    },
    {
      "cell_type": "code",
      "execution_count": null,
      "metadata": {
        "colab": {
          "base_uri": "https://localhost:8080/",
          "height": 447
        },
        "id": "q4LIcLq7BMaC",
        "outputId": "59c4d877-5498-4259-9d86-e9b0ded3edbe"
      },
      "outputs": [
        {
          "output_type": "execute_result",
          "data": {
            "text/plain": [
              "<Axes: >"
            ]
          },
          "metadata": {},
          "execution_count": 7
        },
        {
          "output_type": "display_data",
          "data": {
            "text/plain": [
              "<Figure size 640x480 with 1 Axes>"
            ],
            "image/png": "[encoded data removed]"
          },
          "metadata": {}
        }
      ],
      "source": [
        "hr1.plot()"
      ]
    },
    {
      "cell_type": "code",
      "execution_count": null,
      "metadata": {
        "id": "pskwEsr2Unpm"
      },
      "outputs": [],
      "source": [
        "columns = ['AGE', 'RBP', 'SCH', 'MHR', 'OPK','SEX', 'CP', 'FBS', 'RES', 'EIA', 'PES','VCA','THA','LB']"
      ]
    },
    {
      "cell_type": "code",
      "execution_count": null,
      "metadata": {
        "colab": {
          "base_uri": "https://localhost:8080/",
          "height": 601
        },
        "id": "VP_6qksbUAA7",
        "outputId": "2434aca6-4a58-4d9b-9511-37edb14ce218"
      },
      "outputs": [
        {
          "output_type": "display_data",
          "data": {
            "text/plain": [
              "<Figure size 2000x1000 with 15 Axes>"
            ],
            "image/png": "[encoded data removed]"
          },
          "metadata": {}
        }
      ],
      "source": [
        "def boxplots_custom(dataset, columns_list, rows, cols, suptitle):\n",
        "    fig, axs = plt.subplots(rows, cols, sharey=True, figsize=(20,10))\n",
        "    fig.suptitle(suptitle,y=1, size=25)\n",
        "    axs = axs.flatten()\n",
        "    for i, data in enumerate(columns_list):\n",
        "        sns.boxplot(data=dataset[data], orient='h', ax=axs[i])\n",
        "        axs[i].set_title(data + ', skewness is: '+str(round(dataset[data].skew(axis = 0, skipna = True),2)))\n",
        "        \n",
        "boxplots_custom(dataset=hr1, columns_list=columns, rows=5, cols=3, suptitle='Boxplots for each variable')\n",
        "plt.tight_layout()"
      ]
    },
    {
      "cell_type": "code",
      "execution_count": null,
      "metadata": {
        "id": "xSyXMd3AUDAB"
      },
      "outputs": [],
      "source": [
        "def remove_outliers_zscore(df, columns, threshold=3):\n",
        "    for col in columns:\n",
        "        z_scores = np.abs((df[col] - df[col].mean()) / df[col].std())\n",
        "        df[col][z_scores > threshold] = np.nan\n",
        "    df.dropna(inplace=True)\n",
        "columns = ['AGE', 'RBP', 'SCH', 'MHR', 'OPK','SEX', 'CP', 'FBS', 'RES', 'EIA', 'PES','VCA','THA','LB']\n",
        "remove_outliers_zscore(hr1, columns)"
      ]
    },
    {
      "cell_type": "code",
      "execution_count": null,
      "metadata": {
        "colab": {
          "base_uri": "https://localhost:8080/"
        },
        "id": "-CqIEBlqUEnk",
        "outputId": "ada1ad53-4485-4ec0-e5e5-4ecbf53b0e44"
      },
      "outputs": [
        {
          "output_type": "execute_result",
          "data": {
            "text/plain": [
              "(969, 14)"
            ]
          },
          "metadata": {},
          "execution_count": 11
        }
      ],
      "source": [
        "hr1.shape"
      ]
    },
    {
      "cell_type": "markdown",
      "metadata": {
        "id": "rtDvp_10RtjM"
      },
      "source": [
        "## **STAGE-2**"
      ]
    },
    {
      "cell_type": "code",
      "execution_count": null,
      "metadata": {
        "colab": {
          "base_uri": "https://localhost:8080/",
          "height": 675
        },
        "id": "8RUzn4R23Vhx",
        "outputId": "afec4c33-e75b-4fa7-e3a7-020e7b16f391"
      },
      "outputs": [
        {
          "output_type": "execute_result",
          "data": {
            "text/plain": [
              "<Axes: >"
            ]
          },
          "metadata": {},
          "execution_count": 12
        },
        {
          "output_type": "display_data",
          "data": {
            "text/plain": [
              "<Figure size 800x800 with 2 Axes>"
            ],
            "image/png": "[encoded data removed]"
          },
          "metadata": {}
        }
      ],
      "source": [
        "correlation =hr1.corr()\n",
        "plt.figure(figsize =(8,8))\n",
        "sns.heatmap(correlation ,cbar=True ,square=True ,fmt='.2f',annot=True,annot_kws={'size':8})"
      ]
    },
    {
      "cell_type": "code",
      "execution_count": null,
      "metadata": {
        "colab": {
          "base_uri": "https://localhost:8080/"
        },
        "id": "XdJAQcmr3WdG",
        "outputId": "a3233c9a-adad-4489-ecaa-f4c6405ff6d8"
      },
      "outputs": [
        {
          "output_type": "stream",
          "name": "stdout",
          "text": [
            "AGE    0.227225\n",
            "SEX    0.303739\n",
            "CP    -0.408999\n",
            "RBP    0.114757\n",
            "SCH    0.112342\n",
            "FBS    0.023629\n",
            "RES   -0.127580\n",
            "MHR   -0.429920\n",
            "EIA    0.429825\n",
            "OPK    0.431854\n",
            "PES   -0.322791\n",
            "VCA    0.466639\n",
            "THA    0.352502\n",
            "LB     1.000000\n",
            "Name: LB, dtype: float64\n"
          ]
        }
      ],
      "source": [
        "print(correlation['LB'])"
      ]
    },
    {
      "cell_type": "markdown",
      "metadata": {
        "id": "FJGDYM1CW61B"
      },
      "source": [
        "\n",
        "\n",
        "\n",
        "\n",
        "\n",
        "\n",
        "\n",
        "\n",
        "\n",
        "\n",
        "## **DATA PREDICTION**"
      ]
    },
    {
      "cell_type": "code",
      "execution_count": null,
      "metadata": {
        "id": "DsYZXkFmrdWY"
      },
      "outputs": [],
      "source": [
        "X=hr1.iloc[:,[0,1,3,4,5,8,9,11,12]].values"
      ]
    },
    {
      "cell_type": "code",
      "execution_count": null,
      "metadata": {
        "id": "nD6N5U4SNnny"
      },
      "outputs": [],
      "source": [
        "hr1['LB']=hr1['LB'].replace([0,1],[1,0])"
      ]
    },
    {
      "cell_type": "code",
      "execution_count": null,
      "metadata": {
        "id": "jeve86_5NxDY"
      },
      "outputs": [],
      "source": [
        "y=hr1.iloc[:,-1].values"
      ]
    },
    {
      "cell_type": "code",
      "execution_count": null,
      "metadata": {
        "colab": {
          "base_uri": "https://localhost:8080/",
          "height": 447
        },
        "id": "n3pF1xe2t7Kl",
        "outputId": "6ca5f976-4168-4027-df84-c08f091edeb7"
      },
      "outputs": [
        {
          "output_type": "execute_result",
          "data": {
            "text/plain": [
              "<matplotlib.collections.PathCollection at 0x7f45290230d0>"
            ]
          },
          "metadata": {},
          "execution_count": 17
        },
        {
          "output_type": "display_data",
          "data": {
            "text/plain": [
              "<Figure size 640x480 with 1 Axes>"
            ],
            "image/png": "[encoded data removed]"
          },
          "metadata": {}
        }
      ],
      "source": [
        "plt.scatter(X[:,0],y)"
      ]
    },
    {
      "cell_type": "code",
      "execution_count": null,
      "metadata": {
        "colab": {
          "base_uri": "https://localhost:8080/"
        },
        "id": "sMNu7MkBSJCK",
        "outputId": "4d41d631-45b1-4b36-9bb1-592451a29c07"
      },
      "outputs": [
        {
          "output_type": "execute_result",
          "data": {
            "text/plain": [
              "(969, 9)"
            ]
          },
          "metadata": {},
          "execution_count": 18
        }
      ],
      "source": [
        "Xdf=pd.DataFrame(X)\n",
        "Xdf.shape"
      ]
    },
    {
      "cell_type": "code",
      "execution_count": null,
      "metadata": {
        "colab": {
          "base_uri": "https://localhost:8080/"
        },
        "id": "N52_EUHmSO-m",
        "outputId": "77301d26-f4e2-49ae-c073-e89a65b50220"
      },
      "outputs": [
        {
          "output_type": "execute_result",
          "data": {
            "text/plain": [
              "(969,)"
            ]
          },
          "metadata": {},
          "execution_count": 19
        }
      ],
      "source": [
        "y.shape"
      ]
    },
    {
      "cell_type": "code",
      "execution_count": null,
      "metadata": {
        "colab": {
          "base_uri": "https://localhost:8080/",
          "height": 676
        },
        "id": "vmkEPaqMTXzC",
        "outputId": "95656b6a-1e33-499e-917b-8b78307f28e9"
      },
      "outputs": [
        {
          "output_type": "execute_result",
          "data": {
            "text/plain": [
              "    0\n",
              "0   0\n",
              "1   0\n",
              "2   0\n",
              "3   0\n",
              "4   0\n",
              "5   1\n",
              "6   0\n",
              "7   0\n",
              "8   0\n",
              "9   0\n",
              "10  1\n",
              "11  0\n",
              "12  1\n",
              "13  0\n",
              "14  1\n",
              "15  1\n",
              "16  0\n",
              "17  1\n",
              "18  1\n",
              "19  0"
            ],
            "text/html": [
              "\n",
              "  <div id=\"df-020545c0-ef5c-43b9-af25-dbd06a71f8b5\">\n",
              "    <div class=\"colab-df-container\">\n",
              "      <div>\n",
              "<style scoped>\n",
              "    .dataframe tbody tr th:only-of-type {\n",
              "        vertical-align: middle;\n",
              "    }\n",
              "\n",
              "    .dataframe tbody tr th {\n",
              "        vertical-align: top;\n",
              "    }\n",
              "\n",
              "    .dataframe thead th {\n",
              "        text-align: right;\n",
              "    }\n",
              "</style>\n",
              "<table border=\"1\" class=\"dataframe\">\n",
              "  <thead>\n",
              "    <tr style=\"text-align: right;\">\n",
              "      <th></th>\n",
              "      <th>0</th>\n",
              "    </tr>\n",
              "  </thead>\n",
              "  <tbody>\n",
              "    <tr>\n",
              "      <th>0</th>\n",
              "      <td>0</td>\n",
              "    </tr>\n",
              "    <tr>\n",
              "      <th>1</th>\n",
              "      <td>0</td>\n",
              "    </tr>\n",
              "    <tr>\n",
              "      <th>2</th>\n",
              "      <td>0</td>\n",
              "    </tr>\n",
              "    <tr>\n",
              "      <th>3</th>\n",
              "      <td>0</td>\n",
              "    </tr>\n",
              "    <tr>\n",
              "      <th>4</th>\n",
              "      <td>0</td>\n",
              "    </tr>\n",
              "    <tr>\n",
              "      <th>5</th>\n",
              "      <td>1</td>\n",
              "    </tr>\n",
              "    <tr>\n",
              "      <th>6</th>\n",
              "      <td>0</td>\n",
              "    </tr>\n",
              "    <tr>\n",
              "      <th>7</th>\n",
              "      <td>0</td>\n",
              "    </tr>\n",
              "    <tr>\n",
              "      <th>8</th>\n",
              "      <td>0</td>\n",
              "    </tr>\n",
              "    <tr>\n",
              "      <th>9</th>\n",
              "      <td>0</td>\n",
              "    </tr>\n",
              "    <tr>\n",
              "      <th>10</th>\n",
              "      <td>1</td>\n",
              "    </tr>\n",
              "    <tr>\n",
              "      <th>11</th>\n",
              "      <td>0</td>\n",
              "    </tr>\n",
              "    <tr>\n",
              "      <th>12</th>\n",
              "      <td>1</td>\n",
              "    </tr>\n",
              "    <tr>\n",
              "      <th>13</th>\n",
              "      <td>0</td>\n",
              "    </tr>\n",
              "    <tr>\n",
              "      <th>14</th>\n",
              "      <td>1</td>\n",
              "    </tr>\n",
              "    <tr>\n",
              "      <th>15</th>\n",
              "      <td>1</td>\n",
              "    </tr>\n",
              "    <tr>\n",
              "      <th>16</th>\n",
              "      <td>0</td>\n",
              "    </tr>\n",
              "    <tr>\n",
              "      <th>17</th>\n",
              "      <td>1</td>\n",
              "    </tr>\n",
              "    <tr>\n",
              "      <th>18</th>\n",
              "      <td>1</td>\n",
              "    </tr>\n",
              "    <tr>\n",
              "      <th>19</th>\n",
              "      <td>0</td>\n",
              "    </tr>\n",
              "  </tbody>\n",
              "</table>\n",
              "</div>\n",
              "      <button class=\"colab-df-convert\" onclick=\"convertToInteractive('df-020545c0-ef5c-43b9-af25-dbd06a71f8b5')\"\n",
              "              title=\"Convert this dataframe to an interactive table.\"\n",
              "              style=\"display:none;\">\n",
              "        \n",
              "  <svg xmlns=\"http://www.w3.org/2000/svg\" height=\"24px\"viewBox=\"0 0 24 24\"\n",
              "       width=\"24px\">\n",
              "    <path d=\"M0 0h24v24H0V0z\" fill=\"none\"/>\n",
              "    <path d=\"M18.56 5.44l.94 2.06.94-2.06 2.06-.94-2.06-.94-.94-2.06-.94 2.06-2.06.94zm-11 1L8.5 8.5l.94-2.06 2.06-.94-2.06-.94L8.5 2.5l-.94 2.06-2.06.94zm10 10l.94 2.06.94-2.06 2.06-.94-2.06-.94-.94-2.06-.94 2.06-2.06.94z\"/><path d=\"M17.41 7.96l-1.37-1.37c-.4-.4-.92-.59-1.43-.59-.52 0-1.04.2-1.43.59L10.3 9.45l-7.72 7.72c-.78.78-.78 2.05 0 2.83L4 21.41c.39.39.9.59 1.41.59.51 0 1.02-.2 1.41-.59l7.78-7.78 2.81-2.81c.8-.78.8-2.07 0-2.86zM5.41 20L4 18.59l7.72-7.72 1.47 1.35L5.41 20z\"/>\n",
              "  </svg>\n",
              "      </button>\n",
              "      \n",
              "  <style>\n",
              "    .colab-df-container {\n",
              "      display:flex;\n",
              "      flex-wrap:wrap;\n",
              "      gap: 12px;\n",
              "    }\n",
              "\n",
              "    .colab-df-convert {\n",
              "      background-color: #E8F0FE;\n",
              "      border: none;\n",
              "      border-radius: 50%;\n",
              "      cursor: pointer;\n",
              "      display: none;\n",
              "      fill: #1967D2;\n",
              "      height: 32px;\n",
              "      padding: 0 0 0 0;\n",
              "      width: 32px;\n",
              "    }\n",
              "\n",
              "    .colab-df-convert:hover {\n",
              "      background-color: #E2EBFA;\n",
              "      box-shadow: 0px 1px 2px rgba(60, 64, 67, 0.3), 0px 1px 3px 1px rgba(60, 64, 67, 0.15);\n",
              "      fill: #174EA6;\n",
              "    }\n",
              "\n",
              "    [theme=dark] .colab-df-convert {\n",
              "      background-color: #3B4455;\n",
              "      fill: #D2E3FC;\n",
              "    }\n",
              "\n",
              "    [theme=dark] .colab-df-convert:hover {\n",
              "      background-color: #434B5C;\n",
              "      box-shadow: 0px 1px 3px 1px rgba(0, 0, 0, 0.15);\n",
              "      filter: drop-shadow(0px 1px 2px rgba(0, 0, 0, 0.3));\n",
              "      fill: #FFFFFF;\n",
              "    }\n",
              "  </style>\n",
              "\n",
              "      <script>\n",
              "        const buttonEl =\n",
              "          document.querySelector('#df-020545c0-ef5c-43b9-af25-dbd06a71f8b5 button.colab-df-convert');\n",
              "        buttonEl.style.display =\n",
              "          google.colab.kernel.accessAllowed ? 'block' : 'none';\n",
              "\n",
              "        async function convertToInteractive(key) {\n",
              "          const element = document.querySelector('#df-020545c0-ef5c-43b9-af25-dbd06a71f8b5');\n",
              "          const dataTable =\n",
              "            await google.colab.kernel.invokeFunction('convertToInteractive',\n",
              "                                                     [key], {});\n",
              "          if (!dataTable) return;\n",
              "\n",
              "          const docLinkHtml = 'Like what you see? Visit the ' +\n",
              "            '<a target=\"_blank\" href=https://colab.research.google.com/notebooks/data_table.ipynb>data table notebook</a>'\n",
              "            + ' to learn more about interactive tables.';\n",
              "          element.innerHTML = '';\n",
              "          dataTable['output_type'] = 'display_data';\n",
              "          await google.colab.output.renderOutput(dataTable, element);\n",
              "          const docLink = document.createElement('div');\n",
              "          docLink.innerHTML = docLinkHtml;\n",
              "          element.appendChild(docLink);\n",
              "        }\n",
              "      </script>\n",
              "    </div>\n",
              "  </div>\n",
              "  "
            ]
          },
          "metadata": {},
          "execution_count": 20
        }
      ],
      "source": [
        "ydf=pd.DataFrame(y)\n",
        "ydf.head(20)"
      ]
    },
    {
      "cell_type": "markdown",
      "metadata": {
        "id": "-TlZUSyaRzOF"
      },
      "source": [
        "## **MACHINE LEARNING ALGORITHMS**\n",
        "\n",
        "\n",
        "\n"
      ]
    },
    {
      "cell_type": "code",
      "execution_count": null,
      "metadata": {
        "id": "tW93nSZgJ_Xy"
      },
      "outputs": [],
      "source": [
        "from sklearn.naive_bayes import GaussianNB\n",
        "from sklearn.neural_network import MLPClassifier\n",
        "from sklearn.tree import DecisionTreeClassifier\n",
        "from sklearn.ensemble import RandomForestClassifier\n",
        "from sklearn.svm import SVC\n",
        "from sklearn.ensemble import AdaBoostClassifier\n",
        "from xgboost import XGBClassifier\n",
        "import time"
      ]
    },
    {
      "cell_type": "code",
      "execution_count": null,
      "metadata": {
        "colab": {
          "base_uri": "https://localhost:8080/"
        },
        "id": "_FCNgn7Eidi3",
        "outputId": "fe460fd9-9a5d-402c-82ca-4b35ce05e6d2"
      },
      "outputs": [
        {
          "name": "stdout",
          "output_type": "stream",
          "text": [
            "BEST PARAMETERS:\n",
            "Naive Bayes {'var_smoothing': 6.579332246575682e-07}\n",
            "Decision Tree {'criterion': 'gini', 'max_depth': 6}\n",
            "Random Forest {'max_depth': 6, 'max_features': 'log2', 'n_estimators': 100}\n"
          ]
        }
      ],
      "source": [
        "from sklearn.model_selection import GridSearchCV\n",
        "from sklearn.model_selection import cross_val_score\n",
        "models = [('Naive Bayes', GaussianNB()),\n",
        "          ('Decision Tree', DecisionTreeClassifier()),\n",
        "          ('Random Forest', RandomForestClassifier()),\n",
        "          ]\n",
        "param_grids = [\n",
        "    {'var_smoothing': np.logspace(0,-9, num=100)},\n",
        "    {'max_depth': range(1,7),'criterion': ['gini', 'entropy']},\n",
        "    {'n_estimators': [10, 50, 100], \n",
        "     'max_features': ['sqrt', 'log2'],\n",
        "     'max_depth':range(1,7)}]\n",
        "best_params = {}\n",
        "for i, (name, model) in enumerate(models):\n",
        "    grid_search = GridSearchCV(model, param_grids[i], cv=10, scoring='accuracy')\n",
        "    grid_search.fit(X, y)\n",
        "    best_params[name] = grid_search.best_params_\n",
        "print(\"BEST PARAMETERS:\")\n",
        "for key, value in best_params.items():\n",
        "    print(key, value)\n"
      ]
    },
    {
      "cell_type": "code",
      "source": [
        "from sklearn.model_selection import GridSearchCV\n",
        "from sklearn.model_selection import cross_val_score"
      ],
      "metadata": {
        "id": "1CtaKRzsD64h"
      },
      "execution_count": null,
      "outputs": []
    },
    {
      "cell_type": "code",
      "execution_count": null,
      "metadata": {
        "colab": {
          "base_uri": "https://localhost:8080/"
        },
        "id": "qqgfxy3oiiam",
        "outputId": "d620b11f-4348-49fe-ae1a-8406866da892"
      },
      "outputs": [
        {
          "output_type": "stream",
          "name": "stdout",
          "text": [
            "Best parameters for AdaBoost:  {'learning_rate': 1, 'n_estimators': 15}\n",
            "Best parameters for XGBoost:  {'learning_rate': 1, 'max_depth': 4, 'n_estimators': 15}\n"
          ]
        }
      ],
      "source": [
        "ada_param_grid = {'n_estimators': [10,15,5], 'learning_rate': [ 0.1, 1]}\n",
        "xgb_param_grid = {'n_estimators': [10,5,15], 'learning_rate': [0.1, 1], 'max_depth': [3, 4]}\n",
        "ada = AdaBoostClassifier(random_state=42)\n",
        "xgb = XGBClassifier(random_state=42)\n",
        "ada_grid = GridSearchCV(estimator=ada, param_grid=ada_param_grid, cv=10, scoring='accuracy')\n",
        "ada_grid.fit(X, y)\n",
        "xgb_grid = GridSearchCV(estimator=xgb, param_grid=xgb_param_grid, cv=10, scoring='accuracy')\n",
        "xgb_grid.fit(X, y)\n",
        "print(\"Best parameters for AdaBoost: \", ada_grid.best_params_)\n",
        "print(\"Best parameters for XGBoost: \", xgb_grid.best_params_)"
      ]
    },
    {
      "cell_type": "code",
      "execution_count": null,
      "metadata": {
        "id": "S2eC8nlYh61Y"
      },
      "outputs": [],
      "source": [
        "models_new=[]\n",
        "models_new.append(('NB',GaussianNB(var_smoothing = 6.579332246575682e-07)))\n",
        "models_new.append(('MLP',MLPClassifier(activation= 'logistic', alpha = 0.01, hidden_layer_sizes = (20,15,10),learning_rate='constant',solver='adam',random_state=5)))\n",
        "models_new.append(('DT',DecisionTreeClassifier(criterion='gini',max_depth=6,random_state=5)))\n",
        "models_new.append(('RF',RandomForestClassifier(n_estimators=100,max_depth=6,max_features='log2',random_state=5)))\n",
        "models_new.append(('SVM',SVC(kernel='linear',gamma = 1,C= 1,random_state=5)))\n",
        "models_new.append(('XGboost',XGBClassifier(learning_rate=1,n_estimators=15,max_depth=4,random_state=0)))\n",
        "models_new.append(('Adaboost',AdaBoostClassifier(learning_rate=1,n_estimators=15,random_state=7)))"
      ]
    },
    {
      "cell_type": "markdown",
      "metadata": {
        "id": "WILRvk4NW_SM"
      },
      "source": [
        "## **BASELINE IMPLEMENTATION**"
      ]
    },
    {
      "cell_type": "markdown",
      "metadata": {
        "id": "P-dytOqlDKRa"
      },
      "source": [
        "**10(k)-fold**"
      ]
    },
    {
      "cell_type": "code",
      "execution_count": null,
      "metadata": {
        "colab": {
          "base_uri": "https://localhost:8080/"
        },
        "id": "iu6QjxF-DRo0",
        "outputId": "14140c6b-8a93-49c3-e1ef-ff302adc7b36"
      },
      "outputs": [
        {
          "output_type": "stream",
          "name": "stdout",
          "text": [
            "ACCURACY:\n",
            "NB 0.7924935567010309\n",
            "MLP 0.6615871993127147\n",
            "DT 0.9122852233676975\n",
            "RF 0.931872852233677\n",
            "SVM 0.8038874570446735\n",
            "XGboost 0.9855240549828179\n",
            "Adaboost 0.8389819587628866\n",
            "\n",
            "Time(10-K):\n",
            "NB 0.03228044509887695\n",
            "MLP 5.024880409240723\n",
            "DT 0.03415060043334961\n",
            "RF 2.1833243370056152\n",
            "SVM 313.37943840026855\n",
            "XGboost 0.16504335403442383\n",
            "Adaboost 0.3602452278137207\n"
          ]
        }
      ],
      "source": [
        "import time\n",
        "accuracy=dict()\n",
        "precision=dict()\n",
        "recall=dict()\n",
        "tt=dict()\n",
        "\n",
        "from sklearn.model_selection import cross_val_score,KFold\n",
        "for name,model in models_new:\n",
        "    st=time.time()\n",
        "    kfold=KFold(n_splits=10)\n",
        "\n",
        "    acc=cross_val_score(model,X,y,cv=kfold,scoring='accuracy')\n",
        "    accuracy[name]=(acc.mean())\n",
        "    et=time.time()\n",
        "    tt[name]=et-st\n",
        "\n",
        "print(\"ACCURACY:\")\n",
        "for key,value in accuracy.items():\n",
        "    print(key,value)\n",
        "\n",
        "print(\"\\nTime(10-K):\")\n",
        "for key,value in tt.items():\n",
        "    print(key,value)\n"
      ]
    },
    {
      "cell_type": "markdown",
      "metadata": {
        "id": "BCpeYUCB6ngc"
      },
      "source": [
        "**VARIANCE AND STANDARD DEVIATION**"
      ]
    },
    {
      "cell_type": "code",
      "execution_count": null,
      "metadata": {
        "colab": {
          "base_uri": "https://localhost:8080/"
        },
        "id": "voLqxS_c6jSJ",
        "outputId": "c583cb5c-6d34-4860-f9ab-694d13c394cc"
      },
      "outputs": [
        {
          "output_type": "stream",
          "name": "stdout",
          "text": [
            "\n",
            "Variance:\n",
            "NB 0.019868366280511564\n",
            "MLP 0.02241249328361734\n",
            "DT 0.007763898368398754\n",
            "RF 0.007735191483331562\n",
            "SVM 0.019431277382175458\n",
            "XGboost 0.0007077660388694042\n",
            "Adaboost 0.01693889973843011\n",
            "\n",
            "Standard Deviation:\n",
            "NB 0.044989936859368654\n",
            "MLP 0.060938789743449975\n",
            "DT 0.027178170418335267\n",
            "RF 0.027753993598709968\n",
            "SVM 0.04423912077486835\n",
            "XGboost 0.0052326991485229495\n",
            "Adaboost 0.04127272126805748\n"
          ]
        }
      ],
      "source": [
        "import numpy as np\n",
        "from sklearn.metrics import mean_squared_error\n",
        "from sklearn.model_selection import KFold\n",
        "\n",
        "num_folds = 10\n",
        "\n",
        "kf = KFold(n_splits=num_folds, shuffle=True)\n",
        "variances = dict()\n",
        "std_devs = dict()\n",
        "\n",
        "for name, model in models_new:\n",
        "    fold_variances = []\n",
        "    fold_std_devs = []\n",
        "\n",
        "    for fold_num, (train_indices, test_indices) in enumerate(kf.split(X)):\n",
        "        model.fit(X[train_indices], y[train_indices])\n",
        "        y_pred = model.predict(X[test_indices])\n",
        "        mse = mean_squared_error(y[test_indices], y_pred)\n",
        "        variance = np.var(y[test_indices] - y_pred)\n",
        "        std_dev = np.sqrt(mse)\n",
        "\n",
        "        fold_variances.append(variance)\n",
        "        fold_std_devs.append(std_dev)\n",
        "  \n",
        "    variances[name] = (np.mean(fold_variances))/10\n",
        "    std_devs[name] = (np.mean(fold_std_devs))/10\n",
        "\n",
        "\n",
        "print(\"\\nVariance:\")\n",
        "for key, value in variances.items():\n",
        "    print(key, value)\n",
        "\n",
        "print(\"\\nStandard Deviation:\")\n",
        "for key, value in std_devs.items():\n",
        "    print(key, value)\n"
      ]
    },
    {
      "cell_type": "markdown",
      "metadata": {
        "id": "dYDJvmgprjOw"
      },
      "source": [
        "**50-50**"
      ]
    },
    {
      "cell_type": "code",
      "execution_count": null,
      "metadata": {
        "colab": {
          "base_uri": "https://localhost:8080/"
        },
        "id": "c7v0jxjLKSFY",
        "outputId": "dd0c4862-67c9-43f1-c7b0-4d5cf23abd9f"
      },
      "outputs": [
        {
          "output_type": "stream",
          "name": "stdout",
          "text": [
            "ACCURACY:\n",
            "NB 0.756701030927835\n",
            "MLP 0.5257731958762887\n",
            "DT 0.8701030927835052\n",
            "RF 0.9051546391752577\n",
            "SVM 0.8082474226804124\n",
            "XGboost 0.9298969072164949\n",
            "Adaboost 0.8268041237113402\n",
            "\n",
            "Time(10-K):\n",
            "NB 0.0023713111877441406\n",
            "MLP 0.0734860897064209\n",
            "DT 0.0029196739196777344\n",
            "RF 0.31685471534729004\n",
            "SVM 10.984780550003052\n",
            "XGboost 0.013675212860107422\n",
            "Adaboost 0.03392457962036133\n"
          ]
        }
      ],
      "source": [
        "import time\n",
        "accuracy=dict()\n",
        "precision=dict()\n",
        "recall=dict()\n",
        "tt=dict()\n",
        "from sklearn.model_selection import cross_val_score,KFold\n",
        "from sklearn.model_selection import train_test_split,cross_val_score\n",
        "from sklearn import metrics\n",
        "from sklearn.metrics import confusion_matrix\n",
        "from sklearn.metrics import ConfusionMatrixDisplay\n",
        "from sklearn.metrics import classification_report\n",
        "\n",
        "for name,model in models_new:\n",
        "    x_train, x_test, y_train, y_test = train_test_split(X, y, test_size=0.50, random_state=43)\n",
        "    st=time.time()\n",
        "    model.fit(x_train, y_train)\n",
        "    y_pred = model.predict(x_test)\n",
        "    et=time.time()\n",
        "    from sklearn.preprocessing import StandardScaler \n",
        "    st_x= StandardScaler() \n",
        "    x_train= st_x.fit_transform(x_train)\n",
        "\n",
        "    accuracy[name]=metrics.accuracy_score(y_test, y_pred)\n",
        "    tt[name]=et-st\n",
        "print(\"ACCURACY:\")\n",
        "for key,value in accuracy.items():\n",
        "    print(key,value)\n",
        "print(\"\\nTime(10-K):\")\n",
        "for key,value in tt.items():\n",
        "    print(key,value)"
      ]
    },
    {
      "cell_type": "markdown",
      "metadata": {
        "id": "ksnDXWhn1xE_"
      },
      "source": [
        "**60-40**"
      ]
    },
    {
      "cell_type": "code",
      "execution_count": null,
      "metadata": {
        "colab": {
          "base_uri": "https://localhost:8080/"
        },
        "id": "CMGcMaS4PGts",
        "outputId": "27fe5f54-14f6-445d-f88b-2c7dd5cb9d17"
      },
      "outputs": [
        {
          "output_type": "stream",
          "name": "stdout",
          "text": [
            "ACCURACY:\n",
            "NB 0.7577319587628866\n",
            "MLP 0.5180412371134021\n",
            "DT 0.8969072164948454\n",
            "RF 0.9201030927835051\n",
            "SVM 0.7938144329896907\n",
            "XGboost 0.9432989690721649\n",
            "Adaboost 0.8273195876288659\n",
            "\n",
            "Time(10-K):\n",
            "NB 0.0038013458251953125\n",
            "MLP 0.05097174644470215\n",
            "DT 0.002314329147338867\n",
            "RF 0.20190811157226562\n",
            "SVM 10.899766206741333\n",
            "XGboost 0.03732180595397949\n",
            "Adaboost 0.05174756050109863\n"
          ]
        }
      ],
      "source": [
        "accuracy=dict()\n",
        "precision=dict()\n",
        "recall=dict()\n",
        "tt=dict()\n",
        "from sklearn.model_selection import cross_val_score,KFold\n",
        "from sklearn.model_selection import train_test_split,cross_val_score\n",
        "from sklearn import metrics\n",
        "from sklearn.metrics import confusion_matrix\n",
        "from sklearn.metrics import ConfusionMatrixDisplay\n",
        "from sklearn.metrics import classification_report\n",
        "import time\n",
        "for name,model in models_new:\n",
        "    x_train, x_test, y_train, y_test = train_test_split(X, y, test_size=0.40, random_state=43)\n",
        "    st=time.time()\n",
        "    model.fit(x_train, y_train)\n",
        "    y_pred = model.predict(x_test)\n",
        "    et=time.time()\n",
        "    from sklearn.preprocessing import StandardScaler \n",
        "    st_x= StandardScaler() \n",
        "    x_train= st_x.fit_transform(x_train)\n",
        "\n",
        "    accuracy[name]=metrics.accuracy_score(y_test, y_pred)\n",
        "    tt[name]=et-st\n",
        "print(\"ACCURACY:\")\n",
        "for key,value in accuracy.items():\n",
        "    print(key,value)\n",
        "print(\"\\nTime(10-K):\")\n",
        "for key,value in tt.items():\n",
        "    print(key,value)"
      ]
    },
    {
      "cell_type": "markdown",
      "metadata": {
        "id": "eVeTrvox2l-k"
      },
      "source": [
        "**70-30**"
      ]
    },
    {
      "cell_type": "code",
      "execution_count": null,
      "metadata": {
        "colab": {
          "base_uri": "https://localhost:8080/"
        },
        "id": "Q3Ro8XmXPJz4",
        "outputId": "12fbb636-e7b2-4d53-ba2f-6d34ccbcd80b"
      },
      "outputs": [
        {
          "output_type": "stream",
          "name": "stdout",
          "text": [
            "ACCURACY:\n",
            "NB 0.7731958762886598\n",
            "MLP 0.5120274914089347\n",
            "DT 0.8865979381443299\n",
            "RF 0.9106529209621993\n",
            "SVM 0.8144329896907216\n",
            "XGboost 0.9381443298969072\n",
            "Adaboost 0.8213058419243986\n",
            "\n",
            "Time(10-K):\n",
            "NB 0.0021636486053466797\n",
            "MLP 0.06075406074523926\n",
            "DT 0.0025207996368408203\n",
            "RF 0.2057805061340332\n",
            "SVM 27.71725296974182\n",
            "XGboost 0.01631641387939453\n",
            "Adaboost 0.03585696220397949\n"
          ]
        }
      ],
      "source": [
        "\n",
        "accuracy=dict()\n",
        "precision=dict()\n",
        "recall=dict()\n",
        "time=dict()\n",
        "from sklearn.model_selection import cross_val_score,KFold\n",
        "from sklearn.model_selection import train_test_split,cross_val_score\n",
        "from sklearn import metrics\n",
        "from sklearn.metrics import confusion_matrix\n",
        "from sklearn.metrics import ConfusionMatrixDisplay\n",
        "from sklearn.metrics import classification_report\n",
        "import time\n",
        "for name,model in models_new:\n",
        "    x_train, x_test, y_train, y_test = train_test_split(X, y, test_size=0.30, random_state=43)\n",
        "    st=time.time()\n",
        "    model.fit(x_train, y_train)\n",
        "    y_pred = model.predict(x_test)\n",
        "    et=time.time()\n",
        "    from sklearn.preprocessing import StandardScaler \n",
        "    st_x= StandardScaler() \n",
        "    x_train= st_x.fit_transform(x_train)\n",
        "\n",
        "    accuracy[name]=metrics.accuracy_score(y_test, y_pred)\n",
        "    tt[name]=et-st\n",
        "\n",
        "print(\"ACCURACY:\")\n",
        "for key,value in accuracy.items():\n",
        "    print(key,value)\n",
        "print(\"\\nTime(10-K):\")\n",
        "for key,value in tt.items():\n",
        "    print(key,value)\n"
      ]
    },
    {
      "cell_type": "markdown",
      "metadata": {
        "id": "NkZDQ1QQO-d5"
      },
      "source": [
        "**80-20**"
      ]
    },
    {
      "cell_type": "code",
      "execution_count": null,
      "metadata": {
        "colab": {
          "base_uri": "https://localhost:8080/"
        },
        "id": "iQZnpm-MPNWk",
        "outputId": "200ef7f7-e3af-444c-d207-cc94930d964b"
      },
      "outputs": [
        {
          "output_type": "stream",
          "name": "stdout",
          "text": [
            "ACCURACY:\n",
            "NB 0.8350515463917526\n",
            "MLP 0.5309278350515464\n",
            "DT 0.9278350515463918\n",
            "RF 0.9175257731958762\n",
            "SVM 0.8608247422680413\n",
            "XGboost 0.9896907216494846\n",
            "Adaboost 0.9020618556701031\n",
            "\n",
            "Time(10-K):\n",
            "NB 0.005280971527099609\n",
            "MLP 0.05623483657836914\n",
            "DT 0.0027277469635009766\n",
            "RF 0.22923016548156738\n",
            "SVM 26.370086669921875\n",
            "XGboost 0.027770042419433594\n",
            "Adaboost 0.06895875930786133\n"
          ]
        }
      ],
      "source": [
        "accuracy=dict()\n",
        "precision=dict()\n",
        "recall=dict()\n",
        "tt=dict()\n",
        "from sklearn.model_selection import cross_val_score,KFold\n",
        "from sklearn.model_selection import train_test_split,cross_val_score\n",
        "from sklearn import metrics\n",
        "from sklearn.metrics import confusion_matrix\n",
        "from sklearn.metrics import ConfusionMatrixDisplay\n",
        "from sklearn.metrics import classification_report\n",
        "import time\n",
        "for name,model in models_new:\n",
        "    x_train, x_test, y_train, y_test = train_test_split(X, y, test_size=0.20, random_state=0)\n",
        "    st=time.time()\n",
        "    model.fit(x_train, y_train)\n",
        "    y_pred = model.predict(x_test)\n",
        "    et=time.time()\n",
        "    from sklearn.preprocessing import StandardScaler \n",
        "    st_x= StandardScaler() \n",
        "    x_train= st_x.fit_transform(x_train)\n",
        "\n",
        "    accuracy[name]=metrics.accuracy_score(y_test, y_pred)\n",
        "    tt[name]=et-st\n",
        "\n",
        "print(\"ACCURACY:\")\n",
        "for key,value in accuracy.items():\n",
        "    print(key,value)\n",
        "\n",
        "print(\"\\nTime(10-K):\")\n",
        "for key,value in tt.items():\n",
        "    print(key,value)"
      ]
    },
    {
      "cell_type": "code",
      "execution_count": null,
      "metadata": {
        "colab": {
          "base_uri": "https://localhost:8080/"
        },
        "id": "AMfoeYQUGpON",
        "outputId": "c6186955-5c74-40dc-8fe0-575592ab2b7b"
      },
      "outputs": [
        {
          "output_type": "stream",
          "name": "stdout",
          "text": [
            "\n",
            "PRECISON:\n",
            "NB 0.8711340206185567\n",
            "MLP 0.5412371134020618\n",
            "DT 0.9278350515463918\n",
            "RF 0.9536082474226805\n",
            "SVM 0.8814432989690721\n",
            "XGboost 1.0\n",
            "Adaboost 0.8711340206185567\n",
            "\n",
            "F1 SCORE:\n",
            "NB 0.8826291079812207\n",
            "MLP 0.7023411371237458\n",
            "DT 0.9326923076923078\n",
            "RF 0.9569377990430622\n",
            "SVM 0.892018779342723\n",
            "XGboost 1.0\n",
            "Adaboost 0.8780487804878048\n",
            "\n",
            "RECALL:\n",
            "NB 0.8711340206185567\n",
            "MLP 0.5412371134020618\n",
            "DT 0.9278350515463918\n",
            "RF 0.9536082474226805\n",
            "SVM 0.8814432989690721\n",
            "XGboost 1.0\n",
            "Adaboost 0.8711340206185567\n",
            "\n",
            "ROC:\n",
            "NB 0.8689673622257892\n",
            "MLP 0.5\n",
            "DT 0.9281968967362226\n",
            "RF 0.9537185660781166\n",
            "SVM 0.8793472445157837\n",
            "XGboost 1.0\n",
            "Adaboost 0.8723916532905297\n",
            "\n",
            "Time(10-K):\n",
            "NB 0.005860328674316406\n",
            "MLP 0.06075334548950195\n",
            "DT 0.002757549285888672\n",
            "RF 0.21667790412902832\n",
            "SVM 61.87136459350586\n",
            "XGboost 0.0462496280670166\n",
            "Adaboost 0.04605817794799805\n"
          ]
        }
      ],
      "source": [
        "accuracy=dict()\n",
        "precision=dict()\n",
        "recall=dict()\n",
        "f1score=dict()\n",
        "roc=dict()\n",
        "tt=dict()\n",
        "from sklearn.model_selection import cross_val_score,KFold\n",
        "from sklearn.model_selection import train_test_split,cross_val_score\n",
        "from sklearn import metrics\n",
        "from sklearn.metrics import roc_curve, auc\n",
        "from sklearn.metrics import confusion_matrix\n",
        "from sklearn.metrics import ConfusionMatrixDisplay\n",
        "from sklearn.metrics import classification_report\n",
        "import time\n",
        "for name,model in models_new:\n",
        "    x_train, x_test, y_train, y_test = train_test_split(X, y, test_size=0.20, random_state=42)\n",
        "    st=time.time()\n",
        "    model.fit(x_train, y_train)\n",
        "    y_pred = model.predict(x_test)\n",
        "    et=time.time()\n",
        "    from sklearn.preprocessing import StandardScaler \n",
        "    st_x= StandardScaler() \n",
        "    x_train= st_x.fit_transform(x_train)\n",
        "    \n",
        "    precision[name]=metrics.precision_score(y_test, y_pred,average='micro')\n",
        "    f1score[name]=metrics.f1_score(y_test,y_pred)\n",
        "    recall[name]=metrics.recall_score(y_test, y_pred,average='micro')\n",
        "    fpr, tpr, _ = roc_curve(y_test, y_pred)\n",
        "    roc[name]=auc(fpr, tpr)\n",
        "    tt[name]=et-st\n",
        "\n",
        "\n",
        "\n",
        "print(\"\\nPRECISON:\")\n",
        "for key,value in precision.items():\n",
        "    print(key,value)\n",
        "\n",
        "print(\"\\nF1 SCORE:\")\n",
        "for key,value in f1score.items():\n",
        "    print(key,value)\n",
        "\n",
        "print(\"\\nRECALL:\")\n",
        "for key,value in recall.items():\n",
        "    print(key,value)\n",
        "\n",
        "print(\"\\nROC:\")\n",
        "for key,value in roc.items():\n",
        "    print(key,value)\n",
        "    \n",
        "print(\"\\nTime(10-K):\")\n",
        "for key,value in tt.items():\n",
        "    print(key,value)"
      ]
    },
    {
      "cell_type": "markdown",
      "metadata": {
        "id": "A1TBHz0nkhLe"
      },
      "source": [
        "## **VOTING IMPLEMENTATION**"
      ]
    },
    {
      "cell_type": "markdown",
      "metadata": {
        "id": "GjwNOzhLOvfp"
      },
      "source": [
        "**10(k)-fold**"
      ]
    },
    {
      "cell_type": "code",
      "execution_count": null,
      "metadata": {
        "id": "jN6wlJdFO88z"
      },
      "outputs": [],
      "source": [
        "from sklearn.ensemble import VotingClassifier\n",
        "nb1 = GaussianNB(var_smoothing=1e-9)\n",
        "nb2 = GaussianNB(var_smoothing=1e-5)\n",
        "nb3 = GaussianNB(var_smoothing=1e-5)\n",
        "voting_clfnb = VotingClassifier(estimators=[('naivebayes1', nb1), ('naivebayes2', nb2),('naivebayes3', nb3)], voting='hard')"
      ]
    },
    {
      "cell_type": "code",
      "execution_count": null,
      "metadata": {
        "id": "6sYBW206SPbb"
      },
      "outputs": [],
      "source": [
        "mlp1 = MLPClassifier(activation='relu',hidden_layer_sizes=(10,8,6),verbose=False,learning_rate_init=0.01,max_iter=10)\n",
        "mlp2 = MLPClassifier(activation='relu',hidden_layer_sizes=(15,10,8),verbose=False,learning_rate_init=0.01,max_iter=100)\n",
        "mlp3 = MLPClassifier(activation='relu',hidden_layer_sizes=(15,10,8),verbose=False,learning_rate_init=0.01,max_iter=50)\n",
        "voting_clfmlp = VotingClassifier(estimators=[('multilp1', mlp1), ('multilp2', mlp2),('multilp3', mlp3)], voting='hard')"
      ]
    },
    {
      "cell_type": "code",
      "execution_count": null,
      "metadata": {
        "id": "BL57iYFxPAkn"
      },
      "outputs": [],
      "source": [
        "clf1 = DecisionTreeClassifier(criterion='entropy', max_depth=2,random_state=11)\n",
        "clf2 = DecisionTreeClassifier(criterion='entropy', max_depth=3)\n",
        "clf3 = DecisionTreeClassifier(criterion='entropy', max_depth=4)\n",
        "voting_clfdt = VotingClassifier(estimators=[('clf1', clf1), ('clf2', clf2),('clf3', clf3)], voting='hard')"
      ]
    },
    {
      "cell_type": "code",
      "execution_count": null,
      "metadata": {
        "id": "joJQ_u1qPC3d"
      },
      "outputs": [],
      "source": [
        "rfc1 = RandomForestClassifier( max_depth=1)\n",
        "rfc2 = RandomForestClassifier( max_depth=2,random_state=7)\n",
        "voting_clfrf = VotingClassifier(estimators=[('rf1', rfc1), ('rf2', rfc2)], voting='hard')"
      ]
    },
    {
      "cell_type": "code",
      "execution_count": null,
      "metadata": {
        "id": "t7pJJAX5RWtQ"
      },
      "outputs": [],
      "source": [
        "svm1 = SVC(kernel='linear', C=1,gamma=1)\n",
        "svm2 = SVC(kernel='rbf', gamma=3, C=0.1)\n",
        "voting_clfsvm = VotingClassifier(estimators=[('svm1', svm1), ('svm2', svm2)], voting='hard')"
      ]
    },
    {
      "cell_type": "code",
      "execution_count": null,
      "metadata": {
        "id": "ijE89AQ-uj6h"
      },
      "outputs": [],
      "source": [
        "xg1 = XGBClassifier(n_estimators=10, max_depth=3, learning_rate=0.1)\n",
        "xg2 = XGBClassifier(n_estimators=50, max_depth=5, learning_rate=0.2)\n",
        "xg3 = XGBClassifier(n_estimators=15, max_depth=4, learning_rate=0.15)\n",
        "voting_clfxgb = VotingClassifier(estimators=[('xgb1',xg1), ('xgb2',xg2), ('xgb3',xg3)],voting='hard')"
      ]
    },
    {
      "cell_type": "code",
      "execution_count": null,
      "metadata": {
        "id": "JJ6JJ2QIukCT"
      },
      "outputs": [],
      "source": [
        "ada1 = AdaBoostClassifier(base_estimator=DecisionTreeClassifier(max_depth=1),n_estimators=10,learning_rate=1.0)\n",
        "ada2 = AdaBoostClassifier(base_estimator=DecisionTreeClassifier(max_depth=2),n_estimators=5,learning_rate=0.5)\n",
        "ada3 = AdaBoostClassifier(base_estimator=DecisionTreeClassifier(max_depth=3),n_estimators=15,learning_rate=0.75)\n",
        "voting_clfada = VotingClassifier(estimators=[('ada1', ada1), ('ada2', ada2), ('ada3', ada3)],voting='hard')"
      ]
    },
    {
      "cell_type": "code",
      "execution_count": null,
      "metadata": {
        "id": "cNEpzWdSuo6I"
      },
      "outputs": [],
      "source": [
        "votingmodel=[]\n",
        "votingmodel.append(('MLP',VotingClassifier(estimators=[('multilp1', mlp1), ('multilp2', mlp2)], voting='hard')))\n",
        "votingmodel.append(('DT',VotingClassifier(estimators=[('clf1', clf1),('clf2',clf2)], voting='hard')))\n",
        "votingmodel.append(('RF',VotingClassifier(estimators=[('rf1', rfc1), ('rf2', rfc2)], voting='hard')))\n",
        "votingmodel.append(('SVC',VotingClassifier(estimators=[('svm1', svm1), ('svm2', svm2)], voting='hard')))\n",
        "votingmodel.append(('XGBoost',VotingClassifier(estimators=[('xgb1',xg1), ('xgb2',xg2), ('xgb3',xg3)],voting='hard')))\n",
        "votingmodel.append(('AdaBoost',VotingClassifier(estimators=[('ada1', ada1), ('ada2', ada2), ('ada3', ada3)], voting='hard')))"
      ]
    },
    {
      "cell_type": "markdown",
      "metadata": {
        "id": "5BOyjq_tqTCr"
      },
      "source": [
        "**10(K)- Fold**"
      ]
    },
    {
      "cell_type": "code",
      "execution_count": null,
      "metadata": {
        "colab": {
          "base_uri": "https://localhost:8080/"
        },
        "id": "Vwy-Yyx2sEwX",
        "outputId": "5fa03022-1067-462a-a049-564a335dcdbb"
      },
      "outputs": [
        {
          "output_type": "stream",
          "name": "stdout",
          "text": [
            "Voting(10-fold)- NB  0.8877777777777778\n",
            "Voting(10-fold)- MLP  0.8866666666666667\n",
            "Voting(10-fold)- DT  0.8922222222222222\n",
            "Voting(10-fold)- RF  0.8911111111111112\n",
            "Voting(10-fold)- SVM  0.7977777777777778\n",
            "Voting(10-fold)- XGBoost  0.8933333333333333\n",
            "Voting(10-fold)- AdaBoost  0.9022222222222223\n"
          ]
        }
      ],
      "source": [
        "from sklearn.datasets import make_classification\n",
        "def votingclffold(voting_clf):\n",
        "  X, y = make_classification(n_samples=900, n_features=9, random_state=43) \n",
        "  kfold = KFold(n_splits=10, shuffle=True, random_state=43) \n",
        "  scores = cross_val_score(voting_clf, X, y, cv=kfold)\n",
        "  accuracy=scores.mean()\n",
        "  return accuracy\n",
        "\n",
        "print(\"Voting(10-fold)- NB \",votingclffold(voting_clfnb))\n",
        "print(\"Voting(10-fold)- MLP \",votingclffold(voting_clfmlp))\n",
        "print(\"Voting(10-fold)- DT \",votingclffold(voting_clfdt))\n",
        "print(\"Voting(10-fold)- RF \",votingclffold(voting_clfrf))\n",
        "print(\"Voting(10-fold)- SVM \",votingclffold(voting_clfsvm))\n",
        "print(\"Voting(10-fold)- XGBoost \",votingclffold(voting_clfxgb))\n",
        "print(\"Voting(10-fold)- AdaBoost \",votingclffold(voting_clfada))"
      ]
    },
    {
      "cell_type": "markdown",
      "metadata": {
        "id": "R3s9pCGvPG2S"
      },
      "source": [
        "**50-50**"
      ]
    },
    {
      "cell_type": "code",
      "execution_count": null,
      "metadata": {
        "colab": {
          "base_uri": "https://localhost:8080/"
        },
        "id": "gOTp4RlnZiV7",
        "outputId": "2160d947-2af6-4899-b011-482f8cca892b"
      },
      "outputs": [
        {
          "output_type": "execute_result",
          "data": {
            "text/plain": [
              "(484, 9)"
            ]
          },
          "metadata": {},
          "execution_count": 66
        }
      ],
      "source": [
        "x_train, x_test, y_train, y_test = train_test_split(X, y, test_size=0.50, random_state=7)\n",
        "traindf=pd.DataFrame(x_train)\n",
        "traindf.shape"
      ]
    },
    {
      "cell_type": "code",
      "execution_count": null,
      "metadata": {
        "colab": {
          "base_uri": "https://localhost:8080/"
        },
        "id": "NJdJZCrzkf1c",
        "outputId": "bba89e8f-5562-4de7-99f1-672b7454914a"
      },
      "outputs": [
        {
          "output_type": "stream",
          "name": "stdout",
          "text": [
            "Voting(50-50)- NB  0.7835051546391752\n"
          ]
        }
      ],
      "source": [
        "from sklearn.naive_bayes import GaussianNB\n",
        "X_train_df = pd.DataFrame(x_train)\n",
        "X_test_df = pd.DataFrame(x_test)\n",
        "nb1.fit(X_train_df.iloc[:100], y_train[:100])\n",
        "nb2.fit(X_train_df.iloc[100:250], y_train[100:250])\n",
        "nb3.fit(X_train_df.iloc[250:484], y_train[250:484])\n",
        "ensemble = VotingClassifier(estimators=[('nb1', nb1), ('nb2', nb2),('nb3', nb3)], voting='soft')\n",
        "ensemble.fit(X_train_df, y_train)\n",
        "accuracy = ensemble.score(x_test, y_test)\n",
        "print(\"Voting(50-50)- NB \",(accuracy))\n"
      ]
    },
    {
      "cell_type": "code",
      "execution_count": null,
      "metadata": {
        "colab": {
          "base_uri": "https://localhost:8080/"
        },
        "id": "wLHeiWLppsGj",
        "outputId": "edf5d758-89c3-48bc-b0c4-cef33792ae06"
      },
      "outputs": [
        {
          "output_type": "stream",
          "name": "stdout",
          "text": [
            "Voting(50-50)- MLP  0.5257731958762887\n",
            "Voting(50-50)- DT  0.8329896907216495\n",
            "Voting(50-50)- RF  0.8309278350515464\n",
            "Voting(50-50)- SVM  0.8123711340206186\n",
            "Voting(50-50)- XGBoost  0.8969072164948454\n",
            "Voting(50-50)- AdaBoost  0.8597938144329897\n"
          ]
        }
      ],
      "source": [
        "from sklearn.ensemble import VotingClassifier\n",
        "from sklearn.metrics import accuracy_score\n",
        "\n",
        "def votingclf_fiftysplit(voting_clf):\n",
        "  x_train, x_test, y_train, y_test = train_test_split(X, y, test_size=0.50, random_state=7)\n",
        "  voting_clf.fit(x_train, y_train)\n",
        "  y_pred = voting_clf.predict(x_test)\n",
        "  accuracy = accuracy_score(y_test, y_pred)\n",
        "  return accuracy\n",
        "\n",
        "print(\"Voting(50-50)- MLP \",votingclf_fiftysplit(voting_clfmlp))\n",
        "print(\"Voting(50-50)- DT \",votingclf_fiftysplit(voting_clfdt))\n",
        "print(\"Voting(50-50)- RF \",votingclf_fiftysplit(voting_clfrf))\n",
        "print(\"Voting(50-50)- SVM \",votingclf_fiftysplit(voting_clfsvm))\n",
        "print(\"Voting(50-50)- XGBoost \",votingclf_fiftysplit(voting_clfxgb))\n",
        "print(\"Voting(50-50)- AdaBoost \",votingclf_fiftysplit(voting_clfada))"
      ]
    },
    {
      "cell_type": "markdown",
      "metadata": {
        "id": "Ih8VQlcLZo5F"
      },
      "source": [
        "**60-40**"
      ]
    },
    {
      "cell_type": "code",
      "execution_count": null,
      "metadata": {
        "colab": {
          "base_uri": "https://localhost:8080/"
        },
        "id": "MzQSVVg-PjJu",
        "outputId": "55848a27-67a8-44d7-c4b8-9464c18bde1b"
      },
      "outputs": [
        {
          "output_type": "execute_result",
          "data": {
            "text/plain": [
              "(581, 9)"
            ]
          },
          "metadata": {},
          "execution_count": 69
        }
      ],
      "source": [
        "x_train, x_test, y_train, y_test = train_test_split(X, y, test_size=0.40, random_state=5)\n",
        "traindf=pd.DataFrame(x_train)\n",
        "traindf.shape"
      ]
    },
    {
      "cell_type": "code",
      "execution_count": null,
      "metadata": {
        "colab": {
          "base_uri": "https://localhost:8080/"
        },
        "id": "EPVgulGFwc2w",
        "outputId": "8a843276-4dc5-45c8-fecd-5c8ed51ee2dc"
      },
      "outputs": [
        {
          "output_type": "stream",
          "name": "stdout",
          "text": [
            "Voting(60-40)- NB  0.7603092783505154\n"
          ]
        }
      ],
      "source": [
        "X_train_df = pd.DataFrame(x_train)\n",
        "X_test_df = pd.DataFrame(x_test)\n",
        "nb1.fit(X_train_df.iloc[:150], y_train[:150])\n",
        "nb2.fit(X_train_df.iloc[150:400], y_train[150:400])\n",
        "nb3.fit(X_train_df.iloc[400:584], y_train[400:584])\n",
        "ensemble = VotingClassifier(estimators=[('nb1', nb1), ('nb2', nb2),('nb3', nb3)], voting='soft')\n",
        "ensemble.fit(X_train_df, y_train)\n",
        "accuracy = ensemble.score(x_test, y_test)\n",
        "print(\"Voting(60-40)- NB \",(accuracy))\n"
      ]
    },
    {
      "cell_type": "code",
      "execution_count": null,
      "metadata": {
        "colab": {
          "base_uri": "https://localhost:8080/"
        },
        "id": "af07EjqBp3be",
        "outputId": "1487a465-b763-4df7-e2cd-105a5779aa42"
      },
      "outputs": [
        {
          "output_type": "stream",
          "name": "stdout",
          "text": [
            "Voting(60-40)- MLP  0.5876288659793815\n",
            "Voting(60-40)- DT  0.8170103092783505\n",
            "Voting(60-40)- RF  0.8092783505154639\n",
            "Voting(60-40)- SVM  0.8170103092783505\n",
            "Voting(60-40)- XGBoost  0.8762886597938144\n",
            "Voting(60-40)- AdaBoost  0.845360824742268\n"
          ]
        }
      ],
      "source": [
        "def votingclf_sixtysplit(voting_clf):\n",
        "  x_train, x_test, y_train, y_test = train_test_split(X, y, test_size=0.40, random_state=7)\n",
        "  voting_clf.fit(x_train, y_train)\n",
        "  y_pred = voting_clf.predict(x_test)\n",
        "  accuracy = accuracy_score(y_test, y_pred)\n",
        "  return accuracy\n",
        "\n",
        "print(\"Voting(60-40)- MLP \",votingclf_sixtysplit(voting_clfmlp))\n",
        "print(\"Voting(60-40)- DT \",votingclf_sixtysplit(voting_clfdt))\n",
        "print(\"Voting(60-40)- RF \",votingclf_sixtysplit(voting_clfrf))\n",
        "print(\"Voting(60-40)- SVM \",votingclf_sixtysplit(voting_clfsvm))\n",
        "print(\"Voting(60-40)- XGBoost \",votingclf_sixtysplit(voting_clfxgb))\n",
        "print(\"Voting(60-40)- AdaBoost \",votingclf_sixtysplit(voting_clfada))"
      ]
    },
    {
      "cell_type": "markdown",
      "metadata": {
        "id": "59ALSm13P3m8"
      },
      "source": [
        "**70-30**"
      ]
    },
    {
      "cell_type": "code",
      "execution_count": null,
      "metadata": {
        "colab": {
          "base_uri": "https://localhost:8080/"
        },
        "id": "yZXW2J3pP-SH",
        "outputId": "74ad7743-e2d8-4986-d140-393f5ea3977c"
      },
      "outputs": [
        {
          "output_type": "execute_result",
          "data": {
            "text/plain": [
              "(678, 9)"
            ]
          },
          "metadata": {},
          "execution_count": 72
        }
      ],
      "source": [
        "x_train, x_test, y_train, y_test = train_test_split(X, y, test_size=0.30, random_state=5)\n",
        "traindf=pd.DataFrame(x_train)\n",
        "traindf.shape"
      ]
    },
    {
      "cell_type": "code",
      "execution_count": null,
      "metadata": {
        "colab": {
          "base_uri": "https://localhost:8080/"
        },
        "id": "vRDNtkQVwzm2",
        "outputId": "0fe31de5-8e77-41c0-9c67-6acc755a0e51"
      },
      "outputs": [
        {
          "output_type": "stream",
          "name": "stdout",
          "text": [
            "Voting(70-30)- NB  0.7560137457044673\n"
          ]
        }
      ],
      "source": [
        "X_train_df = pd.DataFrame(x_train)\n",
        "X_test_df = pd.DataFrame(x_test)\n",
        "nb1.fit(X_train_df.iloc[:300], y_train[:300])\n",
        "nb2.fit(X_train_df.iloc[300:450], y_train[300:450])\n",
        "nb3.fit(X_train_df.iloc[450:678], y_train[450:678])\n",
        "ensemble = VotingClassifier(estimators=[('nb1', nb1), ('nb2', nb2),('nb3',nb3)], voting='hard')\n",
        "ensemble.fit(X_train_df, y_train)\n",
        "accuracy = ensemble.score(x_test, y_test)\n",
        "print(\"Voting(70-30)- NB \",(accuracy))"
      ]
    },
    {
      "cell_type": "code",
      "execution_count": null,
      "metadata": {
        "colab": {
          "base_uri": "https://localhost:8080/"
        },
        "id": "qaTU9RNEqDDf",
        "outputId": "289e32d4-2e35-44d9-e5e2-7a6f550a9174"
      },
      "outputs": [
        {
          "output_type": "stream",
          "name": "stdout",
          "text": [
            "Voting(70-30)- MLP  0.7353951890034365\n",
            "Voting(70-30)- DT  0.8075601374570447\n",
            "Voting(70-30)- RF  0.7938144329896907\n",
            "Voting(70-30)- SVM  0.8041237113402062\n",
            "Voting(70-30)- XGBoost  0.8969072164948454\n",
            "Voting(70-30)- AdaBoost  0.8625429553264605\n"
          ]
        }
      ],
      "source": [
        "def votingclf_seventysplit(voting_clf):\n",
        "  x_train, x_test, y_train, y_test = train_test_split(X, y, test_size=0.30, random_state=7)\n",
        "  voting_clf.fit(x_train, y_train)\n",
        "  y_pred = voting_clf.predict(x_test)\n",
        "  accuracy = accuracy_score(y_test, y_pred)\n",
        "  return accuracy\n",
        "\n",
        "print(\"Voting(70-30)- MLP \",votingclf_seventysplit(voting_clfmlp))\n",
        "print(\"Voting(70-30)- DT \",votingclf_seventysplit(voting_clfdt))\n",
        "print(\"Voting(70-30)- RF \",votingclf_seventysplit(voting_clfrf))\n",
        "print(\"Voting(70-30)- SVM \",votingclf_seventysplit(voting_clfsvm))\n",
        "print(\"Voting(70-30)- XGBoost \",votingclf_seventysplit(voting_clfxgb))\n",
        "print(\"Voting(70-30)- AdaBoost \",votingclf_seventysplit(voting_clfada))"
      ]
    },
    {
      "cell_type": "markdown",
      "metadata": {
        "id": "wr9YbyNnQG6j"
      },
      "source": [
        "**80-20**"
      ]
    },
    {
      "cell_type": "code",
      "source": [
        "from sklearn.model_selection import cross_val_score,KFold\n",
        "from sklearn.model_selection import train_test_split,cross_val_score\n",
        "from sklearn import metrics\n",
        "from sklearn.metrics import confusion_matrix\n",
        "from sklearn.metrics import ConfusionMatrixDisplay\n",
        "from sklearn.metrics import classification_report"
      ],
      "metadata": {
        "id": "NGHT4J2GiLrg"
      },
      "execution_count": null,
      "outputs": []
    },
    {
      "cell_type": "code",
      "execution_count": null,
      "metadata": {
        "colab": {
          "base_uri": "https://localhost:8080/"
        },
        "id": "RzucucEdQNId",
        "outputId": "4d97e6fb-cb9e-4528-dd3b-e378814f3f6f"
      },
      "outputs": [
        {
          "output_type": "execute_result",
          "data": {
            "text/plain": [
              "(775, 9)"
            ]
          },
          "metadata": {},
          "execution_count": 32
        }
      ],
      "source": [
        "x_train, x_test, y_train, y_test = train_test_split(X, y, test_size=0.20, random_state=7)\n",
        "traindf=pd.DataFrame(x_train)\n",
        "traindf.shape"
      ]
    },
    {
      "cell_type": "code",
      "execution_count": null,
      "metadata": {
        "colab": {
          "base_uri": "https://localhost:8080/"
        },
        "id": "j4H4kGWuxXrS",
        "outputId": "412c3f35-03d7-4dca-b4fc-a94ed1990499"
      },
      "outputs": [
        {
          "output_type": "stream",
          "name": "stdout",
          "text": [
            "Voting(80-20)- NB Accuracy  0.788659793814433\n",
            "Voting(80-20)- NB Precision 0.788659793814433\n",
            "Voting(80-20)- NB Fi Score 0.8\n",
            "Voting(80-20)- NB Recall 0.788659793814433\n",
            "Voting(80-20)- NB ROC 0.7876610241669328\n"
          ]
        }
      ],
      "source": [
        "from sklearn.metrics import roc_curve, auc\n",
        "X_train_df = pd.DataFrame(x_train)\n",
        "X_test_df = pd.DataFrame(x_test)\n",
        "nb1.fit(X_train_df.iloc[:150], y_train[:150])\n",
        "nb2.fit(X_train_df.iloc[150:400], y_train[150:400])\n",
        "nb3.fit(X_train_df.iloc[400:775], y_train[400:775])\n",
        "\n",
        "ensemble = VotingClassifier(estimators=[('nb1', nb1), ('nb2', nb2),('nb3',nb3)], voting='soft')\n",
        "ensemble.fit(X_train_df, y_train)\n",
        "y_pred=ensemble.predict(x_test)\n",
        "accuracy = ensemble.score(x_test, y_test)\n",
        "fpr, tpr, _ = roc_curve(y_test, y_pred)\n",
        "rocc=auc(fpr, tpr)\n",
        "print(\"Voting(80-20)- NB Accuracy \",(accuracy))\n",
        "print(\"Voting(80-20)- NB Precision\",(metrics.precision_score(y_test, y_pred,average='micro')))\n",
        "print(\"Voting(80-20)- NB Fi Score\",(metrics.f1_score(y_test, y_pred)))\n",
        "print(\"Voting(80-20)- NB Recall\",(metrics.recall_score(y_test, y_pred,average='weighted')))\n",
        "print(\"Voting(80-20)- NB ROC\",(rocc))"
      ]
    },
    {
      "cell_type": "code",
      "execution_count": null,
      "metadata": {
        "colab": {
          "base_uri": "https://localhost:8080/"
        },
        "id": "-W4Q8F2iqD-x",
        "outputId": "4778818d-668a-4931-fa01-9ced77b2a11d"
      },
      "outputs": [
        {
          "output_type": "stream",
          "name": "stdout",
          "text": [
            "\n",
            "ACCURACY\n",
            "Voting(80-20)- MLP  0.6804123711340206\n",
            "Voting(80-20)- DT  0.8092783505154639\n",
            "Voting(80-20)- RF  0.7989690721649485\n",
            "Voting(80-20)- SVM  0.8247422680412371\n",
            "Voting(80-20)- XGBoost  0.8917525773195877\n",
            "Voting(80-20)- AdaBoost  0.8402061855670103\n",
            "\n",
            "PRECISION\n",
            "Voting(80-20)- MLP  0.6405228758169934\n",
            "Voting(80-20)- DT  0.8363636363636363\n",
            "Voting(80-20)- RF  0.8333333333333334\n",
            "Voting(80-20)- SVM  0.8148148148148148\n",
            "Voting(80-20)- XGBoost  0.8839285714285714\n",
            "Voting(80-20)- AdaBoost  0.8608695652173913\n",
            "\n",
            "F1 SCORE\n",
            "Voting(80-20)- MLP  0.7755102040816326\n",
            "Voting(80-20)- DT  0.8598130841121494\n",
            "Voting(80-20)- RF  0.8390243902439023\n",
            "Voting(80-20)- SVM  0.830188679245283\n",
            "Voting(80-20)- XGBoost  0.9166666666666665\n",
            "Voting(80-20)- AdaBoost  0.9041095890410958\n",
            "\n",
            "RECALL\n",
            "Voting(80-20)- MLP  0.9615384615384616\n",
            "Voting(80-20)- DT  0.8846153846153846\n",
            "Voting(80-20)- RF  0.8269230769230769\n",
            "Voting(80-20)- SVM  0.8461538461538461\n",
            "Voting(80-20)- XGBoost  0.9519230769230769\n",
            "Voting(80-20)- AdaBoost  0.9519230769230769\n",
            "\n",
            "ROC\n",
            "Voting(80-20)- MLP  0.7025641025641025\n",
            "Voting(80-20)- DT  0.8423076923076923\n",
            "Voting(80-20)- RF  0.8301282051282051\n",
            "Voting(80-20)- SVM  0.811965811965812\n",
            "Voting(80-20)- XGBoost  0.9037393162393162\n",
            "Voting(80-20)- AdaBoost  0.8870726495726495\n"
          ]
        }
      ],
      "source": [
        "from sklearn.metrics import roc_curve, auc\n",
        "from sklearn import metrics\n",
        "def votingclf_eightysplit(voting_clf):\n",
        "  x_train, x_test, y_train, y_test = train_test_split(X, y, test_size=0.20, random_state=7)\n",
        "  voting_clf.fit(x_train, y_train)\n",
        "  y_pred = voting_clf.predict(x_test)\n",
        "  accuracy = accuracy_score(y_test, y_pred)\n",
        "  return accuracy\n",
        "print(\"\\nACCURACY\")\n",
        "print(\"Voting(80-20)- MLP \",votingclf_eightysplit(voting_clfmlp))\n",
        "print(\"Voting(80-20)- DT \",votingclf_eightysplit(voting_clfdt))\n",
        "print(\"Voting(80-20)- RF \",votingclf_eightysplit(voting_clfrf))\n",
        "print(\"Voting(80-20)- SVM \",votingclf_eightysplit(voting_clfsvm))\n",
        "print(\"Voting(80-20)- XGBoost \",votingclf_eightysplit(voting_clfxgb))\n",
        "print(\"Voting(80-20)- AdaBoost \",votingclf_eightysplit(voting_clfada))\n",
        "\n",
        "\n",
        "def votingclf_eightysplit_pre(voting_clf):\n",
        "  x_train, x_test, y_train, y_test = train_test_split(X, y, test_size=0.20, random_state=43)\n",
        "  voting_clf.fit(x_train, y_train)\n",
        "  y_pred = voting_clf.predict(x_test)\n",
        "  precision = metrics.precision_score(y_test, y_pred)\n",
        "  return precision\n",
        "print(\"\\nPRECISION\")\n",
        "print(\"Voting(80-20)- MLP \",votingclf_eightysplit_pre(voting_clfmlp))\n",
        "print(\"Voting(80-20)- DT \",votingclf_eightysplit_pre(voting_clfdt))\n",
        "print(\"Voting(80-20)- RF \",votingclf_eightysplit_pre(voting_clfrf))\n",
        "print(\"Voting(80-20)- SVM \",votingclf_eightysplit_pre(voting_clfsvm))\n",
        "print(\"Voting(80-20)- XGBoost \",votingclf_eightysplit_pre(voting_clfxgb))\n",
        "print(\"Voting(80-20)- AdaBoost \",votingclf_eightysplit_pre(voting_clfada))\n",
        "\n",
        "def votingclf_eightysplit_f1(voting_clf):\n",
        "  x_train, x_test, y_train, y_test = train_test_split(X, y, test_size=0.20, random_state=43)\n",
        "  voting_clf.fit(x_train, y_train)\n",
        "  y_pred = voting_clf.predict(x_test)\n",
        "  f1 = metrics.f1_score(y_test, y_pred)\n",
        "  return f1\n",
        "print(\"\\nF1 SCORE\")\n",
        "print(\"Voting(80-20)- MLP \",votingclf_eightysplit_f1(voting_clfmlp))\n",
        "print(\"Voting(80-20)- DT \",votingclf_eightysplit_f1(voting_clfdt))\n",
        "print(\"Voting(80-20)- RF \",votingclf_eightysplit_f1(voting_clfrf))\n",
        "print(\"Voting(80-20)- SVM \",votingclf_eightysplit_f1(voting_clfsvm))\n",
        "print(\"Voting(80-20)- XGBoost \",votingclf_eightysplit_f1(voting_clfxgb))\n",
        "print(\"Voting(80-20)- AdaBoost \",votingclf_eightysplit_f1(voting_clfada))\n",
        "\n",
        "def votingclf_eightysplit_rec(voting_clf):\n",
        "  x_train, x_test, y_train, y_test = train_test_split(X, y, test_size=0.20, random_state=43)\n",
        "  voting_clf.fit(x_train, y_train)\n",
        "  y_pred = voting_clf.predict(x_test)\n",
        "  recall = metrics.recall_score(y_test, y_pred)\n",
        "  return recall\n",
        "print(\"\\nRECALL\")\n",
        "print(\"Voting(80-20)- MLP \",votingclf_eightysplit_rec(voting_clfmlp))\n",
        "print(\"Voting(80-20)- DT \",votingclf_eightysplit_rec(voting_clfdt))\n",
        "print(\"Voting(80-20)- RF \",votingclf_eightysplit_rec(voting_clfrf))\n",
        "print(\"Voting(80-20)- SVM \",votingclf_eightysplit_rec(voting_clfsvm))\n",
        "print(\"Voting(80-20)- XGBoost \",votingclf_eightysplit_rec(voting_clfxgb))\n",
        "print(\"Voting(80-20)- AdaBoost \",votingclf_eightysplit_rec(voting_clfada))\n",
        "\n",
        "\n",
        "def votingclf_eightysplit_roc(voting_clf):\n",
        "  x_train, x_test, y_train, y_test = train_test_split(X, y, test_size=0.20, random_state=43)\n",
        "  voting_clf.fit(x_train, y_train)\n",
        "  y_pred = voting_clf.predict(x_test)\n",
        "  fpr, tpr, _ = roc_curve(y_test, y_pred)\n",
        "  rocc=auc(fpr, tpr)\n",
        "  return rocc\n",
        "print(\"\\nROC\")\n",
        "print(\"Voting(80-20)- MLP \",votingclf_eightysplit_roc(voting_clfmlp))\n",
        "print(\"Voting(80-20)- DT \",votingclf_eightysplit_roc(voting_clfdt))\n",
        "print(\"Voting(80-20)- RF \",votingclf_eightysplit_roc(voting_clfrf))\n",
        "print(\"Voting(80-20)- SVM \",votingclf_eightysplit_roc(voting_clfsvm))\n",
        "print(\"Voting(80-20)- XGBoost \",votingclf_eightysplit_roc(voting_clfxgb))\n",
        "print(\"Voting(80-20)- AdaBoost \",votingclf_eightysplit_roc(voting_clfada))"
      ]
    },
    {
      "cell_type": "markdown",
      "metadata": {
        "id": "lQi0vzBBYYwZ"
      },
      "source": [
        "## **BAGGING IMPLEMENTATION**"
      ]
    },
    {
      "cell_type": "code",
      "execution_count": null,
      "metadata": {
        "id": "BLanKmK16_sn"
      },
      "outputs": [],
      "source": [
        "from sklearn.model_selection import cross_val_score\n",
        "from sklearn.ensemble import BaggingClassifier"
      ]
    },
    {
      "cell_type": "markdown",
      "metadata": {
        "id": "x9O6l0M7XgBa"
      },
      "source": [
        "**10(k)-fold**"
      ]
    },
    {
      "cell_type": "code",
      "execution_count": null,
      "metadata": {
        "id": "LRyct0d4bKdT"
      },
      "outputs": [],
      "source": [
        "models_new=[]\n",
        "models_new.append(('NB',GaussianNB(var_smoothing = 6.579332246575682e-07)))\n",
        "models_new.append(('MLP',MLPClassifier(activation= 'logistic', alpha = 0.01, hidden_layer_sizes = (20,15,10),learning_rate='constant',solver='adam',random_state=5)))\n",
        "models_new.append(('DT',DecisionTreeClassifier(criterion='gini',max_depth=6,random_state=5)))\n",
        "models_new.append(('RF',RandomForestClassifier(n_estimators=100,max_depth=6,max_features='log2',random_state=5)))\n",
        "models_new.append(('SVM',SVC(kernel='linear',gamma = 1,C= 1,random_state=5)))\n",
        "models_new.append(('XGboost',XGBClassifier(learning_rate=1,n_estimators=30,max_depth=5,random_state=7)))\n",
        "models_new.append(('Adaboost',AdaBoostClassifier(learning_rate=1,n_estimators=30,random_state=7)))"
      ]
    },
    {
      "cell_type": "code",
      "execution_count": null,
      "metadata": {
        "colab": {
          "base_uri": "https://localhost:8080/"
        },
        "id": "f9mXeTzJXQbF",
        "outputId": "f98f8c03-5025-4162-d970-27bf33dcc208"
      },
      "outputs": [
        {
          "output_type": "stream",
          "name": "stdout",
          "text": [
            "Bagging(10-fold)-  NB 0.7770618556701031\n",
            "Bagging(10-fold)-  MLP 0.5221756872852235\n",
            "Bagging(10-fold)-  DT 0.8152706185567009\n",
            "Bagging(10-fold)-  RF 0.8400236254295532\n",
            "Bagging(10-fold)-  SVM 0.8018900343642612\n",
            "Bagging(10-fold)-  XGboost 0.8576138316151203\n",
            "Bagging(10-fold)-  Adaboost 0.8091172680412371\n"
          ]
        }
      ],
      "source": [
        "from sklearn.model_selection import KFold\n",
        "from sklearn.ensemble import BaggingClassifier\n",
        "from sklearn.tree import DecisionTreeClassifier\n",
        "\n",
        "for estimator in models_new:\n",
        "    bagging_clf = BaggingClassifier(base_estimator=estimator[1],n_estimators=7,max_features=9,max_samples=100,bootstrap=True, random_state=7)\n",
        "    kf = KFold(n_splits=10, shuffle=True)\n",
        "    all_predictions = []\n",
        "    for train_index, test_index in kf.split(X):\n",
        "      X_train, X_test = X[train_index], X[test_index]\n",
        "      y_train, y_test = y[train_index], y[test_index]\n",
        "      bagging_clf.fit(X_train, y_train)\n",
        "      predictions = bagging_clf.predict(X_test)\n",
        "      all_predictions.append(metrics.accuracy_score(y_test,predictions))\n",
        "    final_predictions = np.mean(all_predictions, axis=0)\n",
        "    print(\"Bagging(10-fold)- \",estimator[0], final_predictions)"
      ]
    },
    {
      "cell_type": "markdown",
      "metadata": {
        "id": "LtuGK0A-X3_S"
      },
      "source": [
        "**50-50**"
      ]
    },
    {
      "cell_type": "code",
      "execution_count": null,
      "metadata": {
        "colab": {
          "base_uri": "https://localhost:8080/"
        },
        "id": "nvDyvv-VX6Nn",
        "outputId": "b8844498-5605-4672-c8bc-e7249eba032f"
      },
      "outputs": [
        {
          "output_type": "stream",
          "name": "stdout",
          "text": [
            "Bagging(50-50)-  NB 0.7793814432989691\n",
            "Bagging(50-50)-  MLP 0.511340206185567\n",
            "Bagging(50-50)-  DT 0.8969072164948454\n",
            "Bagging(50-50)-  RF 0.8783505154639175\n",
            "Bagging(50-50)-  SVM 0.8123711340206186\n",
            "Bagging(50-50)-  XGboost 0.8824742268041237\n",
            "Bagging(50-50)-  Adaboost 0.8329896907216495\n"
          ]
        }
      ],
      "source": [
        "x_train, x_test, y_train, y_test = train_test_split(X, y, test_size=0.50, random_state=7)\n",
        "for estimator in models_new:\n",
        "    bagging_clf = BaggingClassifier(base_estimator=estimator[1],n_estimators=15,max_features=9,max_samples=200,bootstrap=True, random_state=7)\n",
        "    bagging_clf.fit(x_train, y_train)\n",
        "    y_pred = bagging_clf.predict(x_test)\n",
        "    accuracy = metrics.accuracy_score(y_test, y_pred)\n",
        "    print(\"Bagging(50-50)- \",estimator[0], accuracy)"
      ]
    },
    {
      "cell_type": "markdown",
      "metadata": {
        "id": "AXy7R3KEX9Hu"
      },
      "source": [
        "**60-40**"
      ]
    },
    {
      "cell_type": "code",
      "execution_count": null,
      "metadata": {
        "colab": {
          "base_uri": "https://localhost:8080/"
        },
        "id": "ksOcA4X-X-7i",
        "outputId": "54679ccc-a59f-4f3a-cbd2-928a009c4ef7"
      },
      "outputs": [
        {
          "output_type": "stream",
          "name": "stdout",
          "text": [
            "Bagging(50-50)-  NB 0.7680412371134021\n",
            "Bagging(50-50)-  MLP 0.5180412371134021\n",
            "Bagging(50-50)-  DT 0.8788659793814433\n",
            "Bagging(50-50)-  RF 0.8711340206185567\n",
            "Bagging(50-50)-  SVM 0.8067010309278351\n",
            "Bagging(50-50)-  XGboost 0.8711340206185567\n",
            "Bagging(50-50)-  Adaboost 0.8118556701030928\n"
          ]
        }
      ],
      "source": [
        "x_train, x_test, y_train, y_test = train_test_split(X, y, test_size=0.40, random_state=7)\n",
        "for estimator in models_new:\n",
        "    bagging_clf = BaggingClassifier(base_estimator=estimator[1],n_estimators=15,max_features=9,max_samples=200,bootstrap=True, random_state=7)\n",
        "    bagging_clf.fit(x_train, y_train)\n",
        "    y_pred = bagging_clf.predict(x_test)\n",
        "    accuracy = metrics.accuracy_score(y_test, y_pred)\n",
        "    print(\"Bagging(50-50)- \",estimator[0], accuracy)"
      ]
    },
    {
      "cell_type": "markdown",
      "metadata": {
        "id": "eqhGHUZ_YCFa"
      },
      "source": [
        "**70-30**"
      ]
    },
    {
      "cell_type": "code",
      "execution_count": null,
      "metadata": {
        "id": "PzVkligKYD62",
        "colab": {
          "base_uri": "https://localhost:8080/"
        },
        "outputId": "96c834cd-bba6-49a4-f0df-6ffb25a74437"
      },
      "outputs": [
        {
          "output_type": "stream",
          "name": "stdout",
          "text": [
            "Bagging(50-50)-  NB 0.8075601374570447\n",
            "Bagging(50-50)-  MLP 0.5051546391752577\n",
            "Bagging(50-50)-  DT 0.8969072164948454\n",
            "Bagging(50-50)-  RF 0.8762886597938144\n",
            "Bagging(50-50)-  SVM 0.8041237113402062\n",
            "Bagging(50-50)-  XGboost 0.8831615120274914\n",
            "Bagging(50-50)-  Adaboost 0.8213058419243986\n"
          ]
        }
      ],
      "source": [
        "x_train, x_test, y_train, y_test = train_test_split(X, y, test_size=0.30, random_state=7)\n",
        "for estimator in models_new:\n",
        "    bagging_clf = BaggingClassifier(base_estimator=estimator[1],n_estimators=15,max_features=9,max_samples=200,bootstrap=True, random_state=7)\n",
        "    bagging_clf.fit(x_train, y_train)\n",
        "    y_pred = bagging_clf.predict(x_test)\n",
        "    accuracy = metrics.accuracy_score(y_test, y_pred)\n",
        "    print(\"Bagging(50-50)- \",estimator[0], accuracy)"
      ]
    },
    {
      "cell_type": "markdown",
      "metadata": {
        "id": "ZDKE03WMYFc6"
      },
      "source": [
        "**80-20**"
      ]
    },
    {
      "cell_type": "code",
      "execution_count": null,
      "metadata": {
        "id": "VfTlO3099rTJ",
        "colab": {
          "base_uri": "https://localhost:8080/"
        },
        "outputId": "96ab71c3-7a1a-4f99-dd1d-7974f7155056"
      },
      "outputs": [
        {
          "output_type": "stream",
          "name": "stdout",
          "text": [
            "ACCURACY\n",
            "Bagging(80-20)-  NB 0.8608247422680413\n",
            "Bagging(80-20)-  MLP 0.7371134020618557\n",
            "Bagging(80-20)-  DT 0.9329896907216495\n",
            "Bagging(80-20)-  RF 0.9484536082474226\n",
            "Bagging(80-20)-  SVM 0.8814432989690721\n",
            "Bagging(80-20)-  XGboost 0.9587628865979382\n",
            "Bagging(80-20)-  Adaboost 0.8762886597938144\n",
            "\n",
            "PRECISION\n",
            "Bagging(80-20)-  NB 0.8711340206185567\n",
            "Bagging(80-20)-  MLP 0.6752577319587629\n",
            "Bagging(80-20)-  DT 0.9123711340206185\n",
            "Bagging(80-20)-  RF 0.9123711340206185\n",
            "Bagging(80-20)-  SVM 0.8762886597938144\n",
            "Bagging(80-20)-  XGboost 0.9329896907216495\n",
            "Bagging(80-20)-  Adaboost 0.8762886597938144\n",
            "\n",
            "F1 SCORE\n",
            "Bagging(80-20)-  NB 0.8815165876777252\n",
            "Bagging(80-20)-  MLP 0.7604562737642585\n",
            "Bagging(80-20)-  DT 0.9194312796208531\n",
            "Bagging(80-20)-  RF 0.9194312796208531\n",
            "Bagging(80-20)-  SVM 0.8857142857142857\n",
            "Bagging(80-20)-  XGboost 0.9383886255924171\n",
            "Bagging(80-20)-  Adaboost 0.8834951456310681\n",
            "\n",
            "RECALL\n",
            "Bagging(80-20)-  NB 0.8711340206185567\n",
            "Bagging(80-20)-  MLP 0.6752577319587629\n",
            "Bagging(80-20)-  DT 0.9123711340206185\n",
            "Bagging(80-20)-  RF 0.9123711340206185\n",
            "Bagging(80-20)-  SVM 0.8762886597938144\n",
            "Bagging(80-20)-  XGboost 0.9329896907216495\n",
            "Bagging(80-20)-  Adaboost 0.8762886597938144\n",
            "\n",
            "ROC\n",
            "Bagging(80-20)-  NB 0.8698234349919743\n",
            "Bagging(80-20)-  MLP 0.6503477795612627\n",
            "Bagging(80-20)-  DT 0.9113429641519529\n",
            "Bagging(80-20)-  RF 0.9113429641519529\n",
            "Bagging(80-20)-  SVM 0.8754414125200642\n",
            "Bagging(80-20)-  XGboost 0.9321027287319422\n",
            "Bagging(80-20)-  Adaboost 0.8771535580524344\n"
          ]
        }
      ],
      "source": [
        "from sklearn.metrics import confusion_matrix\n",
        "from sklearn.metrics import roc_curve, auc\n",
        "x_train, x_test, y_train, y_test = train_test_split(X, y, test_size=0.20, random_state=42)\n",
        "print(\"ACCURACY\")\n",
        "for estimator in models_new:\n",
        "    bagging_clf = BaggingClassifier(base_estimator=estimator[1],n_estimators=15,max_features=9,max_samples=300,bootstrap=True, random_state=7)\n",
        "    bagging_clf.fit(x_train, y_train)\n",
        "    y_pred = bagging_clf.predict(x_test)\n",
        "    accuracy = metrics.accuracy_score(y_test, y_pred)\n",
        "    print(\"Bagging(80-20)- \",estimator[0], accuracy)\n",
        "\n",
        "print(\"\\nPRECISION\")\n",
        "for estimator in models_new:\n",
        "    bagging_clf = BaggingClassifier(base_estimator=estimator[1],n_estimators=15,max_features=9,max_samples=100,bootstrap=True, random_state=7)\n",
        "    bagging_clf.fit(x_train, y_train)\n",
        "    y_pred = bagging_clf.predict(x_test)\n",
        "    precision = metrics.precision_score(y_test, y_pred,average='micro')\n",
        "    print(\"Bagging(80-20)- \",estimator[0], precision)\n",
        "\n",
        "print(\"\\nF1 SCORE\")\n",
        "for estimator in models_new:\n",
        "    bagging_clf = BaggingClassifier(base_estimator=estimator[1],n_estimators=15,max_features=9,max_samples=100,bootstrap=True, random_state=7)\n",
        "    bagging_clf.fit(x_train, y_train)\n",
        "    y_pred = bagging_clf.predict(x_test)\n",
        "    f1score = metrics.f1_score(y_test,y_pred)\n",
        "    print(\"Bagging(80-20)- \",estimator[0], f1score)\n",
        "  \n",
        "print(\"\\nRECALL\")\n",
        "for estimator in models_new:\n",
        "    bagging_clf = BaggingClassifier(base_estimator=estimator[1],n_estimators=15,max_features=9,max_samples=100,bootstrap=True, random_state=7)\n",
        "    bagging_clf.fit(x_train, y_train)\n",
        "    y_pred = bagging_clf.predict(x_test)\n",
        "    recall = metrics.recall_score(y_test, y_pred,average='micro')\n",
        "    print(\"Bagging(80-20)- \",estimator[0], recall)\n",
        "\n",
        "print(\"\\nROC\")\n",
        "for estimator in models_new:\n",
        "    bagging_clf = BaggingClassifier(base_estimator=estimator[1],n_estimators=15,max_features=9,max_samples=100,bootstrap=True, random_state=7)\n",
        "    bagging_clf.fit(x_train, y_train)\n",
        "    y_pred = bagging_clf.predict(x_test)\n",
        "    fpr, tpr, _ = roc_curve(y_test, y_pred)\n",
        "    rocc=auc(fpr, tpr)\n",
        "    print(\"Bagging(80-20)- \",estimator[0], rocc)\n"
      ]
    },
    {
      "cell_type": "code",
      "execution_count": null,
      "metadata": {
        "id": "CzNMdvLWeJ_q"
      },
      "outputs": [],
      "source": []
    }
  ],
  "metadata": {
    "colab": {
      "provenance": []
    },
    "kernelspec": {
      "display_name": "Python 3",
      "name": "python3"
    },
    "language_info": {
      "name": "python"
    }
  },
  "nbformat": 4,
  "nbformat_minor": 0
}