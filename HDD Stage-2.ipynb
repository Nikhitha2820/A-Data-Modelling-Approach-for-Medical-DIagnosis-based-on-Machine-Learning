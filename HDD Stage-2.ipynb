{
  "cells": [
    {
      "cell_type": "markdown",
      "metadata": {
        "id": "tvwtHDNXP1r5"
      },
      "source": [
        "# **HEART DISEASE DATASET (STAGE-2)**"
      ]
    },
    {
      "cell_type": "markdown",
      "metadata": {
        "id": "MwZsbiE1RlHs"
      },
      "source": [
        "### **DATA ACQUISITION**"
      ]
    },
    {
      "cell_type": "code",
      "execution_count": null,
      "metadata": {
        "id": "kc141Oopq1Q_"
      },
      "outputs": [],
      "source": [
        "import numpy as np\n",
        "import pandas as pd \n",
        "import matplotlib.pyplot as plt \n",
        "%matplotlib inline \n",
        "import seaborn as sns\n",
        "import warnings\n",
        "warnings.filterwarnings(\"ignore\")"
      ]
    },
    {
      "cell_type": "code",
      "execution_count": null,
      "metadata": {
        "colab": {
          "base_uri": "https://localhost:8080/",
          "height": 206
        },
        "id": "z_GH9TcCrJEN",
        "outputId": "587ff1e0-9e08-41da-be54-7e8e5831c19a"
      },
      "outputs": [
        {
          "output_type": "execute_result",
          "data": {
            "text/plain": [
              "   Unnamed: 0  AGE  SEX  CP  RBP  SCH  FBS  RES  MHR  EIA  OPK  PES  VCA  THA  \\\n",
              "0           0   52    1   0  125  212    0    1  168    0  1.0    2    2    3   \n",
              "1           1   53    1   0  140  203    1    0  155    1  3.1    0    0    3   \n",
              "2           2   70    1   0  145  174    0    1  125    1  2.6    0    0    3   \n",
              "3           3   61    1   0  148  203    0    1  161    0  0.0    2    1    3   \n",
              "4           4   62    0   0  138  294    1    1  106    0  1.9    1    3    2   \n",
              "\n",
              "   LB  \n",
              "0   1  \n",
              "1   1  \n",
              "2   1  \n",
              "3   1  \n",
              "4   1  "
            ],
            "text/html": [
              "\n",
              "  <div id=\"df-a791a351-0452-45c4-b23e-ed89f399e3bd\">\n",
              "    <div class=\"colab-df-container\">\n",
              "      <div>\n",
              "<style scoped>\n",
              "    .dataframe tbody tr th:only-of-type {\n",
              "        vertical-align: middle;\n",
              "    }\n",
              "\n",
              "    .dataframe tbody tr th {\n",
              "        vertical-align: top;\n",
              "    }\n",
              "\n",
              "    .dataframe thead th {\n",
              "        text-align: right;\n",
              "    }\n",
              "</style>\n",
              "<table border=\"1\" class=\"dataframe\">\n",
              "  <thead>\n",
              "    <tr style=\"text-align: right;\">\n",
              "      <th></th>\n",
              "      <th>Unnamed: 0</th>\n",
              "      <th>AGE</th>\n",
              "      <th>SEX</th>\n",
              "      <th>CP</th>\n",
              "      <th>RBP</th>\n",
              "      <th>SCH</th>\n",
              "      <th>FBS</th>\n",
              "      <th>RES</th>\n",
              "      <th>MHR</th>\n",
              "      <th>EIA</th>\n",
              "      <th>OPK</th>\n",
              "      <th>PES</th>\n",
              "      <th>VCA</th>\n",
              "      <th>THA</th>\n",
              "      <th>LB</th>\n",
              "    </tr>\n",
              "  </thead>\n",
              "  <tbody>\n",
              "    <tr>\n",
              "      <th>0</th>\n",
              "      <td>0</td>\n",
              "      <td>52</td>\n",
              "      <td>1</td>\n",
              "      <td>0</td>\n",
              "      <td>125</td>\n",
              "      <td>212</td>\n",
              "      <td>0</td>\n",
              "      <td>1</td>\n",
              "      <td>168</td>\n",
              "      <td>0</td>\n",
              "      <td>1.0</td>\n",
              "      <td>2</td>\n",
              "      <td>2</td>\n",
              "      <td>3</td>\n",
              "      <td>1</td>\n",
              "    </tr>\n",
              "    <tr>\n",
              "      <th>1</th>\n",
              "      <td>1</td>\n",
              "      <td>53</td>\n",
              "      <td>1</td>\n",
              "      <td>0</td>\n",
              "      <td>140</td>\n",
              "      <td>203</td>\n",
              "      <td>1</td>\n",
              "      <td>0</td>\n",
              "      <td>155</td>\n",
              "      <td>1</td>\n",
              "      <td>3.1</td>\n",
              "      <td>0</td>\n",
              "      <td>0</td>\n",
              "      <td>3</td>\n",
              "      <td>1</td>\n",
              "    </tr>\n",
              "    <tr>\n",
              "      <th>2</th>\n",
              "      <td>2</td>\n",
              "      <td>70</td>\n",
              "      <td>1</td>\n",
              "      <td>0</td>\n",
              "      <td>145</td>\n",
              "      <td>174</td>\n",
              "      <td>0</td>\n",
              "      <td>1</td>\n",
              "      <td>125</td>\n",
              "      <td>1</td>\n",
              "      <td>2.6</td>\n",
              "      <td>0</td>\n",
              "      <td>0</td>\n",
              "      <td>3</td>\n",
              "      <td>1</td>\n",
              "    </tr>\n",
              "    <tr>\n",
              "      <th>3</th>\n",
              "      <td>3</td>\n",
              "      <td>61</td>\n",
              "      <td>1</td>\n",
              "      <td>0</td>\n",
              "      <td>148</td>\n",
              "      <td>203</td>\n",
              "      <td>0</td>\n",
              "      <td>1</td>\n",
              "      <td>161</td>\n",
              "      <td>0</td>\n",
              "      <td>0.0</td>\n",
              "      <td>2</td>\n",
              "      <td>1</td>\n",
              "      <td>3</td>\n",
              "      <td>1</td>\n",
              "    </tr>\n",
              "    <tr>\n",
              "      <th>4</th>\n",
              "      <td>4</td>\n",
              "      <td>62</td>\n",
              "      <td>0</td>\n",
              "      <td>0</td>\n",
              "      <td>138</td>\n",
              "      <td>294</td>\n",
              "      <td>1</td>\n",
              "      <td>1</td>\n",
              "      <td>106</td>\n",
              "      <td>0</td>\n",
              "      <td>1.9</td>\n",
              "      <td>1</td>\n",
              "      <td>3</td>\n",
              "      <td>2</td>\n",
              "      <td>1</td>\n",
              "    </tr>\n",
              "  </tbody>\n",
              "</table>\n",
              "</div>\n",
              "      <button class=\"colab-df-convert\" onclick=\"convertToInteractive('df-a791a351-0452-45c4-b23e-ed89f399e3bd')\"\n",
              "              title=\"Convert this dataframe to an interactive table.\"\n",
              "              style=\"display:none;\">\n",
              "        \n",
              "  <svg xmlns=\"http://www.w3.org/2000/svg\" height=\"24px\"viewBox=\"0 0 24 24\"\n",
              "       width=\"24px\">\n",
              "    <path d=\"M0 0h24v24H0V0z\" fill=\"none\"/>\n",
              "    <path d=\"M18.56 5.44l.94 2.06.94-2.06 2.06-.94-2.06-.94-.94-2.06-.94 2.06-2.06.94zm-11 1L8.5 8.5l.94-2.06 2.06-.94-2.06-.94L8.5 2.5l-.94 2.06-2.06.94zm10 10l.94 2.06.94-2.06 2.06-.94-2.06-.94-.94-2.06-.94 2.06-2.06.94z\"/><path d=\"M17.41 7.96l-1.37-1.37c-.4-.4-.92-.59-1.43-.59-.52 0-1.04.2-1.43.59L10.3 9.45l-7.72 7.72c-.78.78-.78 2.05 0 2.83L4 21.41c.39.39.9.59 1.41.59.51 0 1.02-.2 1.41-.59l7.78-7.78 2.81-2.81c.8-.78.8-2.07 0-2.86zM5.41 20L4 18.59l7.72-7.72 1.47 1.35L5.41 20z\"/>\n",
              "  </svg>\n",
              "      </button>\n",
              "      \n",
              "  <style>\n",
              "    .colab-df-container {\n",
              "      display:flex;\n",
              "      flex-wrap:wrap;\n",
              "      gap: 12px;\n",
              "    }\n",
              "\n",
              "    .colab-df-convert {\n",
              "      background-color: #E8F0FE;\n",
              "      border: none;\n",
              "      border-radius: 50%;\n",
              "      cursor: pointer;\n",
              "      display: none;\n",
              "      fill: #1967D2;\n",
              "      height: 32px;\n",
              "      padding: 0 0 0 0;\n",
              "      width: 32px;\n",
              "    }\n",
              "\n",
              "    .colab-df-convert:hover {\n",
              "      background-color: #E2EBFA;\n",
              "      box-shadow: 0px 1px 2px rgba(60, 64, 67, 0.3), 0px 1px 3px 1px rgba(60, 64, 67, 0.15);\n",
              "      fill: #174EA6;\n",
              "    }\n",
              "\n",
              "    [theme=dark] .colab-df-convert {\n",
              "      background-color: #3B4455;\n",
              "      fill: #D2E3FC;\n",
              "    }\n",
              "\n",
              "    [theme=dark] .colab-df-convert:hover {\n",
              "      background-color: #434B5C;\n",
              "      box-shadow: 0px 1px 3px 1px rgba(0, 0, 0, 0.15);\n",
              "      filter: drop-shadow(0px 1px 2px rgba(0, 0, 0, 0.3));\n",
              "      fill: #FFFFFF;\n",
              "    }\n",
              "  </style>\n",
              "\n",
              "      <script>\n",
              "        const buttonEl =\n",
              "          document.querySelector('#df-a791a351-0452-45c4-b23e-ed89f399e3bd button.colab-df-convert');\n",
              "        buttonEl.style.display =\n",
              "          google.colab.kernel.accessAllowed ? 'block' : 'none';\n",
              "\n",
              "        async function convertToInteractive(key) {\n",
              "          const element = document.querySelector('#df-a791a351-0452-45c4-b23e-ed89f399e3bd');\n",
              "          const dataTable =\n",
              "            await google.colab.kernel.invokeFunction('convertToInteractive',\n",
              "                                                     [key], {});\n",
              "          if (!dataTable) return;\n",
              "\n",
              "          const docLinkHtml = 'Like what you see? Visit the ' +\n",
              "            '<a target=\"_blank\" href=https://colab.research.google.com/notebooks/data_table.ipynb>data table notebook</a>'\n",
              "            + ' to learn more about interactive tables.';\n",
              "          element.innerHTML = '';\n",
              "          dataTable['output_type'] = 'display_data';\n",
              "          await google.colab.output.renderOutput(dataTable, element);\n",
              "          const docLink = document.createElement('div');\n",
              "          docLink.innerHTML = docLinkHtml;\n",
              "          element.appendChild(docLink);\n",
              "        }\n",
              "      </script>\n",
              "    </div>\n",
              "  </div>\n",
              "  "
            ]
          },
          "metadata": {},
          "execution_count": 2
        }
      ],
      "source": [
        "hr1=pd.read_csv('Heart_Dataset(1).csv',on_bad_lines='skip') \n",
        "hr1=hr1.rename(columns={'age':'AGE','sex':'SEX','cp':'CP','trestbps':'RBP','chol':'SCH','fbs':'FBS','restecg':'RES','thalach':'MHR','exang':'EIA','oldpeak':'OPK','slope':'PES','ca':'VCA','thal':'THA','LB1':'LB'})\n",
        "hr1.head()"
      ]
    },
    {
      "cell_type": "markdown",
      "metadata": {
        "id": "pRwW34yEWxmV"
      },
      "source": [
        "**OUTLIER DETECTION AND REMOVAL**"
      ]
    },
    {
      "cell_type": "code",
      "execution_count": null,
      "metadata": {
        "colab": {
          "base_uri": "https://localhost:8080/",
          "height": 452
        },
        "id": "j8wRlmhhONSZ",
        "outputId": "beb357e5-913c-415d-bd8a-cc431f2346ae"
      },
      "outputs": [
        {
          "output_type": "stream",
          "name": "stdout",
          "text": [
            "526\n",
            "[526, 499]\n"
          ]
        },
        {
          "output_type": "display_data",
          "data": {
            "text/html": [
              "<html>\n",
              "<head><meta charset=\"utf-8\" /></head>\n",
              "<body>\n",
              "    <div>            <script src=\"https://cdnjs.cloudflare.com/ajax/libs/mathjax/2.7.5/MathJax.js?config=TeX-AMS-MML_SVG\"></script><script type=\"text/javascript\">if (window.MathJax && window.MathJax.Hub && window.MathJax.Hub.Config) {window.MathJax.Hub.Config({SVG: {font: \"STIX-Web\"}});}</script>                <script type=\"text/javascript\">window.PlotlyConfig = {MathJaxConfig: 'local'};</script>\n",
              "        <script src=\"https://cdn.plot.ly/plotly-2.18.2.min.js\"></script>                <div id=\"0fe146ab-90a1-423d-8d87-d57e6cb2db5a\" class=\"plotly-graph-div\" style=\"height:400px; width:700px;\"></div>            <script type=\"text/javascript\">                                    window.PLOTLYENV=window.PLOTLYENV || {};                                    if (document.getElementById(\"0fe146ab-90a1-423d-8d87-d57e6cb2db5a\")) {                    Plotly.newPlot(                        \"0fe146ab-90a1-423d-8d87-d57e6cb2db5a\",                        [{\"domain\":{\"x\":[0.0,1.0],\"y\":[0.0,1.0]},\"hovertemplate\":\"label=%{label}<br>value=%{value}<extra></extra>\",\"labels\":[\"Healthy\",\"Not Healthy\"],\"legendgroup\":\"\",\"name\":\"\",\"showlegend\":true,\"values\":[526,499],\"type\":\"pie\"}],                        {\"template\":{\"data\":{\"histogram2dcontour\":[{\"type\":\"histogram2dcontour\",\"colorbar\":{\"outlinewidth\":0,\"ticks\":\"\"},\"colorscale\":[[0.0,\"#0d0887\"],[0.1111111111111111,\"#46039f\"],[0.2222222222222222,\"#7201a8\"],[0.3333333333333333,\"#9c179e\"],[0.4444444444444444,\"#bd3786\"],[0.5555555555555556,\"#d8576b\"],[0.6666666666666666,\"#ed7953\"],[0.7777777777777778,\"#fb9f3a\"],[0.8888888888888888,\"#fdca26\"],[1.0,\"#f0f921\"]]}],\"choropleth\":[{\"type\":\"choropleth\",\"colorbar\":{\"outlinewidth\":0,\"ticks\":\"\"}}],\"histogram2d\":[{\"type\":\"histogram2d\",\"colorbar\":{\"outlinewidth\":0,\"ticks\":\"\"},\"colorscale\":[[0.0,\"#0d0887\"],[0.1111111111111111,\"#46039f\"],[0.2222222222222222,\"#7201a8\"],[0.3333333333333333,\"#9c179e\"],[0.4444444444444444,\"#bd3786\"],[0.5555555555555556,\"#d8576b\"],[0.6666666666666666,\"#ed7953\"],[0.7777777777777778,\"#fb9f3a\"],[0.8888888888888888,\"#fdca26\"],[1.0,\"#f0f921\"]]}],\"heatmap\":[{\"type\":\"heatmap\",\"colorbar\":{\"outlinewidth\":0,\"ticks\":\"\"},\"colorscale\":[[0.0,\"#0d0887\"],[0.1111111111111111,\"#46039f\"],[0.2222222222222222,\"#7201a8\"],[0.3333333333333333,\"#9c179e\"],[0.4444444444444444,\"#bd3786\"],[0.5555555555555556,\"#d8576b\"],[0.6666666666666666,\"#ed7953\"],[0.7777777777777778,\"#fb9f3a\"],[0.8888888888888888,\"#fdca26\"],[1.0,\"#f0f921\"]]}],\"heatmapgl\":[{\"type\":\"heatmapgl\",\"colorbar\":{\"outlinewidth\":0,\"ticks\":\"\"},\"colorscale\":[[0.0,\"#0d0887\"],[0.1111111111111111,\"#46039f\"],[0.2222222222222222,\"#7201a8\"],[0.3333333333333333,\"#9c179e\"],[0.4444444444444444,\"#bd3786\"],[0.5555555555555556,\"#d8576b\"],[0.6666666666666666,\"#ed7953\"],[0.7777777777777778,\"#fb9f3a\"],[0.8888888888888888,\"#fdca26\"],[1.0,\"#f0f921\"]]}],\"contourcarpet\":[{\"type\":\"contourcarpet\",\"colorbar\":{\"outlinewidth\":0,\"ticks\":\"\"}}],\"contour\":[{\"type\":\"contour\",\"colorbar\":{\"outlinewidth\":0,\"ticks\":\"\"},\"colorscale\":[[0.0,\"#0d0887\"],[0.1111111111111111,\"#46039f\"],[0.2222222222222222,\"#7201a8\"],[0.3333333333333333,\"#9c179e\"],[0.4444444444444444,\"#bd3786\"],[0.5555555555555556,\"#d8576b\"],[0.6666666666666666,\"#ed7953\"],[0.7777777777777778,\"#fb9f3a\"],[0.8888888888888888,\"#fdca26\"],[1.0,\"#f0f921\"]]}],\"surface\":[{\"type\":\"surface\",\"colorbar\":{\"outlinewidth\":0,\"ticks\":\"\"},\"colorscale\":[[0.0,\"#0d0887\"],[0.1111111111111111,\"#46039f\"],[0.2222222222222222,\"#7201a8\"],[0.3333333333333333,\"#9c179e\"],[0.4444444444444444,\"#bd3786\"],[0.5555555555555556,\"#d8576b\"],[0.6666666666666666,\"#ed7953\"],[0.7777777777777778,\"#fb9f3a\"],[0.8888888888888888,\"#fdca26\"],[1.0,\"#f0f921\"]]}],\"mesh3d\":[{\"type\":\"mesh3d\",\"colorbar\":{\"outlinewidth\":0,\"ticks\":\"\"}}],\"scatter\":[{\"fillpattern\":{\"fillmode\":\"overlay\",\"size\":10,\"solidity\":0.2},\"type\":\"scatter\"}],\"parcoords\":[{\"type\":\"parcoords\",\"line\":{\"colorbar\":{\"outlinewidth\":0,\"ticks\":\"\"}}}],\"scatterpolargl\":[{\"type\":\"scatterpolargl\",\"marker\":{\"colorbar\":{\"outlinewidth\":0,\"ticks\":\"\"}}}],\"bar\":[{\"error_x\":{\"color\":\"#2a3f5f\"},\"error_y\":{\"color\":\"#2a3f5f\"},\"marker\":{\"line\":{\"color\":\"#E5ECF6\",\"width\":0.5},\"pattern\":{\"fillmode\":\"overlay\",\"size\":10,\"solidity\":0.2}},\"type\":\"bar\"}],\"scattergeo\":[{\"type\":\"scattergeo\",\"marker\":{\"colorbar\":{\"outlinewidth\":0,\"ticks\":\"\"}}}],\"scatterpolar\":[{\"type\":\"scatterpolar\",\"marker\":{\"colorbar\":{\"outlinewidth\":0,\"ticks\":\"\"}}}],\"histogram\":[{\"marker\":{\"pattern\":{\"fillmode\":\"overlay\",\"size\":10,\"solidity\":0.2}},\"type\":\"histogram\"}],\"scattergl\":[{\"type\":\"scattergl\",\"marker\":{\"colorbar\":{\"outlinewidth\":0,\"ticks\":\"\"}}}],\"scatter3d\":[{\"type\":\"scatter3d\",\"line\":{\"colorbar\":{\"outlinewidth\":0,\"ticks\":\"\"}},\"marker\":{\"colorbar\":{\"outlinewidth\":0,\"ticks\":\"\"}}}],\"scattermapbox\":[{\"type\":\"scattermapbox\",\"marker\":{\"colorbar\":{\"outlinewidth\":0,\"ticks\":\"\"}}}],\"scatterternary\":[{\"type\":\"scatterternary\",\"marker\":{\"colorbar\":{\"outlinewidth\":0,\"ticks\":\"\"}}}],\"scattercarpet\":[{\"type\":\"scattercarpet\",\"marker\":{\"colorbar\":{\"outlinewidth\":0,\"ticks\":\"\"}}}],\"carpet\":[{\"aaxis\":{\"endlinecolor\":\"#2a3f5f\",\"gridcolor\":\"white\",\"linecolor\":\"white\",\"minorgridcolor\":\"white\",\"startlinecolor\":\"#2a3f5f\"},\"baxis\":{\"endlinecolor\":\"#2a3f5f\",\"gridcolor\":\"white\",\"linecolor\":\"white\",\"minorgridcolor\":\"white\",\"startlinecolor\":\"#2a3f5f\"},\"type\":\"carpet\"}],\"table\":[{\"cells\":{\"fill\":{\"color\":\"#EBF0F8\"},\"line\":{\"color\":\"white\"}},\"header\":{\"fill\":{\"color\":\"#C8D4E3\"},\"line\":{\"color\":\"white\"}},\"type\":\"table\"}],\"barpolar\":[{\"marker\":{\"line\":{\"color\":\"#E5ECF6\",\"width\":0.5},\"pattern\":{\"fillmode\":\"overlay\",\"size\":10,\"solidity\":0.2}},\"type\":\"barpolar\"}],\"pie\":[{\"automargin\":true,\"type\":\"pie\"}]},\"layout\":{\"autotypenumbers\":\"strict\",\"colorway\":[\"#636efa\",\"#EF553B\",\"#00cc96\",\"#ab63fa\",\"#FFA15A\",\"#19d3f3\",\"#FF6692\",\"#B6E880\",\"#FF97FF\",\"#FECB52\"],\"font\":{\"color\":\"#2a3f5f\"},\"hovermode\":\"closest\",\"hoverlabel\":{\"align\":\"left\"},\"paper_bgcolor\":\"white\",\"plot_bgcolor\":\"#E5ECF6\",\"polar\":{\"bgcolor\":\"#E5ECF6\",\"angularaxis\":{\"gridcolor\":\"white\",\"linecolor\":\"white\",\"ticks\":\"\"},\"radialaxis\":{\"gridcolor\":\"white\",\"linecolor\":\"white\",\"ticks\":\"\"}},\"ternary\":{\"bgcolor\":\"#E5ECF6\",\"aaxis\":{\"gridcolor\":\"white\",\"linecolor\":\"white\",\"ticks\":\"\"},\"baxis\":{\"gridcolor\":\"white\",\"linecolor\":\"white\",\"ticks\":\"\"},\"caxis\":{\"gridcolor\":\"white\",\"linecolor\":\"white\",\"ticks\":\"\"}},\"coloraxis\":{\"colorbar\":{\"outlinewidth\":0,\"ticks\":\"\"}},\"colorscale\":{\"sequential\":[[0.0,\"#0d0887\"],[0.1111111111111111,\"#46039f\"],[0.2222222222222222,\"#7201a8\"],[0.3333333333333333,\"#9c179e\"],[0.4444444444444444,\"#bd3786\"],[0.5555555555555556,\"#d8576b\"],[0.6666666666666666,\"#ed7953\"],[0.7777777777777778,\"#fb9f3a\"],[0.8888888888888888,\"#fdca26\"],[1.0,\"#f0f921\"]],\"sequentialminus\":[[0.0,\"#0d0887\"],[0.1111111111111111,\"#46039f\"],[0.2222222222222222,\"#7201a8\"],[0.3333333333333333,\"#9c179e\"],[0.4444444444444444,\"#bd3786\"],[0.5555555555555556,\"#d8576b\"],[0.6666666666666666,\"#ed7953\"],[0.7777777777777778,\"#fb9f3a\"],[0.8888888888888888,\"#fdca26\"],[1.0,\"#f0f921\"]],\"diverging\":[[0,\"#8e0152\"],[0.1,\"#c51b7d\"],[0.2,\"#de77ae\"],[0.3,\"#f1b6da\"],[0.4,\"#fde0ef\"],[0.5,\"#f7f7f7\"],[0.6,\"#e6f5d0\"],[0.7,\"#b8e186\"],[0.8,\"#7fbc41\"],[0.9,\"#4d9221\"],[1,\"#276419\"]]},\"xaxis\":{\"gridcolor\":\"white\",\"linecolor\":\"white\",\"ticks\":\"\",\"title\":{\"standoff\":15},\"zerolinecolor\":\"white\",\"automargin\":true,\"zerolinewidth\":2},\"yaxis\":{\"gridcolor\":\"white\",\"linecolor\":\"white\",\"ticks\":\"\",\"title\":{\"standoff\":15},\"zerolinecolor\":\"white\",\"automargin\":true,\"zerolinewidth\":2},\"scene\":{\"xaxis\":{\"backgroundcolor\":\"#E5ECF6\",\"gridcolor\":\"white\",\"linecolor\":\"white\",\"showbackground\":true,\"ticks\":\"\",\"zerolinecolor\":\"white\",\"gridwidth\":2},\"yaxis\":{\"backgroundcolor\":\"#E5ECF6\",\"gridcolor\":\"white\",\"linecolor\":\"white\",\"showbackground\":true,\"ticks\":\"\",\"zerolinecolor\":\"white\",\"gridwidth\":2},\"zaxis\":{\"backgroundcolor\":\"#E5ECF6\",\"gridcolor\":\"white\",\"linecolor\":\"white\",\"showbackground\":true,\"ticks\":\"\",\"zerolinecolor\":\"white\",\"gridwidth\":2}},\"shapedefaults\":{\"line\":{\"color\":\"#2a3f5f\"}},\"annotationdefaults\":{\"arrowcolor\":\"#2a3f5f\",\"arrowhead\":0,\"arrowwidth\":1},\"geo\":{\"bgcolor\":\"white\",\"landcolor\":\"#E5ECF6\",\"subunitcolor\":\"white\",\"showland\":true,\"showlakes\":true,\"lakecolor\":\"white\"},\"title\":{\"x\":0.05},\"mapbox\":{\"style\":\"light\"}}},\"legend\":{\"tracegroupgap\":0},\"title\":{\"text\":\"Healthy vs Heart Disease\"},\"piecolorway\":[\"skyblue\",\"black\"],\"height\":400,\"width\":700},                        {\"responsive\": true}                    ).then(function(){\n",
              "                            \n",
              "var gd = document.getElementById('0fe146ab-90a1-423d-8d87-d57e6cb2db5a');\n",
              "var x = new MutationObserver(function (mutations, observer) {{\n",
              "        var display = window.getComputedStyle(gd).display;\n",
              "        if (!display || display === 'none') {{\n",
              "            console.log([gd, 'removed!']);\n",
              "            Plotly.purge(gd);\n",
              "            observer.disconnect();\n",
              "        }}\n",
              "}});\n",
              "\n",
              "// Listen for the removal of the full notebook cells\n",
              "var notebookContainer = gd.closest('#notebook-container');\n",
              "if (notebookContainer) {{\n",
              "    x.observe(notebookContainer, {childList: true});\n",
              "}}\n",
              "\n",
              "// Listen for the clearing of the current output cell\n",
              "var outputEl = gd.closest('.output');\n",
              "if (outputEl) {{\n",
              "    x.observe(outputEl, {childList: true});\n",
              "}}\n",
              "\n",
              "                        })                };                            </script>        </div>\n",
              "</body>\n",
              "</html>"
            ]
          },
          "metadata": {}
        }
      ],
      "source": [
        "import plotly.express as px\n",
        "labels=[\"Healthy\",\"Not Healthy\"]\n",
        "healthy_or_not = hr1['LB'].value_counts().tolist()\n",
        "values = [healthy_or_not[0], healthy_or_not[1]]\n",
        "print(healthy_or_not[0])\n",
        "print(values)\n",
        "fig = px.pie(values=hr1['LB'].value_counts(), names=labels , width=700, height=400, color_discrete_sequence=[\"skyblue\",\"black\"],title=\"Healthy vs Heart Disease\")\n",
        "fig.show()\n"
      ]
    },
    {
      "cell_type": "code",
      "execution_count": null,
      "metadata": {
        "colab": {
          "base_uri": "https://localhost:8080/",
          "height": 847
        },
        "id": "XEToeIEpBEs9",
        "outputId": "b0cc14b2-b625-4dea-c8c7-9493e27b989b"
      },
      "outputs": [
        {
          "output_type": "execute_result",
          "data": {
            "text/plain": [
              "<Axes: >"
            ]
          },
          "metadata": {},
          "execution_count": 4
        },
        {
          "output_type": "display_data",
          "data": {
            "text/plain": [
              "<Figure size 1000x1000 with 1 Axes>"
            ],
            "image/png": "[encoded data removed]"
          },
          "metadata": {}
        }
      ],
      "source": [
        "hr1.boxplot(figsize=(10,10))"
      ]
    },
    {
      "cell_type": "code",
      "execution_count": null,
      "metadata": {
        "colab": {
          "base_uri": "https://localhost:8080/",
          "height": 447
        },
        "id": "q4LIcLq7BMaC",
        "outputId": "929ba298-a25e-42bb-9c52-72246aecd8db"
      },
      "outputs": [
        {
          "output_type": "execute_result",
          "data": {
            "text/plain": [
              "<Axes: >"
            ]
          },
          "metadata": {},
          "execution_count": 5
        },
        {
          "output_type": "display_data",
          "data": {
            "text/plain": [
              "<Figure size 640x480 with 1 Axes>"
            ],
            "image/png": "[encoded data removed]"
          },
          "metadata": {}
        }
      ],
      "source": [
        "hr1.plot()"
      ]
    },
    {
      "cell_type": "code",
      "execution_count": null,
      "metadata": {
        "id": "pskwEsr2Unpm"
      },
      "outputs": [],
      "source": [
        "columns = ['AGE', 'RBP', 'SCH', 'MHR', 'OPK','SEX', 'CP', 'FBS', 'RES', 'EIA', 'PES','VCA','THA','LB']"
      ]
    },
    {
      "cell_type": "code",
      "execution_count": null,
      "metadata": {
        "colab": {
          "base_uri": "https://localhost:8080/",
          "height": 730
        },
        "id": "VP_6qksbUAA7",
        "outputId": "d70448a0-82d2-49fe-9ec8-7e756a7d2236"
      },
      "outputs": [
        {
          "output_type": "display_data",
          "data": {
            "text/plain": [
              "<Figure size 2000x1000 with 15 Axes>"
            ],
            "image/png": "[encoded data removed]"
          },
          "metadata": {}
        }
      ],
      "source": [
        "def boxplots_custom(dataset, columns_list, rows, cols, suptitle):\n",
        "    fig, axs = plt.subplots(rows, cols, sharey=True, figsize=(20,10))\n",
        "    fig.suptitle(suptitle,y=1, size=25)\n",
        "    axs = axs.flatten()\n",
        "    for i, data in enumerate(columns_list):\n",
        "        sns.boxplot(data=dataset[data], orient='h', ax=axs[i])\n",
        "        axs[i].set_title(data + ', skewness is: '+str(round(dataset[data].skew(axis = 0, skipna = True),2)))     \n",
        "boxplots_custom(dataset=hr1, columns_list=columns, rows=5, cols=3, suptitle='Boxplots for each variable')\n",
        "plt.tight_layout()"
      ]
    },
    {
      "cell_type": "code",
      "execution_count": null,
      "metadata": {
        "id": "xSyXMd3AUDAB"
      },
      "outputs": [],
      "source": [
        "def remove_outliers_zscore(df, columns, threshold=3):\n",
        "    for col in columns:\n",
        "        z_scores = np.abs((df[col] - df[col].mean()) / df[col].std())\n",
        "        df[col][z_scores > threshold] = np.nan\n",
        "    df.dropna(inplace=True)\n",
        "columns = ['AGE', 'RBP', 'SCH', 'MHR', 'OPK','SEX', 'CP', 'FBS', 'RES', 'EIA', 'PES','VCA','THA','LB']\n",
        "remove_outliers_zscore(hr1, columns)\n"
      ]
    },
    {
      "cell_type": "code",
      "execution_count": null,
      "metadata": {
        "colab": {
          "base_uri": "https://localhost:8080/"
        },
        "id": "-CqIEBlqUEnk",
        "outputId": "19510a80-7350-400c-cd0d-6f1d28a4c099"
      },
      "outputs": [
        {
          "output_type": "execute_result",
          "data": {
            "text/plain": [
              "(969, 15)"
            ]
          },
          "metadata": {},
          "execution_count": 9
        }
      ],
      "source": [
        "hr1.shape"
      ]
    },
    {
      "cell_type": "markdown",
      "metadata": {
        "id": "rtDvp_10RtjM"
      },
      "source": [
        "## **STAGE-2**"
      ]
    },
    {
      "cell_type": "code",
      "execution_count": null,
      "metadata": {
        "colab": {
          "base_uri": "https://localhost:8080/",
          "height": 710
        },
        "id": "8RUzn4R23Vhx",
        "outputId": "d94d33eb-cf28-4ca3-b0aa-d98d1078bdc8"
      },
      "outputs": [
        {
          "output_type": "execute_result",
          "data": {
            "text/plain": [
              "<Axes: >"
            ]
          },
          "metadata": {},
          "execution_count": 10
        },
        {
          "output_type": "display_data",
          "data": {
            "text/plain": [
              "<Figure size 800x800 with 2 Axes>"
            ],
            "image/png": "[encoded data removed]"
          },
          "metadata": {}
        }
      ],
      "source": [
        "correlation =hr1.corr()\n",
        "plt.figure(figsize =(8,8))\n",
        "sns.heatmap(correlation ,cbar=True ,square=True ,fmt='.2f',annot=True,annot_kws={'size':8})"
      ]
    },
    {
      "cell_type": "code",
      "execution_count": null,
      "metadata": {
        "colab": {
          "base_uri": "https://localhost:8080/"
        },
        "id": "XdJAQcmr3WdG",
        "outputId": "37ee6e26-8c2d-4e4a-b10e-ddb49caa07a8"
      },
      "outputs": [
        {
          "output_type": "stream",
          "name": "stdout",
          "text": [
            "Unnamed: 0    0.025091\n",
            "AGE           0.227225\n",
            "SEX           0.303739\n",
            "CP           -0.408999\n",
            "RBP           0.114757\n",
            "SCH           0.112342\n",
            "FBS           0.023629\n",
            "RES          -0.127580\n",
            "MHR          -0.429920\n",
            "EIA           0.429825\n",
            "OPK           0.431854\n",
            "PES          -0.322791\n",
            "VCA           0.466639\n",
            "THA           0.352502\n",
            "LB            1.000000\n",
            "Name: LB, dtype: float64\n"
          ]
        }
      ],
      "source": [
        "print(correlation['LB'])"
      ]
    },
    {
      "cell_type": "markdown",
      "metadata": {
        "id": "FJGDYM1CW61B"
      },
      "source": [
        "\n",
        "\n",
        "\n",
        "\n",
        "\n",
        "\n",
        "\n",
        "\n",
        "\n",
        "\n",
        "## **DATA PREDICTION**"
      ]
    },
    {
      "cell_type": "code",
      "execution_count": null,
      "metadata": {
        "id": "DsYZXkFmrdWY"
      },
      "outputs": [],
      "source": [
        "X=hr1.iloc[:,[0,1,3,4,5,8,9,11,12]].values\n",
        "y=hr1.iloc[:,-1].values"
      ]
    },
    {
      "cell_type": "code",
      "execution_count": null,
      "metadata": {
        "colab": {
          "base_uri": "https://localhost:8080/",
          "height": 447
        },
        "id": "n3pF1xe2t7Kl",
        "outputId": "2fc729c9-ac10-4258-d8f4-d98e8d201084"
      },
      "outputs": [
        {
          "output_type": "execute_result",
          "data": {
            "text/plain": [
              "<matplotlib.collections.PathCollection at 0x7fe86c106eb0>"
            ]
          },
          "metadata": {},
          "execution_count": 13
        },
        {
          "output_type": "display_data",
          "data": {
            "text/plain": [
              "<Figure size 640x480 with 1 Axes>"
            ],
            "image/png": "[encoded data removed]"
          },
          "metadata": {}
        }
      ],
      "source": [
        "plt.scatter(X[:,0],y)"
      ]
    },
    {
      "cell_type": "code",
      "execution_count": null,
      "metadata": {
        "colab": {
          "base_uri": "https://localhost:8080/"
        },
        "id": "sMNu7MkBSJCK",
        "outputId": "30bebd41-f474-4d4b-97e8-8345f202ee7d"
      },
      "outputs": [
        {
          "output_type": "execute_result",
          "data": {
            "text/plain": [
              "(969, 9)"
            ]
          },
          "metadata": {},
          "execution_count": 14
        }
      ],
      "source": [
        "Xdf=pd.DataFrame(X)\n",
        "Xdf.shape"
      ]
    },
    {
      "cell_type": "code",
      "execution_count": null,
      "metadata": {
        "colab": {
          "base_uri": "https://localhost:8080/"
        },
        "id": "N52_EUHmSO-m",
        "outputId": "bf622c9b-4c8c-4c1b-bc15-fc11dec85b4f"
      },
      "outputs": [
        {
          "output_type": "execute_result",
          "data": {
            "text/plain": [
              "(969,)"
            ]
          },
          "metadata": {},
          "execution_count": 15
        }
      ],
      "source": [
        "y.shape"
      ]
    },
    {
      "cell_type": "code",
      "execution_count": null,
      "metadata": {
        "colab": {
          "base_uri": "https://localhost:8080/",
          "height": 676
        },
        "id": "vmkEPaqMTXzC",
        "outputId": "418eef15-7937-44a2-e84b-4e3b56966468"
      },
      "outputs": [
        {
          "output_type": "execute_result",
          "data": {
            "text/plain": [
              "    0\n",
              "0   1\n",
              "1   1\n",
              "2   1\n",
              "3   1\n",
              "4   1\n",
              "5   0\n",
              "6   1\n",
              "7   1\n",
              "8   1\n",
              "9   1\n",
              "10  0\n",
              "11  1\n",
              "12  0\n",
              "13  1\n",
              "14  0\n",
              "15  0\n",
              "16  1\n",
              "17  0\n",
              "18  0\n",
              "19  1"
            ],
            "text/html": [
              "\n",
              "  <div id=\"df-b2f694dd-8d94-4de8-bfd4-f3e5b8d71e71\">\n",
              "    <div class=\"colab-df-container\">\n",
              "      <div>\n",
              "<style scoped>\n",
              "    .dataframe tbody tr th:only-of-type {\n",
              "        vertical-align: middle;\n",
              "    }\n",
              "\n",
              "    .dataframe tbody tr th {\n",
              "        vertical-align: top;\n",
              "    }\n",
              "\n",
              "    .dataframe thead th {\n",
              "        text-align: right;\n",
              "    }\n",
              "</style>\n",
              "<table border=\"1\" class=\"dataframe\">\n",
              "  <thead>\n",
              "    <tr style=\"text-align: right;\">\n",
              "      <th></th>\n",
              "      <th>0</th>\n",
              "    </tr>\n",
              "  </thead>\n",
              "  <tbody>\n",
              "    <tr>\n",
              "      <th>0</th>\n",
              "      <td>1</td>\n",
              "    </tr>\n",
              "    <tr>\n",
              "      <th>1</th>\n",
              "      <td>1</td>\n",
              "    </tr>\n",
              "    <tr>\n",
              "      <th>2</th>\n",
              "      <td>1</td>\n",
              "    </tr>\n",
              "    <tr>\n",
              "      <th>3</th>\n",
              "      <td>1</td>\n",
              "    </tr>\n",
              "    <tr>\n",
              "      <th>4</th>\n",
              "      <td>1</td>\n",
              "    </tr>\n",
              "    <tr>\n",
              "      <th>5</th>\n",
              "      <td>0</td>\n",
              "    </tr>\n",
              "    <tr>\n",
              "      <th>6</th>\n",
              "      <td>1</td>\n",
              "    </tr>\n",
              "    <tr>\n",
              "      <th>7</th>\n",
              "      <td>1</td>\n",
              "    </tr>\n",
              "    <tr>\n",
              "      <th>8</th>\n",
              "      <td>1</td>\n",
              "    </tr>\n",
              "    <tr>\n",
              "      <th>9</th>\n",
              "      <td>1</td>\n",
              "    </tr>\n",
              "    <tr>\n",
              "      <th>10</th>\n",
              "      <td>0</td>\n",
              "    </tr>\n",
              "    <tr>\n",
              "      <th>11</th>\n",
              "      <td>1</td>\n",
              "    </tr>\n",
              "    <tr>\n",
              "      <th>12</th>\n",
              "      <td>0</td>\n",
              "    </tr>\n",
              "    <tr>\n",
              "      <th>13</th>\n",
              "      <td>1</td>\n",
              "    </tr>\n",
              "    <tr>\n",
              "      <th>14</th>\n",
              "      <td>0</td>\n",
              "    </tr>\n",
              "    <tr>\n",
              "      <th>15</th>\n",
              "      <td>0</td>\n",
              "    </tr>\n",
              "    <tr>\n",
              "      <th>16</th>\n",
              "      <td>1</td>\n",
              "    </tr>\n",
              "    <tr>\n",
              "      <th>17</th>\n",
              "      <td>0</td>\n",
              "    </tr>\n",
              "    <tr>\n",
              "      <th>18</th>\n",
              "      <td>0</td>\n",
              "    </tr>\n",
              "    <tr>\n",
              "      <th>19</th>\n",
              "      <td>1</td>\n",
              "    </tr>\n",
              "  </tbody>\n",
              "</table>\n",
              "</div>\n",
              "      <button class=\"colab-df-convert\" onclick=\"convertToInteractive('df-b2f694dd-8d94-4de8-bfd4-f3e5b8d71e71')\"\n",
              "              title=\"Convert this dataframe to an interactive table.\"\n",
              "              style=\"display:none;\">\n",
              "        \n",
              "  <svg xmlns=\"http://www.w3.org/2000/svg\" height=\"24px\"viewBox=\"0 0 24 24\"\n",
              "       width=\"24px\">\n",
              "    <path d=\"M0 0h24v24H0V0z\" fill=\"none\"/>\n",
              "    <path d=\"M18.56 5.44l.94 2.06.94-2.06 2.06-.94-2.06-.94-.94-2.06-.94 2.06-2.06.94zm-11 1L8.5 8.5l.94-2.06 2.06-.94-2.06-.94L8.5 2.5l-.94 2.06-2.06.94zm10 10l.94 2.06.94-2.06 2.06-.94-2.06-.94-.94-2.06-.94 2.06-2.06.94z\"/><path d=\"M17.41 7.96l-1.37-1.37c-.4-.4-.92-.59-1.43-.59-.52 0-1.04.2-1.43.59L10.3 9.45l-7.72 7.72c-.78.78-.78 2.05 0 2.83L4 21.41c.39.39.9.59 1.41.59.51 0 1.02-.2 1.41-.59l7.78-7.78 2.81-2.81c.8-.78.8-2.07 0-2.86zM5.41 20L4 18.59l7.72-7.72 1.47 1.35L5.41 20z\"/>\n",
              "  </svg>\n",
              "      </button>\n",
              "      \n",
              "  <style>\n",
              "    .colab-df-container {\n",
              "      display:flex;\n",
              "      flex-wrap:wrap;\n",
              "      gap: 12px;\n",
              "    }\n",
              "\n",
              "    .colab-df-convert {\n",
              "      background-color: #E8F0FE;\n",
              "      border: none;\n",
              "      border-radius: 50%;\n",
              "      cursor: pointer;\n",
              "      display: none;\n",
              "      fill: #1967D2;\n",
              "      height: 32px;\n",
              "      padding: 0 0 0 0;\n",
              "      width: 32px;\n",
              "    }\n",
              "\n",
              "    .colab-df-convert:hover {\n",
              "      background-color: #E2EBFA;\n",
              "      box-shadow: 0px 1px 2px rgba(60, 64, 67, 0.3), 0px 1px 3px 1px rgba(60, 64, 67, 0.15);\n",
              "      fill: #174EA6;\n",
              "    }\n",
              "\n",
              "    [theme=dark] .colab-df-convert {\n",
              "      background-color: #3B4455;\n",
              "      fill: #D2E3FC;\n",
              "    }\n",
              "\n",
              "    [theme=dark] .colab-df-convert:hover {\n",
              "      background-color: #434B5C;\n",
              "      box-shadow: 0px 1px 3px 1px rgba(0, 0, 0, 0.15);\n",
              "      filter: drop-shadow(0px 1px 2px rgba(0, 0, 0, 0.3));\n",
              "      fill: #FFFFFF;\n",
              "    }\n",
              "  </style>\n",
              "\n",
              "      <script>\n",
              "        const buttonEl =\n",
              "          document.querySelector('#df-b2f694dd-8d94-4de8-bfd4-f3e5b8d71e71 button.colab-df-convert');\n",
              "        buttonEl.style.display =\n",
              "          google.colab.kernel.accessAllowed ? 'block' : 'none';\n",
              "\n",
              "        async function convertToInteractive(key) {\n",
              "          const element = document.querySelector('#df-b2f694dd-8d94-4de8-bfd4-f3e5b8d71e71');\n",
              "          const dataTable =\n",
              "            await google.colab.kernel.invokeFunction('convertToInteractive',\n",
              "                                                     [key], {});\n",
              "          if (!dataTable) return;\n",
              "\n",
              "          const docLinkHtml = 'Like what you see? Visit the ' +\n",
              "            '<a target=\"_blank\" href=https://colab.research.google.com/notebooks/data_table.ipynb>data table notebook</a>'\n",
              "            + ' to learn more about interactive tables.';\n",
              "          element.innerHTML = '';\n",
              "          dataTable['output_type'] = 'display_data';\n",
              "          await google.colab.output.renderOutput(dataTable, element);\n",
              "          const docLink = document.createElement('div');\n",
              "          docLink.innerHTML = docLinkHtml;\n",
              "          element.appendChild(docLink);\n",
              "        }\n",
              "      </script>\n",
              "    </div>\n",
              "  </div>\n",
              "  "
            ]
          },
          "metadata": {},
          "execution_count": 16
        }
      ],
      "source": [
        "ydf=pd.DataFrame(y)\n",
        "ydf.head(20)"
      ]
    },
    {
      "cell_type": "markdown",
      "metadata": {
        "id": "-TlZUSyaRzOF"
      },
      "source": [
        "## **MACHINE LEARNING ALGORITHMS**\n",
        "\n",
        "\n",
        "\n"
      ]
    },
    {
      "cell_type": "code",
      "execution_count": null,
      "metadata": {
        "id": "tW93nSZgJ_Xy"
      },
      "outputs": [],
      "source": [
        "from sklearn.naive_bayes import GaussianNB\n",
        "from sklearn.neural_network import MLPClassifier\n",
        "from sklearn.tree import DecisionTreeClassifier\n",
        "from sklearn.ensemble import RandomForestClassifier\n",
        "from sklearn.svm import SVC\n",
        "import time\n",
        "\n",
        "models=[]\n",
        "models.append(('NB',GaussianNB(var_smoothing=1e-5)))\n",
        "models.append(('MLP',MLPClassifier(hidden_layer_sizes=(5,4),random_state=5,verbose=False,learning_rate_init=0.01)))\n",
        "models.append(('DT',DecisionTreeClassifier(criterion='entropy',max_depth=1)))\n",
        "models.append(('RF',RandomForestClassifier(n_estimators=7,max_depth=1)))\n",
        "models.append(('SVM',SVC(kernel='linear',gamma=7,C=0.001)))"
      ]
    },
    {
      "cell_type": "markdown",
      "metadata": {
        "id": "WILRvk4NW_SM"
      },
      "source": [
        "## **BASELINE IMPLEMENTATION**"
      ]
    },
    {
      "cell_type": "markdown",
      "metadata": {
        "id": "P-dytOqlDKRa"
      },
      "source": [
        "**10(k)-fold**"
      ]
    },
    {
      "cell_type": "code",
      "execution_count": null,
      "metadata": {
        "colab": {
          "base_uri": "https://localhost:8080/"
        },
        "id": "iu6QjxF-DRo0",
        "outputId": "a15d72c0-f1c6-4013-a662-dbc264024262"
      },
      "outputs": [
        {
          "output_type": "stream",
          "name": "stdout",
          "text": [
            "ACCURACY:\n",
            "NB 0.8038445017182131\n",
            "MLP 0.7966817010309278\n",
            "DT 0.7388638316151204\n",
            "RF 0.7791022336769761\n",
            "SVM 0.7388530927835052\n",
            "\n",
            "Time(10-K):\n",
            "NB 0.03289151191711426\n",
            "MLP 5.427802324295044\n",
            "DT 0.01930093765258789\n",
            "RF 0.15653085708618164\n",
            "SVM 0.32170701026916504\n"
          ]
        }
      ],
      "source": [
        "import time\n",
        "accuracy=dict()\n",
        "precision=dict()\n",
        "recall=dict()\n",
        "tt=dict()\n",
        "\n",
        "from sklearn.model_selection import cross_val_score,KFold\n",
        "for name,model in models:\n",
        "    st=time.time()\n",
        "    kfold=KFold(n_splits=10)\n",
        "    acc=cross_val_score(model,X,y,cv=kfold,scoring='accuracy')\n",
        "    accuracy[name]=(acc.mean())\n",
        "    et=time.time()\n",
        "    tt[name]=et-st\n",
        "\n",
        "print(\"ACCURACY:\")\n",
        "for key,value in accuracy.items():\n",
        "    print(key,value)\n",
        "\n",
        "print(\"\\nTime(10-K):\")\n",
        "for key,value in tt.items():\n",
        "    print(key,value)\n"
      ]
    },
    {
      "cell_type": "markdown",
      "source": [
        "**VARIANCE AND STANDARD DEVIATION**"
      ],
      "metadata": {
        "id": "BCpeYUCB6ngc"
      }
    },
    {
      "cell_type": "code",
      "source": [
        "import numpy as np\n",
        "from sklearn.metrics import mean_squared_error\n",
        "from sklearn.model_selection import KFold\n",
        "\n",
        "num_folds = 10\n",
        "kf = KFold(n_splits=num_folds, shuffle=True)\n",
        "variances = dict()\n",
        "std_devs = dict()\n",
        "for name, model in models:\n",
        "    fold_variances = []\n",
        "    fold_std_devs = []\n",
        "    for fold_num, (train_indices, test_indices) in enumerate(kf.split(X)):\n",
        "        model.fit(X[train_indices], y[train_indices])\n",
        "        y_pred = model.predict(X[test_indices])\n",
        "        mse = mean_squared_error(y[test_indices], y_pred)\n",
        "        variance = np.var(y[test_indices] - y_pred)\n",
        "        std_dev = np.sqrt(mse)\n",
        "        fold_variances.append(variance)\n",
        "        fold_std_devs.append(std_dev)\n",
        "    variances[name] = (np.mean(fold_variances))/10\n",
        "    std_devs[name] = (np.mean(fold_std_devs))/10\n",
        "    \n",
        "print(\"\\nVariance:\")\n",
        "for key, value in variances.items():\n",
        "    print(key, value)\n",
        "\n",
        "print(\"\\nStandard Deviation:\")\n",
        "for key, value in std_devs.items():\n",
        "    print(key, value)\n"
      ],
      "metadata": {
        "colab": {
          "base_uri": "https://localhost:8080/"
        },
        "id": "voLqxS_c6jSJ",
        "outputId": "38c2df90-d49d-4d45-e697-600ce2d4ed2c"
      },
      "execution_count": null,
      "outputs": [
        {
          "output_type": "stream",
          "name": "stdout",
          "text": [
            "\n",
            "Variance:\n",
            "NB 0.019633339823683885\n",
            "MLP 0.02068357633630183\n",
            "DT 0.026719837606539544\n",
            "RF 0.021271300066573375\n",
            "SVM 0.025935882601874977\n",
            "\n",
            "Standard Deviation:\n",
            "NB 0.04429656568449701\n",
            "MLP 0.045969802046757983\n",
            "DT 0.05205255063832055\n",
            "RF 0.045944981852384194\n",
            "SVM 0.05121294428212732\n"
          ]
        }
      ]
    },
    {
      "cell_type": "markdown",
      "metadata": {
        "id": "dYDJvmgprjOw"
      },
      "source": [
        "**50-50**"
      ]
    },
    {
      "cell_type": "code",
      "execution_count": null,
      "metadata": {
        "colab": {
          "base_uri": "https://localhost:8080/"
        },
        "id": "c7v0jxjLKSFY",
        "outputId": "7b45af69-89f7-4d84-a07f-31c762a76a86"
      },
      "outputs": [
        {
          "output_type": "stream",
          "name": "stdout",
          "text": [
            "ACCURACY:\n",
            "NB 0.777319587628866\n",
            "MLP 0.8041237113402062\n",
            "DT 0.7237113402061855\n",
            "RF 0.7587628865979381\n",
            "SVM 0.6659793814432989\n",
            "\n",
            "Time(10-K):\n",
            "NB 0.0072672367095947266\n",
            "MLP 0.302013635635376\n",
            "DT 0.0010750293731689453\n",
            "RF 0.014376163482666016\n",
            "SVM 0.014843463897705078\n"
          ]
        }
      ],
      "source": [
        "import time\n",
        "accuracy=dict()\n",
        "precision=dict()\n",
        "recall=dict()\n",
        "tt=dict()\n",
        "from sklearn.model_selection import cross_val_score,KFold\n",
        "from sklearn.model_selection import train_test_split,cross_val_score\n",
        "from sklearn import metrics\n",
        "from sklearn.metrics import confusion_matrix\n",
        "from sklearn.metrics import ConfusionMatrixDisplay\n",
        "from sklearn.metrics import classification_report\n",
        "\n",
        "for name,model in models:\n",
        "    x_train, x_test, y_train, y_test = train_test_split(X, y, test_size=0.50, random_state=43)\n",
        "    st=time.time()\n",
        "    model.fit(x_train, y_train)\n",
        "    y_pred = model.predict(x_test)\n",
        "    et=time.time()\n",
        "    from sklearn.preprocessing import StandardScaler \n",
        "    st_x= StandardScaler() \n",
        "    x_train= st_x.fit_transform(x_train)\n",
        "\n",
        "    accuracy[name]=metrics.accuracy_score(y_test, y_pred)\n",
        "    tt[name]=et-st\n",
        "print(\"ACCURACY:\")\n",
        "for key,value in accuracy.items():\n",
        "    print(key,value)\n",
        "print(\"\\nTime(10-K):\")\n",
        "for key,value in tt.items():\n",
        "    print(key,value)"
      ]
    },
    {
      "cell_type": "markdown",
      "metadata": {
        "id": "ksnDXWhn1xE_"
      },
      "source": [
        "**60-40**"
      ]
    },
    {
      "cell_type": "code",
      "execution_count": null,
      "metadata": {
        "colab": {
          "base_uri": "https://localhost:8080/"
        },
        "id": "CMGcMaS4PGts",
        "outputId": "d46b5c3d-0d08-42fc-d921-d812fd7795e1"
      },
      "outputs": [
        {
          "output_type": "stream",
          "name": "stdout",
          "text": [
            "ACCURACY:\n",
            "NB 0.7860824742268041\n",
            "MLP 0.8144329896907216\n",
            "DT 0.7268041237113402\n",
            "RF 0.788659793814433\n",
            "SVM 0.6778350515463918\n",
            "\n",
            "Time(10-K):\n",
            "NB 0.0017139911651611328\n",
            "MLP 0.3319091796875\n",
            "DT 0.0010356903076171875\n",
            "RF 0.014049291610717773\n",
            "SVM 0.017980337142944336\n"
          ]
        }
      ],
      "source": [
        "accuracy=dict()\n",
        "precision=dict()\n",
        "recall=dict()\n",
        "tt=dict()\n",
        "from sklearn.model_selection import cross_val_score,KFold\n",
        "from sklearn.model_selection import train_test_split,cross_val_score\n",
        "from sklearn import metrics\n",
        "from sklearn.metrics import confusion_matrix\n",
        "from sklearn.metrics import ConfusionMatrixDisplay\n",
        "from sklearn.metrics import classification_report\n",
        "import time\n",
        "for name,model in models:\n",
        "    x_train, x_test, y_train, y_test = train_test_split(X, y, test_size=0.40, random_state=43)\n",
        "    st=time.time()\n",
        "    model.fit(x_train, y_train)\n",
        "    y_pred = model.predict(x_test)\n",
        "    et=time.time()\n",
        "    from sklearn.preprocessing import StandardScaler \n",
        "    st_x= StandardScaler() \n",
        "    x_train= st_x.fit_transform(x_train)\n",
        "\n",
        "    accuracy[name]=metrics.accuracy_score(y_test, y_pred)\n",
        "    tt[name]=et-st\n",
        "print(\"ACCURACY:\")\n",
        "for key,value in accuracy.items():\n",
        "    print(key,value)\n",
        "print(\"\\nTime(10-K):\")\n",
        "for key,value in tt.items():\n",
        "    print(key,value)"
      ]
    },
    {
      "cell_type": "markdown",
      "metadata": {
        "id": "eVeTrvox2l-k"
      },
      "source": [
        "**70-30**"
      ]
    },
    {
      "cell_type": "code",
      "execution_count": null,
      "metadata": {
        "id": "sMI9dD3Z39Ck"
      },
      "outputs": [],
      "source": [
        "models=[]\n",
        "models.append(('NB',GaussianNB(var_smoothing=1e-5)))\n",
        "models.append(('MLP',MLPClassifier(hidden_layer_sizes=(5,4),random_state=5,verbose=False,learning_rate_init=0.01)))\n",
        "models.append(('DT',DecisionTreeClassifier(criterion='entropy',max_depth=2)))\n",
        "models.append(('RF',RandomForestClassifier(n_estimators=7,max_depth=3)))\n",
        "models.append(('SVM',SVC(kernel='linear',gamma=7,C=0.001)))"
      ]
    },
    {
      "cell_type": "code",
      "execution_count": null,
      "metadata": {
        "colab": {
          "base_uri": "https://localhost:8080/"
        },
        "id": "Q3Ro8XmXPJz4",
        "outputId": "ee371d73-49dd-4b00-a3cc-1ee7033c6fac"
      },
      "outputs": [
        {
          "output_type": "stream",
          "name": "stdout",
          "text": [
            "ACCURACY:\n",
            "NB 0.7938144329896907\n",
            "MLP 0.8384879725085911\n",
            "DT 0.7766323024054983\n",
            "RF 0.8281786941580757\n",
            "SVM 0.6941580756013745\n",
            "\n",
            "Time(10-K):\n",
            "NB 0.002923727035522461\n",
            "MLP 0.3959989547729492\n",
            "DT 0.0012531280517578125\n",
            "RF 0.016773700714111328\n",
            "SVM 0.022510290145874023\n"
          ]
        }
      ],
      "source": [
        "accuracy=dict()\n",
        "precision=dict()\n",
        "recall=dict()\n",
        "time=dict()\n",
        "from sklearn.model_selection import cross_val_score,KFold\n",
        "from sklearn.model_selection import train_test_split,cross_val_score\n",
        "from sklearn import metrics\n",
        "from sklearn.metrics import confusion_matrix\n",
        "from sklearn.metrics import ConfusionMatrixDisplay\n",
        "from sklearn.metrics import classification_report\n",
        "import time\n",
        "for name,model in models:\n",
        "    x_train, x_test, y_train, y_test = train_test_split(X, y, test_size=0.30, random_state=43)\n",
        "    st=time.time()\n",
        "    model.fit(x_train, y_train)\n",
        "    y_pred = model.predict(x_test)\n",
        "    et=time.time()\n",
        "    from sklearn.preprocessing import StandardScaler \n",
        "    st_x= StandardScaler() \n",
        "    x_train= st_x.fit_transform(x_train)\n",
        "\n",
        "    accuracy[name]=metrics.accuracy_score(y_test, y_pred)\n",
        "    tt[name]=et-st\n",
        "\n",
        "print(\"ACCURACY:\")\n",
        "for key,value in accuracy.items():\n",
        "    print(key,value)\n",
        "print(\"\\nTime(10-K):\")\n",
        "for key,value in tt.items():\n",
        "    print(key,value)\n"
      ]
    },
    {
      "cell_type": "markdown",
      "metadata": {
        "id": "NkZDQ1QQO-d5"
      },
      "source": [
        "**80-20**"
      ]
    },
    {
      "cell_type": "code",
      "execution_count": null,
      "metadata": {
        "id": "PgQdbDcKsmu2"
      },
      "outputs": [],
      "source": [
        "models=[]\n",
        "models.append(('NB',GaussianNB(var_smoothing=1e-5)))\n",
        "models.append(('MLP',MLPClassifier(hidden_layer_sizes=(5,4),random_state=5,verbose=False,learning_rate_init=0.01)))\n",
        "models.append(('DT',DecisionTreeClassifier(criterion='entropy',max_depth=2)))\n",
        "models.append(('RF',RandomForestClassifier(n_estimators=20,max_depth=3)))\n",
        "models.append(('SVM',SVC(kernel='linear',gamma = 0.01,C= 1)))"
      ]
    },
    {
      "cell_type": "code",
      "execution_count": null,
      "metadata": {
        "colab": {
          "base_uri": "https://localhost:8080/"
        },
        "id": "iQZnpm-MPNWk",
        "outputId": "5bb65b3c-ac2d-4714-870d-d6f5c2c9bd7b"
      },
      "outputs": [
        {
          "output_type": "stream",
          "name": "stdout",
          "text": [
            "ACCURACY:\n",
            "NB 0.8247422680412371\n",
            "MLP 0.8350515463917526\n",
            "DT 0.7680412371134021\n",
            "RF 0.8556701030927835\n",
            "SVM 0.8195876288659794\n",
            "\n",
            "Time(10-K):\n",
            "NB 0.0031812191009521484\n",
            "MLP 0.3301517963409424\n",
            "DT 0.0013995170593261719\n",
            "RF 0.04463028907775879\n",
            "SVM 1.6726083755493164\n"
          ]
        }
      ],
      "source": [
        "accuracy=dict()\n",
        "precision=dict()\n",
        "recall=dict()\n",
        "tt=dict()\n",
        "from sklearn.model_selection import cross_val_score,KFold\n",
        "from sklearn.model_selection import train_test_split,cross_val_score\n",
        "from sklearn import metrics\n",
        "from sklearn.metrics import confusion_matrix\n",
        "from sklearn.metrics import ConfusionMatrixDisplay\n",
        "from sklearn.metrics import classification_report\n",
        "import time\n",
        "for name,model in models:\n",
        "    x_train, x_test, y_train, y_test = train_test_split(X, y, test_size=0.20, random_state=42)\n",
        "    st=time.time()\n",
        "    model.fit(x_train, y_train)\n",
        "    y_pred = model.predict(x_test)\n",
        "    et=time.time()\n",
        "    from sklearn.preprocessing import StandardScaler \n",
        "    st_x= StandardScaler() \n",
        "    x_train= st_x.fit_transform(x_train)\n",
        "    accuracy[name]=metrics.accuracy_score(y_test, y_pred)\n",
        "    tt[name]=et-st\n",
        "\n",
        "print(\"ACCURACY:\")\n",
        "for key,value in accuracy.items():\n",
        "    print(key,value)\n",
        "print(\"\\nTime(10-K):\")\n",
        "for key,value in tt.items():\n",
        "    print(key,value)"
      ]
    },
    {
      "cell_type": "code",
      "source": [
        "accuracy=dict()\n",
        "precision=dict()\n",
        "recall=dict()\n",
        "f1score=dict()\n",
        "roc=dict()\n",
        "tt=dict()\n",
        "from sklearn.model_selection import cross_val_score,KFold\n",
        "from sklearn.model_selection import train_test_split,cross_val_score\n",
        "from sklearn import metrics\n",
        "from sklearn.metrics import roc_curve, auc\n",
        "from sklearn.metrics import confusion_matrix\n",
        "from sklearn.metrics import ConfusionMatrixDisplay\n",
        "from sklearn.metrics import classification_report\n",
        "import time\n",
        "for name,model in models:\n",
        "    x_train, x_test, y_train, y_test = train_test_split(X, y, test_size=0.20, random_state=42)\n",
        "    st=time.time()\n",
        "    model.fit(x_train, y_train)\n",
        "    y_pred = model.predict(x_test)\n",
        "    et=time.time()\n",
        "    from sklearn.preprocessing import StandardScaler \n",
        "    st_x= StandardScaler() \n",
        "    x_train= st_x.fit_transform(x_train)\n",
        "    precision[name]=metrics.precision_score(y_test, y_pred,average='micro')\n",
        "    f1score[name]=metrics.f1_score(y_test,y_pred)\n",
        "    recall[name]=metrics.recall_score(y_test, y_pred,average='micro')\n",
        "    fpr, tpr, _ = roc_curve(y_test, y_pred)\n",
        "    roc[name]=auc(fpr, tpr)\n",
        "    tt[name]=et-st\n",
        "\n",
        "print(\"\\nPRECISON:\")\n",
        "for key,value in precision.items():\n",
        "    print(key,value)\n",
        "print(\"\\nF1 SCORE:\")\n",
        "for key,value in f1score.items():\n",
        "    print(key,value)\n",
        "print(\"\\nRECALL:\")\n",
        "for key,value in recall.items():\n",
        "    print(key,value)\n",
        "print(\"\\nROC:\")\n",
        "for key,value in roc.items():\n",
        "    print(key,value)  \n",
        "print(\"\\nTime(10-K):\")\n",
        "for key,value in tt.items():\n",
        "    print(key,value)"
      ],
      "metadata": {
        "colab": {
          "base_uri": "https://localhost:8080/"
        },
        "id": "AMfoeYQUGpON",
        "outputId": "c39fb707-7b1f-407b-8bcc-a452c023f6f0"
      },
      "execution_count": null,
      "outputs": [
        {
          "output_type": "stream",
          "name": "stdout",
          "text": [
            "\n",
            "PRECISON:\n",
            "NB 0.8247422680412371\n",
            "MLP 0.8350515463917526\n",
            "DT 0.8247422680412371\n",
            "RF 0.8762886597938144\n",
            "SVM 0.8814432989690721\n",
            "\n",
            "F1 SCORE:\n",
            "NB 0.8\n",
            "MLP 0.8024691358024691\n",
            "DT 0.8045977011494253\n",
            "RF 0.8636363636363635\n",
            "SVM 0.8685714285714285\n",
            "\n",
            "RECALL:\n",
            "NB 0.8247422680412371\n",
            "MLP 0.8350515463917526\n",
            "DT 0.8247422680412371\n",
            "RF 0.8762886597938144\n",
            "SVM 0.8814432989690721\n",
            "\n",
            "ROC:\n",
            "NB 0.8201177100053505\n",
            "MLP 0.8270733012306047\n",
            "DT 0.8218298555377208\n",
            "RF 0.874585339753879\n",
            "SVM 0.8793472445157837\n",
            "\n",
            "Time(10-K):\n",
            "NB 0.015813350677490234\n",
            "MLP 1.0654163360595703\n",
            "DT 0.013394832611083984\n",
            "RF 0.20817875862121582\n",
            "SVM 80.57562565803528\n"
          ]
        }
      ]
    },
    {
      "cell_type": "markdown",
      "metadata": {
        "id": "A1TBHz0nkhLe"
      },
      "source": [
        "## **VOTING IMPLEMENTATION**"
      ]
    },
    {
      "cell_type": "markdown",
      "metadata": {
        "id": "GjwNOzhLOvfp"
      },
      "source": [
        "**10(k)-fold**"
      ]
    },
    {
      "cell_type": "code",
      "execution_count": null,
      "metadata": {
        "id": "jN6wlJdFO88z"
      },
      "outputs": [],
      "source": [
        "from sklearn.ensemble import VotingClassifier\n",
        "nb1 = GaussianNB(var_smoothing=1e-9)\n",
        "nb2 = GaussianNB(var_smoothing=1e-5)\n",
        "nb3 = GaussianNB(var_smoothing=1e-5)\n",
        "voting_clfnb = VotingClassifier(estimators=[('naivebayes1', nb1), ('naivebayes2', nb2),('naivebayes3', nb3)], voting='hard')"
      ]
    },
    {
      "cell_type": "code",
      "execution_count": null,
      "metadata": {
        "id": "6sYBW206SPbb"
      },
      "outputs": [],
      "source": [
        "mlp1 = MLPClassifier(activation='relu',hidden_layer_sizes=(3,2),verbose=False,learning_rate_init=0.01,max_iter=10)\n",
        "mlp2 = MLPClassifier(activation='relu',hidden_layer_sizes=(2,1),verbose=False,learning_rate_init=0.01,max_iter=100)\n",
        "voting_clfmlp = VotingClassifier(estimators=[('multilp1', mlp1), ('multilp2', mlp2)], voting='hard')"
      ]
    },
    {
      "cell_type": "code",
      "execution_count": null,
      "metadata": {
        "id": "BL57iYFxPAkn"
      },
      "outputs": [],
      "source": [
        "clf1 = DecisionTreeClassifier(criterion='entropy', max_depth=1,random_state=11)\n",
        "clf2 = DecisionTreeClassifier(criterion='entropy', max_depth=1)\n",
        "voting_clfdt = VotingClassifier(estimators=[('clf1', clf1), ('clf2', clf2)], voting='hard')"
      ]
    },
    {
      "cell_type": "code",
      "execution_count": null,
      "metadata": {
        "id": "joJQ_u1qPC3d"
      },
      "outputs": [],
      "source": [
        "rfc1 = RandomForestClassifier( max_depth=1)\n",
        "rfc2 = RandomForestClassifier( max_depth=2,random_state=7)\n",
        "voting_clfrf = VotingClassifier(estimators=[('rf1', rfc1), ('rf2', rfc2)], voting='hard')"
      ]
    },
    {
      "cell_type": "code",
      "execution_count": null,
      "metadata": {
        "id": "t7pJJAX5RWtQ"
      },
      "outputs": [],
      "source": [
        "svm1 = SVC(kernel='linear', C=10)\n",
        "svm2 = SVC(kernel='rbf', gamma=3.0, C=1)\n",
        "voting_clfsvm = VotingClassifier(estimators=[('svm1', svm1), ('svm2', svm2)], voting='hard')"
      ]
    },
    {
      "cell_type": "markdown",
      "metadata": {
        "id": "5BOyjq_tqTCr"
      },
      "source": [
        "**10(K)- Fold**"
      ]
    },
    {
      "cell_type": "code",
      "execution_count": null,
      "metadata": {
        "colab": {
          "base_uri": "https://localhost:8080/"
        },
        "id": "Vwy-Yyx2sEwX",
        "outputId": "92bb9017-e0ce-467f-cb4e-6b3bd2f2d5e1"
      },
      "outputs": [
        {
          "output_type": "stream",
          "name": "stdout",
          "text": [
            "Voting(10-fold)- NB  0.8877777777777778\n",
            "Voting(10-fold)- MLP  0.6777777777777778\n",
            "Voting(10-fold)- DT  0.8788888888888889\n",
            "Voting(10-fold)- RF  0.8955555555555555\n",
            "Voting(10-fold)- SVM  0.8277777777777778\n"
          ]
        }
      ],
      "source": [
        "from sklearn.datasets import make_classification\n",
        "def votingclffold(voting_clf):\n",
        "  X, y = make_classification(n_samples=900, n_features=9, random_state=43) \n",
        "  kfold = KFold(n_splits=10, shuffle=True, random_state=43) \n",
        "  scores = cross_val_score(voting_clf, X, y, cv=kfold)\n",
        "  accuracy=scores.mean()\n",
        "  return accuracy\n",
        "\n",
        "print(\"Voting(10-fold)- NB \",votingclffold(voting_clfnb))\n",
        "print(\"Voting(10-fold)- MLP \",votingclffold(voting_clfmlp))\n",
        "print(\"Voting(10-fold)- DT \",votingclffold(voting_clfdt))\n",
        "print(\"Voting(10-fold)- RF \",votingclffold(voting_clfrf))\n",
        "print(\"Voting(10-fold)- SVM \",votingclffold(voting_clfsvm))"
      ]
    },
    {
      "cell_type": "markdown",
      "metadata": {
        "id": "R3s9pCGvPG2S"
      },
      "source": [
        "**50-50**"
      ]
    },
    {
      "cell_type": "code",
      "source": [
        "mlp1 = MLPClassifier(hidden_layer_sizes=(9,8),verbose=False,learning_rate_init=0.01,max_iter=1000)\n",
        "mlp2 = MLPClassifier(hidden_layer_sizes=(7,6),verbose=False,learning_rate_init=0.01,max_iter=1000)\n",
        "voting_clfmlp1 = VotingClassifier(estimators=[('multilp1', mlp1), ('multilp2', mlp2)], voting='soft')"
      ],
      "metadata": {
        "id": "VBn5js3K3W24"
      },
      "execution_count": null,
      "outputs": []
    },
    {
      "cell_type": "code",
      "execution_count": null,
      "metadata": {
        "colab": {
          "base_uri": "https://localhost:8080/"
        },
        "id": "wLHeiWLppsGj",
        "outputId": "6c7ffb07-83f9-40cf-ccf6-aa276c6df28c"
      },
      "outputs": [
        {
          "output_type": "stream",
          "name": "stdout",
          "text": [
            "Voting(50-50)- MLP  0.8082474226804124\n",
            "Voting(50-50)- DT  0.7422680412371134\n",
            "Voting(50-50)- RF  0.8123711340206186\n",
            "Voting(50-50)- SVM  0.8536082474226804\n"
          ]
        }
      ],
      "source": [
        "from sklearn.ensemble import VotingClassifier\n",
        "from sklearn.metrics import accuracy_score\n",
        "\n",
        "def votingclf_fiftysplit(voting_clf):\n",
        "  x_train, x_test, y_train, y_test = train_test_split(X, y, test_size=0.50, random_state=7)\n",
        "  voting_clf.fit(x_train, y_train)\n",
        "  y_pred = voting_clf.predict(x_test)\n",
        "  accuracy = accuracy_score(y_test, y_pred)\n",
        "  return accuracy\n",
        "\n",
        "print(\"Voting(50-50)- MLP \",votingclf_fiftysplit(voting_clfmlp1))\n",
        "print(\"Voting(50-50)- DT \",votingclf_fiftysplit(voting_clfdt))\n",
        "print(\"Voting(50-50)- RF \",votingclf_fiftysplit(voting_clfrf))\n",
        "print(\"Voting(50-50)- SVM \",votingclf_fiftysplit(voting_clfsvm))"
      ]
    },
    {
      "cell_type": "code",
      "execution_count": null,
      "metadata": {
        "colab": {
          "base_uri": "https://localhost:8080/"
        },
        "id": "gOTp4RlnZiV7",
        "outputId": "4546c156-7217-4d8f-b1e8-f186a2415e78"
      },
      "outputs": [
        {
          "output_type": "execute_result",
          "data": {
            "text/plain": [
              "(484, 9)"
            ]
          },
          "metadata": {},
          "execution_count": 60
        }
      ],
      "source": [
        "x_train, x_test, y_train, y_test = train_test_split(X, y, test_size=0.50, random_state=7)\n",
        "traindf=pd.DataFrame(x_train)\n",
        "traindf.shape"
      ]
    },
    {
      "cell_type": "code",
      "execution_count": null,
      "metadata": {
        "colab": {
          "base_uri": "https://localhost:8080/"
        },
        "id": "NJdJZCrzkf1c",
        "outputId": "9f76b202-7ac9-40c0-8a48-806d54e8dad1"
      },
      "outputs": [
        {
          "output_type": "stream",
          "name": "stdout",
          "text": [
            "Voting(50-50)- NB  0.8103092783505155\n"
          ]
        }
      ],
      "source": [
        "from sklearn.naive_bayes import GaussianNB\n",
        "X_train_df = pd.DataFrame(x_train)\n",
        "X_test_df = pd.DataFrame(x_test)\n",
        "nb1.fit(X_train_df.iloc[:100], y_train[:100])\n",
        "nb2.fit(X_train_df.iloc[100:250], y_train[100:250])\n",
        "nb3.fit(X_train_df.iloc[250:484], y_train[250:484])\n",
        "ensemble = VotingClassifier(estimators=[('nb1', nb1), ('nb2', nb2),('nb3', nb3)], voting='soft')\n",
        "ensemble.fit(X_train_df, y_train)\n",
        "accuracy = ensemble.score(x_test, y_test)\n",
        "print(\"Voting(50-50)- NB \",(accuracy))\n"
      ]
    },
    {
      "cell_type": "markdown",
      "metadata": {
        "id": "Ih8VQlcLZo5F"
      },
      "source": [
        "**60-40**"
      ]
    },
    {
      "cell_type": "code",
      "source": [
        "mlp1 = MLPClassifier(hidden_layer_sizes=(9,8),verbose=False,learning_rate_init=0.01,max_iter=500)\n",
        "mlp2 = MLPClassifier(hidden_layer_sizes=(7,4),verbose=False,learning_rate_init=0.01,max_iter=100)\n",
        "\n",
        "voting_clfmlp1 = VotingClassifier(estimators=[('multilp1', mlp1), ('multilp2', mlp2)], voting='soft')"
      ],
      "metadata": {
        "id": "vXxV27nO4aiA"
      },
      "execution_count": null,
      "outputs": []
    },
    {
      "cell_type": "code",
      "execution_count": null,
      "metadata": {
        "colab": {
          "base_uri": "https://localhost:8080/"
        },
        "id": "af07EjqBp3be",
        "outputId": "268d8986-417f-44a2-b698-d131e7fe591b"
      },
      "outputs": [
        {
          "output_type": "stream",
          "name": "stdout",
          "text": [
            "Voting(60-40)- MLP  0.7963917525773195\n",
            "Voting(60-40)- DT  0.7525773195876289\n",
            "Voting(60-40)- RF  0.8195876288659794\n",
            "Voting(60-40)- SVM  0.865979381443299\n"
          ]
        }
      ],
      "source": [
        "def votingclf_sixtysplit(voting_clf):\n",
        "  x_train, x_test, y_train, y_test = train_test_split(X, y, test_size=0.40, random_state=7)\n",
        "  voting_clf.fit(x_train, y_train)\n",
        "  y_pred = voting_clf.predict(x_test)\n",
        "  accuracy = accuracy_score(y_test, y_pred)\n",
        "  return accuracy\n",
        "\n",
        "print(\"Voting(60-40)- MLP \",votingclf_sixtysplit(voting_clfmlp1))\n",
        "print(\"Voting(60-40)- DT \",votingclf_sixtysplit(voting_clfdt))\n",
        "print(\"Voting(60-40)- RF \",votingclf_sixtysplit(voting_clfrf))\n",
        "print(\"Voting(60-40)- SVM \",votingclf_sixtysplit(voting_clfsvm))"
      ]
    },
    {
      "cell_type": "code",
      "execution_count": null,
      "metadata": {
        "colab": {
          "base_uri": "https://localhost:8080/"
        },
        "id": "MzQSVVg-PjJu",
        "outputId": "2b067305-09f2-41a9-b495-2e3a1aaeac00"
      },
      "outputs": [
        {
          "output_type": "execute_result",
          "data": {
            "text/plain": [
              "(581, 9)"
            ]
          },
          "metadata": {},
          "execution_count": 64
        }
      ],
      "source": [
        "x_train, x_test, y_train, y_test = train_test_split(X, y, test_size=0.40, random_state=5)\n",
        "traindf=pd.DataFrame(x_train)\n",
        "traindf.shape"
      ]
    },
    {
      "cell_type": "code",
      "execution_count": null,
      "metadata": {
        "colab": {
          "base_uri": "https://localhost:8080/"
        },
        "id": "EPVgulGFwc2w",
        "outputId": "bd72b782-a322-4a40-9642-0fdfde21b835"
      },
      "outputs": [
        {
          "output_type": "stream",
          "name": "stdout",
          "text": [
            "Voting(60-40)- NB  0.8118556701030928\n"
          ]
        }
      ],
      "source": [
        "X_train_df = pd.DataFrame(x_train)\n",
        "X_test_df = pd.DataFrame(x_test)\n",
        "nb1.fit(X_train_df.iloc[:150], y_train[:150])\n",
        "nb2.fit(X_train_df.iloc[150:400], y_train[150:400])\n",
        "nb3.fit(X_train_df.iloc[400:584], y_train[400:584])\n",
        "ensemble = VotingClassifier(estimators=[('nb1', nb1), ('nb2', nb2),('nb3', nb3)], voting='soft')\n",
        "ensemble.fit(X_train_df, y_train)\n",
        "accuracy = ensemble.score(x_test, y_test)\n",
        "print(\"Voting(60-40)- NB \",(accuracy))\n"
      ]
    },
    {
      "cell_type": "markdown",
      "metadata": {
        "id": "59ALSm13P3m8"
      },
      "source": [
        "**70-30**"
      ]
    },
    {
      "cell_type": "code",
      "source": [
        "mlp1 = MLPClassifier(hidden_layer_sizes=(9,8,4),verbose=False,learning_rate_init=0.01,max_iter=500)\n",
        "mlp2 = MLPClassifier(hidden_layer_sizes=(7,6,5),verbose=False,learning_rate_init=0.01,max_iter=100)\n",
        "\n",
        "voting_clfmlp1 = VotingClassifier(estimators=[('multilp1', mlp1), ('multilp2', mlp2)], voting='soft')"
      ],
      "metadata": {
        "id": "k_M9rSb189vu"
      },
      "execution_count": null,
      "outputs": []
    },
    {
      "cell_type": "code",
      "execution_count": null,
      "metadata": {
        "colab": {
          "base_uri": "https://localhost:8080/"
        },
        "id": "qaTU9RNEqDDf",
        "outputId": "4654c1a8-7214-4a6d-918e-5a2a6c045f0a"
      },
      "outputs": [
        {
          "output_type": "stream",
          "name": "stdout",
          "text": [
            "Voting(70-30)- MLP  0.6219931271477663\n",
            "Voting(70-30)- DT  0.7594501718213058\n",
            "Voting(70-30)- RF  0.8041237113402062\n",
            "Voting(70-30)- SVM  0.845360824742268\n"
          ]
        }
      ],
      "source": [
        "def votingclf_seventysplit(voting_clf):\n",
        "  x_train, x_test, y_train, y_test = train_test_split(X, y, test_size=0.30, random_state=7)\n",
        "  voting_clf.fit(x_train, y_train)\n",
        "  y_pred = voting_clf.predict(x_test)\n",
        "  accuracy = accuracy_score(y_test, y_pred)\n",
        "  return accuracy\n",
        "\n",
        "print(\"Voting(70-30)- MLP \",votingclf_seventysplit(voting_clfmlp1))\n",
        "print(\"Voting(70-30)- DT \",votingclf_seventysplit(voting_clfdt))\n",
        "print(\"Voting(70-30)- RF \",votingclf_seventysplit(voting_clfrf))\n",
        "print(\"Voting(70-30)- SVM \",votingclf_seventysplit(voting_clfsvm))"
      ]
    },
    {
      "cell_type": "code",
      "execution_count": null,
      "metadata": {
        "colab": {
          "base_uri": "https://localhost:8080/"
        },
        "id": "yZXW2J3pP-SH",
        "outputId": "d625b9ea-d6b0-4efe-a3ab-ed7a372a2d24"
      },
      "outputs": [
        {
          "output_type": "execute_result",
          "data": {
            "text/plain": [
              "(678, 9)"
            ]
          },
          "metadata": {},
          "execution_count": 68
        }
      ],
      "source": [
        "x_train, x_test, y_train, y_test = train_test_split(X, y, test_size=0.30, random_state=5)\n",
        "traindf=pd.DataFrame(x_train)\n",
        "traindf.shape"
      ]
    },
    {
      "cell_type": "code",
      "execution_count": null,
      "metadata": {
        "colab": {
          "base_uri": "https://localhost:8080/"
        },
        "id": "vRDNtkQVwzm2",
        "outputId": "67792ca6-2d85-458e-ac8d-4cf871fb83d8"
      },
      "outputs": [
        {
          "output_type": "stream",
          "name": "stdout",
          "text": [
            "Voting(70-30)- NB  0.8041237113402062\n"
          ]
        }
      ],
      "source": [
        "X_train_df = pd.DataFrame(x_train)\n",
        "X_test_df = pd.DataFrame(x_test)\n",
        "nb1.fit(X_train_df.iloc[:300], y_train[:300])\n",
        "nb2.fit(X_train_df.iloc[300:450], y_train[300:450])\n",
        "nb3.fit(X_train_df.iloc[450:678], y_train[450:678])\n",
        "ensemble = VotingClassifier(estimators=[('nb1', nb1), ('nb2', nb2),('nb3',nb3)], voting='hard')\n",
        "ensemble.fit(X_train_df, y_train)\n",
        "accuracy = ensemble.score(x_test, y_test)\n",
        "print(\"Voting(70-30)- NB \",(accuracy))"
      ]
    },
    {
      "cell_type": "markdown",
      "metadata": {
        "id": "wr9YbyNnQG6j"
      },
      "source": [
        "**80-20**"
      ]
    },
    {
      "cell_type": "code",
      "source": [
        "mlp1 = MLPClassifier(hidden_layer_sizes=(9,6,5),verbose=False,learning_rate_init=0.01,max_iter=300,learning_rate='constant')\n",
        "mlp2 = MLPClassifier(hidden_layer_sizes=(4,3,2),verbose=False,learning_rate_init=0.01,max_iter=300,learning_rate='constant')\n",
        "\n",
        "voting_clfmlp1 = VotingClassifier(estimators=[('multilp1', mlp1), ('multilp2', mlp2)], voting='soft')"
      ],
      "metadata": {
        "id": "sFjIItgmXv30"
      },
      "execution_count": null,
      "outputs": []
    },
    {
      "cell_type": "code",
      "execution_count": null,
      "metadata": {
        "colab": {
          "base_uri": "https://localhost:8080/"
        },
        "id": "RzucucEdQNId",
        "outputId": "4d1d0dfa-23d2-4658-b1cf-feddb605e00b"
      },
      "outputs": [
        {
          "output_type": "execute_result",
          "data": {
            "text/plain": [
              "(775, 9)"
            ]
          },
          "metadata": {},
          "execution_count": 72
        }
      ],
      "source": [
        "x_train, x_test, y_train, y_test = train_test_split(X, y, test_size=0.20, random_state=7)\n",
        "traindf=pd.DataFrame(x_train)\n",
        "traindf.shape"
      ]
    },
    {
      "cell_type": "code",
      "execution_count": null,
      "metadata": {
        "colab": {
          "base_uri": "https://localhost:8080/"
        },
        "id": "j4H4kGWuxXrS",
        "outputId": "a6cac2d0-4577-4a9d-b0b7-8c0ec5464a7e"
      },
      "outputs": [
        {
          "output_type": "stream",
          "name": "stdout",
          "text": [
            "Voting(80-20)- NB  0.788659793814433\n"
          ]
        }
      ],
      "source": [
        "X_train_df = pd.DataFrame(x_train)\n",
        "X_test_df = pd.DataFrame(x_test)\n",
        "nb1.fit(X_train_df.iloc[:150], y_train[:150])\n",
        "nb2.fit(X_train_df.iloc[150:400], y_train[150:400])\n",
        "nb3.fit(X_train_df.iloc[400:775], y_train[400:775])\n",
        "ensemble = VotingClassifier(estimators=[('nb1', nb1), ('nb2', nb2),('nb3',nb3)], voting='soft')\n",
        "ensemble.fit(X_train_df, y_train)\n",
        "accuracy = ensemble.score(x_test, y_test)\n",
        "print(\"Voting(80-20)- NB \",(accuracy))"
      ]
    },
    {
      "cell_type": "code",
      "execution_count": null,
      "metadata": {
        "colab": {
          "base_uri": "https://localhost:8080/"
        },
        "id": "-W4Q8F2iqD-x",
        "outputId": "c4df924f-76ee-40f6-c093-ea2a712870d4"
      },
      "outputs": [
        {
          "output_type": "stream",
          "name": "stdout",
          "text": [
            "\n",
            "ACCURACY\n",
            "Voting(80-20)- MLP  0.8092783505154639\n",
            "Voting(80-20)- DT  0.7628865979381443\n",
            "Voting(80-20)- RF  0.8195876288659794\n",
            "Voting(80-20)- SVM  0.8608247422680413\n",
            "\n",
            "PRECISION\n",
            "Voting(80-20)- MLP  0.8195876288659794\n",
            "Voting(80-20)- DT  0.7628865979381443\n",
            "Voting(80-20)- RF  0.8247422680412371\n",
            "Voting(80-20)- SVM  0.8608247422680413\n",
            "\n",
            "F1 SCORE\n",
            "Voting(80-20)- MLP  0.8092783505154639\n",
            "Voting(80-20)- DT  0.7628865979381443\n",
            "Voting(80-20)- RF  0.8298969072164949\n",
            "Voting(80-20)- SVM  0.8608247422680413\n",
            "\n",
            "RECALL\n",
            "Voting(80-20)- MLP  0.520618556701031\n",
            "Voting(80-20)- DT  0.7628865979381443\n",
            "Voting(80-20)- RF  0.8195876288659794\n",
            "Voting(80-20)- SVM  0.8608247422680413\n",
            "\n",
            "ROC\n",
            "Voting(80-20)- MLP  0.520618556701031\n",
            "Voting(80-20)- DT  0.7628865979381443\n",
            "Voting(80-20)- RF  0.8247422680412371\n",
            "Voting(80-20)- SVM  0.8608247422680413\n"
          ]
        }
      ],
      "source": [
        "from sklearn.metrics import roc_curve, auc\n",
        "from sklearn import metrics\n",
        "def votingclf_eightysplit(voting_clf):\n",
        "  x_train, x_test, y_train, y_test = train_test_split(X, y, test_size=0.20, random_state=7)\n",
        "  voting_clf.fit(x_train, y_train)\n",
        "  y_pred = voting_clf.predict(x_test)\n",
        "  accuracy = accuracy_score(y_test, y_pred)\n",
        "  return accuracy\n",
        "print(\"\\nACCURACY\")\n",
        "print(\"Voting(80-20)- MLP \",votingclf_eightysplit(voting_clfmlp1))\n",
        "print(\"Voting(80-20)- DT \",votingclf_eightysplit(voting_clfdt))\n",
        "print(\"Voting(80-20)- RF \",votingclf_eightysplit(voting_clfrf))\n",
        "print(\"Voting(80-20)- SVM \",votingclf_eightysplit(voting_clfsvm))\n",
        "\n",
        "\n",
        "def votingclf_eightysplit_pre(voting_clf):\n",
        "  x_train, x_test, y_train, y_test = train_test_split(X, y, test_size=0.20, random_state=43)\n",
        "  voting_clf.fit(x_train, y_train)\n",
        "  y_pred = voting_clf.predict(x_test)\n",
        "  precision = metrics.precision_score(y_test, y_pred)\n",
        "  return precision\n",
        "print(\"\\nPRECISION\")\n",
        "print(\"Voting(80-20)- MLP \",votingclf_eightysplit(voting_clfmlp1))\n",
        "print(\"Voting(80-20)- DT \",votingclf_eightysplit(voting_clfdt))\n",
        "print(\"Voting(80-20)- RF \",votingclf_eightysplit(voting_clfrf))\n",
        "print(\"Voting(80-20)- SVM \",votingclf_eightysplit(voting_clfsvm))\n",
        "\n",
        "def votingclf_eightysplit_f1(voting_clf):\n",
        "  x_train, x_test, y_train, y_test = train_test_split(X, y, test_size=0.20, random_state=43)\n",
        "  voting_clf.fit(x_train, y_train)\n",
        "  y_pred = voting_clf.predict(x_test)\n",
        "  f1 = metrics.f1_score(y_test, y_pred)\n",
        "  return f1\n",
        "print(\"\\nF1 SCORE\")\n",
        "print(\"Voting(80-20)- MLP \",votingclf_eightysplit(voting_clfmlp1))\n",
        "print(\"Voting(80-20)- DT \",votingclf_eightysplit(voting_clfdt))\n",
        "print(\"Voting(80-20)- RF \",votingclf_eightysplit(voting_clfrf))\n",
        "print(\"Voting(80-20)- SVM \",votingclf_eightysplit(voting_clfsvm))\n",
        "\n",
        "def votingclf_eightysplit_rec(voting_clf):\n",
        "  x_train, x_test, y_train, y_test = train_test_split(X, y, test_size=0.20, random_state=43)\n",
        "  voting_clf.fit(x_train, y_train)\n",
        "  y_pred = voting_clf.predict(x_test)\n",
        "  recall = metrics.recall_score(y_test, y_pred)\n",
        "  return recall\n",
        "print(\"\\nRECALL\")\n",
        "print(\"Voting(80-20)- MLP \",votingclf_eightysplit(voting_clfmlp1))\n",
        "print(\"Voting(80-20)- DT \",votingclf_eightysplit(voting_clfdt))\n",
        "print(\"Voting(80-20)- RF \",votingclf_eightysplit(voting_clfrf))\n",
        "print(\"Voting(80-20)- SVM \",votingclf_eightysplit(voting_clfsvm))\n",
        "\n",
        "\n",
        "def votingclf_eightysplit_roc(voting_clf):\n",
        "  x_train, x_test, y_train, y_test = train_test_split(X, y, test_size=0.20, random_state=43)\n",
        "  voting_clf.fit(x_train, y_train)\n",
        "  y_pred = voting_clf.predict(x_test)\n",
        "  fpr, tpr, _ = roc_curve(y_test, y_pred)\n",
        "  rocc=auc(fpr, tpr)\n",
        "  return rocc\n",
        "print(\"\\nROC\")\n",
        "print(\"Voting(80-20)- MLP \",votingclf_eightysplit(voting_clfmlp1))\n",
        "print(\"Voting(80-20)- DT \",votingclf_eightysplit(voting_clfdt))\n",
        "print(\"Voting(80-20)- RF \",votingclf_eightysplit(voting_clfrf))\n",
        "print(\"Voting(80-20)- SVM \",votingclf_eightysplit(voting_clfsvm))"
      ]
    },
    {
      "cell_type": "markdown",
      "metadata": {
        "id": "lQi0vzBBYYwZ"
      },
      "source": [
        "## **BAGGING IMPLEMENTATION**"
      ]
    },
    {
      "cell_type": "code",
      "execution_count": null,
      "metadata": {
        "id": "BLanKmK16_sn"
      },
      "outputs": [],
      "source": [
        "from sklearn.model_selection import cross_val_score\n",
        "from sklearn.ensemble import BaggingClassifier"
      ]
    },
    {
      "cell_type": "markdown",
      "metadata": {
        "id": "x9O6l0M7XgBa"
      },
      "source": [
        "**10(k)-fold**"
      ]
    },
    {
      "cell_type": "code",
      "source": [
        "models=[]\n",
        "models.append(('NB',GaussianNB(var_smoothing=1e-5)))\n",
        "models.append(('MLP',MLPClassifier(hidden_layer_sizes=(7,6),random_state=5,verbose=False,learning_rate_init=0.01)))\n",
        "models.append(('DT',DecisionTreeClassifier(criterion='entropy',max_depth=2)))\n",
        "models.append(('RF',RandomForestClassifier(n_estimators=7,max_depth=2)))\n",
        "models.append(('SVM',SVC(kernel='linear',gamma = 0.01,C= 1)))"
      ],
      "metadata": {
        "id": "LRyct0d4bKdT"
      },
      "execution_count": null,
      "outputs": []
    },
    {
      "cell_type": "code",
      "execution_count": null,
      "metadata": {
        "colab": {
          "base_uri": "https://localhost:8080/"
        },
        "id": "f9mXeTzJXQbF",
        "outputId": "9eb406b5-451c-49d2-a82a-429b33476a20"
      },
      "outputs": [
        {
          "output_type": "stream",
          "name": "stdout",
          "text": [
            "Bagging(10-fold)-  NB 0.7977341065292096\n",
            "Bagging(10-fold)-  MLP 0.7513208762886598\n",
            "Bagging(10-fold)-  DT 0.805992268041237\n",
            "Bagging(10-fold)-  RF 0.8256013745704468\n",
            "Bagging(10-fold)-  SVM 0.7987220790378007\n"
          ]
        }
      ],
      "source": [
        "from sklearn.model_selection import KFold\n",
        "from sklearn.ensemble import BaggingClassifier\n",
        "from sklearn.tree import DecisionTreeClassifier\n",
        "\n",
        "for estimator in models:\n",
        "    bagging_clf = BaggingClassifier(base_estimator=estimator[1],n_estimators=7,max_features=9,max_samples=100,bootstrap=True, random_state=7)\n",
        "    kf = KFold(n_splits=10, shuffle=True)\n",
        "    all_predictions = []\n",
        "    for train_index, test_index in kf.split(X):\n",
        "      X_train, X_test = X[train_index], X[test_index]\n",
        "      y_train, y_test = y[train_index], y[test_index]\n",
        "      bagging_clf.fit(X_train, y_train)\n",
        "      predictions = bagging_clf.predict(X_test)\n",
        "      all_predictions.append(metrics.accuracy_score(y_test,predictions))\n",
        "    final_predictions = np.mean(all_predictions, axis=0)\n",
        "    print(\"Bagging(10-fold)- \",estimator[0], final_predictions)"
      ]
    },
    {
      "cell_type": "markdown",
      "metadata": {
        "id": "LtuGK0A-X3_S"
      },
      "source": [
        "**50-50**"
      ]
    },
    {
      "cell_type": "code",
      "execution_count": null,
      "metadata": {
        "colab": {
          "base_uri": "https://localhost:8080/"
        },
        "id": "nvDyvv-VX6Nn",
        "outputId": "cee53a21-2a1d-4db4-de72-02c0dc2c4bd6"
      },
      "outputs": [
        {
          "output_type": "stream",
          "name": "stdout",
          "text": [
            "Bagging(50-50)-  NB 0.8103092783505155\n",
            "Bagging(50-50)-  MLP 0.8041237113402062\n",
            "Bagging(50-50)-  DT 0.8041237113402062\n",
            "Bagging(50-50)-  RF 0.8206185567010309\n",
            "Bagging(50-50)-  SVM 0.8247422680412371\n"
          ]
        }
      ],
      "source": [
        "x_train, x_test, y_train, y_test = train_test_split(X, y, test_size=0.50, random_state=7)\n",
        "for estimator in models:\n",
        "    bagging_clf = BaggingClassifier(base_estimator=estimator[1],n_estimators=15,max_features=9,max_samples=200,bootstrap=True, random_state=7)\n",
        "    bagging_clf.fit(x_train, y_train)\n",
        "    y_pred = bagging_clf.predict(x_test)\n",
        "    accuracy = metrics.accuracy_score(y_test, y_pred)\n",
        "    print(\"Bagging(50-50)- \",estimator[0], accuracy)"
      ]
    },
    {
      "cell_type": "markdown",
      "metadata": {
        "id": "AXy7R3KEX9Hu"
      },
      "source": [
        "**60-40**"
      ]
    },
    {
      "cell_type": "code",
      "execution_count": null,
      "metadata": {
        "colab": {
          "base_uri": "https://localhost:8080/"
        },
        "id": "ksOcA4X-X-7i",
        "outputId": "f175298d-82b8-4731-a6c2-e0eb90f4346b"
      },
      "outputs": [
        {
          "output_type": "stream",
          "name": "stdout",
          "text": [
            "Bagging(50-50)-  NB 0.7989690721649485\n",
            "Bagging(50-50)-  MLP 0.8144329896907216\n",
            "Bagging(50-50)-  DT 0.8092783505154639\n",
            "Bagging(50-50)-  RF 0.8427835051546392\n",
            "Bagging(50-50)-  SVM 0.8324742268041238\n"
          ]
        }
      ],
      "source": [
        "x_train, x_test, y_train, y_test = train_test_split(X, y, test_size=0.40, random_state=7)\n",
        "for estimator in models:\n",
        "    bagging_clf = BaggingClassifier(base_estimator=estimator[1],n_estimators=15,max_features=9,max_samples=200,bootstrap=True, random_state=7)\n",
        "    bagging_clf.fit(x_train, y_train)\n",
        "    y_pred = bagging_clf.predict(x_test)\n",
        "    accuracy = metrics.accuracy_score(y_test, y_pred)\n",
        "    print(\"Bagging(50-50)- \",estimator[0], accuracy)"
      ]
    },
    {
      "cell_type": "markdown",
      "metadata": {
        "id": "eqhGHUZ_YCFa"
      },
      "source": [
        "**70-30**"
      ]
    },
    {
      "cell_type": "code",
      "execution_count": null,
      "metadata": {
        "colab": {
          "base_uri": "https://localhost:8080/"
        },
        "id": "PzVkligKYD62",
        "outputId": "f75387b2-ddb0-435e-c9a9-9981dff2ed37"
      },
      "outputs": [
        {
          "output_type": "stream",
          "name": "stdout",
          "text": [
            "Bagging(50-50)-  NB 0.8109965635738832\n",
            "Bagging(50-50)-  MLP 0.7903780068728522\n",
            "Bagging(50-50)-  DT 0.8109965635738832\n",
            "Bagging(50-50)-  RF 0.8247422680412371\n",
            "Bagging(50-50)-  SVM 0.8178694158075601\n"
          ]
        }
      ],
      "source": [
        "x_train, x_test, y_train, y_test = train_test_split(X, y, test_size=0.30, random_state=7)\n",
        "for estimator in models:\n",
        "    bagging_clf = BaggingClassifier(base_estimator=estimator[1],n_estimators=15,max_features=9,max_samples=200,bootstrap=True, random_state=7)\n",
        "    bagging_clf.fit(x_train, y_train)\n",
        "    y_pred = bagging_clf.predict(x_test)\n",
        "    accuracy = metrics.accuracy_score(y_test, y_pred)\n",
        "    print(\"Bagging(50-50)- \",estimator[0], accuracy)"
      ]
    },
    {
      "cell_type": "markdown",
      "metadata": {
        "id": "ZDKE03WMYFc6"
      },
      "source": [
        "**80-20**"
      ]
    },
    {
      "cell_type": "code",
      "source": [
        "models=[]\n",
        "models.append(('NB',GaussianNB(var_smoothing=1e-5)))\n",
        "models.append(('MLP',MLPClassifier(hidden_layer_sizes=(5,4),random_state=5,verbose=False,learning_rate_init=0.01)))\n",
        "models.append(('DT',DecisionTreeClassifier(criterion='entropy',max_depth=1)))\n",
        "models.append(('RF',RandomForestClassifier(n_estimators=11,max_depth=1)))\n",
        "models.append(('SVM',SVC(kernel='linear',gamma = 0.01,C= 0.01)))"
      ],
      "metadata": {
        "id": "sIu8a-lzePmI"
      },
      "execution_count": null,
      "outputs": []
    },
    {
      "cell_type": "code",
      "execution_count": null,
      "metadata": {
        "colab": {
          "base_uri": "https://localhost:8080/"
        },
        "id": "VfTlO3099rTJ",
        "outputId": "fb588c90-df62-4e9a-bf95-ec4d719a2a3d"
      },
      "outputs": [
        {
          "output_type": "stream",
          "name": "stdout",
          "text": [
            "ACCURACY\n",
            "Bagging(80-20)-  NB 0.8350515463917526\n",
            "Bagging(80-20)-  MLP 0.8247422680412371\n",
            "Bagging(80-20)-  DT 0.7628865979381443\n",
            "Bagging(80-20)-  RF 0.8298969072164949\n",
            "Bagging(80-20)-  SVM 0.8247422680412371\n",
            "\n",
            "PRECISION\n",
            "Bagging(80-20)-  NB 0.8144329896907216\n",
            "Bagging(80-20)-  MLP 0.8041237113402062\n",
            "Bagging(80-20)-  DT 0.8350515463917526\n",
            "Bagging(80-20)-  RF 0.8247422680412371\n",
            "Bagging(80-20)-  SVM 0.7783505154639175\n",
            "\n",
            "F1 SCORE\n",
            "Bagging(80-20)-  NB 0.8105263157894738\n",
            "Bagging(80-20)-  MLP 0.7738095238095237\n",
            "Bagging(80-20)-  DT 0.813953488372093\n",
            "Bagging(80-20)-  RF 0.8045977011494253\n",
            "Bagging(80-20)-  SVM 0.7393939393939394\n",
            "\n",
            "RECALL\n",
            "Bagging(80-20)-  NB 0.8144329896907216\n",
            "Bagging(80-20)-  MLP 0.8041237113402062\n",
            "Bagging(80-20)-  DT 0.8350515463917526\n",
            "Bagging(80-20)-  RF 0.8247422680412371\n",
            "Bagging(80-20)-  SVM 0.7783505154639175\n",
            "\n",
            "ROC\n",
            "Bagging(80-20)-  NB 0.8182985553772072\n",
            "Bagging(80-20)-  MLP 0.798501872659176\n",
            "Bagging(80-20)-  DT 0.8313536650615303\n",
            "Bagging(80-20)-  RF 0.8218298555377208\n",
            "Bagging(80-20)-  SVM 0.7712680577849118\n"
          ]
        }
      ],
      "source": [
        "from sklearn.metrics import confusion_matrix\n",
        "from sklearn.metrics import roc_curve, auc\n",
        "x_train, x_test, y_train, y_test = train_test_split(X, y, test_size=0.20, random_state=42)\n",
        "print(\"ACCURACY\")\n",
        "for estimator in models:\n",
        "    bagging_clf = BaggingClassifier(base_estimator=estimator[1],n_estimators=15,max_features=9,max_samples=300,bootstrap=True, random_state=7)\n",
        "    bagging_clf.fit(x_train, y_train)\n",
        "    y_pred = bagging_clf.predict(x_test)\n",
        "    accuracy = metrics.accuracy_score(y_test, y_pred)\n",
        "    print(\"Bagging(80-20)- \",estimator[0], accuracy)\n",
        "\n",
        "print(\"\\nPRECISION\")\n",
        "for estimator in models:\n",
        "    bagging_clf = BaggingClassifier(base_estimator=estimator[1],n_estimators=15,max_features=9,max_samples=100,bootstrap=True, random_state=7)\n",
        "    bagging_clf.fit(x_train, y_train)\n",
        "    y_pred = bagging_clf.predict(x_test)\n",
        "    precision = metrics.precision_score(y_test, y_pred,average='micro')\n",
        "    print(\"Bagging(80-20)- \",estimator[0], precision)\n",
        "\n",
        "print(\"\\nF1 SCORE\")\n",
        "for estimator in models:\n",
        "    bagging_clf = BaggingClassifier(base_estimator=estimator[1],n_estimators=15,max_features=9,max_samples=100,bootstrap=True, random_state=7)\n",
        "    bagging_clf.fit(x_train, y_train)\n",
        "    y_pred = bagging_clf.predict(x_test)\n",
        "    f1score = metrics.f1_score(y_test,y_pred)\n",
        "    print(\"Bagging(80-20)- \",estimator[0], f1score)\n",
        "  \n",
        "print(\"\\nRECALL\")\n",
        "for estimator in models:\n",
        "    bagging_clf = BaggingClassifier(base_estimator=estimator[1],n_estimators=15,max_features=9,max_samples=100,bootstrap=True, random_state=7)\n",
        "    bagging_clf.fit(x_train, y_train)\n",
        "    y_pred = bagging_clf.predict(x_test)\n",
        "    recall = metrics.recall_score(y_test, y_pred,average='micro')\n",
        "    print(\"Bagging(80-20)- \",estimator[0], recall)\n",
        "\n",
        "print(\"\\nROC\")\n",
        "for estimator in models:\n",
        "    bagging_clf = BaggingClassifier(base_estimator=estimator[1],n_estimators=15,max_features=9,max_samples=100,bootstrap=True, random_state=7)\n",
        "    bagging_clf.fit(x_train, y_train)\n",
        "    y_pred = bagging_clf.predict(x_test)\n",
        "    fpr, tpr, _ = roc_curve(y_test, y_pred)\n",
        "    rocc=auc(fpr, tpr)\n",
        "    print(\"Bagging(80-20)- \",estimator[0], rocc)\n"
      ]
    },
    {
      "cell_type": "code",
      "source": [],
      "metadata": {
        "id": "CzNMdvLWeJ_q"
      },
      "execution_count": null,
      "outputs": []
    }
  ],
  "metadata": {
    "colab": {
      "provenance": []
    },
    "kernelspec": {
      "display_name": "Python 3",
      "name": "python3"
    },
    "language_info": {
      "name": "python"
    }
  },
  "nbformat": 4,
  "nbformat_minor": 0
}