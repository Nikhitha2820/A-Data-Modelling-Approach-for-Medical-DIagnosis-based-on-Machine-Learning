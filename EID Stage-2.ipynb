{
  "cells": [
    {
      "cell_type": "markdown",
      "metadata": {
        "id": "rxQRmdw_OQ9S"
      },
      "source": [
        "# **EYE INFECTION DATASET (STAGE-2)**\n",
        "\n",
        "\n",
        "\n",
        "\n"
      ]
    },
    {
      "cell_type": "markdown",
      "metadata": {
        "id": "MwK9lizLPChe"
      },
      "source": [
        "## **DATA ACQUISITION**"
      ]
    },
    {
      "cell_type": "code",
      "execution_count": null,
      "metadata": {
        "id": "kc141Oopq1Q_"
      },
      "outputs": [],
      "source": [
        "import numpy as np\n",
        "import pandas as pd \n",
        "import matplotlib.pyplot as plt \n",
        "%matplotlib inline \n",
        "import seaborn as sns\n",
        "import warnings\n",
        "warnings.filterwarnings(\"ignore\")"
      ]
    },
    {
      "cell_type": "code",
      "execution_count": null,
      "metadata": {
        "colab": {
          "base_uri": "https://localhost:8080/",
          "height": 206
        },
        "id": "z_GH9TcCrJEN",
        "outputId": "fec897c4-56d1-4acc-b750-6e43cec76004"
      },
      "outputs": [
        {
          "output_type": "execute_result",
          "data": {
            "text/plain": [
              "     PID  AGE      SEX        DATE                      PCM  \\\n",
              "0  15863   46    MALE'  01-JUL-10'  sudden loss of vision '   \n",
              "1  15863   46    MALE'  15-AUG-10'  sudden loss of vision '   \n",
              "2  15864   42  FEMALE'  01-JUL-10'  sudden loss of vision '   \n",
              "3  15864   42  FEMALE'  10-AUG-10'  sudden loss of vision '   \n",
              "4  15865    9    MALE'  01-JUL-10'  sudden loss of vision '   \n",
              "\n",
              "                     DGS      EXM                  STR                  PRK  \n",
              "0  Retinal Detetchment '  B-Scan'     Repair  Surgery'  Treatment Going On'  \n",
              "1  Retinal Detetchment '  B-Scan'     Repair  Surgery'          Satisfied '  \n",
              "2    Vitrous Haemoriage'  B-Scan'  Vitractomy Surgery'  Treatment Going On'  \n",
              "3    Vitrous Haemoriage'  B-Scan'  Vitractomy Surgery'          Satisfied '  \n",
              "4  Retinal Detetchment '  B-Scan'     Repair  Surgery'  Treatment Going On'  "
            ],
            "text/html": [
              "\n",
              "  <div id=\"df-57f615fe-3b3c-47bb-acae-6ac35e2cc704\">\n",
              "    <div class=\"colab-df-container\">\n",
              "      <div>\n",
              "<style scoped>\n",
              "    .dataframe tbody tr th:only-of-type {\n",
              "        vertical-align: middle;\n",
              "    }\n",
              "\n",
              "    .dataframe tbody tr th {\n",
              "        vertical-align: top;\n",
              "    }\n",
              "\n",
              "    .dataframe thead th {\n",
              "        text-align: right;\n",
              "    }\n",
              "</style>\n",
              "<table border=\"1\" class=\"dataframe\">\n",
              "  <thead>\n",
              "    <tr style=\"text-align: right;\">\n",
              "      <th></th>\n",
              "      <th>PID</th>\n",
              "      <th>AGE</th>\n",
              "      <th>SEX</th>\n",
              "      <th>DATE</th>\n",
              "      <th>PCM</th>\n",
              "      <th>DGS</th>\n",
              "      <th>EXM</th>\n",
              "      <th>STR</th>\n",
              "      <th>PRK</th>\n",
              "    </tr>\n",
              "  </thead>\n",
              "  <tbody>\n",
              "    <tr>\n",
              "      <th>0</th>\n",
              "      <td>15863</td>\n",
              "      <td>46</td>\n",
              "      <td>MALE'</td>\n",
              "      <td>01-JUL-10'</td>\n",
              "      <td>sudden loss of vision '</td>\n",
              "      <td>Retinal Detetchment '</td>\n",
              "      <td>B-Scan'</td>\n",
              "      <td>Repair  Surgery'</td>\n",
              "      <td>Treatment Going On'</td>\n",
              "    </tr>\n",
              "    <tr>\n",
              "      <th>1</th>\n",
              "      <td>15863</td>\n",
              "      <td>46</td>\n",
              "      <td>MALE'</td>\n",
              "      <td>15-AUG-10'</td>\n",
              "      <td>sudden loss of vision '</td>\n",
              "      <td>Retinal Detetchment '</td>\n",
              "      <td>B-Scan'</td>\n",
              "      <td>Repair  Surgery'</td>\n",
              "      <td>Satisfied '</td>\n",
              "    </tr>\n",
              "    <tr>\n",
              "      <th>2</th>\n",
              "      <td>15864</td>\n",
              "      <td>42</td>\n",
              "      <td>FEMALE'</td>\n",
              "      <td>01-JUL-10'</td>\n",
              "      <td>sudden loss of vision '</td>\n",
              "      <td>Vitrous Haemoriage'</td>\n",
              "      <td>B-Scan'</td>\n",
              "      <td>Vitractomy Surgery'</td>\n",
              "      <td>Treatment Going On'</td>\n",
              "    </tr>\n",
              "    <tr>\n",
              "      <th>3</th>\n",
              "      <td>15864</td>\n",
              "      <td>42</td>\n",
              "      <td>FEMALE'</td>\n",
              "      <td>10-AUG-10'</td>\n",
              "      <td>sudden loss of vision '</td>\n",
              "      <td>Vitrous Haemoriage'</td>\n",
              "      <td>B-Scan'</td>\n",
              "      <td>Vitractomy Surgery'</td>\n",
              "      <td>Satisfied '</td>\n",
              "    </tr>\n",
              "    <tr>\n",
              "      <th>4</th>\n",
              "      <td>15865</td>\n",
              "      <td>9</td>\n",
              "      <td>MALE'</td>\n",
              "      <td>01-JUL-10'</td>\n",
              "      <td>sudden loss of vision '</td>\n",
              "      <td>Retinal Detetchment '</td>\n",
              "      <td>B-Scan'</td>\n",
              "      <td>Repair  Surgery'</td>\n",
              "      <td>Treatment Going On'</td>\n",
              "    </tr>\n",
              "  </tbody>\n",
              "</table>\n",
              "</div>\n",
              "      <button class=\"colab-df-convert\" onclick=\"convertToInteractive('df-57f615fe-3b3c-47bb-acae-6ac35e2cc704')\"\n",
              "              title=\"Convert this dataframe to an interactive table.\"\n",
              "              style=\"display:none;\">\n",
              "        \n",
              "  <svg xmlns=\"http://www.w3.org/2000/svg\" height=\"24px\"viewBox=\"0 0 24 24\"\n",
              "       width=\"24px\">\n",
              "    <path d=\"M0 0h24v24H0V0z\" fill=\"none\"/>\n",
              "    <path d=\"M18.56 5.44l.94 2.06.94-2.06 2.06-.94-2.06-.94-.94-2.06-.94 2.06-2.06.94zm-11 1L8.5 8.5l.94-2.06 2.06-.94-2.06-.94L8.5 2.5l-.94 2.06-2.06.94zm10 10l.94 2.06.94-2.06 2.06-.94-2.06-.94-.94-2.06-.94 2.06-2.06.94z\"/><path d=\"M17.41 7.96l-1.37-1.37c-.4-.4-.92-.59-1.43-.59-.52 0-1.04.2-1.43.59L10.3 9.45l-7.72 7.72c-.78.78-.78 2.05 0 2.83L4 21.41c.39.39.9.59 1.41.59.51 0 1.02-.2 1.41-.59l7.78-7.78 2.81-2.81c.8-.78.8-2.07 0-2.86zM5.41 20L4 18.59l7.72-7.72 1.47 1.35L5.41 20z\"/>\n",
              "  </svg>\n",
              "      </button>\n",
              "      \n",
              "  <style>\n",
              "    .colab-df-container {\n",
              "      display:flex;\n",
              "      flex-wrap:wrap;\n",
              "      gap: 12px;\n",
              "    }\n",
              "\n",
              "    .colab-df-convert {\n",
              "      background-color: #E8F0FE;\n",
              "      border: none;\n",
              "      border-radius: 50%;\n",
              "      cursor: pointer;\n",
              "      display: none;\n",
              "      fill: #1967D2;\n",
              "      height: 32px;\n",
              "      padding: 0 0 0 0;\n",
              "      width: 32px;\n",
              "    }\n",
              "\n",
              "    .colab-df-convert:hover {\n",
              "      background-color: #E2EBFA;\n",
              "      box-shadow: 0px 1px 2px rgba(60, 64, 67, 0.3), 0px 1px 3px 1px rgba(60, 64, 67, 0.15);\n",
              "      fill: #174EA6;\n",
              "    }\n",
              "\n",
              "    [theme=dark] .colab-df-convert {\n",
              "      background-color: #3B4455;\n",
              "      fill: #D2E3FC;\n",
              "    }\n",
              "\n",
              "    [theme=dark] .colab-df-convert:hover {\n",
              "      background-color: #434B5C;\n",
              "      box-shadow: 0px 1px 3px 1px rgba(0, 0, 0, 0.15);\n",
              "      filter: drop-shadow(0px 1px 2px rgba(0, 0, 0, 0.3));\n",
              "      fill: #FFFFFF;\n",
              "    }\n",
              "  </style>\n",
              "\n",
              "      <script>\n",
              "        const buttonEl =\n",
              "          document.querySelector('#df-57f615fe-3b3c-47bb-acae-6ac35e2cc704 button.colab-df-convert');\n",
              "        buttonEl.style.display =\n",
              "          google.colab.kernel.accessAllowed ? 'block' : 'none';\n",
              "\n",
              "        async function convertToInteractive(key) {\n",
              "          const element = document.querySelector('#df-57f615fe-3b3c-47bb-acae-6ac35e2cc704');\n",
              "          const dataTable =\n",
              "            await google.colab.kernel.invokeFunction('convertToInteractive',\n",
              "                                                     [key], {});\n",
              "          if (!dataTable) return;\n",
              "\n",
              "          const docLinkHtml = 'Like what you see? Visit the ' +\n",
              "            '<a target=\"_blank\" href=https://colab.research.google.com/notebooks/data_table.ipynb>data table notebook</a>'\n",
              "            + ' to learn more about interactive tables.';\n",
              "          element.innerHTML = '';\n",
              "          dataTable['output_type'] = 'display_data';\n",
              "          await google.colab.output.renderOutput(dataTable, element);\n",
              "          const docLink = document.createElement('div');\n",
              "          docLink.innerHTML = docLinkHtml;\n",
              "          element.appendChild(docLink);\n",
              "        }\n",
              "      </script>\n",
              "    </div>\n",
              "  </div>\n",
              "  "
            ]
          },
          "metadata": {},
          "execution_count": 21
        }
      ],
      "source": [
        "ed=pd.read_csv('Eye_dataset.csv',on_bad_lines='skip') \n",
        "ed.head()\n"
      ]
    },
    {
      "cell_type": "code",
      "source": [
        "ed['LB']=ed['STR']"
      ],
      "metadata": {
        "id": "y_h7swwcvLMc"
      },
      "execution_count": null,
      "outputs": []
    },
    {
      "cell_type": "code",
      "source": [
        "ed.head()"
      ],
      "metadata": {
        "colab": {
          "base_uri": "https://localhost:8080/",
          "height": 206
        },
        "id": "akKx5B8svOB7",
        "outputId": "acd0165f-ab15-4879-e599-404258580087"
      },
      "execution_count": null,
      "outputs": [
        {
          "output_type": "execute_result",
          "data": {
            "text/plain": [
              "     PID  AGE      SEX        DATE                      PCM  \\\n",
              "0  15863   46    MALE'  01-JUL-10'  sudden loss of vision '   \n",
              "1  15863   46    MALE'  15-AUG-10'  sudden loss of vision '   \n",
              "2  15864   42  FEMALE'  01-JUL-10'  sudden loss of vision '   \n",
              "3  15864   42  FEMALE'  10-AUG-10'  sudden loss of vision '   \n",
              "4  15865    9    MALE'  01-JUL-10'  sudden loss of vision '   \n",
              "\n",
              "                     DGS      EXM                  STR                  PRK  \\\n",
              "0  Retinal Detetchment '  B-Scan'     Repair  Surgery'  Treatment Going On'   \n",
              "1  Retinal Detetchment '  B-Scan'     Repair  Surgery'          Satisfied '   \n",
              "2    Vitrous Haemoriage'  B-Scan'  Vitractomy Surgery'  Treatment Going On'   \n",
              "3    Vitrous Haemoriage'  B-Scan'  Vitractomy Surgery'          Satisfied '   \n",
              "4  Retinal Detetchment '  B-Scan'     Repair  Surgery'  Treatment Going On'   \n",
              "\n",
              "                    LB  \n",
              "0     Repair  Surgery'  \n",
              "1     Repair  Surgery'  \n",
              "2  Vitractomy Surgery'  \n",
              "3  Vitractomy Surgery'  \n",
              "4     Repair  Surgery'  "
            ],
            "text/html": [
              "\n",
              "  <div id=\"df-4fb98402-9205-4a7a-89d7-123ba5157c8f\">\n",
              "    <div class=\"colab-df-container\">\n",
              "      <div>\n",
              "<style scoped>\n",
              "    .dataframe tbody tr th:only-of-type {\n",
              "        vertical-align: middle;\n",
              "    }\n",
              "\n",
              "    .dataframe tbody tr th {\n",
              "        vertical-align: top;\n",
              "    }\n",
              "\n",
              "    .dataframe thead th {\n",
              "        text-align: right;\n",
              "    }\n",
              "</style>\n",
              "<table border=\"1\" class=\"dataframe\">\n",
              "  <thead>\n",
              "    <tr style=\"text-align: right;\">\n",
              "      <th></th>\n",
              "      <th>PID</th>\n",
              "      <th>AGE</th>\n",
              "      <th>SEX</th>\n",
              "      <th>DATE</th>\n",
              "      <th>PCM</th>\n",
              "      <th>DGS</th>\n",
              "      <th>EXM</th>\n",
              "      <th>STR</th>\n",
              "      <th>PRK</th>\n",
              "      <th>LB</th>\n",
              "    </tr>\n",
              "  </thead>\n",
              "  <tbody>\n",
              "    <tr>\n",
              "      <th>0</th>\n",
              "      <td>15863</td>\n",
              "      <td>46</td>\n",
              "      <td>MALE'</td>\n",
              "      <td>01-JUL-10'</td>\n",
              "      <td>sudden loss of vision '</td>\n",
              "      <td>Retinal Detetchment '</td>\n",
              "      <td>B-Scan'</td>\n",
              "      <td>Repair  Surgery'</td>\n",
              "      <td>Treatment Going On'</td>\n",
              "      <td>Repair  Surgery'</td>\n",
              "    </tr>\n",
              "    <tr>\n",
              "      <th>1</th>\n",
              "      <td>15863</td>\n",
              "      <td>46</td>\n",
              "      <td>MALE'</td>\n",
              "      <td>15-AUG-10'</td>\n",
              "      <td>sudden loss of vision '</td>\n",
              "      <td>Retinal Detetchment '</td>\n",
              "      <td>B-Scan'</td>\n",
              "      <td>Repair  Surgery'</td>\n",
              "      <td>Satisfied '</td>\n",
              "      <td>Repair  Surgery'</td>\n",
              "    </tr>\n",
              "    <tr>\n",
              "      <th>2</th>\n",
              "      <td>15864</td>\n",
              "      <td>42</td>\n",
              "      <td>FEMALE'</td>\n",
              "      <td>01-JUL-10'</td>\n",
              "      <td>sudden loss of vision '</td>\n",
              "      <td>Vitrous Haemoriage'</td>\n",
              "      <td>B-Scan'</td>\n",
              "      <td>Vitractomy Surgery'</td>\n",
              "      <td>Treatment Going On'</td>\n",
              "      <td>Vitractomy Surgery'</td>\n",
              "    </tr>\n",
              "    <tr>\n",
              "      <th>3</th>\n",
              "      <td>15864</td>\n",
              "      <td>42</td>\n",
              "      <td>FEMALE'</td>\n",
              "      <td>10-AUG-10'</td>\n",
              "      <td>sudden loss of vision '</td>\n",
              "      <td>Vitrous Haemoriage'</td>\n",
              "      <td>B-Scan'</td>\n",
              "      <td>Vitractomy Surgery'</td>\n",
              "      <td>Satisfied '</td>\n",
              "      <td>Vitractomy Surgery'</td>\n",
              "    </tr>\n",
              "    <tr>\n",
              "      <th>4</th>\n",
              "      <td>15865</td>\n",
              "      <td>9</td>\n",
              "      <td>MALE'</td>\n",
              "      <td>01-JUL-10'</td>\n",
              "      <td>sudden loss of vision '</td>\n",
              "      <td>Retinal Detetchment '</td>\n",
              "      <td>B-Scan'</td>\n",
              "      <td>Repair  Surgery'</td>\n",
              "      <td>Treatment Going On'</td>\n",
              "      <td>Repair  Surgery'</td>\n",
              "    </tr>\n",
              "  </tbody>\n",
              "</table>\n",
              "</div>\n",
              "      <button class=\"colab-df-convert\" onclick=\"convertToInteractive('df-4fb98402-9205-4a7a-89d7-123ba5157c8f')\"\n",
              "              title=\"Convert this dataframe to an interactive table.\"\n",
              "              style=\"display:none;\">\n",
              "        \n",
              "  <svg xmlns=\"http://www.w3.org/2000/svg\" height=\"24px\"viewBox=\"0 0 24 24\"\n",
              "       width=\"24px\">\n",
              "    <path d=\"M0 0h24v24H0V0z\" fill=\"none\"/>\n",
              "    <path d=\"M18.56 5.44l.94 2.06.94-2.06 2.06-.94-2.06-.94-.94-2.06-.94 2.06-2.06.94zm-11 1L8.5 8.5l.94-2.06 2.06-.94-2.06-.94L8.5 2.5l-.94 2.06-2.06.94zm10 10l.94 2.06.94-2.06 2.06-.94-2.06-.94-.94-2.06-.94 2.06-2.06.94z\"/><path d=\"M17.41 7.96l-1.37-1.37c-.4-.4-.92-.59-1.43-.59-.52 0-1.04.2-1.43.59L10.3 9.45l-7.72 7.72c-.78.78-.78 2.05 0 2.83L4 21.41c.39.39.9.59 1.41.59.51 0 1.02-.2 1.41-.59l7.78-7.78 2.81-2.81c.8-.78.8-2.07 0-2.86zM5.41 20L4 18.59l7.72-7.72 1.47 1.35L5.41 20z\"/>\n",
              "  </svg>\n",
              "      </button>\n",
              "      \n",
              "  <style>\n",
              "    .colab-df-container {\n",
              "      display:flex;\n",
              "      flex-wrap:wrap;\n",
              "      gap: 12px;\n",
              "    }\n",
              "\n",
              "    .colab-df-convert {\n",
              "      background-color: #E8F0FE;\n",
              "      border: none;\n",
              "      border-radius: 50%;\n",
              "      cursor: pointer;\n",
              "      display: none;\n",
              "      fill: #1967D2;\n",
              "      height: 32px;\n",
              "      padding: 0 0 0 0;\n",
              "      width: 32px;\n",
              "    }\n",
              "\n",
              "    .colab-df-convert:hover {\n",
              "      background-color: #E2EBFA;\n",
              "      box-shadow: 0px 1px 2px rgba(60, 64, 67, 0.3), 0px 1px 3px 1px rgba(60, 64, 67, 0.15);\n",
              "      fill: #174EA6;\n",
              "    }\n",
              "\n",
              "    [theme=dark] .colab-df-convert {\n",
              "      background-color: #3B4455;\n",
              "      fill: #D2E3FC;\n",
              "    }\n",
              "\n",
              "    [theme=dark] .colab-df-convert:hover {\n",
              "      background-color: #434B5C;\n",
              "      box-shadow: 0px 1px 3px 1px rgba(0, 0, 0, 0.15);\n",
              "      filter: drop-shadow(0px 1px 2px rgba(0, 0, 0, 0.3));\n",
              "      fill: #FFFFFF;\n",
              "    }\n",
              "  </style>\n",
              "\n",
              "      <script>\n",
              "        const buttonEl =\n",
              "          document.querySelector('#df-4fb98402-9205-4a7a-89d7-123ba5157c8f button.colab-df-convert');\n",
              "        buttonEl.style.display =\n",
              "          google.colab.kernel.accessAllowed ? 'block' : 'none';\n",
              "\n",
              "        async function convertToInteractive(key) {\n",
              "          const element = document.querySelector('#df-4fb98402-9205-4a7a-89d7-123ba5157c8f');\n",
              "          const dataTable =\n",
              "            await google.colab.kernel.invokeFunction('convertToInteractive',\n",
              "                                                     [key], {});\n",
              "          if (!dataTable) return;\n",
              "\n",
              "          const docLinkHtml = 'Like what you see? Visit the ' +\n",
              "            '<a target=\"_blank\" href=https://colab.research.google.com/notebooks/data_table.ipynb>data table notebook</a>'\n",
              "            + ' to learn more about interactive tables.';\n",
              "          element.innerHTML = '';\n",
              "          dataTable['output_type'] = 'display_data';\n",
              "          await google.colab.output.renderOutput(dataTable, element);\n",
              "          const docLink = document.createElement('div');\n",
              "          docLink.innerHTML = docLinkHtml;\n",
              "          element.appendChild(docLink);\n",
              "        }\n",
              "      </script>\n",
              "    </div>\n",
              "  </div>\n",
              "  "
            ]
          },
          "metadata": {},
          "execution_count": 23
        }
      ]
    },
    {
      "cell_type": "code",
      "execution_count": null,
      "metadata": {
        "colab": {
          "base_uri": "https://localhost:8080/"
        },
        "id": "J031eR7B0tOF",
        "outputId": "6903a825-efae-4938-c3e9-4d9d46a3b934"
      },
      "outputs": [
        {
          "output_type": "execute_result",
          "data": {
            "text/plain": [
              "(835, 10)"
            ]
          },
          "metadata": {},
          "execution_count": 24
        }
      ],
      "source": [
        "ed.shape"
      ]
    },
    {
      "cell_type": "code",
      "source": [
        "ed['STR'].value_counts()"
      ],
      "metadata": {
        "colab": {
          "base_uri": "https://localhost:8080/"
        },
        "id": "8XYv7DFrqZTW",
        "outputId": "967dfd5e-6a46-49af-c6cf-14dcefdac134"
      },
      "execution_count": null,
      "outputs": [
        {
          "output_type": "execute_result",
          "data": {
            "text/plain": [
              "Vitractomy Surgery'                           254\n",
              "Repair  Surgery'                              173\n",
              "Yag Laser Peripherial Iridotomy'              145\n",
              "Navanac Eye Drop'                              87\n",
              "Yag LaserCapsulotomy'                          47\n",
              "Anti-Glaucoma Medication'                      45\n",
              "Neurological Surgery'                          18\n",
              "Tab: AZM,Navanac Eye Drop'                     15\n",
              "Tab: Vitamin A'                                15\n",
              "Corneal Transplantation '                       9\n",
              "Inj: Avastin,Navanac Eye Drop'                  8\n",
              "Inj: Avastin,Argon Laser '                      3\n",
              "Inj: Avastin ,'Navanac Eye Drop'                3\n",
              "Inj: Avastin ,Navanac Eye Drop'                 2\n",
              "Laser Peripherial Iridotomy'                    2\n",
              "Argon Laser '                                   1\n",
              "Trebyculectomy'                                 1\n",
              "Inj: Avastin,Navanac Eye Drop' '                1\n",
              "Inj: Avastin,Argon Laser'                       1\n",
              "Inj: Avastin ,'Tab: AZM,Navanac Eye Drop''      1\n",
              "Inj: Avastin ,'Tab: AZM,Navanac Eye Drop',      1\n",
              "Trebyculectomy,Anti-Glaucoma Medication'        1\n",
              "Inj: Avastin '                                  1\n",
              "Neurological Disorder'                          1\n",
              "Name: STR, dtype: int64"
            ]
          },
          "metadata": {},
          "execution_count": 25
        }
      ]
    },
    {
      "cell_type": "code",
      "source": [
        "ed['STR']=ed['STR'].replace(\"Inj: Avastin ,'Tab: AZM,Navanac Eye Drop''\",\"Inj: Avastin ,'Tab: AZM,Navanac Eye Drop'\")"
      ],
      "metadata": {
        "id": "e8UEQp-eCB4H"
      },
      "execution_count": null,
      "outputs": []
    },
    {
      "cell_type": "code",
      "source": [
        "ed['STR']=ed['STR'].replace([\"Inj: Avastin ,'Navanac Eye Drop'\",\"Inj: Avastin ,Navanac Eye Drop'\",\"Inj: Avastin,Navanac Eye Drop' '\"],\"Inj: Avastin,Navanac Eye Drop'\")"
      ],
      "metadata": {
        "id": "chHHMWxPCNtm"
      },
      "execution_count": null,
      "outputs": []
    },
    {
      "cell_type": "code",
      "source": [
        "ed['STR']=ed['STR'].replace(\"Inj: Avastin ,'Tab: AZM,Navanac Eye Drop',\",\"Inj: Avastin ,'Tab: AZM,Navanac Eye Drop'\")"
      ],
      "metadata": {
        "id": "Ggqo-Yt8ETRh"
      },
      "execution_count": null,
      "outputs": []
    },
    {
      "cell_type": "code",
      "source": [
        "ed['STR'].value_counts()"
      ],
      "metadata": {
        "colab": {
          "base_uri": "https://localhost:8080/"
        },
        "id": "J2YipBAQEed3",
        "outputId": "ec1bae48-c8d4-4fce-8685-c5bd4eb4acaf"
      },
      "execution_count": null,
      "outputs": [
        {
          "output_type": "execute_result",
          "data": {
            "text/plain": [
              "Vitractomy Surgery'                          254\n",
              "Repair  Surgery'                             173\n",
              "Yag Laser Peripherial Iridotomy'             145\n",
              "Navanac Eye Drop'                             87\n",
              "Yag LaserCapsulotomy'                         47\n",
              "Anti-Glaucoma Medication'                     45\n",
              "Neurological Surgery'                         18\n",
              "Tab: AZM,Navanac Eye Drop'                    15\n",
              "Tab: Vitamin A'                               15\n",
              "Inj: Avastin,Navanac Eye Drop'                14\n",
              "Corneal Transplantation '                      9\n",
              "Inj: Avastin,Argon Laser '                     3\n",
              "Inj: Avastin ,'Tab: AZM,Navanac Eye Drop'      2\n",
              "Laser Peripherial Iridotomy'                   2\n",
              "Trebyculectomy'                                1\n",
              "Argon Laser '                                  1\n",
              "Inj: Avastin,Argon Laser'                      1\n",
              "Trebyculectomy,Anti-Glaucoma Medication'       1\n",
              "Inj: Avastin '                                 1\n",
              "Neurological Disorder'                         1\n",
              "Name: STR, dtype: int64"
            ]
          },
          "metadata": {},
          "execution_count": 29
        }
      ]
    },
    {
      "cell_type": "code",
      "source": [
        "ed['LB'].replace([\"Navanac Eye Drop'\" , \"Anti-Glaucoma Medication'\",\"Tab: AZM,Navanac Eye Drop'\",\"Tab: Vitamin A'\",\"Corneal Transplantation '\"],1,inplace=True)"
      ],
      "metadata": {
        "id": "nw-pjZ3cqfmM"
      },
      "execution_count": null,
      "outputs": []
    },
    {
      "cell_type": "code",
      "source": [
        "ed['LB'].replace([\"Vitractomy Surgery'\" , \"Repair  Surgery'\",\"Yag Laser Peripherial Iridotomy'\",\"Yag LaserCapsulotomy'\",\"Anti-Glaucoma Medication'\",\"Inj: Avastin,Navanac Eye Drop'\",\"Neurological Surgery'\",\"Inj: Avastin,Argon Laser'\",\"Inj: Avastin ,'Navanac Eye Drop'\",\"Inj: Avastin ,Navanac Eye Drop'\",\"Laser Peripherial Iridotomy'\",\"Argon Laser '\",\"Trebyculectomy'\",\"Inj: Avastin,Navanac Eye Drop' '\",\"Inj: Avastin,Argon Laser '\",\"Inj: Avastin ,'Tab: AZM,Navanac Eye Drop''\",\"Inj: Avastin ,'Tab: AZM,Navanac Eye Drop',\",\"Trebyculectomy,Anti-Glaucoma Medication'\",\"Inj: Avastin '\",\"Inj: Avastin '\",\"Neurological Disorder'\"],0,inplace=True)"
      ],
      "metadata": {
        "id": "f1f64s63vY0i"
      },
      "execution_count": null,
      "outputs": []
    },
    {
      "cell_type": "code",
      "source": [
        "ed.to_csv('Updated_Eye_dataset2.csv')"
      ],
      "metadata": {
        "id": "Akbv-NiBGMcL"
      },
      "execution_count": null,
      "outputs": []
    },
    {
      "cell_type": "code",
      "source": [
        "ed.head(5)"
      ],
      "metadata": {
        "colab": {
          "base_uri": "https://localhost:8080/",
          "height": 206
        },
        "id": "twA4sU3Ws7ZH",
        "outputId": "b83a9be7-9b63-49c9-e2d3-274ca8301bce"
      },
      "execution_count": null,
      "outputs": [
        {
          "output_type": "execute_result",
          "data": {
            "text/plain": [
              "     PID  AGE      SEX        DATE                      PCM  \\\n",
              "0  15863   46    MALE'  01-JUL-10'  sudden loss of vision '   \n",
              "1  15863   46    MALE'  15-AUG-10'  sudden loss of vision '   \n",
              "2  15864   42  FEMALE'  01-JUL-10'  sudden loss of vision '   \n",
              "3  15864   42  FEMALE'  10-AUG-10'  sudden loss of vision '   \n",
              "4  15865    9    MALE'  01-JUL-10'  sudden loss of vision '   \n",
              "\n",
              "                     DGS      EXM                  STR                  PRK  \\\n",
              "0  Retinal Detetchment '  B-Scan'     Repair  Surgery'  Treatment Going On'   \n",
              "1  Retinal Detetchment '  B-Scan'     Repair  Surgery'          Satisfied '   \n",
              "2    Vitrous Haemoriage'  B-Scan'  Vitractomy Surgery'  Treatment Going On'   \n",
              "3    Vitrous Haemoriage'  B-Scan'  Vitractomy Surgery'          Satisfied '   \n",
              "4  Retinal Detetchment '  B-Scan'     Repair  Surgery'  Treatment Going On'   \n",
              "\n",
              "   LB  \n",
              "0   0  \n",
              "1   0  \n",
              "2   0  \n",
              "3   0  \n",
              "4   0  "
            ],
            "text/html": [
              "\n",
              "  <div id=\"df-3d6a3a9f-fc25-4ba9-9678-ca3a2c9b7997\">\n",
              "    <div class=\"colab-df-container\">\n",
              "      <div>\n",
              "<style scoped>\n",
              "    .dataframe tbody tr th:only-of-type {\n",
              "        vertical-align: middle;\n",
              "    }\n",
              "\n",
              "    .dataframe tbody tr th {\n",
              "        vertical-align: top;\n",
              "    }\n",
              "\n",
              "    .dataframe thead th {\n",
              "        text-align: right;\n",
              "    }\n",
              "</style>\n",
              "<table border=\"1\" class=\"dataframe\">\n",
              "  <thead>\n",
              "    <tr style=\"text-align: right;\">\n",
              "      <th></th>\n",
              "      <th>PID</th>\n",
              "      <th>AGE</th>\n",
              "      <th>SEX</th>\n",
              "      <th>DATE</th>\n",
              "      <th>PCM</th>\n",
              "      <th>DGS</th>\n",
              "      <th>EXM</th>\n",
              "      <th>STR</th>\n",
              "      <th>PRK</th>\n",
              "      <th>LB</th>\n",
              "    </tr>\n",
              "  </thead>\n",
              "  <tbody>\n",
              "    <tr>\n",
              "      <th>0</th>\n",
              "      <td>15863</td>\n",
              "      <td>46</td>\n",
              "      <td>MALE'</td>\n",
              "      <td>01-JUL-10'</td>\n",
              "      <td>sudden loss of vision '</td>\n",
              "      <td>Retinal Detetchment '</td>\n",
              "      <td>B-Scan'</td>\n",
              "      <td>Repair  Surgery'</td>\n",
              "      <td>Treatment Going On'</td>\n",
              "      <td>0</td>\n",
              "    </tr>\n",
              "    <tr>\n",
              "      <th>1</th>\n",
              "      <td>15863</td>\n",
              "      <td>46</td>\n",
              "      <td>MALE'</td>\n",
              "      <td>15-AUG-10'</td>\n",
              "      <td>sudden loss of vision '</td>\n",
              "      <td>Retinal Detetchment '</td>\n",
              "      <td>B-Scan'</td>\n",
              "      <td>Repair  Surgery'</td>\n",
              "      <td>Satisfied '</td>\n",
              "      <td>0</td>\n",
              "    </tr>\n",
              "    <tr>\n",
              "      <th>2</th>\n",
              "      <td>15864</td>\n",
              "      <td>42</td>\n",
              "      <td>FEMALE'</td>\n",
              "      <td>01-JUL-10'</td>\n",
              "      <td>sudden loss of vision '</td>\n",
              "      <td>Vitrous Haemoriage'</td>\n",
              "      <td>B-Scan'</td>\n",
              "      <td>Vitractomy Surgery'</td>\n",
              "      <td>Treatment Going On'</td>\n",
              "      <td>0</td>\n",
              "    </tr>\n",
              "    <tr>\n",
              "      <th>3</th>\n",
              "      <td>15864</td>\n",
              "      <td>42</td>\n",
              "      <td>FEMALE'</td>\n",
              "      <td>10-AUG-10'</td>\n",
              "      <td>sudden loss of vision '</td>\n",
              "      <td>Vitrous Haemoriage'</td>\n",
              "      <td>B-Scan'</td>\n",
              "      <td>Vitractomy Surgery'</td>\n",
              "      <td>Satisfied '</td>\n",
              "      <td>0</td>\n",
              "    </tr>\n",
              "    <tr>\n",
              "      <th>4</th>\n",
              "      <td>15865</td>\n",
              "      <td>9</td>\n",
              "      <td>MALE'</td>\n",
              "      <td>01-JUL-10'</td>\n",
              "      <td>sudden loss of vision '</td>\n",
              "      <td>Retinal Detetchment '</td>\n",
              "      <td>B-Scan'</td>\n",
              "      <td>Repair  Surgery'</td>\n",
              "      <td>Treatment Going On'</td>\n",
              "      <td>0</td>\n",
              "    </tr>\n",
              "  </tbody>\n",
              "</table>\n",
              "</div>\n",
              "      <button class=\"colab-df-convert\" onclick=\"convertToInteractive('df-3d6a3a9f-fc25-4ba9-9678-ca3a2c9b7997')\"\n",
              "              title=\"Convert this dataframe to an interactive table.\"\n",
              "              style=\"display:none;\">\n",
              "        \n",
              "  <svg xmlns=\"http://www.w3.org/2000/svg\" height=\"24px\"viewBox=\"0 0 24 24\"\n",
              "       width=\"24px\">\n",
              "    <path d=\"M0 0h24v24H0V0z\" fill=\"none\"/>\n",
              "    <path d=\"M18.56 5.44l.94 2.06.94-2.06 2.06-.94-2.06-.94-.94-2.06-.94 2.06-2.06.94zm-11 1L8.5 8.5l.94-2.06 2.06-.94-2.06-.94L8.5 2.5l-.94 2.06-2.06.94zm10 10l.94 2.06.94-2.06 2.06-.94-2.06-.94-.94-2.06-.94 2.06-2.06.94z\"/><path d=\"M17.41 7.96l-1.37-1.37c-.4-.4-.92-.59-1.43-.59-.52 0-1.04.2-1.43.59L10.3 9.45l-7.72 7.72c-.78.78-.78 2.05 0 2.83L4 21.41c.39.39.9.59 1.41.59.51 0 1.02-.2 1.41-.59l7.78-7.78 2.81-2.81c.8-.78.8-2.07 0-2.86zM5.41 20L4 18.59l7.72-7.72 1.47 1.35L5.41 20z\"/>\n",
              "  </svg>\n",
              "      </button>\n",
              "      \n",
              "  <style>\n",
              "    .colab-df-container {\n",
              "      display:flex;\n",
              "      flex-wrap:wrap;\n",
              "      gap: 12px;\n",
              "    }\n",
              "\n",
              "    .colab-df-convert {\n",
              "      background-color: #E8F0FE;\n",
              "      border: none;\n",
              "      border-radius: 50%;\n",
              "      cursor: pointer;\n",
              "      display: none;\n",
              "      fill: #1967D2;\n",
              "      height: 32px;\n",
              "      padding: 0 0 0 0;\n",
              "      width: 32px;\n",
              "    }\n",
              "\n",
              "    .colab-df-convert:hover {\n",
              "      background-color: #E2EBFA;\n",
              "      box-shadow: 0px 1px 2px rgba(60, 64, 67, 0.3), 0px 1px 3px 1px rgba(60, 64, 67, 0.15);\n",
              "      fill: #174EA6;\n",
              "    }\n",
              "\n",
              "    [theme=dark] .colab-df-convert {\n",
              "      background-color: #3B4455;\n",
              "      fill: #D2E3FC;\n",
              "    }\n",
              "\n",
              "    [theme=dark] .colab-df-convert:hover {\n",
              "      background-color: #434B5C;\n",
              "      box-shadow: 0px 1px 3px 1px rgba(0, 0, 0, 0.15);\n",
              "      filter: drop-shadow(0px 1px 2px rgba(0, 0, 0, 0.3));\n",
              "      fill: #FFFFFF;\n",
              "    }\n",
              "  </style>\n",
              "\n",
              "      <script>\n",
              "        const buttonEl =\n",
              "          document.querySelector('#df-3d6a3a9f-fc25-4ba9-9678-ca3a2c9b7997 button.colab-df-convert');\n",
              "        buttonEl.style.display =\n",
              "          google.colab.kernel.accessAllowed ? 'block' : 'none';\n",
              "\n",
              "        async function convertToInteractive(key) {\n",
              "          const element = document.querySelector('#df-3d6a3a9f-fc25-4ba9-9678-ca3a2c9b7997');\n",
              "          const dataTable =\n",
              "            await google.colab.kernel.invokeFunction('convertToInteractive',\n",
              "                                                     [key], {});\n",
              "          if (!dataTable) return;\n",
              "\n",
              "          const docLinkHtml = 'Like what you see? Visit the ' +\n",
              "            '<a target=\"_blank\" href=https://colab.research.google.com/notebooks/data_table.ipynb>data table notebook</a>'\n",
              "            + ' to learn more about interactive tables.';\n",
              "          element.innerHTML = '';\n",
              "          dataTable['output_type'] = 'display_data';\n",
              "          await google.colab.output.renderOutput(dataTable, element);\n",
              "          const docLink = document.createElement('div');\n",
              "          docLink.innerHTML = docLinkHtml;\n",
              "          element.appendChild(docLink);\n",
              "        }\n",
              "      </script>\n",
              "    </div>\n",
              "  </div>\n",
              "  "
            ]
          },
          "metadata": {},
          "execution_count": 33
        }
      ]
    },
    {
      "cell_type": "markdown",
      "metadata": {
        "id": "FqfSS-5nPvlg"
      },
      "source": [
        "**DATA PREPROCESSING**"
      ]
    },
    {
      "cell_type": "code",
      "execution_count": null,
      "metadata": {
        "id": "NV15b-IRIkzF"
      },
      "outputs": [],
      "source": [
        "ed=ed.replace('?', np.NaN)"
      ]
    },
    {
      "cell_type": "code",
      "execution_count": null,
      "metadata": {
        "colab": {
          "base_uri": "https://localhost:8080/"
        },
        "id": "cDGSPBAdItMg",
        "outputId": "7bfc8f3d-0703-41d3-ad88-bb4af6d149f1"
      },
      "outputs": [
        {
          "output_type": "execute_result",
          "data": {
            "text/plain": [
              "PID     0\n",
              "AGE     0\n",
              "SEX     0\n",
              "DATE    0\n",
              "PCM     0\n",
              "DGS     0\n",
              "EXM     0\n",
              "STR     0\n",
              "PRK     1\n",
              "LB      0\n",
              "dtype: int64"
            ]
          },
          "metadata": {},
          "execution_count": 35
        }
      ],
      "source": [
        "pd.isna(ed).sum()"
      ]
    },
    {
      "cell_type": "code",
      "execution_count": null,
      "metadata": {
        "id": "JKOWfFJkJdxX"
      },
      "outputs": [],
      "source": [
        "for column in ed.columns:\n",
        "    if ed[column].dtype == 'object':\n",
        "        ed[column].fillna(ed[column].mode()[0], inplace=True)"
      ]
    },
    {
      "cell_type": "code",
      "execution_count": null,
      "metadata": {
        "colab": {
          "base_uri": "https://localhost:8080/"
        },
        "id": "153ndKj5JjXq",
        "outputId": "51c4e466-dfa1-432b-ad2d-4269555ab1e9"
      },
      "outputs": [
        {
          "output_type": "execute_result",
          "data": {
            "text/plain": [
              "PID     0\n",
              "AGE     0\n",
              "SEX     0\n",
              "DATE    0\n",
              "PCM     0\n",
              "DGS     0\n",
              "EXM     0\n",
              "STR     0\n",
              "PRK     0\n",
              "LB      0\n",
              "dtype: int64"
            ]
          },
          "metadata": {},
          "execution_count": 37
        }
      ],
      "source": [
        "pd.isna(ed).sum()"
      ]
    },
    {
      "cell_type": "code",
      "execution_count": null,
      "metadata": {
        "colab": {
          "base_uri": "https://localhost:8080/",
          "height": 447
        },
        "id": "6_04vkCz7UwQ",
        "outputId": "6351253c-f0bf-4b61-dc18-88686ce3d1f2"
      },
      "outputs": [
        {
          "output_type": "execute_result",
          "data": {
            "text/plain": [
              "<Axes: >"
            ]
          },
          "metadata": {},
          "execution_count": 38
        },
        {
          "output_type": "display_data",
          "data": {
            "text/plain": [
              "<Figure size 640x480 with 1 Axes>"
            ],
            "image/png": "[encoded data removed]"
          },
          "metadata": {}
        }
      ],
      "source": [
        "\n",
        "sns.heatmap(ed.isnull(),yticklabels=False,cbar=False,cmap='viridis')\n"
      ]
    },
    {
      "cell_type": "markdown",
      "metadata": {
        "id": "v4xKTzHuQj6j"
      },
      "source": [
        "**DATA PREPERATION**"
      ]
    },
    {
      "cell_type": "code",
      "source": [
        "ed['STR'].value_counts()"
      ],
      "metadata": {
        "colab": {
          "base_uri": "https://localhost:8080/"
        },
        "id": "sQjKUl-cp-jH",
        "outputId": "169bed91-a1c0-47f7-c081-f7d3929c7d91"
      },
      "execution_count": null,
      "outputs": [
        {
          "output_type": "execute_result",
          "data": {
            "text/plain": [
              "Vitractomy Surgery'                          254\n",
              "Repair  Surgery'                             173\n",
              "Yag Laser Peripherial Iridotomy'             145\n",
              "Navanac Eye Drop'                             87\n",
              "Yag LaserCapsulotomy'                         47\n",
              "Anti-Glaucoma Medication'                     45\n",
              "Neurological Surgery'                         18\n",
              "Tab: AZM,Navanac Eye Drop'                    15\n",
              "Tab: Vitamin A'                               15\n",
              "Inj: Avastin,Navanac Eye Drop'                14\n",
              "Corneal Transplantation '                      9\n",
              "Inj: Avastin,Argon Laser '                     3\n",
              "Inj: Avastin ,'Tab: AZM,Navanac Eye Drop'      2\n",
              "Laser Peripherial Iridotomy'                   2\n",
              "Trebyculectomy'                                1\n",
              "Argon Laser '                                  1\n",
              "Inj: Avastin,Argon Laser'                      1\n",
              "Trebyculectomy,Anti-Glaucoma Medication'       1\n",
              "Inj: Avastin '                                 1\n",
              "Neurological Disorder'                         1\n",
              "Name: STR, dtype: int64"
            ]
          },
          "metadata": {},
          "execution_count": 39
        }
      ]
    },
    {
      "cell_type": "code",
      "execution_count": null,
      "metadata": {
        "colab": {
          "base_uri": "https://localhost:8080/"
        },
        "id": "AkrWIrNzA169",
        "outputId": "3ad1572e-5c19-4064-b1b7-34163acc9c0c"
      },
      "outputs": [
        {
          "output_type": "execute_result",
          "data": {
            "text/plain": [
              "MALE'      493\n",
              "FEMALE'    342\n",
              "Name: SEX, dtype: int64"
            ]
          },
          "metadata": {},
          "execution_count": 40
        }
      ],
      "source": [
        "ed['SEX'].value_counts() "
      ]
    },
    {
      "cell_type": "code",
      "execution_count": null,
      "metadata": {
        "colab": {
          "base_uri": "https://localhost:8080/",
          "height": 489
        },
        "id": "F0Hgrz8Ev-zR",
        "outputId": "c5252075-9afd-4840-e5ed-8d62c3591498"
      },
      "outputs": [
        {
          "output_type": "execute_result",
          "data": {
            "text/plain": [
              "Text(0, 0.5, 'Count')"
            ]
          },
          "metadata": {},
          "execution_count": 41
        },
        {
          "output_type": "display_data",
          "data": {
            "text/plain": [
              "<Figure size 640x480 with 1 Axes>"
            ],
            "image/png": "[encoded data removed]"
          },
          "metadata": {}
        }
      ],
      "source": [
        "sns.countplot(x=ed['SEX'])\n",
        "plt.title('Count plot of SEX')\n",
        "plt.xlabel('SEX')\n",
        "plt.ylabel('Count')"
      ]
    },
    {
      "cell_type": "code",
      "execution_count": null,
      "metadata": {
        "id": "IL8zFIv9Cpdo"
      },
      "outputs": [],
      "source": [
        "from sklearn.preprocessing import LabelEncoder\n",
        "le = LabelEncoder()\n",
        "df = le.fit_transform(ed['SEX'])\n",
        "ed['SEX']=df\n"
      ]
    },
    {
      "cell_type": "code",
      "execution_count": null,
      "metadata": {
        "colab": {
          "base_uri": "https://localhost:8080/"
        },
        "id": "-oZ_OFcJHB6_",
        "outputId": "93598fc5-b63d-4e28-dc23-8367e2d0970f"
      },
      "outputs": [
        {
          "output_type": "execute_result",
          "data": {
            "text/plain": [
              "27-SEP-10'    23\n",
              "20-JUL-10'    22\n",
              "06-JUL-10'    19\n",
              "30-SEP-10'    19\n",
              "15-JUL-10'    18\n",
              "              ..\n",
              "27-JUL-10      1\n",
              "07-DEC-10'     1\n",
              "09-SEP-10'     1\n",
              "09-SEP-10      1\n",
              "2-AUG-10'      1\n",
              "Name: DATE, Length: 146, dtype: int64"
            ]
          },
          "metadata": {},
          "execution_count": 43
        }
      ],
      "source": [
        "ed['DATE'].value_counts()"
      ]
    },
    {
      "cell_type": "code",
      "execution_count": null,
      "metadata": {
        "id": "PDBqv0ORHXDq"
      },
      "outputs": [],
      "source": [
        "df = le.fit_transform(ed['DATE'])\n",
        "ed['DATE']=df"
      ]
    },
    {
      "cell_type": "code",
      "execution_count": null,
      "metadata": {
        "colab": {
          "base_uri": "https://localhost:8080/"
        },
        "id": "NMNhe2dLEEL_",
        "outputId": "348ae452-8d98-455d-ab14-a81bc86b92ed"
      },
      "outputs": [
        {
          "output_type": "execute_result",
          "data": {
            "text/plain": [
              "Blured Vision '                         396\n",
              "Raised Intra Occular Pressure '         149\n",
              "sudden loss of vision '                 135\n",
              "Decrease Vision '                        80\n",
              "Loss Of Peripherial Field of Vision'     66\n",
              "Decrease Vision in Both Eye'              9\n",
              "Name: PCM, dtype: int64"
            ]
          },
          "metadata": {},
          "execution_count": 45
        }
      ],
      "source": [
        "ed['PCM'].value_counts()"
      ]
    },
    {
      "cell_type": "code",
      "execution_count": null,
      "metadata": {
        "id": "4SlV9aFdDDoz"
      },
      "outputs": [],
      "source": [
        "df = le.fit_transform(ed['PCM'])\n",
        "ed['PCM']=df"
      ]
    },
    {
      "cell_type": "code",
      "execution_count": null,
      "metadata": {
        "colab": {
          "base_uri": "https://localhost:8080/"
        },
        "id": "uj7GYRvgESBj",
        "outputId": "8de73df7-06c8-47d9-db01-76942ca5cbbc"
      },
      "outputs": [
        {
          "output_type": "execute_result",
          "data": {
            "text/plain": [
              "Vitrous Haemoriage'                  246\n",
              "Retinal Detetchment '                180\n",
              "Angle Occular Glacoma'               148\n",
              "Postirior Capsular Opacification'     48\n",
              "Glaucoma'                             45\n",
              "Diabetic Retinopathy'                 39\n",
              "CSCR'                                 25\n",
              "CRVO'                                 22\n",
              "Macular Oedema'                       21\n",
              "Neurological Disorder'                21\n",
              "Temporal Defect'                      16\n",
              "Retinitis Pigmentosa '                14\n",
              "Keretoconrus '                         9\n",
              "Pigmentosa'                            1\n",
              "Name: DGS, dtype: int64"
            ]
          },
          "metadata": {},
          "execution_count": 47
        }
      ],
      "source": [
        "ed['DGS'].value_counts()"
      ]
    },
    {
      "cell_type": "code",
      "execution_count": null,
      "metadata": {
        "colab": {
          "base_uri": "https://localhost:8080/",
          "height": 680
        },
        "id": "FUePsWSTwvGt",
        "outputId": "0676e657-294d-48ed-a1d1-6e3052509b1e"
      },
      "outputs": [
        {
          "output_type": "display_data",
          "data": {
            "text/plain": [
              "<Figure size 640x480 with 1 Axes>"
            ],
            "image/png": "[encoded data removed]"
          },
          "metadata": {}
        }
      ],
      "source": [
        "sns.countplot(x=ed['DGS'])\n",
        "plt.title('Count plot of DGS')\n",
        "plt.xlabel('DGS')\n",
        "plt.ylabel('Count')\n",
        "plt.xticks(rotation=90)\n",
        "plt.show()"
      ]
    },
    {
      "cell_type": "code",
      "execution_count": null,
      "metadata": {
        "id": "NDW_geTdHw3a"
      },
      "outputs": [],
      "source": [
        "df = le.fit_transform(ed['DGS'])\n",
        "ed['DGS']=df\n"
      ]
    },
    {
      "cell_type": "code",
      "execution_count": null,
      "metadata": {
        "colab": {
          "base_uri": "https://localhost:8080/"
        },
        "id": "VBZFq6rdG9zR",
        "outputId": "1b5efda7-2bbd-4bf4-b404-32ad60cf989f"
      },
      "outputs": [
        {
          "output_type": "execute_result",
          "data": {
            "text/plain": [
              "B-Scan'                427\n",
              "Yag Laser'             192\n",
              "FFA'                    68\n",
              "Perimetry'              68\n",
              "Argon Laser Grid'       29\n",
              "Argon Laser  PRP'       21\n",
              "Argon Laser BRVO'       21\n",
              "Corneal Topography'      9\n",
              "Name: EXM, dtype: int64"
            ]
          },
          "metadata": {},
          "execution_count": 50
        }
      ],
      "source": [
        "\n",
        "ed['EXM'].value_counts()"
      ]
    },
    {
      "cell_type": "code",
      "execution_count": null,
      "metadata": {
        "colab": {
          "base_uri": "https://localhost:8080/",
          "height": 601
        },
        "id": "NF75v_-Nw_yi",
        "outputId": "1e6508e9-7f83-44cb-8554-ec518462c3e0"
      },
      "outputs": [
        {
          "output_type": "display_data",
          "data": {
            "text/plain": [
              "<Figure size 640x480 with 1 Axes>"
            ],
            "image/png": "[encoded data removed]"
          },
          "metadata": {}
        }
      ],
      "source": [
        "sns.countplot(x=ed['EXM'])\n",
        "plt.title('Count plot of EXM')\n",
        "plt.xlabel('EXM')\n",
        "plt.ylabel('Count')\n",
        "plt.xticks(rotation=90)\n",
        "plt.show()"
      ]
    },
    {
      "cell_type": "code",
      "execution_count": null,
      "metadata": {
        "id": "jydcla5EEokV"
      },
      "outputs": [],
      "source": [
        "df = le.fit_transform(ed['EXM'])\n",
        "ed['EXM']=df\n"
      ]
    },
    {
      "cell_type": "code",
      "execution_count": null,
      "metadata": {
        "colab": {
          "base_uri": "https://localhost:8080/"
        },
        "id": "49GLRhH-HMKm",
        "outputId": "80435e01-9035-48bd-ecd7-e4c3e1acdb56"
      },
      "outputs": [
        {
          "output_type": "execute_result",
          "data": {
            "text/plain": [
              "Vitractomy Surgery'                          254\n",
              "Repair  Surgery'                             173\n",
              "Yag Laser Peripherial Iridotomy'             145\n",
              "Navanac Eye Drop'                             87\n",
              "Yag LaserCapsulotomy'                         47\n",
              "Anti-Glaucoma Medication'                     45\n",
              "Neurological Surgery'                         18\n",
              "Tab: AZM,Navanac Eye Drop'                    15\n",
              "Tab: Vitamin A'                               15\n",
              "Inj: Avastin,Navanac Eye Drop'                14\n",
              "Corneal Transplantation '                      9\n",
              "Inj: Avastin,Argon Laser '                     3\n",
              "Inj: Avastin ,'Tab: AZM,Navanac Eye Drop'      2\n",
              "Laser Peripherial Iridotomy'                   2\n",
              "Trebyculectomy'                                1\n",
              "Argon Laser '                                  1\n",
              "Inj: Avastin,Argon Laser'                      1\n",
              "Trebyculectomy,Anti-Glaucoma Medication'       1\n",
              "Inj: Avastin '                                 1\n",
              "Neurological Disorder'                         1\n",
              "Name: STR, dtype: int64"
            ]
          },
          "metadata": {},
          "execution_count": 53
        }
      ],
      "source": [
        "ed['STR'].value_counts()"
      ]
    },
    {
      "cell_type": "code",
      "execution_count": null,
      "metadata": {
        "colab": {
          "base_uri": "https://localhost:8080/",
          "height": 759
        },
        "id": "zkDsVyfDyJOt",
        "outputId": "7625dd6b-b0c6-4877-d02d-e44c434f1825"
      },
      "outputs": [
        {
          "output_type": "display_data",
          "data": {
            "text/plain": [
              "<Figure size 640x480 with 1 Axes>"
            ],
            "image/png": "[encoded data removed]"
          },
          "metadata": {}
        }
      ],
      "source": [
        "sns.countplot(x=ed['STR'])\n",
        "plt.title('Count plot of STR')\n",
        "plt.xlabel('STR')\n",
        "plt.ylabel('Count')\n",
        "plt.xticks(rotation=90)\n",
        "plt.show()"
      ]
    },
    {
      "cell_type": "code",
      "execution_count": null,
      "metadata": {
        "id": "aetsp_BwH1Sx"
      },
      "outputs": [],
      "source": [
        "df = le.fit_transform(ed['STR'])\n",
        "ed['STR']=df\n"
      ]
    },
    {
      "cell_type": "code",
      "execution_count": null,
      "metadata": {
        "colab": {
          "base_uri": "https://localhost:8080/"
        },
        "id": "J2Br1pWnHO5D",
        "outputId": "c723d7ee-fa26-4c10-a766-ce4dc0ddeb81"
      },
      "outputs": [
        {
          "output_type": "execute_result",
          "data": {
            "text/plain": [
              "Satisfied '                        426\n",
              "Treatment Going On'                178\n",
              "UnSatisfied '                      139\n",
              "Leave Against Medical Advise'       84\n",
              "Leave Against Medical Record  '      8\n",
              "Name: PRK, dtype: int64"
            ]
          },
          "metadata": {},
          "execution_count": 56
        }
      ],
      "source": [
        "ed['PRK'].value_counts()"
      ]
    },
    {
      "cell_type": "code",
      "execution_count": null,
      "metadata": {
        "colab": {
          "base_uri": "https://localhost:8080/",
          "height": 678
        },
        "id": "K9Ka7tAzxHlo",
        "outputId": "ebc1b41c-586a-4a47-ee81-cfaef45a1015"
      },
      "outputs": [
        {
          "output_type": "display_data",
          "data": {
            "text/plain": [
              "<Figure size 640x480 with 1 Axes>"
            ],
            "image/png": "[encoded data removed]"
          },
          "metadata": {}
        }
      ],
      "source": [
        "sns.countplot(x=ed['PRK'])\n",
        "plt.title('Count plot of PRK')\n",
        "plt.xlabel('PRK')\n",
        "plt.ylabel('Count')\n",
        "plt.xticks(rotation=90)\n",
        "plt.show()"
      ]
    },
    {
      "cell_type": "code",
      "execution_count": null,
      "metadata": {
        "id": "ZJ09lcyjH4Ch"
      },
      "outputs": [],
      "source": [
        "\n",
        "df = le.fit_transform(ed['PRK'])\n",
        "ed['PRK']=df\n"
      ]
    },
    {
      "cell_type": "code",
      "execution_count": null,
      "metadata": {
        "colab": {
          "base_uri": "https://localhost:8080/",
          "height": 206
        },
        "id": "vqwbAF2wH77e",
        "outputId": "1c7be06c-d1d2-4b31-f4f8-772d24f10e84"
      },
      "outputs": [
        {
          "output_type": "execute_result",
          "data": {
            "text/plain": [
              "     PID  AGE  SEX  DATE  PCM  DGS  EXM  STR  PRK  LB\n",
              "0  15863   46    1     1    5   10    3   12    3   0\n",
              "1  15863   46    1    65    5   10    3   12    2   0\n",
              "2  15864   42    0     1    5   13    3   17    3   0\n",
              "3  15864   42    0    42    5   13    3   17    2   0\n",
              "4  15865    9    1     1    5   10    3   12    3   0"
            ],
            "text/html": [
              "\n",
              "  <div id=\"df-1088d5cb-d641-412b-ad51-14e569a8697d\">\n",
              "    <div class=\"colab-df-container\">\n",
              "      <div>\n",
              "<style scoped>\n",
              "    .dataframe tbody tr th:only-of-type {\n",
              "        vertical-align: middle;\n",
              "    }\n",
              "\n",
              "    .dataframe tbody tr th {\n",
              "        vertical-align: top;\n",
              "    }\n",
              "\n",
              "    .dataframe thead th {\n",
              "        text-align: right;\n",
              "    }\n",
              "</style>\n",
              "<table border=\"1\" class=\"dataframe\">\n",
              "  <thead>\n",
              "    <tr style=\"text-align: right;\">\n",
              "      <th></th>\n",
              "      <th>PID</th>\n",
              "      <th>AGE</th>\n",
              "      <th>SEX</th>\n",
              "      <th>DATE</th>\n",
              "      <th>PCM</th>\n",
              "      <th>DGS</th>\n",
              "      <th>EXM</th>\n",
              "      <th>STR</th>\n",
              "      <th>PRK</th>\n",
              "      <th>LB</th>\n",
              "    </tr>\n",
              "  </thead>\n",
              "  <tbody>\n",
              "    <tr>\n",
              "      <th>0</th>\n",
              "      <td>15863</td>\n",
              "      <td>46</td>\n",
              "      <td>1</td>\n",
              "      <td>1</td>\n",
              "      <td>5</td>\n",
              "      <td>10</td>\n",
              "      <td>3</td>\n",
              "      <td>12</td>\n",
              "      <td>3</td>\n",
              "      <td>0</td>\n",
              "    </tr>\n",
              "    <tr>\n",
              "      <th>1</th>\n",
              "      <td>15863</td>\n",
              "      <td>46</td>\n",
              "      <td>1</td>\n",
              "      <td>65</td>\n",
              "      <td>5</td>\n",
              "      <td>10</td>\n",
              "      <td>3</td>\n",
              "      <td>12</td>\n",
              "      <td>2</td>\n",
              "      <td>0</td>\n",
              "    </tr>\n",
              "    <tr>\n",
              "      <th>2</th>\n",
              "      <td>15864</td>\n",
              "      <td>42</td>\n",
              "      <td>0</td>\n",
              "      <td>1</td>\n",
              "      <td>5</td>\n",
              "      <td>13</td>\n",
              "      <td>3</td>\n",
              "      <td>17</td>\n",
              "      <td>3</td>\n",
              "      <td>0</td>\n",
              "    </tr>\n",
              "    <tr>\n",
              "      <th>3</th>\n",
              "      <td>15864</td>\n",
              "      <td>42</td>\n",
              "      <td>0</td>\n",
              "      <td>42</td>\n",
              "      <td>5</td>\n",
              "      <td>13</td>\n",
              "      <td>3</td>\n",
              "      <td>17</td>\n",
              "      <td>2</td>\n",
              "      <td>0</td>\n",
              "    </tr>\n",
              "    <tr>\n",
              "      <th>4</th>\n",
              "      <td>15865</td>\n",
              "      <td>9</td>\n",
              "      <td>1</td>\n",
              "      <td>1</td>\n",
              "      <td>5</td>\n",
              "      <td>10</td>\n",
              "      <td>3</td>\n",
              "      <td>12</td>\n",
              "      <td>3</td>\n",
              "      <td>0</td>\n",
              "    </tr>\n",
              "  </tbody>\n",
              "</table>\n",
              "</div>\n",
              "      <button class=\"colab-df-convert\" onclick=\"convertToInteractive('df-1088d5cb-d641-412b-ad51-14e569a8697d')\"\n",
              "              title=\"Convert this dataframe to an interactive table.\"\n",
              "              style=\"display:none;\">\n",
              "        \n",
              "  <svg xmlns=\"http://www.w3.org/2000/svg\" height=\"24px\"viewBox=\"0 0 24 24\"\n",
              "       width=\"24px\">\n",
              "    <path d=\"M0 0h24v24H0V0z\" fill=\"none\"/>\n",
              "    <path d=\"M18.56 5.44l.94 2.06.94-2.06 2.06-.94-2.06-.94-.94-2.06-.94 2.06-2.06.94zm-11 1L8.5 8.5l.94-2.06 2.06-.94-2.06-.94L8.5 2.5l-.94 2.06-2.06.94zm10 10l.94 2.06.94-2.06 2.06-.94-2.06-.94-.94-2.06-.94 2.06-2.06.94z\"/><path d=\"M17.41 7.96l-1.37-1.37c-.4-.4-.92-.59-1.43-.59-.52 0-1.04.2-1.43.59L10.3 9.45l-7.72 7.72c-.78.78-.78 2.05 0 2.83L4 21.41c.39.39.9.59 1.41.59.51 0 1.02-.2 1.41-.59l7.78-7.78 2.81-2.81c.8-.78.8-2.07 0-2.86zM5.41 20L4 18.59l7.72-7.72 1.47 1.35L5.41 20z\"/>\n",
              "  </svg>\n",
              "      </button>\n",
              "      \n",
              "  <style>\n",
              "    .colab-df-container {\n",
              "      display:flex;\n",
              "      flex-wrap:wrap;\n",
              "      gap: 12px;\n",
              "    }\n",
              "\n",
              "    .colab-df-convert {\n",
              "      background-color: #E8F0FE;\n",
              "      border: none;\n",
              "      border-radius: 50%;\n",
              "      cursor: pointer;\n",
              "      display: none;\n",
              "      fill: #1967D2;\n",
              "      height: 32px;\n",
              "      padding: 0 0 0 0;\n",
              "      width: 32px;\n",
              "    }\n",
              "\n",
              "    .colab-df-convert:hover {\n",
              "      background-color: #E2EBFA;\n",
              "      box-shadow: 0px 1px 2px rgba(60, 64, 67, 0.3), 0px 1px 3px 1px rgba(60, 64, 67, 0.15);\n",
              "      fill: #174EA6;\n",
              "    }\n",
              "\n",
              "    [theme=dark] .colab-df-convert {\n",
              "      background-color: #3B4455;\n",
              "      fill: #D2E3FC;\n",
              "    }\n",
              "\n",
              "    [theme=dark] .colab-df-convert:hover {\n",
              "      background-color: #434B5C;\n",
              "      box-shadow: 0px 1px 3px 1px rgba(0, 0, 0, 0.15);\n",
              "      filter: drop-shadow(0px 1px 2px rgba(0, 0, 0, 0.3));\n",
              "      fill: #FFFFFF;\n",
              "    }\n",
              "  </style>\n",
              "\n",
              "      <script>\n",
              "        const buttonEl =\n",
              "          document.querySelector('#df-1088d5cb-d641-412b-ad51-14e569a8697d button.colab-df-convert');\n",
              "        buttonEl.style.display =\n",
              "          google.colab.kernel.accessAllowed ? 'block' : 'none';\n",
              "\n",
              "        async function convertToInteractive(key) {\n",
              "          const element = document.querySelector('#df-1088d5cb-d641-412b-ad51-14e569a8697d');\n",
              "          const dataTable =\n",
              "            await google.colab.kernel.invokeFunction('convertToInteractive',\n",
              "                                                     [key], {});\n",
              "          if (!dataTable) return;\n",
              "\n",
              "          const docLinkHtml = 'Like what you see? Visit the ' +\n",
              "            '<a target=\"_blank\" href=https://colab.research.google.com/notebooks/data_table.ipynb>data table notebook</a>'\n",
              "            + ' to learn more about interactive tables.';\n",
              "          element.innerHTML = '';\n",
              "          dataTable['output_type'] = 'display_data';\n",
              "          await google.colab.output.renderOutput(dataTable, element);\n",
              "          const docLink = document.createElement('div');\n",
              "          docLink.innerHTML = docLinkHtml;\n",
              "          element.appendChild(docLink);\n",
              "        }\n",
              "      </script>\n",
              "    </div>\n",
              "  </div>\n",
              "  "
            ]
          },
          "metadata": {},
          "execution_count": 59
        }
      ],
      "source": [
        "ed.head()"
      ]
    },
    {
      "cell_type": "markdown",
      "metadata": {
        "id": "D2ez21y6QztS"
      },
      "source": [
        "**OUTLIER DETECTION AND REMOVAL**"
      ]
    },
    {
      "cell_type": "code",
      "execution_count": null,
      "metadata": {
        "id": "3zi236LgzcAN"
      },
      "outputs": [],
      "source": [
        "columns=['PID','AGE','SEX','DATE','PCM','DGS','EXM','STR','PRK','LB']"
      ]
    },
    {
      "cell_type": "code",
      "execution_count": null,
      "metadata": {
        "colab": {
          "base_uri": "https://localhost:8080/",
          "height": 730
        },
        "id": "hwUs-BMczZtv",
        "outputId": "9da07c00-85d2-4be5-8688-9994814ebe86"
      },
      "outputs": [
        {
          "output_type": "display_data",
          "data": {
            "text/plain": [
              "<Figure size 2000x1000 with 12 Axes>"
            ],
            "image/png": "[encoded data removed]"
          },
          "metadata": {}
        }
      ],
      "source": [
        "def boxplots_custom(dataset, columns_list, rows, cols, suptitle):\n",
        "    fig, axs = plt.subplots(rows, cols, sharey=True, figsize=(20,10))\n",
        "    fig.suptitle(suptitle,y=1, size=25)\n",
        "    axs = axs.flatten()\n",
        "    for i, data in enumerate(columns_list):\n",
        "        sns.boxplot(data=dataset[data], orient='h', ax=axs[i])\n",
        "        axs[i].set_title(data + ', skewness is: '+str(round(dataset[data].skew(axis = 0, skipna = True),2)))\n",
        "boxplots_custom(dataset=ed, columns_list=columns, rows=4, cols=3, suptitle='Boxplots for each variable')\n",
        "plt.tight_layout()"
      ]
    },
    {
      "cell_type": "code",
      "execution_count": null,
      "metadata": {
        "id": "bQUEKBlDChnb"
      },
      "outputs": [],
      "source": [
        "# Define a function to remove outliers based on z-score\n",
        "def remove_outliers_zscore(df, columns, threshold=3):\n",
        "    # Loop through each column\n",
        "    for col in columns:\n",
        "        # Calculate the z-score for each data point in the column\n",
        "        z_scores = np.abs((df[col] - df[col].mean()) / df[col].std())\n",
        "        # Replace the data points that have a z-score greater than the threshold with NaN\n",
        "        df[col][z_scores > threshold] = np.nan\n",
        "    # Drop the rows with NaN values\n",
        "    df.dropna(inplace=True)\n",
        "columns=['STR']\n",
        "# Call the remove_outliers_zscore function\n",
        "remove_outliers_zscore(ed, columns)\n"
      ]
    },
    {
      "cell_type": "code",
      "execution_count": null,
      "metadata": {
        "colab": {
          "base_uri": "https://localhost:8080/"
        },
        "id": "hWToxb4Bz6MW",
        "outputId": "c2512566-c75e-4f10-8846-2876a5d7b7b9"
      },
      "outputs": [
        {
          "output_type": "execute_result",
          "data": {
            "text/plain": [
              "(835, 10)"
            ]
          },
          "metadata": {},
          "execution_count": 63
        }
      ],
      "source": [
        "ed.shape"
      ]
    },
    {
      "cell_type": "code",
      "source": [
        "ed.head()"
      ],
      "metadata": {
        "colab": {
          "base_uri": "https://localhost:8080/",
          "height": 206
        },
        "id": "SS28k8fffIF-",
        "outputId": "03e6d568-343b-48dd-da32-f8c850109821"
      },
      "execution_count": null,
      "outputs": [
        {
          "output_type": "execute_result",
          "data": {
            "text/plain": [
              "     PID  AGE  SEX  DATE  PCM  DGS  EXM  STR  PRK  LB\n",
              "0  15863   46    1     1    5   10    3   12    3   0\n",
              "1  15863   46    1    65    5   10    3   12    2   0\n",
              "2  15864   42    0     1    5   13    3   17    3   0\n",
              "3  15864   42    0    42    5   13    3   17    2   0\n",
              "4  15865    9    1     1    5   10    3   12    3   0"
            ],
            "text/html": [
              "\n",
              "  <div id=\"df-e2062a09-b5d0-4254-abf5-84bef26083b4\">\n",
              "    <div class=\"colab-df-container\">\n",
              "      <div>\n",
              "<style scoped>\n",
              "    .dataframe tbody tr th:only-of-type {\n",
              "        vertical-align: middle;\n",
              "    }\n",
              "\n",
              "    .dataframe tbody tr th {\n",
              "        vertical-align: top;\n",
              "    }\n",
              "\n",
              "    .dataframe thead th {\n",
              "        text-align: right;\n",
              "    }\n",
              "</style>\n",
              "<table border=\"1\" class=\"dataframe\">\n",
              "  <thead>\n",
              "    <tr style=\"text-align: right;\">\n",
              "      <th></th>\n",
              "      <th>PID</th>\n",
              "      <th>AGE</th>\n",
              "      <th>SEX</th>\n",
              "      <th>DATE</th>\n",
              "      <th>PCM</th>\n",
              "      <th>DGS</th>\n",
              "      <th>EXM</th>\n",
              "      <th>STR</th>\n",
              "      <th>PRK</th>\n",
              "      <th>LB</th>\n",
              "    </tr>\n",
              "  </thead>\n",
              "  <tbody>\n",
              "    <tr>\n",
              "      <th>0</th>\n",
              "      <td>15863</td>\n",
              "      <td>46</td>\n",
              "      <td>1</td>\n",
              "      <td>1</td>\n",
              "      <td>5</td>\n",
              "      <td>10</td>\n",
              "      <td>3</td>\n",
              "      <td>12</td>\n",
              "      <td>3</td>\n",
              "      <td>0</td>\n",
              "    </tr>\n",
              "    <tr>\n",
              "      <th>1</th>\n",
              "      <td>15863</td>\n",
              "      <td>46</td>\n",
              "      <td>1</td>\n",
              "      <td>65</td>\n",
              "      <td>5</td>\n",
              "      <td>10</td>\n",
              "      <td>3</td>\n",
              "      <td>12</td>\n",
              "      <td>2</td>\n",
              "      <td>0</td>\n",
              "    </tr>\n",
              "    <tr>\n",
              "      <th>2</th>\n",
              "      <td>15864</td>\n",
              "      <td>42</td>\n",
              "      <td>0</td>\n",
              "      <td>1</td>\n",
              "      <td>5</td>\n",
              "      <td>13</td>\n",
              "      <td>3</td>\n",
              "      <td>17</td>\n",
              "      <td>3</td>\n",
              "      <td>0</td>\n",
              "    </tr>\n",
              "    <tr>\n",
              "      <th>3</th>\n",
              "      <td>15864</td>\n",
              "      <td>42</td>\n",
              "      <td>0</td>\n",
              "      <td>42</td>\n",
              "      <td>5</td>\n",
              "      <td>13</td>\n",
              "      <td>3</td>\n",
              "      <td>17</td>\n",
              "      <td>2</td>\n",
              "      <td>0</td>\n",
              "    </tr>\n",
              "    <tr>\n",
              "      <th>4</th>\n",
              "      <td>15865</td>\n",
              "      <td>9</td>\n",
              "      <td>1</td>\n",
              "      <td>1</td>\n",
              "      <td>5</td>\n",
              "      <td>10</td>\n",
              "      <td>3</td>\n",
              "      <td>12</td>\n",
              "      <td>3</td>\n",
              "      <td>0</td>\n",
              "    </tr>\n",
              "  </tbody>\n",
              "</table>\n",
              "</div>\n",
              "      <button class=\"colab-df-convert\" onclick=\"convertToInteractive('df-e2062a09-b5d0-4254-abf5-84bef26083b4')\"\n",
              "              title=\"Convert this dataframe to an interactive table.\"\n",
              "              style=\"display:none;\">\n",
              "        \n",
              "  <svg xmlns=\"http://www.w3.org/2000/svg\" height=\"24px\"viewBox=\"0 0 24 24\"\n",
              "       width=\"24px\">\n",
              "    <path d=\"M0 0h24v24H0V0z\" fill=\"none\"/>\n",
              "    <path d=\"M18.56 5.44l.94 2.06.94-2.06 2.06-.94-2.06-.94-.94-2.06-.94 2.06-2.06.94zm-11 1L8.5 8.5l.94-2.06 2.06-.94-2.06-.94L8.5 2.5l-.94 2.06-2.06.94zm10 10l.94 2.06.94-2.06 2.06-.94-2.06-.94-.94-2.06-.94 2.06-2.06.94z\"/><path d=\"M17.41 7.96l-1.37-1.37c-.4-.4-.92-.59-1.43-.59-.52 0-1.04.2-1.43.59L10.3 9.45l-7.72 7.72c-.78.78-.78 2.05 0 2.83L4 21.41c.39.39.9.59 1.41.59.51 0 1.02-.2 1.41-.59l7.78-7.78 2.81-2.81c.8-.78.8-2.07 0-2.86zM5.41 20L4 18.59l7.72-7.72 1.47 1.35L5.41 20z\"/>\n",
              "  </svg>\n",
              "      </button>\n",
              "      \n",
              "  <style>\n",
              "    .colab-df-container {\n",
              "      display:flex;\n",
              "      flex-wrap:wrap;\n",
              "      gap: 12px;\n",
              "    }\n",
              "\n",
              "    .colab-df-convert {\n",
              "      background-color: #E8F0FE;\n",
              "      border: none;\n",
              "      border-radius: 50%;\n",
              "      cursor: pointer;\n",
              "      display: none;\n",
              "      fill: #1967D2;\n",
              "      height: 32px;\n",
              "      padding: 0 0 0 0;\n",
              "      width: 32px;\n",
              "    }\n",
              "\n",
              "    .colab-df-convert:hover {\n",
              "      background-color: #E2EBFA;\n",
              "      box-shadow: 0px 1px 2px rgba(60, 64, 67, 0.3), 0px 1px 3px 1px rgba(60, 64, 67, 0.15);\n",
              "      fill: #174EA6;\n",
              "    }\n",
              "\n",
              "    [theme=dark] .colab-df-convert {\n",
              "      background-color: #3B4455;\n",
              "      fill: #D2E3FC;\n",
              "    }\n",
              "\n",
              "    [theme=dark] .colab-df-convert:hover {\n",
              "      background-color: #434B5C;\n",
              "      box-shadow: 0px 1px 3px 1px rgba(0, 0, 0, 0.15);\n",
              "      filter: drop-shadow(0px 1px 2px rgba(0, 0, 0, 0.3));\n",
              "      fill: #FFFFFF;\n",
              "    }\n",
              "  </style>\n",
              "\n",
              "      <script>\n",
              "        const buttonEl =\n",
              "          document.querySelector('#df-e2062a09-b5d0-4254-abf5-84bef26083b4 button.colab-df-convert');\n",
              "        buttonEl.style.display =\n",
              "          google.colab.kernel.accessAllowed ? 'block' : 'none';\n",
              "\n",
              "        async function convertToInteractive(key) {\n",
              "          const element = document.querySelector('#df-e2062a09-b5d0-4254-abf5-84bef26083b4');\n",
              "          const dataTable =\n",
              "            await google.colab.kernel.invokeFunction('convertToInteractive',\n",
              "                                                     [key], {});\n",
              "          if (!dataTable) return;\n",
              "\n",
              "          const docLinkHtml = 'Like what you see? Visit the ' +\n",
              "            '<a target=\"_blank\" href=https://colab.research.google.com/notebooks/data_table.ipynb>data table notebook</a>'\n",
              "            + ' to learn more about interactive tables.';\n",
              "          element.innerHTML = '';\n",
              "          dataTable['output_type'] = 'display_data';\n",
              "          await google.colab.output.renderOutput(dataTable, element);\n",
              "          const docLink = document.createElement('div');\n",
              "          docLink.innerHTML = docLinkHtml;\n",
              "          element.appendChild(docLink);\n",
              "        }\n",
              "      </script>\n",
              "    </div>\n",
              "  </div>\n",
              "  "
            ]
          },
          "metadata": {},
          "execution_count": 64
        }
      ]
    },
    {
      "cell_type": "code",
      "source": [
        "ed['LB'].value_counts()"
      ],
      "metadata": {
        "colab": {
          "base_uri": "https://localhost:8080/"
        },
        "id": "mkL5y4dIyLFU",
        "outputId": "d221b4a5-c73c-423c-fef3-469bd9600506"
      },
      "execution_count": null,
      "outputs": [
        {
          "output_type": "execute_result",
          "data": {
            "text/plain": [
              "0    664\n",
              "1    171\n",
              "Name: LB, dtype: int64"
            ]
          },
          "metadata": {},
          "execution_count": 65
        }
      ]
    },
    {
      "cell_type": "markdown",
      "metadata": {
        "id": "ex5ZMBOQUQj9"
      },
      "source": [
        "# **STAGE-2**"
      ]
    },
    {
      "cell_type": "code",
      "source": [
        "print(ed.shape)"
      ],
      "metadata": {
        "colab": {
          "base_uri": "https://localhost:8080/"
        },
        "id": "TnhOWGgGxlkE",
        "outputId": "568c95e8-d4a7-4329-8188-07fd9b936944"
      },
      "execution_count": null,
      "outputs": [
        {
          "output_type": "stream",
          "name": "stdout",
          "text": [
            "(835, 10)\n"
          ]
        }
      ]
    },
    {
      "cell_type": "code",
      "source": [
        "correlation =ed.corr(method='pearson')"
      ],
      "metadata": {
        "id": "v_kqn4EfdSlP"
      },
      "execution_count": null,
      "outputs": []
    },
    {
      "cell_type": "code",
      "source": [
        "plt.figure(figsize =(8,8))\n",
        "sns.heatmap(correlation ,cbar=True ,square=True ,fmt='.2f',annot=True,annot_kws={'size':8})"
      ],
      "metadata": {
        "colab": {
          "base_uri": "https://localhost:8080/",
          "height": 675
        },
        "id": "D9zKDcsLxyFp",
        "outputId": "59f42327-ceb2-4cef-f3df-a6b696b611f1"
      },
      "execution_count": null,
      "outputs": [
        {
          "output_type": "execute_result",
          "data": {
            "text/plain": [
              "<Axes: >"
            ]
          },
          "metadata": {},
          "execution_count": 68
        },
        {
          "output_type": "display_data",
          "data": {
            "text/plain": [
              "<Figure size 800x800 with 2 Axes>"
            ],
            "image/png": "[encoded data removed]"
          },
          "metadata": {}
        }
      ]
    },
    {
      "cell_type": "code",
      "source": [
        "print(correlation['LB'])"
      ],
      "metadata": {
        "colab": {
          "base_uri": "https://localhost:8080/"
        },
        "id": "3NB_vWDqdUyB",
        "outputId": "faf4565d-5829-4d81-ab8f-211206d0b9f7"
      },
      "execution_count": null,
      "outputs": [
        {
          "output_type": "stream",
          "name": "stdout",
          "text": [
            "PID    -0.015495\n",
            "AGE     0.028961\n",
            "SEX     0.066615\n",
            "DATE    0.038719\n",
            "PCM    -0.163004\n",
            "DGS    -0.275702\n",
            "EXM    -0.152716\n",
            "STR    -0.687414\n",
            "PRK     0.042805\n",
            "LB      1.000000\n",
            "Name: LB, dtype: float64\n"
          ]
        }
      ]
    },
    {
      "cell_type": "code",
      "source": [
        "ed.head()"
      ],
      "metadata": {
        "colab": {
          "base_uri": "https://localhost:8080/",
          "height": 206
        },
        "id": "Wv0-nUNeg8nW",
        "outputId": "06fcafc4-5172-4b2a-d2b1-51ef997baee4"
      },
      "execution_count": null,
      "outputs": [
        {
          "output_type": "execute_result",
          "data": {
            "text/plain": [
              "     PID  AGE  SEX  DATE  PCM  DGS  EXM  STR  PRK  LB\n",
              "0  15863   46    1     1    5   10    3   12    3   0\n",
              "1  15863   46    1    65    5   10    3   12    2   0\n",
              "2  15864   42    0     1    5   13    3   17    3   0\n",
              "3  15864   42    0    42    5   13    3   17    2   0\n",
              "4  15865    9    1     1    5   10    3   12    3   0"
            ],
            "text/html": [
              "\n",
              "  <div id=\"df-1d53f651-b993-4675-957f-ad3433bc857b\">\n",
              "    <div class=\"colab-df-container\">\n",
              "      <div>\n",
              "<style scoped>\n",
              "    .dataframe tbody tr th:only-of-type {\n",
              "        vertical-align: middle;\n",
              "    }\n",
              "\n",
              "    .dataframe tbody tr th {\n",
              "        vertical-align: top;\n",
              "    }\n",
              "\n",
              "    .dataframe thead th {\n",
              "        text-align: right;\n",
              "    }\n",
              "</style>\n",
              "<table border=\"1\" class=\"dataframe\">\n",
              "  <thead>\n",
              "    <tr style=\"text-align: right;\">\n",
              "      <th></th>\n",
              "      <th>PID</th>\n",
              "      <th>AGE</th>\n",
              "      <th>SEX</th>\n",
              "      <th>DATE</th>\n",
              "      <th>PCM</th>\n",
              "      <th>DGS</th>\n",
              "      <th>EXM</th>\n",
              "      <th>STR</th>\n",
              "      <th>PRK</th>\n",
              "      <th>LB</th>\n",
              "    </tr>\n",
              "  </thead>\n",
              "  <tbody>\n",
              "    <tr>\n",
              "      <th>0</th>\n",
              "      <td>15863</td>\n",
              "      <td>46</td>\n",
              "      <td>1</td>\n",
              "      <td>1</td>\n",
              "      <td>5</td>\n",
              "      <td>10</td>\n",
              "      <td>3</td>\n",
              "      <td>12</td>\n",
              "      <td>3</td>\n",
              "      <td>0</td>\n",
              "    </tr>\n",
              "    <tr>\n",
              "      <th>1</th>\n",
              "      <td>15863</td>\n",
              "      <td>46</td>\n",
              "      <td>1</td>\n",
              "      <td>65</td>\n",
              "      <td>5</td>\n",
              "      <td>10</td>\n",
              "      <td>3</td>\n",
              "      <td>12</td>\n",
              "      <td>2</td>\n",
              "      <td>0</td>\n",
              "    </tr>\n",
              "    <tr>\n",
              "      <th>2</th>\n",
              "      <td>15864</td>\n",
              "      <td>42</td>\n",
              "      <td>0</td>\n",
              "      <td>1</td>\n",
              "      <td>5</td>\n",
              "      <td>13</td>\n",
              "      <td>3</td>\n",
              "      <td>17</td>\n",
              "      <td>3</td>\n",
              "      <td>0</td>\n",
              "    </tr>\n",
              "    <tr>\n",
              "      <th>3</th>\n",
              "      <td>15864</td>\n",
              "      <td>42</td>\n",
              "      <td>0</td>\n",
              "      <td>42</td>\n",
              "      <td>5</td>\n",
              "      <td>13</td>\n",
              "      <td>3</td>\n",
              "      <td>17</td>\n",
              "      <td>2</td>\n",
              "      <td>0</td>\n",
              "    </tr>\n",
              "    <tr>\n",
              "      <th>4</th>\n",
              "      <td>15865</td>\n",
              "      <td>9</td>\n",
              "      <td>1</td>\n",
              "      <td>1</td>\n",
              "      <td>5</td>\n",
              "      <td>10</td>\n",
              "      <td>3</td>\n",
              "      <td>12</td>\n",
              "      <td>3</td>\n",
              "      <td>0</td>\n",
              "    </tr>\n",
              "  </tbody>\n",
              "</table>\n",
              "</div>\n",
              "      <button class=\"colab-df-convert\" onclick=\"convertToInteractive('df-1d53f651-b993-4675-957f-ad3433bc857b')\"\n",
              "              title=\"Convert this dataframe to an interactive table.\"\n",
              "              style=\"display:none;\">\n",
              "        \n",
              "  <svg xmlns=\"http://www.w3.org/2000/svg\" height=\"24px\"viewBox=\"0 0 24 24\"\n",
              "       width=\"24px\">\n",
              "    <path d=\"M0 0h24v24H0V0z\" fill=\"none\"/>\n",
              "    <path d=\"M18.56 5.44l.94 2.06.94-2.06 2.06-.94-2.06-.94-.94-2.06-.94 2.06-2.06.94zm-11 1L8.5 8.5l.94-2.06 2.06-.94-2.06-.94L8.5 2.5l-.94 2.06-2.06.94zm10 10l.94 2.06.94-2.06 2.06-.94-2.06-.94-.94-2.06-.94 2.06-2.06.94z\"/><path d=\"M17.41 7.96l-1.37-1.37c-.4-.4-.92-.59-1.43-.59-.52 0-1.04.2-1.43.59L10.3 9.45l-7.72 7.72c-.78.78-.78 2.05 0 2.83L4 21.41c.39.39.9.59 1.41.59.51 0 1.02-.2 1.41-.59l7.78-7.78 2.81-2.81c.8-.78.8-2.07 0-2.86zM5.41 20L4 18.59l7.72-7.72 1.47 1.35L5.41 20z\"/>\n",
              "  </svg>\n",
              "      </button>\n",
              "      \n",
              "  <style>\n",
              "    .colab-df-container {\n",
              "      display:flex;\n",
              "      flex-wrap:wrap;\n",
              "      gap: 12px;\n",
              "    }\n",
              "\n",
              "    .colab-df-convert {\n",
              "      background-color: #E8F0FE;\n",
              "      border: none;\n",
              "      border-radius: 50%;\n",
              "      cursor: pointer;\n",
              "      display: none;\n",
              "      fill: #1967D2;\n",
              "      height: 32px;\n",
              "      padding: 0 0 0 0;\n",
              "      width: 32px;\n",
              "    }\n",
              "\n",
              "    .colab-df-convert:hover {\n",
              "      background-color: #E2EBFA;\n",
              "      box-shadow: 0px 1px 2px rgba(60, 64, 67, 0.3), 0px 1px 3px 1px rgba(60, 64, 67, 0.15);\n",
              "      fill: #174EA6;\n",
              "    }\n",
              "\n",
              "    [theme=dark] .colab-df-convert {\n",
              "      background-color: #3B4455;\n",
              "      fill: #D2E3FC;\n",
              "    }\n",
              "\n",
              "    [theme=dark] .colab-df-convert:hover {\n",
              "      background-color: #434B5C;\n",
              "      box-shadow: 0px 1px 3px 1px rgba(0, 0, 0, 0.15);\n",
              "      filter: drop-shadow(0px 1px 2px rgba(0, 0, 0, 0.3));\n",
              "      fill: #FFFFFF;\n",
              "    }\n",
              "  </style>\n",
              "\n",
              "      <script>\n",
              "        const buttonEl =\n",
              "          document.querySelector('#df-1d53f651-b993-4675-957f-ad3433bc857b button.colab-df-convert');\n",
              "        buttonEl.style.display =\n",
              "          google.colab.kernel.accessAllowed ? 'block' : 'none';\n",
              "\n",
              "        async function convertToInteractive(key) {\n",
              "          const element = document.querySelector('#df-1d53f651-b993-4675-957f-ad3433bc857b');\n",
              "          const dataTable =\n",
              "            await google.colab.kernel.invokeFunction('convertToInteractive',\n",
              "                                                     [key], {});\n",
              "          if (!dataTable) return;\n",
              "\n",
              "          const docLinkHtml = 'Like what you see? Visit the ' +\n",
              "            '<a target=\"_blank\" href=https://colab.research.google.com/notebooks/data_table.ipynb>data table notebook</a>'\n",
              "            + ' to learn more about interactive tables.';\n",
              "          element.innerHTML = '';\n",
              "          dataTable['output_type'] = 'display_data';\n",
              "          await google.colab.output.renderOutput(dataTable, element);\n",
              "          const docLink = document.createElement('div');\n",
              "          docLink.innerHTML = docLinkHtml;\n",
              "          element.appendChild(docLink);\n",
              "        }\n",
              "      </script>\n",
              "    </div>\n",
              "  </div>\n",
              "  "
            ]
          },
          "metadata": {},
          "execution_count": 70
        }
      ]
    },
    {
      "cell_type": "markdown",
      "source": [
        "## **DATA PREDICTION**"
      ],
      "metadata": {
        "id": "pjW4gc7Gdukf"
      }
    },
    {
      "cell_type": "code",
      "execution_count": null,
      "metadata": {
        "id": "DsYZXkFmrdWY"
      },
      "outputs": [],
      "source": [
        "X=ed.iloc[:,[1,2,5,8]].values\n",
        "y=ed.iloc[:,9].values\n",
        "Y=ed.iloc[:,7].values"
      ]
    },
    {
      "cell_type": "code",
      "execution_count": null,
      "metadata": {
        "id": "sMNu7MkBSJCK",
        "colab": {
          "base_uri": "https://localhost:8080/",
          "height": 223
        },
        "outputId": "a39156af-fd2d-462c-f3fb-17b6ce3debae"
      },
      "outputs": [
        {
          "output_type": "stream",
          "name": "stdout",
          "text": [
            "(835, 4)\n"
          ]
        },
        {
          "output_type": "execute_result",
          "data": {
            "text/plain": [
              "    0  1   2  3\n",
              "0  46  1  10  3\n",
              "1  46  1  10  2\n",
              "2  42  0  13  3\n",
              "3  42  0  13  2\n",
              "4   9  1  10  3"
            ],
            "text/html": [
              "\n",
              "  <div id=\"df-0548a3bd-ef83-4d54-b7e8-b15b2544a10d\">\n",
              "    <div class=\"colab-df-container\">\n",
              "      <div>\n",
              "<style scoped>\n",
              "    .dataframe tbody tr th:only-of-type {\n",
              "        vertical-align: middle;\n",
              "    }\n",
              "\n",
              "    .dataframe tbody tr th {\n",
              "        vertical-align: top;\n",
              "    }\n",
              "\n",
              "    .dataframe thead th {\n",
              "        text-align: right;\n",
              "    }\n",
              "</style>\n",
              "<table border=\"1\" class=\"dataframe\">\n",
              "  <thead>\n",
              "    <tr style=\"text-align: right;\">\n",
              "      <th></th>\n",
              "      <th>0</th>\n",
              "      <th>1</th>\n",
              "      <th>2</th>\n",
              "      <th>3</th>\n",
              "    </tr>\n",
              "  </thead>\n",
              "  <tbody>\n",
              "    <tr>\n",
              "      <th>0</th>\n",
              "      <td>46</td>\n",
              "      <td>1</td>\n",
              "      <td>10</td>\n",
              "      <td>3</td>\n",
              "    </tr>\n",
              "    <tr>\n",
              "      <th>1</th>\n",
              "      <td>46</td>\n",
              "      <td>1</td>\n",
              "      <td>10</td>\n",
              "      <td>2</td>\n",
              "    </tr>\n",
              "    <tr>\n",
              "      <th>2</th>\n",
              "      <td>42</td>\n",
              "      <td>0</td>\n",
              "      <td>13</td>\n",
              "      <td>3</td>\n",
              "    </tr>\n",
              "    <tr>\n",
              "      <th>3</th>\n",
              "      <td>42</td>\n",
              "      <td>0</td>\n",
              "      <td>13</td>\n",
              "      <td>2</td>\n",
              "    </tr>\n",
              "    <tr>\n",
              "      <th>4</th>\n",
              "      <td>9</td>\n",
              "      <td>1</td>\n",
              "      <td>10</td>\n",
              "      <td>3</td>\n",
              "    </tr>\n",
              "  </tbody>\n",
              "</table>\n",
              "</div>\n",
              "      <button class=\"colab-df-convert\" onclick=\"convertToInteractive('df-0548a3bd-ef83-4d54-b7e8-b15b2544a10d')\"\n",
              "              title=\"Convert this dataframe to an interactive table.\"\n",
              "              style=\"display:none;\">\n",
              "        \n",
              "  <svg xmlns=\"http://www.w3.org/2000/svg\" height=\"24px\"viewBox=\"0 0 24 24\"\n",
              "       width=\"24px\">\n",
              "    <path d=\"M0 0h24v24H0V0z\" fill=\"none\"/>\n",
              "    <path d=\"M18.56 5.44l.94 2.06.94-2.06 2.06-.94-2.06-.94-.94-2.06-.94 2.06-2.06.94zm-11 1L8.5 8.5l.94-2.06 2.06-.94-2.06-.94L8.5 2.5l-.94 2.06-2.06.94zm10 10l.94 2.06.94-2.06 2.06-.94-2.06-.94-.94-2.06-.94 2.06-2.06.94z\"/><path d=\"M17.41 7.96l-1.37-1.37c-.4-.4-.92-.59-1.43-.59-.52 0-1.04.2-1.43.59L10.3 9.45l-7.72 7.72c-.78.78-.78 2.05 0 2.83L4 21.41c.39.39.9.59 1.41.59.51 0 1.02-.2 1.41-.59l7.78-7.78 2.81-2.81c.8-.78.8-2.07 0-2.86zM5.41 20L4 18.59l7.72-7.72 1.47 1.35L5.41 20z\"/>\n",
              "  </svg>\n",
              "      </button>\n",
              "      \n",
              "  <style>\n",
              "    .colab-df-container {\n",
              "      display:flex;\n",
              "      flex-wrap:wrap;\n",
              "      gap: 12px;\n",
              "    }\n",
              "\n",
              "    .colab-df-convert {\n",
              "      background-color: #E8F0FE;\n",
              "      border: none;\n",
              "      border-radius: 50%;\n",
              "      cursor: pointer;\n",
              "      display: none;\n",
              "      fill: #1967D2;\n",
              "      height: 32px;\n",
              "      padding: 0 0 0 0;\n",
              "      width: 32px;\n",
              "    }\n",
              "\n",
              "    .colab-df-convert:hover {\n",
              "      background-color: #E2EBFA;\n",
              "      box-shadow: 0px 1px 2px rgba(60, 64, 67, 0.3), 0px 1px 3px 1px rgba(60, 64, 67, 0.15);\n",
              "      fill: #174EA6;\n",
              "    }\n",
              "\n",
              "    [theme=dark] .colab-df-convert {\n",
              "      background-color: #3B4455;\n",
              "      fill: #D2E3FC;\n",
              "    }\n",
              "\n",
              "    [theme=dark] .colab-df-convert:hover {\n",
              "      background-color: #434B5C;\n",
              "      box-shadow: 0px 1px 3px 1px rgba(0, 0, 0, 0.15);\n",
              "      filter: drop-shadow(0px 1px 2px rgba(0, 0, 0, 0.3));\n",
              "      fill: #FFFFFF;\n",
              "    }\n",
              "  </style>\n",
              "\n",
              "      <script>\n",
              "        const buttonEl =\n",
              "          document.querySelector('#df-0548a3bd-ef83-4d54-b7e8-b15b2544a10d button.colab-df-convert');\n",
              "        buttonEl.style.display =\n",
              "          google.colab.kernel.accessAllowed ? 'block' : 'none';\n",
              "\n",
              "        async function convertToInteractive(key) {\n",
              "          const element = document.querySelector('#df-0548a3bd-ef83-4d54-b7e8-b15b2544a10d');\n",
              "          const dataTable =\n",
              "            await google.colab.kernel.invokeFunction('convertToInteractive',\n",
              "                                                     [key], {});\n",
              "          if (!dataTable) return;\n",
              "\n",
              "          const docLinkHtml = 'Like what you see? Visit the ' +\n",
              "            '<a target=\"_blank\" href=https://colab.research.google.com/notebooks/data_table.ipynb>data table notebook</a>'\n",
              "            + ' to learn more about interactive tables.';\n",
              "          element.innerHTML = '';\n",
              "          dataTable['output_type'] = 'display_data';\n",
              "          await google.colab.output.renderOutput(dataTable, element);\n",
              "          const docLink = document.createElement('div');\n",
              "          docLink.innerHTML = docLinkHtml;\n",
              "          element.appendChild(docLink);\n",
              "        }\n",
              "      </script>\n",
              "    </div>\n",
              "  </div>\n",
              "  "
            ]
          },
          "metadata": {},
          "execution_count": 72
        }
      ],
      "source": [
        "Xdf=pd.DataFrame(X)\n",
        "print(Xdf.shape)\n",
        "Xdf.head()"
      ]
    },
    {
      "cell_type": "code",
      "execution_count": null,
      "metadata": {
        "id": "N52_EUHmSO-m",
        "colab": {
          "base_uri": "https://localhost:8080/"
        },
        "outputId": "d5393ba2-74de-449b-aac5-c274a9b5aba3"
      },
      "outputs": [
        {
          "output_type": "execute_result",
          "data": {
            "text/plain": [
              "(835,)"
            ]
          },
          "metadata": {},
          "execution_count": 73
        }
      ],
      "source": [
        "Y.shape"
      ]
    },
    {
      "cell_type": "code",
      "execution_count": null,
      "metadata": {
        "colab": {
          "base_uri": "https://localhost:8080/",
          "height": 206
        },
        "id": "vmkEPaqMTXzC",
        "outputId": "9bb74d78-b7d7-4fd1-fde7-1579007722dc"
      },
      "outputs": [
        {
          "output_type": "execute_result",
          "data": {
            "text/plain": [
              "    0\n",
              "0  12\n",
              "1  12\n",
              "2  17\n",
              "3  17\n",
              "4  12"
            ],
            "text/html": [
              "\n",
              "  <div id=\"df-82ebb956-0c58-42ad-8426-c31df9a5edfe\">\n",
              "    <div class=\"colab-df-container\">\n",
              "      <div>\n",
              "<style scoped>\n",
              "    .dataframe tbody tr th:only-of-type {\n",
              "        vertical-align: middle;\n",
              "    }\n",
              "\n",
              "    .dataframe tbody tr th {\n",
              "        vertical-align: top;\n",
              "    }\n",
              "\n",
              "    .dataframe thead th {\n",
              "        text-align: right;\n",
              "    }\n",
              "</style>\n",
              "<table border=\"1\" class=\"dataframe\">\n",
              "  <thead>\n",
              "    <tr style=\"text-align: right;\">\n",
              "      <th></th>\n",
              "      <th>0</th>\n",
              "    </tr>\n",
              "  </thead>\n",
              "  <tbody>\n",
              "    <tr>\n",
              "      <th>0</th>\n",
              "      <td>12</td>\n",
              "    </tr>\n",
              "    <tr>\n",
              "      <th>1</th>\n",
              "      <td>12</td>\n",
              "    </tr>\n",
              "    <tr>\n",
              "      <th>2</th>\n",
              "      <td>17</td>\n",
              "    </tr>\n",
              "    <tr>\n",
              "      <th>3</th>\n",
              "      <td>17</td>\n",
              "    </tr>\n",
              "    <tr>\n",
              "      <th>4</th>\n",
              "      <td>12</td>\n",
              "    </tr>\n",
              "  </tbody>\n",
              "</table>\n",
              "</div>\n",
              "      <button class=\"colab-df-convert\" onclick=\"convertToInteractive('df-82ebb956-0c58-42ad-8426-c31df9a5edfe')\"\n",
              "              title=\"Convert this dataframe to an interactive table.\"\n",
              "              style=\"display:none;\">\n",
              "        \n",
              "  <svg xmlns=\"http://www.w3.org/2000/svg\" height=\"24px\"viewBox=\"0 0 24 24\"\n",
              "       width=\"24px\">\n",
              "    <path d=\"M0 0h24v24H0V0z\" fill=\"none\"/>\n",
              "    <path d=\"M18.56 5.44l.94 2.06.94-2.06 2.06-.94-2.06-.94-.94-2.06-.94 2.06-2.06.94zm-11 1L8.5 8.5l.94-2.06 2.06-.94-2.06-.94L8.5 2.5l-.94 2.06-2.06.94zm10 10l.94 2.06.94-2.06 2.06-.94-2.06-.94-.94-2.06-.94 2.06-2.06.94z\"/><path d=\"M17.41 7.96l-1.37-1.37c-.4-.4-.92-.59-1.43-.59-.52 0-1.04.2-1.43.59L10.3 9.45l-7.72 7.72c-.78.78-.78 2.05 0 2.83L4 21.41c.39.39.9.59 1.41.59.51 0 1.02-.2 1.41-.59l7.78-7.78 2.81-2.81c.8-.78.8-2.07 0-2.86zM5.41 20L4 18.59l7.72-7.72 1.47 1.35L5.41 20z\"/>\n",
              "  </svg>\n",
              "      </button>\n",
              "      \n",
              "  <style>\n",
              "    .colab-df-container {\n",
              "      display:flex;\n",
              "      flex-wrap:wrap;\n",
              "      gap: 12px;\n",
              "    }\n",
              "\n",
              "    .colab-df-convert {\n",
              "      background-color: #E8F0FE;\n",
              "      border: none;\n",
              "      border-radius: 50%;\n",
              "      cursor: pointer;\n",
              "      display: none;\n",
              "      fill: #1967D2;\n",
              "      height: 32px;\n",
              "      padding: 0 0 0 0;\n",
              "      width: 32px;\n",
              "    }\n",
              "\n",
              "    .colab-df-convert:hover {\n",
              "      background-color: #E2EBFA;\n",
              "      box-shadow: 0px 1px 2px rgba(60, 64, 67, 0.3), 0px 1px 3px 1px rgba(60, 64, 67, 0.15);\n",
              "      fill: #174EA6;\n",
              "    }\n",
              "\n",
              "    [theme=dark] .colab-df-convert {\n",
              "      background-color: #3B4455;\n",
              "      fill: #D2E3FC;\n",
              "    }\n",
              "\n",
              "    [theme=dark] .colab-df-convert:hover {\n",
              "      background-color: #434B5C;\n",
              "      box-shadow: 0px 1px 3px 1px rgba(0, 0, 0, 0.15);\n",
              "      filter: drop-shadow(0px 1px 2px rgba(0, 0, 0, 0.3));\n",
              "      fill: #FFFFFF;\n",
              "    }\n",
              "  </style>\n",
              "\n",
              "      <script>\n",
              "        const buttonEl =\n",
              "          document.querySelector('#df-82ebb956-0c58-42ad-8426-c31df9a5edfe button.colab-df-convert');\n",
              "        buttonEl.style.display =\n",
              "          google.colab.kernel.accessAllowed ? 'block' : 'none';\n",
              "\n",
              "        async function convertToInteractive(key) {\n",
              "          const element = document.querySelector('#df-82ebb956-0c58-42ad-8426-c31df9a5edfe');\n",
              "          const dataTable =\n",
              "            await google.colab.kernel.invokeFunction('convertToInteractive',\n",
              "                                                     [key], {});\n",
              "          if (!dataTable) return;\n",
              "\n",
              "          const docLinkHtml = 'Like what you see? Visit the ' +\n",
              "            '<a target=\"_blank\" href=https://colab.research.google.com/notebooks/data_table.ipynb>data table notebook</a>'\n",
              "            + ' to learn more about interactive tables.';\n",
              "          element.innerHTML = '';\n",
              "          dataTable['output_type'] = 'display_data';\n",
              "          await google.colab.output.renderOutput(dataTable, element);\n",
              "          const docLink = document.createElement('div');\n",
              "          docLink.innerHTML = docLinkHtml;\n",
              "          element.appendChild(docLink);\n",
              "        }\n",
              "      </script>\n",
              "    </div>\n",
              "  </div>\n",
              "  "
            ]
          },
          "metadata": {},
          "execution_count": 74
        }
      ],
      "source": [
        "Ydf=pd.DataFrame(Y)\n",
        "Ydf.head(5)"
      ]
    },
    {
      "cell_type": "markdown",
      "metadata": {
        "id": "5XumAKr4ReAr"
      },
      "source": [
        "## **MACHINE LEARNING ALGORITHMS**"
      ]
    },
    {
      "cell_type": "code",
      "execution_count": null,
      "metadata": {
        "id": "bYAd-98tN5ah"
      },
      "outputs": [],
      "source": [
        "from sklearn.naive_bayes import GaussianNB\n",
        "from sklearn.neural_network import MLPClassifier\n",
        "from sklearn.tree import DecisionTreeClassifier\n",
        "from sklearn.ensemble import RandomForestClassifier\n",
        "from sklearn.svm import SVC\n",
        "models=[]\n",
        "models.append(('NB',GaussianNB(var_smoothing=1e-01)))\n",
        "models.append(('MLP',MLPClassifier(random_state=7,hidden_layer_sizes=(9,8,7,5),verbose=False,learning_rate_init=0.01,learning_rate='constant',activation='tanh',solver='adam', alpha=0.0001)))\n",
        "models.append(('DT',DecisionTreeClassifier(random_state=43,criterion='entropy',max_depth=1,min_samples_split=2,min_samples_leaf=4)))\n",
        "models.append(('RF',RandomForestClassifier(max_depth=2,n_estimators=10,random_state=43)))\n",
        "models.append(('SVM',SVC(kernel='linear',random_state=7)))"
      ]
    },
    {
      "cell_type": "markdown",
      "metadata": {
        "id": "6RWfv-NmR26K"
      },
      "source": [
        "## **BASELINE IMPLEMENTATION**"
      ]
    },
    {
      "cell_type": "markdown",
      "metadata": {
        "id": "QE4JAPcVGpXA"
      },
      "source": [
        "**10(k)-fold**"
      ]
    },
    {
      "cell_type": "code",
      "execution_count": null,
      "metadata": {
        "colab": {
          "base_uri": "https://localhost:8080/"
        },
        "id": "_KYIeTsHRJg2",
        "outputId": "596c2140-f6ec-400b-abcc-aae759baab60"
      },
      "outputs": [
        {
          "output_type": "stream",
          "name": "stdout",
          "text": [
            "ACCURACY:\n",
            "NB 0.795281124497992\n",
            "MLP 0.91982214572576\n",
            "DT 0.795281124497992\n",
            "RF 0.8720166379804934\n",
            "SVM 0.795281124497992\n",
            "\n",
            "TIME:\n",
            "NB 0.02147817611694336\n",
            "MLP 1.6366066932678223\n",
            "DT 0.016141653060913086\n",
            "RF 0.16874051094055176\n",
            "SVM 0.2659149169921875\n"
          ]
        }
      ],
      "source": [
        "import time\n",
        "accuracy=dict()\n",
        "tt=dict()\n",
        "\n",
        "from sklearn.model_selection import cross_val_score,KFold\n",
        "for name,model in models:\n",
        "    kfold=KFold(n_splits=10)\n",
        "    st=time.time()\n",
        "    acc=cross_val_score(model,X,y,cv=kfold,scoring='accuracy')\n",
        "    et=time.time()\n",
        "    accuracy[name]=(acc.mean())\n",
        "    tt[name]=et-st\n",
        "    \n",
        "print(\"ACCURACY:\")\n",
        "for key,value in accuracy.items():\n",
        "    print(key,value)\n",
        "\n",
        "print(\"\\nTIME:\")\n",
        "for key,value in tt.items():\n",
        "    print(key,value)"
      ]
    },
    {
      "cell_type": "markdown",
      "source": [
        "**VARIANCE AND STANDARD DEVIATION**"
      ],
      "metadata": {
        "id": "8l5GCqXrCPOp"
      }
    },
    {
      "cell_type": "code",
      "source": [
        "import numpy as np\n",
        "from sklearn.metrics import mean_squared_error\n",
        "from sklearn.model_selection import KFold\n",
        "\n",
        "num_folds = 10\n",
        "\n",
        "kf = KFold(n_splits=num_folds, shuffle=True)\n",
        "variances = dict()\n",
        "std_devs = dict()\n",
        "\n",
        "for name, model in models:\n",
        "    fold_variances = []\n",
        "    fold_std_devs = []\n",
        "\n",
        "    for fold_num, (train_indices, test_indices) in enumerate(kf.split(X,y)):\n",
        "        model.fit(X[train_indices], y[train_indices])\n",
        "        y_pred = model.predict(X[test_indices])\n",
        "        mse = mean_squared_error(y[test_indices], y_pred)\n",
        "        variance = np.var(y[test_indices] - y_pred)\n",
        "        std_dev = np.sqrt(mse)\n",
        "\n",
        "        fold_variances.append(variance)\n",
        "        fold_std_devs.append(std_dev)\n",
        "  \n",
        "    variances[name] = (np.mean(fold_variances))/10\n",
        "    std_devs[name] = (np.mean(fold_std_devs))/10\n",
        "\n",
        "\n",
        "print(\"\\nVariance:\")\n",
        "for key, value in variances.items():\n",
        "    print(key, value)\n",
        "\n",
        "print(\"\\nStandard Deviation:\")\n",
        "for key, value in std_devs.items():\n",
        "    print(key, value)\n"
      ],
      "metadata": {
        "colab": {
          "base_uri": "https://localhost:8080/"
        },
        "id": "wq_valr1Adwc",
        "outputId": "4044d4c5-92b1-4999-c68e-9e754aceda8c"
      },
      "execution_count": null,
      "outputs": [
        {
          "output_type": "stream",
          "name": "stdout",
          "text": [
            "\n",
            "Variance:\n",
            "NB 0.016029145267242233\n",
            "MLP 0.007332943156940523\n",
            "DT 0.016234326289668137\n",
            "RF 0.01071184171157213\n",
            "SVM 0.01620431566442806\n",
            "\n",
            "Standard Deviation:\n",
            "NB 0.04489569453381009\n",
            "MLP 0.026944435812931582\n",
            "DT 0.04518066541496889\n",
            "RF 0.03435910321130303\n",
            "SVM 0.045135135034516397\n"
          ]
        }
      ]
    },
    {
      "cell_type": "markdown",
      "metadata": {
        "id": "dYDJvmgprjOw"
      },
      "source": [
        "**50-50**"
      ]
    },
    {
      "cell_type": "code",
      "execution_count": null,
      "metadata": {
        "colab": {
          "base_uri": "https://localhost:8080/"
        },
        "id": "zq7Tv7i0r67W",
        "outputId": "93f87a30-2f42-4f18-e6f2-263c1f4f287f"
      },
      "outputs": [
        {
          "output_type": "stream",
          "name": "stdout",
          "text": [
            "ACCURACY:\n",
            "NB 0.80622009569378\n",
            "MLP 0.9234449760765551\n",
            "DT 0.80622009569378\n",
            "RF 0.8636363636363636\n",
            "SVM 0.80622009569378\n",
            "\n",
            "TIME:\n",
            "NB 0.001897573471069336\n",
            "MLP 0.0757899284362793\n",
            "DT 0.0009593963623046875\n",
            "RF 0.015058755874633789\n",
            "SVM 0.011530160903930664\n"
          ]
        }
      ],
      "source": [
        "from sklearn.model_selection import train_test_split,cross_val_score\n",
        "from sklearn import metrics\n",
        "\n",
        "accuracy=dict()\n",
        "tt=dict()\n",
        "\n",
        "for name,model in models:\n",
        "    x_train, x_test, y_train, y_test = train_test_split(X, y, test_size=0.50, random_state=43)\n",
        "    st=time.time()\n",
        "    model.fit(x_train, y_train)\n",
        "    y_pred = model.predict(x_test)\n",
        "    et=time.time()\n",
        "    accuracy[name]=metrics.accuracy_score(y_test, y_pred)\n",
        "    tt[name]=et-st\n",
        "\n",
        "print(\"ACCURACY:\")\n",
        "for key,value in accuracy.items():\n",
        "    print(key,value)\n",
        "\n",
        "print(\"\\nTIME:\")\n",
        "for key,value in tt.items():\n",
        "    print(key,value)"
      ]
    },
    {
      "cell_type": "markdown",
      "metadata": {
        "id": "ksnDXWhn1xE_"
      },
      "source": [
        "**60-40**"
      ]
    },
    {
      "cell_type": "code",
      "execution_count": null,
      "metadata": {
        "colab": {
          "base_uri": "https://localhost:8080/"
        },
        "id": "fiEz99mS0jGT",
        "outputId": "f4b7c58b-962a-4fe0-a37b-b039f9da4091"
      },
      "outputs": [
        {
          "output_type": "stream",
          "name": "stdout",
          "text": [
            "ACCURACY:\n",
            "NB 0.8023952095808383\n",
            "MLP 0.9401197604790419\n",
            "DT 0.8023952095808383\n",
            "RF 0.8772455089820359\n",
            "SVM 0.8023952095808383\n",
            "\n",
            "TIME:\n",
            "NB 0.002931356430053711\n",
            "MLP 0.2524073123931885\n",
            "DT 0.001031637191772461\n",
            "RF 0.0214688777923584\n",
            "SVM 0.01718759536743164\n"
          ]
        }
      ],
      "source": [
        "from sklearn.model_selection import train_test_split,cross_val_score\n",
        "from sklearn import metrics\n",
        "\n",
        "accuracy=dict()\n",
        "tt=dict()\n",
        "\n",
        "for name,model in models:\n",
        "    x_train, x_test, y_train, y_test = train_test_split(X, y, test_size=0.40, random_state=7)\n",
        "    st=time.time()\n",
        "    model.fit(x_train, y_train)\n",
        "    y_pred = model.predict(x_test)\n",
        "    et=time.time()\n",
        "    accuracy[name]=metrics.accuracy_score(y_test, y_pred)\n",
        "    tt[name]=et-st\n",
        "\n",
        "print(\"ACCURACY:\")\n",
        "for key,value in accuracy.items():\n",
        "    print(key,value)\n",
        "\n",
        "print(\"\\nTIME:\")\n",
        "for key,value in tt.items():\n",
        "    print(key,value)"
      ]
    },
    {
      "cell_type": "markdown",
      "metadata": {
        "id": "eVeTrvox2l-k"
      },
      "source": [
        "**70-30**"
      ]
    },
    {
      "cell_type": "code",
      "execution_count": null,
      "metadata": {
        "colab": {
          "base_uri": "https://localhost:8080/"
        },
        "id": "qy4vIgRg2RLS",
        "outputId": "170d8224-fe2f-493d-b27c-a84da4c58e34"
      },
      "outputs": [
        {
          "output_type": "stream",
          "name": "stdout",
          "text": [
            "ACCURACY:\n",
            "NB 0.8167330677290837\n",
            "MLP 0.9601593625498008\n",
            "DT 0.8167330677290837\n",
            "RF 0.8804780876494024\n",
            "SVM 0.8167330677290837\n",
            "\n",
            "TIME:\n",
            "NB 0.003205537796020508\n",
            "MLP 0.17415809631347656\n",
            "DT 0.0015866756439208984\n",
            "RF 0.03572225570678711\n",
            "SVM 0.04027509689331055\n"
          ]
        }
      ],
      "source": [
        "from sklearn.model_selection import train_test_split,cross_val_score\n",
        "from sklearn import metrics\n",
        "from sklearn.metrics import confusion_matrix\n",
        "from sklearn.metrics import ConfusionMatrixDisplay\n",
        "from sklearn.metrics import classification_report\n",
        "\n",
        "accuracy=dict()\n",
        "tt=dict()\n",
        "\n",
        "for name,model in models:\n",
        "    x_train, x_test, y_train, y_test = train_test_split(X, y, test_size=0.30, random_state=7)\n",
        "    st=time.time()\n",
        "    model.fit(x_train, y_train)\n",
        "    y_pred = model.predict(x_test)\n",
        "    et=time.time()\n",
        "    accuracy[name]=metrics.accuracy_score(y_test, y_pred)\n",
        "    tt[name]=et-st\n",
        "\n",
        "print(\"ACCURACY:\")\n",
        "for key,value in accuracy.items():\n",
        "    print(key,value)\n",
        "\n",
        "print(\"\\nTIME:\")\n",
        "for key,value in tt.items():\n",
        "    print(key,value)"
      ]
    },
    {
      "cell_type": "markdown",
      "metadata": {
        "id": "Kj5WV97LC2-A"
      },
      "source": [
        "**80-20**"
      ]
    },
    {
      "cell_type": "code",
      "execution_count": 113,
      "metadata": {
        "colab": {
          "base_uri": "https://localhost:8080/"
        },
        "id": "hzfUnDbsCvdU",
        "outputId": "643b543f-7c33-4b9a-9512-d76557f7f575"
      },
      "outputs": [
        {
          "output_type": "stream",
          "name": "stdout",
          "text": [
            "\n",
            "PRECISION:\n",
            "NB 0.7027860446771128\n",
            "MLP 0.9405115799695062\n",
            "DT 0.9880239520958084\n",
            "RF 0.9880239520958084\n",
            "SVM 0.7027860446771128\n",
            "\n",
            "RECALL:\n",
            "NB 0.8383233532934131\n",
            "MLP 0.9401197604790419\n",
            "DT 0.9880239520958084\n",
            "RF 0.9880239520958084\n",
            "SVM 0.8383233532934131\n",
            "\n",
            "F1 SCORE:\n",
            "NB 0.764769890236784\n",
            "MLP 0.782608695652174\n",
            "DT 0.764769890236784\n",
            "RF 0.9629629629629629\n",
            "SVM 0.764769890236784\n",
            "\n",
            "ROC:\n",
            "NB 0.5\n",
            "MLP 0.8297619047619047\n",
            "DT 0.9779100529100528\n",
            "RF 0.9779100529100528\n",
            "SVM 0.5\n"
          ]
        }
      ],
      "source": [
        "from sklearn.model_selection import train_test_split,cross_val_score\n",
        "from sklearn import metrics\n",
        "from sklearn.metrics import confusion_matrix\n",
        "from sklearn.metrics import ConfusionMatrixDisplay\n",
        "from sklearn.metrics import classification_report\n",
        "from sklearn.metrics import roc_curve, auc\n",
        "accuracy=dict()\n",
        "precision=dict()\n",
        "recall=dict()\n",
        "f1score=dict()\n",
        "roc=dict()\n",
        "tt=dict()\n",
        "for name,model in models:\n",
        "    x_train, x_test, y_train, y_test = train_test_split(X, y, test_size=0.20, random_state=7)\n",
        "    model.fit(x_train, y_train)\n",
        "    y_pred = model.predict(x_test)\n",
        "    accuracy[name]=metrics.accuracy_score(y_test, y_pred)\n",
        "    precision[name]=metrics.precision_score(y_test, y_pred,average='weighted')\n",
        "    f1score[name]=metrics.f1_score(y_test,y_pred)\n",
        "    recall[name]=metrics.recall_score(y_test, y_pred,average='weighted')\n",
        "    fpr, tpr, _ = roc_curve(y_test, y_pred,sample_weight=None, drop_intermediate=False)\n",
        "    roc[name]=auc(fpr, tpr)\n",
        "    \n",
        "print(\"\\nPRECISION:\")\n",
        "for key,value in precision.items():\n",
        "    print(key,value)\n",
        "\n",
        "print(\"\\nRECALL:\")\n",
        "for key,value in recall.items():\n",
        "    print(key,value)\n",
        "\n",
        "print(\"\\nF1 SCORE:\")\n",
        "for key,value in f1score.items():\n",
        "    print(key,value)\n",
        "\n",
        "\n",
        "print(\"\\nROC:\")\n",
        "for key,value in roc.items():\n",
        "    print(key,value)"
      ]
    },
    {
      "cell_type": "markdown",
      "metadata": {
        "id": "A1TBHz0nkhLe"
      },
      "source": [
        "##**VOTING IMPLEMENTATION**"
      ]
    },
    {
      "cell_type": "code",
      "execution_count": null,
      "metadata": {
        "id": "U_F9Qkg3w0bY"
      },
      "outputs": [],
      "source": [
        "from sklearn.ensemble import VotingClassifier\n",
        "nb1 = GaussianNB(var_smoothing=1e-09)\n",
        "nb2 = GaussianNB(var_smoothing=1e-08)\n",
        "nb3 = GaussianNB(var_smoothing=1e-07)\n",
        "voting_clfnb = VotingClassifier(estimators=[('naivebayes1', nb1), ('naivebayes2', nb2),('naivebayes3', nb3)], voting='hard')"
      ]
    },
    {
      "cell_type": "code",
      "execution_count": null,
      "metadata": {
        "id": "KHBgAajQodrG"
      },
      "outputs": [],
      "source": [
        "mlp1 = MLPClassifier(random_state=7,hidden_layer_sizes=(9,8,7,5),verbose=False,learning_rate_init=0.01,learning_rate='constant',activation='tanh',solver='adam', alpha=0.0001)\n",
        "mlp2 = MLPClassifier(random_state=7,hidden_layer_sizes=(10,9,8,6),verbose=False,learning_rate_init=0.1,learning_rate='constant',activation='logistic',solver='adam', alpha=0.001)\n",
        "mlp3 = MLPClassifier(random_state=7,hidden_layer_sizes=(15,10,8,5),verbose=False,learning_rate_init=0.001,learning_rate='constant',activation='relu',solver='adam', alpha=0.0001)\n",
        "voting_clfmlp = VotingClassifier(estimators=[('multilp1', mlp1), ('multilp2', mlp2),('multilp3', mlp3)], voting='hard')"
      ]
    },
    {
      "cell_type": "code",
      "execution_count": null,
      "metadata": {
        "id": "ayEoolEGw1Wq"
      },
      "outputs": [],
      "source": [
        "clf1 = DecisionTreeClassifier(criterion='entropy',min_samples_leaf=1, max_depth=10)\n",
        "clf2 = DecisionTreeClassifier(criterion='gini',min_samples_leaf=2, max_depth=20)\n",
        "clf3 = DecisionTreeClassifier(criterion='entropy',min_samples_leaf=3, max_depth=30)\n",
        "voting_clfdt = VotingClassifier(estimators=[('clf1', clf1), ('clf2', clf2), ('clf3', clf3)], voting='hard')"
      ]
    },
    {
      "cell_type": "code",
      "execution_count": null,
      "metadata": {
        "id": "_gICiMOrw1ew"
      },
      "outputs": [],
      "source": [
        "rfc1 = RandomForestClassifier(n_estimators=20, max_depth=10,min_samples_split=2, random_state=42)\n",
        "rfc2 = RandomForestClassifier(n_estimators=30, max_depth=20,min_samples_split=3, random_state=42)\n",
        "rfc3 = RandomForestClassifier(n_estimators=50, max_depth=15,min_samples_split=4, random_state=42)\n",
        "voting_clfrf = VotingClassifier(estimators=[('rf1', rfc1), ('rf2', rfc2), ('rf3', rfc3)], voting='hard')"
      ]
    },
    {
      "cell_type": "code",
      "execution_count": null,
      "metadata": {
        "id": "mdxv1ULRw1qB"
      },
      "outputs": [],
      "source": [
        "svm1 = SVC(kernel='linear', C=20,gamma=0.01)\n",
        "svm2 = SVC(kernel='rbf', gamma=0.01, C=20)\n",
        "svm3 = SVC(kernel='poly', degree=2,C=20,gamma=0.01)\n",
        "voting_clfsvm = VotingClassifier(estimators=[('svm1', svm1), ('svm2', svm2), ('svm3', svm3)], voting='hard')"
      ]
    },
    {
      "cell_type": "code",
      "source": [
        "votingmodel=[]\n",
        "votingmodel.append(('MLP',VotingClassifier(estimators=[('multilp1', mlp1), ('multilp2', mlp2),('multilp3', mlp3)], voting='hard')))\n",
        "votingmodel.append(('DT',VotingClassifier(estimators=[('clf1', clf1), ('clf2', clf2), ('clf3', clf3)], voting='hard')))\n",
        "votingmodel.append(('RF',VotingClassifier(estimators=[('rf1', rfc1), ('rf2', rfc2), ('rf3', rfc3)], voting='hard')))\n",
        "votingmodel.append(('SVC',VotingClassifier(estimators=[('svm1', svm1), ('svm2', svm2), ('svm3', svm3)], voting='hard')))"
      ],
      "metadata": {
        "id": "rRvM94VePhhR"
      },
      "execution_count": null,
      "outputs": []
    },
    {
      "cell_type": "markdown",
      "metadata": {
        "id": "08oV-MBbTHDY"
      },
      "source": [
        " **10(K)-FOLD**"
      ]
    },
    {
      "cell_type": "code",
      "source": [
        "from sklearn.model_selection import cross_val_score,KFold"
      ],
      "metadata": {
        "id": "RGofv1GHsgx-"
      },
      "execution_count": null,
      "outputs": []
    },
    {
      "cell_type": "code",
      "execution_count": null,
      "metadata": {
        "colab": {
          "base_uri": "https://localhost:8080/"
        },
        "id": "jBrE_IF6w-IQ",
        "outputId": "530f2a54-707c-4427-e3cf-bf5d4350b81a"
      },
      "outputs": [
        {
          "output_type": "stream",
          "name": "stdout",
          "text": [
            "Voting(10-fold)- NB  0.841728536074624\n",
            "Voting(10-fold)- MLP  0.8719493622691796\n",
            "Voting(10-fold)- DT  0.9022368170569199\n",
            "Voting(10-fold)- RF  0.8983533219112889\n",
            "Voting(10-fold)- SVC  0.8739577384351801\n"
          ]
        }
      ],
      "source": [
        "from sklearn.datasets import make_classification\n",
        "def votingclffold(voting_clf):\n",
        "  X, y = make_classification(n_samples=1024, n_features=14, random_state=42) \n",
        "  kfold = KFold(n_splits=10, shuffle=True, random_state=42) \n",
        "  scores = cross_val_score(voting_clf, X, y, cv=kfold)\n",
        "  accuracy=scores.mean()\n",
        "  return accuracy\n",
        "print(\"Voting(10-fold)- NB \",votingclffold(voting_clfnb))\n",
        "print(\"Voting(10-fold)- MLP \",votingclffold(voting_clfmlp))\n",
        "print(\"Voting(10-fold)- DT \",votingclffold(voting_clfdt))\n",
        "print(\"Voting(10-fold)- RF \",votingclffold(voting_clfrf))\n",
        "print(\"Voting(10-fold)- SVC \",votingclffold(voting_clfsvm))"
      ]
    },
    {
      "cell_type": "markdown",
      "metadata": {
        "id": "lYK1-z-zxQ3A"
      },
      "source": [
        "**50-50**"
      ]
    },
    {
      "cell_type": "code",
      "execution_count": null,
      "metadata": {
        "colab": {
          "base_uri": "https://localhost:8080/"
        },
        "id": "PzsE74PZxX20",
        "outputId": "6fb310fb-16a1-4f0c-fed2-23804be5e92c"
      },
      "outputs": [
        {
          "output_type": "execute_result",
          "data": {
            "text/plain": [
              "(417, 4)"
            ]
          },
          "metadata": {},
          "execution_count": 88
        }
      ],
      "source": [
        "x_train, x_test, y_train, y_test = train_test_split(X, Y, test_size=0.50, random_state=43)\n",
        "traindf=pd.DataFrame(x_train)\n",
        "traindf.shape"
      ]
    },
    {
      "cell_type": "code",
      "execution_count": null,
      "metadata": {
        "colab": {
          "base_uri": "https://localhost:8080/"
        },
        "id": "hyjPFVJ2xaaE",
        "outputId": "82835de8-6e2f-44a5-f2c0-d07e656b31bc"
      },
      "outputs": [
        {
          "output_type": "stream",
          "name": "stdout",
          "text": [
            "Voting(50-50)- NB  0.8923444976076556\n"
          ]
        }
      ],
      "source": [
        "from sklearn.naive_bayes import GaussianNB\n",
        "\n",
        "nb1 = GaussianNB()\n",
        "nb2 = GaussianNB()\n",
        "X_train_df = pd.DataFrame(x_train)\n",
        "X_test_df = pd.DataFrame(x_test)\n",
        "nb1.fit(X_train_df.iloc[:100], y_train[:100])\n",
        "nb2.fit(X_train_df.iloc[100:230], y_train[100:230])\n",
        "nb3.fit(X_train_df.iloc[230:395], y_train[230:395])\n",
        "ensemble = VotingClassifier(estimators=[('nb1', nb1), ('nb2', nb2),('nb3',nb3)], voting='hard')\n",
        "ensemble.fit(X_train_df, y_train)\n",
        "accuracy = ensemble.score(x_test, y_test)\n",
        "print(\"Voting(50-50)- NB \",(accuracy))\n"
      ]
    },
    {
      "cell_type": "code",
      "execution_count": null,
      "metadata": {
        "colab": {
          "base_uri": "https://localhost:8080/"
        },
        "id": "dIhMXJxQxQci",
        "outputId": "922d0e1e-eac1-4353-d1f0-459d2745d9e9"
      },
      "outputs": [
        {
          "output_type": "stream",
          "name": "stdout",
          "text": [
            "Voting(50-50)-  MLP 0.9330143540669856\n",
            "Voting(50-50)-  DT 0.9617224880382775\n",
            "Voting(50-50)-  RF 0.9521531100478469\n",
            "Voting(50-50)-  SVC 0.80622009569378\n"
          ]
        }
      ],
      "source": [
        "from sklearn.ensemble import VotingClassifier\n",
        "from sklearn.metrics import accuracy_score\n",
        "\n",
        "def votingclf_fiftysplit(voting_clf):\n",
        "  x_train, x_test, y_train, y_test = train_test_split(X, y, test_size=0.50, random_state=43)\n",
        "  voting_clf.fit(x_train, y_train)\n",
        "  y_pred = voting_clf.predict(x_test)\n",
        "  accuracy = accuracy_score(y_test, y_pred)\n",
        "  return accuracy\n",
        "\n",
        "\n",
        "for estimator in votingmodel:\n",
        "  print(\"Voting(50-50)- \",estimator[0],votingclf_fiftysplit(estimator[1]))"
      ]
    },
    {
      "cell_type": "markdown",
      "metadata": {
        "id": "FuA36-iVVRsi"
      },
      "source": [
        "**60-40**"
      ]
    },
    {
      "cell_type": "code",
      "execution_count": null,
      "metadata": {
        "colab": {
          "base_uri": "https://localhost:8080/"
        },
        "id": "aHmV6zmvxf2t",
        "outputId": "c75570ea-02a7-4c89-f43c-eb5175d56ce2"
      },
      "outputs": [
        {
          "output_type": "execute_result",
          "data": {
            "text/plain": [
              "(501, 4)"
            ]
          },
          "metadata": {},
          "execution_count": 94
        }
      ],
      "source": [
        "x_train, x_test, y_train, y_test = train_test_split(X, y, test_size=0.40, random_state=43)\n",
        "traindf=pd.DataFrame(x_train)\n",
        "traindf.shape"
      ]
    },
    {
      "cell_type": "code",
      "execution_count": null,
      "metadata": {
        "colab": {
          "base_uri": "https://localhost:8080/"
        },
        "id": "LdLN5NfMxiSu",
        "outputId": "aec82399-1544-455a-c609-373855f6bf06"
      },
      "outputs": [
        {
          "output_type": "stream",
          "name": "stdout",
          "text": [
            "Voting(60-40)- NB 0.8083832335329342\n"
          ]
        }
      ],
      "source": [
        "nb1 = GaussianNB()\n",
        "nb2 = GaussianNB()\n",
        "X_train_df = pd.DataFrame(x_train)\n",
        "X_test_df = pd.DataFrame(x_test)\n",
        "nb1.fit(X_train_df.iloc[:150], y_train[:150])\n",
        "nb2.fit(X_train_df.iloc[150:300], y_train[150:300])\n",
        "nb3.fit(X_train_df.iloc[300:474], y_train[300:474])\n",
        "ensemble = VotingClassifier(estimators=[('nb1', nb1), ('nb2', nb2),('nb3',nb3)], voting='hard')\n",
        "ensemble.fit(X_train_df, y_train)\n",
        "accuracy = ensemble.score(x_test, y_test)\n",
        "print(\"Voting(60-40)- NB\",(accuracy))\n"
      ]
    },
    {
      "cell_type": "code",
      "execution_count": null,
      "metadata": {
        "colab": {
          "base_uri": "https://localhost:8080/"
        },
        "id": "WZrknyS_VUGc",
        "outputId": "9d6902ca-eb91-46ec-bfba-a6fc9d5e831c"
      },
      "outputs": [
        {
          "output_type": "stream",
          "name": "stdout",
          "text": [
            "Voting(60-40)-  MLP 0.9191616766467066\n",
            "Voting(60-40)-  DT 0.9520958083832335\n",
            "Voting(60-40)-  RF 0.9461077844311377\n",
            "Voting(60-40)-  SVC 0.7994011976047904\n"
          ]
        }
      ],
      "source": [
        "def votingclf_sixtysplit(voting_clf):\n",
        "  x_train, x_test, y_train, y_test = train_test_split(X, y, test_size=0.40, random_state=43)\n",
        "  voting_clf.fit(x_train, y_train)\n",
        "  y_pred = voting_clf.predict(x_test)\n",
        "  accuracy = accuracy_score(y_test, y_pred)\n",
        "  return accuracy\n",
        "\n",
        "for estimator in votingmodel:\n",
        "  print(\"Voting(60-40)- \",estimator[0],votingclf_sixtysplit(estimator[1]))"
      ]
    },
    {
      "cell_type": "markdown",
      "metadata": {
        "id": "ZMfv6XBXVgwo"
      },
      "source": [
        "**70-30**"
      ]
    },
    {
      "cell_type": "code",
      "execution_count": null,
      "metadata": {
        "colab": {
          "base_uri": "https://localhost:8080/"
        },
        "id": "uuVeq-FVxoLr",
        "outputId": "1b44744e-33ea-456f-a6be-882fad94e4a9"
      },
      "outputs": [
        {
          "output_type": "execute_result",
          "data": {
            "text/plain": [
              "(584, 4)"
            ]
          },
          "metadata": {},
          "execution_count": 97
        }
      ],
      "source": [
        "x_train, x_test, y_train, y_test = train_test_split(X, y, test_size=0.30, random_state=43)\n",
        "traindf=pd.DataFrame(x_train)\n",
        "traindf.shape"
      ]
    },
    {
      "cell_type": "code",
      "execution_count": null,
      "metadata": {
        "colab": {
          "base_uri": "https://localhost:8080/"
        },
        "id": "DBvyLUcaxofW",
        "outputId": "a9b90c2d-d9f9-482b-af6b-0e74ea501fc3"
      },
      "outputs": [
        {
          "output_type": "stream",
          "name": "stdout",
          "text": [
            "Voting(70-30)- NB  0.7848605577689243\n"
          ]
        }
      ],
      "source": [
        "nb1 = GaussianNB()\n",
        "nb2 = GaussianNB()\n",
        "X_train_df = pd.DataFrame(x_train)\n",
        "X_test_df = pd.DataFrame(x_test)\n",
        "nb1.fit(X_train_df.iloc[:200], y_train[:200])\n",
        "nb2.fit(X_train_df.iloc[200:350], y_train[200:350])\n",
        "nb3.fit(X_train_df.iloc[350:553], y_train[350:553])\n",
        "ensemble = VotingClassifier(estimators=[('nb1', nb1), ('nb2', nb2),('nb3',nb3)], voting='hard')\n",
        "ensemble.fit(X_train_df, y_train)\n",
        "accuracy = ensemble.score(x_test, y_test)\n",
        "print(\"Voting(70-30)- NB \",(accuracy))\n"
      ]
    },
    {
      "cell_type": "code",
      "execution_count": null,
      "metadata": {
        "colab": {
          "base_uri": "https://localhost:8080/"
        },
        "id": "oq3jwtqbVfnZ",
        "outputId": "c7e2877e-b308-412d-a709-a373a0030219"
      },
      "outputs": [
        {
          "output_type": "stream",
          "name": "stdout",
          "text": [
            "Voting(70-30)-  MLP 0.9203187250996016\n",
            "Voting(70-30)-  DT 0.9641434262948207\n",
            "Voting(70-30)-  RF 0.9681274900398407\n",
            "Voting(70-30)-  SVC 0.7848605577689243\n"
          ]
        }
      ],
      "source": [
        "def votingclf_seventysplit(voting_clf):\n",
        "  x_train, x_test, y_train, y_test = train_test_split(X, y, test_size=0.30, random_state=43)\n",
        "  voting_clf.fit(x_train, y_train)\n",
        "  y_pred = voting_clf.predict(x_test)\n",
        "  accuracy = accuracy_score(y_test, y_pred)\n",
        "  return accuracy\n",
        "\n",
        "for estimator in votingmodel:\n",
        "  print(\"Voting(70-30)- \",estimator[0],votingclf_seventysplit(estimator[1]))"
      ]
    },
    {
      "cell_type": "markdown",
      "metadata": {
        "id": "alIpx3NWxubR"
      },
      "source": [
        "**80-20**"
      ]
    },
    {
      "cell_type": "code",
      "source": [
        "from sklearn.model_selection import train_test_split"
      ],
      "metadata": {
        "id": "4kw7iz2ysvUE"
      },
      "execution_count": null,
      "outputs": []
    },
    {
      "cell_type": "code",
      "execution_count": null,
      "metadata": {
        "colab": {
          "base_uri": "https://localhost:8080/"
        },
        "id": "A8J5OAzsVykD",
        "outputId": "4780ae39-103e-4ab7-84b8-01cc3470b0b4"
      },
      "outputs": [
        {
          "output_type": "execute_result",
          "data": {
            "text/plain": [
              "(668, 4)"
            ]
          },
          "metadata": {},
          "execution_count": 96
        }
      ],
      "source": [
        "x_train, x_test, y_train, y_test = train_test_split(X, y, test_size=0.20, random_state=43)\n",
        "traindf=pd.DataFrame(x_train)\n",
        "traindf.shape"
      ]
    },
    {
      "cell_type": "code",
      "source": [
        "from sklearn.model_selection import train_test_split,cross_val_score\n",
        "from sklearn import metrics\n",
        "from sklearn.metrics import confusion_matrix\n",
        "from sklearn.metrics import ConfusionMatrixDisplay\n",
        "from sklearn.metrics import classification_report\n",
        "from sklearn.metrics import roc_curve, auc\n",
        "from sklearn.metrics import accuracy_score\n",
        "from sklearn.metrics import precision_score\n",
        "from sklearn.metrics import f1_score\n",
        "from sklearn.metrics import recall_score\n"
      ],
      "metadata": {
        "id": "RfEXxZfgtf6d"
      },
      "execution_count": null,
      "outputs": []
    },
    {
      "cell_type": "code",
      "source": [
        "nb1 = GaussianNB()\n",
        "nb2 = GaussianNB()\n",
        "X_train_df = pd.DataFrame(x_train)\n",
        "X_test_df = pd.DataFrame(x_test)\n",
        "nb1.fit(X_train_df.iloc[:200], y_train[:200])\n",
        "nb2.fit(X_train_df.iloc[200:450], y_train[200:450])\n",
        "nb3.fit(X_train_df.iloc[450:632], y_train[450:632])\n",
        "ensemble = VotingClassifier(estimators=[('nb1', nb1), ('nb2', nb2),('nb3',nb3)], voting='hard')\n",
        "ensemble.fit(X_train_df, y_train)\n",
        "accuracy = ensemble.score(x_test, y_test)\n",
        "y_pred = ensemble.predict(x_test)\n",
        "fpr, tpr, _ = roc_curve(y_test, y_pred)\n",
        "rocc=auc(fpr, tpr)\n",
        "print(\"Voting(80-30)- NB Accuracy \",(accuracy))\n",
        "print(\"Voting(70-30)- NB Precision \",(metrics.precision_score(y_test, y_pred,average='micro')))\n",
        "print(\"Voting(70-30)- NB F1 score\",(metrics.f1_score(y_test, y_pred)))\n",
        "print(\"Voting(70-30)- NB Recall\",(metrics.recall_score(y_test, y_pred,average='weighted')))\n",
        "print(\"Voting(70-30)- NB ROC Measure\",(rocc))"
      ],
      "metadata": {
        "colab": {
          "base_uri": "https://localhost:8080/"
        },
        "id": "HFqOG33puckM",
        "outputId": "1e8ba11c-e1be-4755-928e-27b55151274a"
      },
      "execution_count": 116,
      "outputs": [
        {
          "output_type": "stream",
          "name": "stdout",
          "text": [
            "Voting(80-30)- NB Accuracy  0.844311377245509\n",
            "Voting(70-30)- NB Precision  0.844311377245509\n",
            "Voting(70-30)- NB F1 score 0.7485029940119761\n",
            "Voting(70-30)- NB Recall 0.844311377245509\n",
            "Voting(70-30)- NB ROC Measure 0.5185185185185185\n"
          ]
        }
      ]
    },
    {
      "cell_type": "code",
      "execution_count": 118,
      "metadata": {
        "colab": {
          "base_uri": "https://localhost:8080/"
        },
        "id": "Fe6yeZO-VtiM",
        "outputId": "c5cb1a45-99fa-4cf5-e434-9e3f4289b264"
      },
      "outputs": [
        {
          "output_type": "stream",
          "name": "stdout",
          "text": [
            "\n",
            "ACCURACY\n",
            "Voting(80-20)-  MLP 0.9161676646706587\n",
            "Voting(80-20)-  DT 0.9341317365269461\n",
            "Voting(80-20)-  RF 0.9580838323353293\n",
            "Voting(80-20)-  SVC 0.7485029940119761\n",
            "\n",
            "PRECISION\n",
            "Voting(80-20)-  MLP 0.9375\n",
            "Voting(80-20)-  DT 1.0\n",
            "Voting(80-20)-  RF 0.972972972972973\n",
            "Voting(80-20)-  0.785687654398765\n",
            "\n",
            "F1 SCORE\n",
            "Voting(80-20)-  MLP 0.8108108108108109\n",
            "Voting(80-20)-  DT 0.8493150684931507\n",
            "Voting(80-20)-  RF 0.9113924050632912\n",
            "Voting(80-20)-  0.785687654398765\n",
            "\n",
            "RECALL\n",
            "Voting(80-20)-  MLP 0.7142857142857143\n",
            "Voting(80-20)-  DT 0.7380952380952381\n",
            "Voting(80-20)-  RF 0.8571428571428571\n",
            "Voting(80-20)-  0.785687654398765\n",
            "\n",
            "ROC\n",
            "Voting(80-20)-  MLP 0.8491428571428572\n",
            "Voting(80-20)-  DT 0.8690476190476191\n",
            "Voting(80-20)-  RF 0.9245714285714286\n",
            "Voting(80-20)-  SVC 0.5\n"
          ]
        }
      ],
      "source": [
        "def votingclf_eightysplit_acc(voting_clf):\n",
        "  x_train, x_test, y_train, y_test = train_test_split(X, y, test_size=0.20, random_state=43)\n",
        "  voting_clf.fit(x_train, y_train)\n",
        "  y_pred = voting_clf.predict(x_test)\n",
        "  accuracy = accuracy_score(y_test, y_pred)\n",
        "  return accuracy\n",
        "\n",
        "print(\"\\nACCURACY\")\n",
        "for estimator in votingmodel:\n",
        "  print(\"Voting(80-20)- \",estimator[0],votingclf_eightysplit_acc(estimator[1]))\n",
        "\n",
        "def votingclf_eightysplit_pre(voting_clf):\n",
        "  x_train, x_test, y_train, y_test = train_test_split(X, y, test_size=0.20, random_state=43)\n",
        "  voting_clf.fit(x_train, y_train)\n",
        "  y_pred = voting_clf.predict(x_test)\n",
        "  precision = metrics.precision_score(y_test, y_pred)\n",
        "  return precision\n",
        "print(\"\\nPRECISION\")\n",
        "for estimator in votingmodel:\n",
        "    print(\"Voting(80-20)- \",estimator[0],votingclf_eightysplit_pre(estimator[1]))\n",
        "\n",
        "def votingclf_eightysplit_f1(voting_clf):\n",
        "  x_train, x_test, y_train, y_test = train_test_split(X, y, test_size=0.20, random_state=43)\n",
        "  voting_clf.fit(x_train, y_train)\n",
        "  y_pred = voting_clf.predict(x_test)\n",
        "  f1 = metrics.f1_score(y_test, y_pred)\n",
        "  return f1\n",
        "print(\"\\nF1 SCORE\")\n",
        "for estimator in votingmodel:\n",
        "    print(\"Voting(80-20)- \",estimator[0],votingclf_eightysplit_f1(estimator[1]))\n",
        "\n",
        "def votingclf_eightysplit_rec(voting_clf):\n",
        "  x_train, x_test, y_train, y_test = train_test_split(X, y, test_size=0.20, random_state=43)\n",
        "  voting_clf.fit(x_train, y_train)\n",
        "  y_pred = voting_clf.predict(x_test)\n",
        "  recall = metrics.recall_score(y_test, y_pred)\n",
        "  return recall\n",
        "print(\"\\nRECALL\")\n",
        "for estimator in votingmodel:\n",
        "    print(\"Voting(80-20)- \",estimator[0],votingclf_eightysplit_rec(estimator[1]))\n",
        "\n",
        "\n",
        "def votingclf_eightysplit_roc(voting_clf):\n",
        "  x_train, x_test, y_train, y_test = train_test_split(X, y, test_size=0.20, random_state=43)\n",
        "  voting_clf.fit(x_train, y_train)\n",
        "  y_pred = voting_clf.predict(x_test)\n",
        "  fpr, tpr, _ = roc_curve(y_test, y_pred)\n",
        "  rocc=auc(fpr, tpr)\n",
        "  return rocc\n",
        "print(\"\\nROC\")\n",
        "for estimator in votingmodel:\n",
        "  print(\"Voting(80-20)- \",estimator[0],votingclf_eightysplit_roc(estimator[1]))"
      ]
    },
    {
      "cell_type": "markdown",
      "metadata": {
        "id": "b4gEvtcu-xDY"
      },
      "source": [
        "## **BAGGING IMPLEMENTATION**"
      ]
    },
    {
      "cell_type": "markdown",
      "metadata": {
        "id": "WPl5QI5jUxvd"
      },
      "source": [
        " **10(k)-fold**"
      ]
    },
    {
      "cell_type": "code",
      "execution_count": null,
      "metadata": {
        "id": "VRVuG83p_9aE"
      },
      "outputs": [],
      "source": [
        "from sklearn.model_selection import cross_val_score\n",
        "from sklearn.ensemble import BaggingClassifier\n",
        "\n",
        "models=[]\n",
        "models.append(('NB',GaussianNB(var_smoothing=1e-01)))\n",
        "models.append(('MLP',MLPClassifier(random_state=7,hidden_layer_sizes=(9,8,7,5),verbose=False,learning_rate_init=0.01,\n",
        "                                   learning_rate='constant',activation='tanh',solver='adam', alpha=0.0001)))\n",
        "models.append(('DT',DecisionTreeClassifier(random_state=7,criterion='entropy',max_depth=4)))\n",
        "models.append(('RF',RandomForestClassifier(n_estimators=200,max_features=4,random_state=7)))\n",
        "models.append(('SVM',SVC(kernel='linear',random_state=7)))"
      ]
    },
    {
      "cell_type": "code",
      "execution_count": null,
      "metadata": {
        "colab": {
          "base_uri": "https://localhost:8080/"
        },
        "id": "8g6IamxHA052",
        "outputId": "9bdbcf73-7b68-41c0-ee70-10380245465d"
      },
      "outputs": [
        {
          "output_type": "stream",
          "name": "stdout",
          "text": [
            "bagging(10-fold)-  NB 0.7952237521514631\n",
            "bagging(10-fold)-  MLP 0.9209122203098108\n",
            "bagging(10-fold)-  DT 0.966508892713712\n",
            "bagging(10-fold)-  RF 0.9508605851979347\n",
            "bagging(10-fold)-  SVM 0.7953098106712564\n"
          ]
        }
      ],
      "source": [
        "for estimator in models:\n",
        "    bagging_clf = BaggingClassifier(base_estimator=estimator[1],n_estimators=15,max_features=3,max_samples=100,bootstrap=True, random_state=42)\n",
        "    kf = KFold(n_splits=10, shuffle=True)\n",
        "    all_predictions =[]\n",
        "    for train_index, test_index in kf.split(X):\n",
        "      X_train, X_test = X[train_index], X[test_index]\n",
        "      y_train, y_test = y[train_index], y[test_index]\n",
        "      bagging_clf.fit(X_train, y_train)\n",
        "      predictions = bagging_clf.predict(X_test)\n",
        "      all_predictions.append(metrics.accuracy_score(y_test,predictions))\n",
        "    final_predictions = np.mean(all_predictions, axis=0)\n",
        "    print(\"bagging(10-fold)- \",estimator[0], final_predictions)"
      ]
    },
    {
      "cell_type": "markdown",
      "metadata": {
        "id": "AvbvBBXrHGaH"
      },
      "source": [
        "**50-50**"
      ]
    },
    {
      "cell_type": "code",
      "execution_count": null,
      "metadata": {
        "colab": {
          "base_uri": "https://localhost:8080/"
        },
        "id": "VfTlO3099rTJ",
        "outputId": "7cab1ca5-6388-4249-fd3c-610cbae3e5e9"
      },
      "outputs": [
        {
          "output_type": "stream",
          "name": "stdout",
          "text": [
            "Bagging(50-50)-  NB 0.80622009569378\n",
            "Bagging(50-50)-  MLP 0.930622009569378\n",
            "Bagging(50-50)-  DT 0.9497607655502392\n",
            "Bagging(50-50)-  RF 0.9330143540669856\n",
            "Bagging(50-50)-  SVM 0.80622009569378\n"
          ]
        }
      ],
      "source": [
        "x_train, x_test, y_train, y_test = train_test_split(X, y, test_size=0.50, random_state=43)\n",
        "for estimator in models:\n",
        "    bagging_clf = BaggingClassifier(base_estimator=estimator[1],n_estimators=15,max_features=3,max_samples=100,bootstrap=True, random_state=42)\n",
        "    bagging_clf.fit(x_train, y_train)\n",
        "    y_pred = bagging_clf.predict(x_test)\n",
        "    accuracy = metrics.accuracy_score(y_test, y_pred)\n",
        "    print(\"Bagging(50-50)- \",estimator[0], accuracy)\n"
      ]
    },
    {
      "cell_type": "markdown",
      "metadata": {
        "id": "MxcKopBmApO0"
      },
      "source": [
        "**60-40**"
      ]
    },
    {
      "cell_type": "code",
      "execution_count": null,
      "metadata": {
        "id": "0M5vZIpiAS8Y",
        "colab": {
          "base_uri": "https://localhost:8080/"
        },
        "outputId": "1c800be4-9024-4c9d-8c04-c02ed1a347a3"
      },
      "outputs": [
        {
          "output_type": "stream",
          "name": "stdout",
          "text": [
            "Bagging(60-40)-  NB 0.7994011976047904\n",
            "Bagging(60-40)-  MLP 0.9011976047904192\n",
            "Bagging(60-40)-  DT 0.9491017964071856\n",
            "Bagging(60-40)-  RF 0.9161676646706587\n",
            "Bagging(60-40)-  SVM 0.7994011976047904\n"
          ]
        }
      ],
      "source": [
        "\n",
        "x_train, x_test, y_train, y_test = train_test_split(X, y, test_size=0.40, random_state=43)\n",
        "for estimator in models:\n",
        "    bagging_clf = BaggingClassifier(base_estimator=estimator[1],n_estimators=15,max_features=3,max_samples=100,bootstrap=True, random_state=42)\n",
        "    bagging_clf.fit(x_train, y_train)\n",
        "    y_pred = bagging_clf.predict(x_test)\n",
        "    accuracy = metrics.accuracy_score(y_test, y_pred)\n",
        "    print(\"Bagging(60-40)- \",estimator[0], accuracy)"
      ]
    },
    {
      "cell_type": "markdown",
      "metadata": {
        "id": "Zyzt_gxrAuCz"
      },
      "source": [
        "**70-30**"
      ]
    },
    {
      "cell_type": "code",
      "execution_count": null,
      "metadata": {
        "id": "iGBc6KTm_0CR",
        "colab": {
          "base_uri": "https://localhost:8080/"
        },
        "outputId": "ce373286-439f-4d85-c16f-14cad5c88f7b"
      },
      "outputs": [
        {
          "output_type": "stream",
          "name": "stdout",
          "text": [
            "Bagging(70-30)-  NB 0.7848605577689243\n",
            "Bagging(70-30)-  MLP 0.9083665338645418\n",
            "Bagging(70-30)-  DT 0.9721115537848606\n",
            "Bagging(70-30)-  RF 0.9362549800796812\n",
            "Bagging(70-30)-  SVM 0.7848605577689243\n"
          ]
        }
      ],
      "source": [
        "x_train, x_test, y_train, y_test = train_test_split(X, y, test_size=0.30, random_state=43)\n",
        "for estimator in models:\n",
        "    bagging_clf = BaggingClassifier(base_estimator=estimator[1],n_estimators=15,max_features=3,max_samples=100,bootstrap=True, random_state=42)\n",
        "    bagging_clf.fit(x_train, y_train)\n",
        "    y_pred = bagging_clf.predict(x_test)\n",
        "    accuracy = metrics.accuracy_score(y_test, y_pred)\n",
        "    print(\"Bagging(70-30)- \",estimator[0], accuracy)"
      ]
    },
    {
      "cell_type": "markdown",
      "metadata": {
        "id": "4FDvYIa3Aw4O"
      },
      "source": [
        "**80-20**"
      ]
    },
    {
      "cell_type": "code",
      "source": [
        "x_train, x_test, y_train, y_test = train_test_split(X, y, test_size=0.20, random_state=43)\n",
        "print(\"ACCURACY\")\n",
        "for estimator in models:\n",
        "    bagging_clf = BaggingClassifier(base_estimator=estimator[1],n_estimators=15,max_features=3,max_samples=100,bootstrap=True, random_state=42)\n",
        "    bagging_clf.fit(x_train, y_train)\n",
        "    y_pred = bagging_clf.predict(x_test)\n",
        "    accuracy = metrics.accuracy_score(y_test, y_pred)\n",
        "    print(\"Bagging(80-20)- \",estimator[0], accuracy)"
      ],
      "metadata": {
        "id": "qwief1gnqUC9"
      },
      "execution_count": null,
      "outputs": []
    },
    {
      "cell_type": "code",
      "execution_count": 120,
      "metadata": {
        "id": "ROxOLQewAwHc",
        "colab": {
          "base_uri": "https://localhost:8080/"
        },
        "outputId": "b2001e0c-3060-4ebe-bd32-ebdae4b20540"
      },
      "outputs": [
        {
          "output_type": "stream",
          "name": "stdout",
          "text": [
            "\n",
            "PRECISION\n",
            "Bagging(80-20)-  NB 0.8383233532934131\n",
            "Bagging(80-20)-  MLP 0.9461077844311377\n",
            "Bagging(80-20)-  DT 0.9820359281437125\n",
            "Bagging(80-20)-  RF 0.9880239520958084\n",
            "Bagging(80-20)-  SVM 0.8383233532934131\n",
            "\n",
            "F1 SCORE\n",
            "Bagging(80-20)-  0.7485029940119761\n",
            "Bagging(80-20)-  MLP 0.8085106382978724\n",
            "Bagging(80-20)-  DT 0.9473684210526316\n",
            "Bagging(80-20)-  RF 0.9629629629629629\n",
            "Bagging(80-20)-  SVM 0.0\n",
            "\n",
            "RECALL\n",
            "Bagging(80-20)-  NB 0.8383233532934131\n",
            "Bagging(80-20)-  MLP 0.9461077844311377\n",
            "Bagging(80-20)-  DT 0.9820359281437125\n",
            "Bagging(80-20)-  RF 0.9880239520958084\n",
            "Bagging(80-20)-  SVM 0.8383233532934131\n",
            "\n",
            "ROC\n",
            "Bagging(80-20)-  NB 0.5\n",
            "Bagging(80-20)-  MLP 0.8482804232804233\n",
            "Bagging(80-20)-  DT 0.9892857142857142\n",
            "Bagging(80-20)-  RF 0.9779100529100528\n",
            "Bagging(80-20)-  SVM 0.5\n"
          ]
        }
      ],
      "source": [
        "print(\"\\nPRECISION\")\n",
        "for estimator in models:\n",
        "    bagging_clf = BaggingClassifier(base_estimator=estimator[1],n_estimators=15,max_features=3,max_samples=100,bootstrap=True, random_state=42)\n",
        "    bagging_clf.fit(x_train, y_train)\n",
        "    y_pred = bagging_clf.predict(x_test)\n",
        "    precision = metrics.precision_score(y_test, y_pred,average='micro')\n",
        "    print(\"Bagging(80-20)- \",estimator[0], precision)\n",
        "\n",
        "print(\"\\nF1 SCORE\")\n",
        "for estimator in models:\n",
        "    bagging_clf = BaggingClassifier(base_estimator=estimator[1],n_estimators=15,max_features=3,max_samples=100,bootstrap=True, random_state=42)\n",
        "    bagging_clf.fit(x_train, y_train)\n",
        "    y_pred = bagging_clf.predict(x_test)\n",
        "    f1score = metrics.f1_score(y_test,y_pred)\n",
        "    print(\"Bagging(80-20)- \",estimator[0], f1score)\n",
        "  \n",
        "print(\"\\nRECALL\")\n",
        "for estimator in models:\n",
        "    bagging_clf = BaggingClassifier(base_estimator=estimator[1],n_estimators=15,max_features=3,max_samples=100,bootstrap=True, random_state=42)\n",
        "    bagging_clf.fit(x_train, y_train)\n",
        "    y_pred = bagging_clf.predict(x_test)\n",
        "    recall = metrics.recall_score(y_test, y_pred,average='micro')\n",
        "    print(\"Bagging(80-20)- \",estimator[0], recall)\n",
        "\n",
        "print(\"\\nROC\")\n",
        "for estimator in models:\n",
        "    bagging_clf = BaggingClassifier(base_estimator=estimator[1],n_estimators=15,max_features=3,max_samples=100,bootstrap=True, random_state=42)\n",
        "    bagging_clf.fit(x_train, y_train)\n",
        "    y_pred = bagging_clf.predict(x_test)\n",
        "    fpr, tpr, _ = roc_curve(y_test, y_pred)\n",
        "    rocc=auc(fpr, tpr)\n",
        "    print(\"Bagging(80-20)- \",estimator[0], rocc)"
      ]
    },
    {
      "cell_type": "code",
      "source": [],
      "metadata": {
        "id": "4LsBYcN0tW6i"
      },
      "execution_count": null,
      "outputs": []
    }
  ],
  "metadata": {
    "accelerator": "GPU",
    "colab": {
      "provenance": []
    },
    "gpuClass": "standard",
    "kernelspec": {
      "display_name": "Python 3",
      "name": "python3"
    },
    "language_info": {
      "name": "python"
    }
  },
  "nbformat": 4,
  "nbformat_minor": 0
}