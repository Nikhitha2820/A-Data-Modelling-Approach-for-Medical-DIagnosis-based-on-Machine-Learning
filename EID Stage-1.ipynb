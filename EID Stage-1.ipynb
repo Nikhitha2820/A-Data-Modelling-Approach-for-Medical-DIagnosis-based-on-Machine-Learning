{
  "cells": [
    {
      "cell_type": "markdown",
      "metadata": {
        "id": "rxQRmdw_OQ9S"
      },
      "source": [
        "# **EYE INFECTION DATASET (STAGE-1)**\n",
        "\n",
        "\n",
        "\n",
        "\n"
      ]
    },
    {
      "cell_type": "markdown",
      "metadata": {
        "id": "MwK9lizLPChe"
      },
      "source": [
        "## **DATA ACQUISITION**"
      ]
    },
    {
      "cell_type": "code",
      "execution_count": null,
      "metadata": {
        "id": "kc141Oopq1Q_"
      },
      "outputs": [],
      "source": [
        "import numpy as np\n",
        "import pandas as pd \n",
        "import matplotlib.pyplot as plt \n",
        "%matplotlib inline \n",
        "import seaborn as sns\n",
        "import warnings\n",
        "warnings.filterwarnings(\"ignore\")"
      ]
    },
    {
      "cell_type": "code",
      "execution_count": null,
      "metadata": {
        "colab": {
          "base_uri": "https://localhost:8080/",
          "height": 424
        },
        "id": "z_GH9TcCrJEN",
        "outputId": "23881a78-ba7c-468c-8f31-fecf022249a5"
      },
      "outputs": [
        {
          "output_type": "execute_result",
          "data": {
            "text/plain": [
              "     PID  AGE      SEX        DATE                      PCM  \\\n",
              "0  15863   46    MALE'  01-JUL-10'  sudden loss of vision '   \n",
              "1  15863   46    MALE'  15-AUG-10'  sudden loss of vision '   \n",
              "2  15864   42  FEMALE'  01-JUL-10'  sudden loss of vision '   \n",
              "3  15864   42  FEMALE'  10-AUG-10'  sudden loss of vision '   \n",
              "4  15865    9    MALE'  01-JUL-10'  sudden loss of vision '   \n",
              "\n",
              "                     DGS      EXM                  STR                  PRK  \n",
              "0  Retinal Detetchment '  B-Scan'     Repair  Surgery'  Treatment Going On'  \n",
              "1  Retinal Detetchment '  B-Scan'     Repair  Surgery'          Satisfied '  \n",
              "2    Vitrous Haemoriage'  B-Scan'  Vitractomy Surgery'  Treatment Going On'  \n",
              "3    Vitrous Haemoriage'  B-Scan'  Vitractomy Surgery'          Satisfied '  \n",
              "4  Retinal Detetchment '  B-Scan'     Repair  Surgery'  Treatment Going On'  "
            ],
            "text/html": [
              "\n",
              "  <div id=\"df-4c6228dc-f497-4c02-b1f1-a8894c139f76\">\n",
              "    <div class=\"colab-df-container\">\n",
              "      <div>\n",
              "<style scoped>\n",
              "    .dataframe tbody tr th:only-of-type {\n",
              "        vertical-align: middle;\n",
              "    }\n",
              "\n",
              "    .dataframe tbody tr th {\n",
              "        vertical-align: top;\n",
              "    }\n",
              "\n",
              "    .dataframe thead th {\n",
              "        text-align: right;\n",
              "    }\n",
              "</style>\n",
              "<table border=\"1\" class=\"dataframe\">\n",
              "  <thead>\n",
              "    <tr style=\"text-align: right;\">\n",
              "      <th></th>\n",
              "      <th>PID</th>\n",
              "      <th>AGE</th>\n",
              "      <th>SEX</th>\n",
              "      <th>DATE</th>\n",
              "      <th>PCM</th>\n",
              "      <th>DGS</th>\n",
              "      <th>EXM</th>\n",
              "      <th>STR</th>\n",
              "      <th>PRK</th>\n",
              "    </tr>\n",
              "  </thead>\n",
              "  <tbody>\n",
              "    <tr>\n",
              "      <th>0</th>\n",
              "      <td>15863</td>\n",
              "      <td>46</td>\n",
              "      <td>MALE'</td>\n",
              "      <td>01-JUL-10'</td>\n",
              "      <td>sudden loss of vision '</td>\n",
              "      <td>Retinal Detetchment '</td>\n",
              "      <td>B-Scan'</td>\n",
              "      <td>Repair  Surgery'</td>\n",
              "      <td>Treatment Going On'</td>\n",
              "    </tr>\n",
              "    <tr>\n",
              "      <th>1</th>\n",
              "      <td>15863</td>\n",
              "      <td>46</td>\n",
              "      <td>MALE'</td>\n",
              "      <td>15-AUG-10'</td>\n",
              "      <td>sudden loss of vision '</td>\n",
              "      <td>Retinal Detetchment '</td>\n",
              "      <td>B-Scan'</td>\n",
              "      <td>Repair  Surgery'</td>\n",
              "      <td>Satisfied '</td>\n",
              "    </tr>\n",
              "    <tr>\n",
              "      <th>2</th>\n",
              "      <td>15864</td>\n",
              "      <td>42</td>\n",
              "      <td>FEMALE'</td>\n",
              "      <td>01-JUL-10'</td>\n",
              "      <td>sudden loss of vision '</td>\n",
              "      <td>Vitrous Haemoriage'</td>\n",
              "      <td>B-Scan'</td>\n",
              "      <td>Vitractomy Surgery'</td>\n",
              "      <td>Treatment Going On'</td>\n",
              "    </tr>\n",
              "    <tr>\n",
              "      <th>3</th>\n",
              "      <td>15864</td>\n",
              "      <td>42</td>\n",
              "      <td>FEMALE'</td>\n",
              "      <td>10-AUG-10'</td>\n",
              "      <td>sudden loss of vision '</td>\n",
              "      <td>Vitrous Haemoriage'</td>\n",
              "      <td>B-Scan'</td>\n",
              "      <td>Vitractomy Surgery'</td>\n",
              "      <td>Satisfied '</td>\n",
              "    </tr>\n",
              "    <tr>\n",
              "      <th>4</th>\n",
              "      <td>15865</td>\n",
              "      <td>9</td>\n",
              "      <td>MALE'</td>\n",
              "      <td>01-JUL-10'</td>\n",
              "      <td>sudden loss of vision '</td>\n",
              "      <td>Retinal Detetchment '</td>\n",
              "      <td>B-Scan'</td>\n",
              "      <td>Repair  Surgery'</td>\n",
              "      <td>Treatment Going On'</td>\n",
              "    </tr>\n",
              "  </tbody>\n",
              "</table>\n",
              "</div>\n",
              "      <button class=\"colab-df-convert\" onclick=\"convertToInteractive('df-4c6228dc-f497-4c02-b1f1-a8894c139f76')\"\n",
              "              title=\"Convert this dataframe to an interactive table.\"\n",
              "              style=\"display:none;\">\n",
              "        \n",
              "  <svg xmlns=\"http://www.w3.org/2000/svg\" height=\"24px\"viewBox=\"0 0 24 24\"\n",
              "       width=\"24px\">\n",
              "    <path d=\"M0 0h24v24H0V0z\" fill=\"none\"/>\n",
              "    <path d=\"M18.56 5.44l.94 2.06.94-2.06 2.06-.94-2.06-.94-.94-2.06-.94 2.06-2.06.94zm-11 1L8.5 8.5l.94-2.06 2.06-.94-2.06-.94L8.5 2.5l-.94 2.06-2.06.94zm10 10l.94 2.06.94-2.06 2.06-.94-2.06-.94-.94-2.06-.94 2.06-2.06.94z\"/><path d=\"M17.41 7.96l-1.37-1.37c-.4-.4-.92-.59-1.43-.59-.52 0-1.04.2-1.43.59L10.3 9.45l-7.72 7.72c-.78.78-.78 2.05 0 2.83L4 21.41c.39.39.9.59 1.41.59.51 0 1.02-.2 1.41-.59l7.78-7.78 2.81-2.81c.8-.78.8-2.07 0-2.86zM5.41 20L4 18.59l7.72-7.72 1.47 1.35L5.41 20z\"/>\n",
              "  </svg>\n",
              "      </button>\n",
              "      \n",
              "  <style>\n",
              "    .colab-df-container {\n",
              "      display:flex;\n",
              "      flex-wrap:wrap;\n",
              "      gap: 12px;\n",
              "    }\n",
              "\n",
              "    .colab-df-convert {\n",
              "      background-color: #E8F0FE;\n",
              "      border: none;\n",
              "      border-radius: 50%;\n",
              "      cursor: pointer;\n",
              "      display: none;\n",
              "      fill: #1967D2;\n",
              "      height: 32px;\n",
              "      padding: 0 0 0 0;\n",
              "      width: 32px;\n",
              "    }\n",
              "\n",
              "    .colab-df-convert:hover {\n",
              "      background-color: #E2EBFA;\n",
              "      box-shadow: 0px 1px 2px rgba(60, 64, 67, 0.3), 0px 1px 3px 1px rgba(60, 64, 67, 0.15);\n",
              "      fill: #174EA6;\n",
              "    }\n",
              "\n",
              "    [theme=dark] .colab-df-convert {\n",
              "      background-color: #3B4455;\n",
              "      fill: #D2E3FC;\n",
              "    }\n",
              "\n",
              "    [theme=dark] .colab-df-convert:hover {\n",
              "      background-color: #434B5C;\n",
              "      box-shadow: 0px 1px 3px 1px rgba(0, 0, 0, 0.15);\n",
              "      filter: drop-shadow(0px 1px 2px rgba(0, 0, 0, 0.3));\n",
              "      fill: #FFFFFF;\n",
              "    }\n",
              "  </style>\n",
              "\n",
              "      <script>\n",
              "        const buttonEl =\n",
              "          document.querySelector('#df-4c6228dc-f497-4c02-b1f1-a8894c139f76 button.colab-df-convert');\n",
              "        buttonEl.style.display =\n",
              "          google.colab.kernel.accessAllowed ? 'block' : 'none';\n",
              "\n",
              "        async function convertToInteractive(key) {\n",
              "          const element = document.querySelector('#df-4c6228dc-f497-4c02-b1f1-a8894c139f76');\n",
              "          const dataTable =\n",
              "            await google.colab.kernel.invokeFunction('convertToInteractive',\n",
              "                                                     [key], {});\n",
              "          if (!dataTable) return;\n",
              "\n",
              "          const docLinkHtml = 'Like what you see? Visit the ' +\n",
              "            '<a target=\"_blank\" href=https://colab.research.google.com/notebooks/data_table.ipynb>data table notebook</a>'\n",
              "            + ' to learn more about interactive tables.';\n",
              "          element.innerHTML = '';\n",
              "          dataTable['output_type'] = 'display_data';\n",
              "          await google.colab.output.renderOutput(dataTable, element);\n",
              "          const docLink = document.createElement('div');\n",
              "          docLink.innerHTML = docLinkHtml;\n",
              "          element.appendChild(docLink);\n",
              "        }\n",
              "      </script>\n",
              "    </div>\n",
              "  </div>\n",
              "  "
            ]
          },
          "metadata": {},
          "execution_count": 4
        }
      ],
      "source": [
        "ed=pd.read_csv('Eye_dataset.csv',on_bad_lines='skip') \n",
        "ed.head()\n"
      ]
    },
    {
      "cell_type": "code",
      "execution_count": null,
      "metadata": {
        "colab": {
          "base_uri": "https://localhost:8080/"
        },
        "id": "J031eR7B0tOF",
        "outputId": "b9fd90cf-12c5-4ddf-b982-d88b620f8fa6"
      },
      "outputs": [
        {
          "output_type": "execute_result",
          "data": {
            "text/plain": [
              "(835, 9)"
            ]
          },
          "metadata": {},
          "execution_count": 5
        }
      ],
      "source": [
        "ed.shape"
      ]
    },
    {
      "cell_type": "code",
      "source": [
        "ed['LB']=ed['STR']"
      ],
      "metadata": {
        "id": "9fLjokC7klw2"
      },
      "execution_count": null,
      "outputs": []
    },
    {
      "cell_type": "code",
      "source": [
        "ed['LB'].replace([\"Navanac Eye Drop'\" , \"Anti-Glaucoma Medication'\",\"Tab: AZM,Navanac Eye Drop'\",\"Tab: Vitamin A'\",\"Corneal Transplantation '\"],1,inplace=True)"
      ],
      "metadata": {
        "id": "OSdKrTVqknpm"
      },
      "execution_count": null,
      "outputs": []
    },
    {
      "cell_type": "code",
      "source": [
        "ed['LB'].replace([\"Vitractomy Surgery'\" , \"Repair  Surgery'\",\"Yag Laser Peripherial Iridotomy'\",\"Yag LaserCapsulotomy'\",\"Anti-Glaucoma Medication'\",\"Inj: Avastin,Navanac Eye Drop'\",\"Neurological Surgery'\",\"Inj: Avastin,Argon Laser'\",\"Inj: Avastin ,'Navanac Eye Drop'\",\"Inj: Avastin ,Navanac Eye Drop'\",\"Laser Peripherial Iridotomy'\",\"Argon Laser '\",\"Trebyculectomy'\",\"Inj: Avastin,Navanac Eye Drop' '\",\"Inj: Avastin,Argon Laser '\",\"Inj: Avastin ,'Tab: AZM,Navanac Eye Drop''\",\"Inj: Avastin ,'Tab: AZM,Navanac Eye Drop',\",\"Trebyculectomy,Anti-Glaucoma Medication'\",\"Inj: Avastin '\",\"Inj: Avastin '\",\"Neurological Disorder'\"],0,inplace=True)"
      ],
      "metadata": {
        "id": "qgRiy_SKkwAV"
      },
      "execution_count": null,
      "outputs": []
    },
    {
      "cell_type": "code",
      "source": [
        "\n",
        "ed.head()"
      ],
      "metadata": {
        "colab": {
          "base_uri": "https://localhost:8080/",
          "height": 424
        },
        "id": "mgZtSL59lFyT",
        "outputId": "37c565e1-e2c3-41ef-99f7-c4f9a5b9bce4"
      },
      "execution_count": null,
      "outputs": [
        {
          "output_type": "execute_result",
          "data": {
            "text/plain": [
              "     PID  AGE      SEX        DATE                      PCM  \\\n",
              "0  15863   46    MALE'  01-JUL-10'  sudden loss of vision '   \n",
              "1  15863   46    MALE'  15-AUG-10'  sudden loss of vision '   \n",
              "2  15864   42  FEMALE'  01-JUL-10'  sudden loss of vision '   \n",
              "3  15864   42  FEMALE'  10-AUG-10'  sudden loss of vision '   \n",
              "4  15865    9    MALE'  01-JUL-10'  sudden loss of vision '   \n",
              "\n",
              "                     DGS      EXM                  STR                  PRK  \\\n",
              "0  Retinal Detetchment '  B-Scan'     Repair  Surgery'  Treatment Going On'   \n",
              "1  Retinal Detetchment '  B-Scan'     Repair  Surgery'          Satisfied '   \n",
              "2    Vitrous Haemoriage'  B-Scan'  Vitractomy Surgery'  Treatment Going On'   \n",
              "3    Vitrous Haemoriage'  B-Scan'  Vitractomy Surgery'          Satisfied '   \n",
              "4  Retinal Detetchment '  B-Scan'     Repair  Surgery'  Treatment Going On'   \n",
              "\n",
              "   LB  \n",
              "0   0  \n",
              "1   0  \n",
              "2   0  \n",
              "3   0  \n",
              "4   0  "
            ],
            "text/html": [
              "\n",
              "  <div id=\"df-813b8eae-b6d4-4322-9101-c25878583b25\">\n",
              "    <div class=\"colab-df-container\">\n",
              "      <div>\n",
              "<style scoped>\n",
              "    .dataframe tbody tr th:only-of-type {\n",
              "        vertical-align: middle;\n",
              "    }\n",
              "\n",
              "    .dataframe tbody tr th {\n",
              "        vertical-align: top;\n",
              "    }\n",
              "\n",
              "    .dataframe thead th {\n",
              "        text-align: right;\n",
              "    }\n",
              "</style>\n",
              "<table border=\"1\" class=\"dataframe\">\n",
              "  <thead>\n",
              "    <tr style=\"text-align: right;\">\n",
              "      <th></th>\n",
              "      <th>PID</th>\n",
              "      <th>AGE</th>\n",
              "      <th>SEX</th>\n",
              "      <th>DATE</th>\n",
              "      <th>PCM</th>\n",
              "      <th>DGS</th>\n",
              "      <th>EXM</th>\n",
              "      <th>STR</th>\n",
              "      <th>PRK</th>\n",
              "      <th>LB</th>\n",
              "    </tr>\n",
              "  </thead>\n",
              "  <tbody>\n",
              "    <tr>\n",
              "      <th>0</th>\n",
              "      <td>15863</td>\n",
              "      <td>46</td>\n",
              "      <td>MALE'</td>\n",
              "      <td>01-JUL-10'</td>\n",
              "      <td>sudden loss of vision '</td>\n",
              "      <td>Retinal Detetchment '</td>\n",
              "      <td>B-Scan'</td>\n",
              "      <td>Repair  Surgery'</td>\n",
              "      <td>Treatment Going On'</td>\n",
              "      <td>0</td>\n",
              "    </tr>\n",
              "    <tr>\n",
              "      <th>1</th>\n",
              "      <td>15863</td>\n",
              "      <td>46</td>\n",
              "      <td>MALE'</td>\n",
              "      <td>15-AUG-10'</td>\n",
              "      <td>sudden loss of vision '</td>\n",
              "      <td>Retinal Detetchment '</td>\n",
              "      <td>B-Scan'</td>\n",
              "      <td>Repair  Surgery'</td>\n",
              "      <td>Satisfied '</td>\n",
              "      <td>0</td>\n",
              "    </tr>\n",
              "    <tr>\n",
              "      <th>2</th>\n",
              "      <td>15864</td>\n",
              "      <td>42</td>\n",
              "      <td>FEMALE'</td>\n",
              "      <td>01-JUL-10'</td>\n",
              "      <td>sudden loss of vision '</td>\n",
              "      <td>Vitrous Haemoriage'</td>\n",
              "      <td>B-Scan'</td>\n",
              "      <td>Vitractomy Surgery'</td>\n",
              "      <td>Treatment Going On'</td>\n",
              "      <td>0</td>\n",
              "    </tr>\n",
              "    <tr>\n",
              "      <th>3</th>\n",
              "      <td>15864</td>\n",
              "      <td>42</td>\n",
              "      <td>FEMALE'</td>\n",
              "      <td>10-AUG-10'</td>\n",
              "      <td>sudden loss of vision '</td>\n",
              "      <td>Vitrous Haemoriage'</td>\n",
              "      <td>B-Scan'</td>\n",
              "      <td>Vitractomy Surgery'</td>\n",
              "      <td>Satisfied '</td>\n",
              "      <td>0</td>\n",
              "    </tr>\n",
              "    <tr>\n",
              "      <th>4</th>\n",
              "      <td>15865</td>\n",
              "      <td>9</td>\n",
              "      <td>MALE'</td>\n",
              "      <td>01-JUL-10'</td>\n",
              "      <td>sudden loss of vision '</td>\n",
              "      <td>Retinal Detetchment '</td>\n",
              "      <td>B-Scan'</td>\n",
              "      <td>Repair  Surgery'</td>\n",
              "      <td>Treatment Going On'</td>\n",
              "      <td>0</td>\n",
              "    </tr>\n",
              "  </tbody>\n",
              "</table>\n",
              "</div>\n",
              "      <button class=\"colab-df-convert\" onclick=\"convertToInteractive('df-813b8eae-b6d4-4322-9101-c25878583b25')\"\n",
              "              title=\"Convert this dataframe to an interactive table.\"\n",
              "              style=\"display:none;\">\n",
              "        \n",
              "  <svg xmlns=\"http://www.w3.org/2000/svg\" height=\"24px\"viewBox=\"0 0 24 24\"\n",
              "       width=\"24px\">\n",
              "    <path d=\"M0 0h24v24H0V0z\" fill=\"none\"/>\n",
              "    <path d=\"M18.56 5.44l.94 2.06.94-2.06 2.06-.94-2.06-.94-.94-2.06-.94 2.06-2.06.94zm-11 1L8.5 8.5l.94-2.06 2.06-.94-2.06-.94L8.5 2.5l-.94 2.06-2.06.94zm10 10l.94 2.06.94-2.06 2.06-.94-2.06-.94-.94-2.06-.94 2.06-2.06.94z\"/><path d=\"M17.41 7.96l-1.37-1.37c-.4-.4-.92-.59-1.43-.59-.52 0-1.04.2-1.43.59L10.3 9.45l-7.72 7.72c-.78.78-.78 2.05 0 2.83L4 21.41c.39.39.9.59 1.41.59.51 0 1.02-.2 1.41-.59l7.78-7.78 2.81-2.81c.8-.78.8-2.07 0-2.86zM5.41 20L4 18.59l7.72-7.72 1.47 1.35L5.41 20z\"/>\n",
              "  </svg>\n",
              "      </button>\n",
              "      \n",
              "  <style>\n",
              "    .colab-df-container {\n",
              "      display:flex;\n",
              "      flex-wrap:wrap;\n",
              "      gap: 12px;\n",
              "    }\n",
              "\n",
              "    .colab-df-convert {\n",
              "      background-color: #E8F0FE;\n",
              "      border: none;\n",
              "      border-radius: 50%;\n",
              "      cursor: pointer;\n",
              "      display: none;\n",
              "      fill: #1967D2;\n",
              "      height: 32px;\n",
              "      padding: 0 0 0 0;\n",
              "      width: 32px;\n",
              "    }\n",
              "\n",
              "    .colab-df-convert:hover {\n",
              "      background-color: #E2EBFA;\n",
              "      box-shadow: 0px 1px 2px rgba(60, 64, 67, 0.3), 0px 1px 3px 1px rgba(60, 64, 67, 0.15);\n",
              "      fill: #174EA6;\n",
              "    }\n",
              "\n",
              "    [theme=dark] .colab-df-convert {\n",
              "      background-color: #3B4455;\n",
              "      fill: #D2E3FC;\n",
              "    }\n",
              "\n",
              "    [theme=dark] .colab-df-convert:hover {\n",
              "      background-color: #434B5C;\n",
              "      box-shadow: 0px 1px 3px 1px rgba(0, 0, 0, 0.15);\n",
              "      filter: drop-shadow(0px 1px 2px rgba(0, 0, 0, 0.3));\n",
              "      fill: #FFFFFF;\n",
              "    }\n",
              "  </style>\n",
              "\n",
              "      <script>\n",
              "        const buttonEl =\n",
              "          document.querySelector('#df-813b8eae-b6d4-4322-9101-c25878583b25 button.colab-df-convert');\n",
              "        buttonEl.style.display =\n",
              "          google.colab.kernel.accessAllowed ? 'block' : 'none';\n",
              "\n",
              "        async function convertToInteractive(key) {\n",
              "          const element = document.querySelector('#df-813b8eae-b6d4-4322-9101-c25878583b25');\n",
              "          const dataTable =\n",
              "            await google.colab.kernel.invokeFunction('convertToInteractive',\n",
              "                                                     [key], {});\n",
              "          if (!dataTable) return;\n",
              "\n",
              "          const docLinkHtml = 'Like what you see? Visit the ' +\n",
              "            '<a target=\"_blank\" href=https://colab.research.google.com/notebooks/data_table.ipynb>data table notebook</a>'\n",
              "            + ' to learn more about interactive tables.';\n",
              "          element.innerHTML = '';\n",
              "          dataTable['output_type'] = 'display_data';\n",
              "          await google.colab.output.renderOutput(dataTable, element);\n",
              "          const docLink = document.createElement('div');\n",
              "          docLink.innerHTML = docLinkHtml;\n",
              "          element.appendChild(docLink);\n",
              "        }\n",
              "      </script>\n",
              "    </div>\n",
              "  </div>\n",
              "  "
            ]
          },
          "metadata": {},
          "execution_count": 9
        }
      ]
    },
    {
      "cell_type": "markdown",
      "metadata": {
        "id": "FqfSS-5nPvlg"
      },
      "source": [
        "**DATA PREPROCESSING**"
      ]
    },
    {
      "cell_type": "code",
      "execution_count": null,
      "metadata": {
        "id": "NV15b-IRIkzF"
      },
      "outputs": [],
      "source": [
        "ed=ed.replace('?', np.NaN)"
      ]
    },
    {
      "cell_type": "code",
      "execution_count": null,
      "metadata": {
        "colab": {
          "base_uri": "https://localhost:8080/"
        },
        "id": "cDGSPBAdItMg",
        "outputId": "ec7b4e69-ee97-45d8-ef85-d29a2f97ca32"
      },
      "outputs": [
        {
          "output_type": "execute_result",
          "data": {
            "text/plain": [
              "PID     0\n",
              "AGE     0\n",
              "SEX     0\n",
              "DATE    0\n",
              "PCM     0\n",
              "DGS     0\n",
              "EXM     0\n",
              "STR     0\n",
              "PRK     1\n",
              "LB      0\n",
              "dtype: int64"
            ]
          },
          "metadata": {},
          "execution_count": 11
        }
      ],
      "source": [
        "pd.isna(ed).sum()"
      ]
    },
    {
      "cell_type": "code",
      "execution_count": null,
      "metadata": {
        "id": "JKOWfFJkJdxX"
      },
      "outputs": [],
      "source": [
        "for column in ed.columns:\n",
        "    if ed[column].dtype == 'object':\n",
        "        ed[column].fillna(ed[column].mode()[0], inplace=True)"
      ]
    },
    {
      "cell_type": "code",
      "execution_count": null,
      "metadata": {
        "colab": {
          "base_uri": "https://localhost:8080/"
        },
        "id": "153ndKj5JjXq",
        "outputId": "30a1b343-0cab-4ed3-a407-ef0907d8bf84"
      },
      "outputs": [
        {
          "output_type": "execute_result",
          "data": {
            "text/plain": [
              "PID     0\n",
              "AGE     0\n",
              "SEX     0\n",
              "DATE    0\n",
              "PCM     0\n",
              "DGS     0\n",
              "EXM     0\n",
              "STR     0\n",
              "PRK     0\n",
              "LB      0\n",
              "dtype: int64"
            ]
          },
          "metadata": {},
          "execution_count": 13
        }
      ],
      "source": [
        "pd.isna(ed).sum()"
      ]
    },
    {
      "cell_type": "code",
      "execution_count": null,
      "metadata": {
        "colab": {
          "base_uri": "https://localhost:8080/",
          "height": 447
        },
        "id": "6_04vkCz7UwQ",
        "outputId": "9b0fc10a-91b1-4d40-9b24-746fe618343f"
      },
      "outputs": [
        {
          "output_type": "execute_result",
          "data": {
            "text/plain": [
              "<Axes: >"
            ]
          },
          "metadata": {},
          "execution_count": 14
        },
        {
          "output_type": "display_data",
          "data": {
            "text/plain": [
              "<Figure size 640x480 with 1 Axes>"
            ],
            "image/png": "[encoded data removed]"
          },
          "metadata": {}
        }
      ],
      "source": [
        "\n",
        "sns.heatmap(ed.isnull(),yticklabels=False,cbar=False,cmap='viridis')\n"
      ]
    },
    {
      "cell_type": "markdown",
      "metadata": {
        "id": "v4xKTzHuQj6j"
      },
      "source": [
        "**DATA PREPERATION**"
      ]
    },
    {
      "cell_type": "code",
      "execution_count": null,
      "metadata": {
        "colab": {
          "base_uri": "https://localhost:8080/"
        },
        "id": "AkrWIrNzA169",
        "outputId": "d7146e1c-cb16-470c-a4ef-058915b05168"
      },
      "outputs": [
        {
          "output_type": "execute_result",
          "data": {
            "text/plain": [
              "MALE'      493\n",
              "FEMALE'    342\n",
              "Name: SEX, dtype: int64"
            ]
          },
          "metadata": {},
          "execution_count": 15
        }
      ],
      "source": [
        "ed['SEX'].value_counts() "
      ]
    },
    {
      "cell_type": "code",
      "execution_count": null,
      "metadata": {
        "colab": {
          "base_uri": "https://localhost:8080/",
          "height": 489
        },
        "id": "F0Hgrz8Ev-zR",
        "outputId": "3ae7b284-76f0-4f59-fa85-5885e485b74a"
      },
      "outputs": [
        {
          "output_type": "execute_result",
          "data": {
            "text/plain": [
              "Text(0, 0.5, 'Count')"
            ]
          },
          "metadata": {},
          "execution_count": 16
        },
        {
          "output_type": "display_data",
          "data": {
            "text/plain": [
              "<Figure size 640x480 with 1 Axes>"
            ],
            "image/png": "[encoded data removed]"
          },
          "metadata": {}
        }
      ],
      "source": [
        "sns.countplot(x=ed['SEX'])\n",
        "plt.title('Count plot of SEX')\n",
        "plt.xlabel('SEX')\n",
        "plt.ylabel('Count')"
      ]
    },
    {
      "cell_type": "code",
      "execution_count": null,
      "metadata": {
        "id": "IL8zFIv9Cpdo"
      },
      "outputs": [],
      "source": [
        "from sklearn.preprocessing import LabelEncoder\n",
        "le = LabelEncoder()\n",
        "df = le.fit_transform(ed['SEX'])\n",
        "ed['SEX']=df\n"
      ]
    },
    {
      "cell_type": "code",
      "execution_count": null,
      "metadata": {
        "colab": {
          "base_uri": "https://localhost:8080/"
        },
        "id": "-oZ_OFcJHB6_",
        "outputId": "838ba429-8ef2-4a3a-a340-dbec5fd35333"
      },
      "outputs": [
        {
          "output_type": "execute_result",
          "data": {
            "text/plain": [
              "27-SEP-10'    23\n",
              "20-JUL-10'    22\n",
              "06-JUL-10'    19\n",
              "30-SEP-10'    19\n",
              "15-JUL-10'    18\n",
              "              ..\n",
              "27-JUL-10      1\n",
              "07-DEC-10'     1\n",
              "09-SEP-10'     1\n",
              "09-SEP-10      1\n",
              "2-AUG-10'      1\n",
              "Name: DATE, Length: 146, dtype: int64"
            ]
          },
          "metadata": {},
          "execution_count": 18
        }
      ],
      "source": [
        "ed['DATE'].value_counts()"
      ]
    },
    {
      "cell_type": "code",
      "execution_count": null,
      "metadata": {
        "id": "PDBqv0ORHXDq"
      },
      "outputs": [],
      "source": [
        "\n",
        "\n",
        "df = le.fit_transform(ed['DATE'])\n",
        "ed['DATE']=df"
      ]
    },
    {
      "cell_type": "code",
      "execution_count": null,
      "metadata": {
        "colab": {
          "base_uri": "https://localhost:8080/"
        },
        "id": "NMNhe2dLEEL_",
        "outputId": "5af9593c-4aac-453f-90d9-e0ca96069627"
      },
      "outputs": [
        {
          "output_type": "execute_result",
          "data": {
            "text/plain": [
              "Blured Vision '                         396\n",
              "Raised Intra Occular Pressure '         149\n",
              "sudden loss of vision '                 135\n",
              "Decrease Vision '                        80\n",
              "Loss Of Peripherial Field of Vision'     66\n",
              "Decrease Vision in Both Eye'              9\n",
              "Name: PCM, dtype: int64"
            ]
          },
          "metadata": {},
          "execution_count": 20
        }
      ],
      "source": [
        "ed['PCM'].value_counts()"
      ]
    },
    {
      "cell_type": "code",
      "execution_count": null,
      "metadata": {
        "id": "4SlV9aFdDDoz"
      },
      "outputs": [],
      "source": [
        "df = le.fit_transform(ed['PCM'])\n",
        "ed['PCM']=df"
      ]
    },
    {
      "cell_type": "code",
      "execution_count": null,
      "metadata": {
        "colab": {
          "base_uri": "https://localhost:8080/"
        },
        "id": "uj7GYRvgESBj",
        "outputId": "40f88082-3118-4eae-a8fc-7e0ab3d95551"
      },
      "outputs": [
        {
          "output_type": "execute_result",
          "data": {
            "text/plain": [
              "Vitrous Haemoriage'                  246\n",
              "Retinal Detetchment '                180\n",
              "Angle Occular Glacoma'               148\n",
              "Postirior Capsular Opacification'     48\n",
              "Glaucoma'                             45\n",
              "Diabetic Retinopathy'                 39\n",
              "CSCR'                                 25\n",
              "CRVO'                                 22\n",
              "Macular Oedema'                       21\n",
              "Neurological Disorder'                21\n",
              "Temporal Defect'                      16\n",
              "Retinitis Pigmentosa '                14\n",
              "Keretoconrus '                         9\n",
              "Pigmentosa'                            1\n",
              "Name: DGS, dtype: int64"
            ]
          },
          "metadata": {},
          "execution_count": 22
        }
      ],
      "source": [
        "ed['DGS'].value_counts()"
      ]
    },
    {
      "cell_type": "code",
      "execution_count": null,
      "metadata": {
        "colab": {
          "base_uri": "https://localhost:8080/",
          "height": 680
        },
        "id": "FUePsWSTwvGt",
        "outputId": "80ebf4f7-09b6-4190-87f0-5f3185b315e5"
      },
      "outputs": [
        {
          "output_type": "display_data",
          "data": {
            "text/plain": [
              "<Figure size 640x480 with 1 Axes>"
            ],
            "image/png": "[encoded data removed]"
          },
          "metadata": {}
        }
      ],
      "source": [
        "sns.countplot(x=ed['DGS'])\n",
        "plt.title('Count plot of DGS')\n",
        "plt.xlabel('DGS')\n",
        "plt.ylabel('Count')\n",
        "plt.xticks(rotation=90)\n",
        "plt.show()"
      ]
    },
    {
      "cell_type": "code",
      "execution_count": null,
      "metadata": {
        "id": "NDW_geTdHw3a"
      },
      "outputs": [],
      "source": [
        "df = le.fit_transform(ed['DGS'])\n",
        "ed['DGS']=df\n"
      ]
    },
    {
      "cell_type": "code",
      "execution_count": null,
      "metadata": {
        "colab": {
          "base_uri": "https://localhost:8080/"
        },
        "id": "VBZFq6rdG9zR",
        "outputId": "913f9ac0-ad32-43f7-e524-f7ea33304a6e"
      },
      "outputs": [
        {
          "output_type": "execute_result",
          "data": {
            "text/plain": [
              "B-Scan'                427\n",
              "Yag Laser'             192\n",
              "FFA'                    68\n",
              "Perimetry'              68\n",
              "Argon Laser Grid'       29\n",
              "Argon Laser  PRP'       21\n",
              "Argon Laser BRVO'       21\n",
              "Corneal Topography'      9\n",
              "Name: EXM, dtype: int64"
            ]
          },
          "metadata": {},
          "execution_count": 25
        }
      ],
      "source": [
        "\n",
        "ed['EXM'].value_counts()"
      ]
    },
    {
      "cell_type": "code",
      "execution_count": null,
      "metadata": {
        "colab": {
          "base_uri": "https://localhost:8080/",
          "height": 601
        },
        "id": "NF75v_-Nw_yi",
        "outputId": "c1b3b438-9827-4598-cb0a-8dd9cc4315d4"
      },
      "outputs": [
        {
          "output_type": "display_data",
          "data": {
            "text/plain": [
              "<Figure size 640x480 with 1 Axes>"
            ],
            "image/png": "[encoded data removed]"
          },
          "metadata": {}
        }
      ],
      "source": [
        "\n",
        "\n",
        "\n",
        "sns.countplot(x=ed['EXM'])\n",
        "plt.title('Count plot of EXM')\n",
        "plt.xlabel('EXM')\n",
        "plt.ylabel('Count')\n",
        "plt.xticks(rotation=90)\n",
        "plt.show()"
      ]
    },
    {
      "cell_type": "code",
      "execution_count": null,
      "metadata": {
        "id": "jydcla5EEokV"
      },
      "outputs": [],
      "source": [
        "\n",
        "df = le.fit_transform(ed['EXM'])\n",
        "ed['EXM']=df\n"
      ]
    },
    {
      "cell_type": "code",
      "execution_count": null,
      "metadata": {
        "colab": {
          "base_uri": "https://localhost:8080/"
        },
        "id": "49GLRhH-HMKm",
        "outputId": "9899f23a-ba80-41f7-e93b-d45953b665f2"
      },
      "outputs": [
        {
          "output_type": "execute_result",
          "data": {
            "text/plain": [
              "Vitractomy Surgery'                           254\n",
              "Repair  Surgery'                              173\n",
              "Yag Laser Peripherial Iridotomy'              145\n",
              "Navanac Eye Drop'                              87\n",
              "Yag LaserCapsulotomy'                          47\n",
              "Anti-Glaucoma Medication'                      45\n",
              "Neurological Surgery'                          18\n",
              "Tab: AZM,Navanac Eye Drop'                     15\n",
              "Tab: Vitamin A'                                15\n",
              "Corneal Transplantation '                       9\n",
              "Inj: Avastin,Navanac Eye Drop'                  8\n",
              "Inj: Avastin,Argon Laser '                      3\n",
              "Inj: Avastin ,'Navanac Eye Drop'                3\n",
              "Inj: Avastin ,Navanac Eye Drop'                 2\n",
              "Laser Peripherial Iridotomy'                    2\n",
              "Argon Laser '                                   1\n",
              "Trebyculectomy'                                 1\n",
              "Inj: Avastin,Navanac Eye Drop' '                1\n",
              "Inj: Avastin,Argon Laser'                       1\n",
              "Inj: Avastin ,'Tab: AZM,Navanac Eye Drop''      1\n",
              "Inj: Avastin ,'Tab: AZM,Navanac Eye Drop',      1\n",
              "Trebyculectomy,Anti-Glaucoma Medication'        1\n",
              "Inj: Avastin '                                  1\n",
              "Neurological Disorder'                          1\n",
              "Name: STR, dtype: int64"
            ]
          },
          "metadata": {},
          "execution_count": 28
        }
      ],
      "source": [
        "ed['STR'].value_counts()"
      ]
    },
    {
      "cell_type": "code",
      "execution_count": null,
      "metadata": {
        "colab": {
          "base_uri": "https://localhost:8080/",
          "height": 759
        },
        "id": "zkDsVyfDyJOt",
        "outputId": "be619471-8f9f-4b88-adca-fe82f46d5576"
      },
      "outputs": [
        {
          "output_type": "display_data",
          "data": {
            "text/plain": [
              "<Figure size 640x480 with 1 Axes>"
            ],
            "image/png": "[encoded data removed]"
          },
          "metadata": {}
        }
      ],
      "source": [
        "sns.countplot(x=ed['STR'])\n",
        "plt.title('Count plot of STR')\n",
        "plt.xlabel('STR')\n",
        "plt.ylabel('Count')\n",
        "plt.xticks(rotation=90)\n",
        "plt.show()"
      ]
    },
    {
      "cell_type": "code",
      "execution_count": null,
      "metadata": {
        "id": "aetsp_BwH1Sx"
      },
      "outputs": [],
      "source": [
        "df = le.fit_transform(ed['STR'])\n",
        "ed['STR']=df\n"
      ]
    },
    {
      "cell_type": "code",
      "execution_count": null,
      "metadata": {
        "colab": {
          "base_uri": "https://localhost:8080/"
        },
        "id": "J2Br1pWnHO5D",
        "outputId": "06eb8416-dde1-4d56-e9df-a2230c0402f8"
      },
      "outputs": [
        {
          "output_type": "execute_result",
          "data": {
            "text/plain": [
              "Satisfied '                        426\n",
              "Treatment Going On'                178\n",
              "UnSatisfied '                      139\n",
              "Leave Against Medical Advise'       84\n",
              "Leave Against Medical Record  '      8\n",
              "Name: PRK, dtype: int64"
            ]
          },
          "metadata": {},
          "execution_count": 31
        }
      ],
      "source": [
        "ed['PRK'].value_counts()"
      ]
    },
    {
      "cell_type": "code",
      "execution_count": null,
      "metadata": {
        "colab": {
          "base_uri": "https://localhost:8080/",
          "height": 678
        },
        "id": "K9Ka7tAzxHlo",
        "outputId": "06b0e095-fe5c-4058-c313-a3dd6f7b13f3"
      },
      "outputs": [
        {
          "output_type": "display_data",
          "data": {
            "text/plain": [
              "<Figure size 640x480 with 1 Axes>"
            ],
            "image/png": "[encoded data removed]"
          },
          "metadata": {}
        }
      ],
      "source": [
        "sns.countplot(x=ed['PRK'])\n",
        "plt.title('Count plot of PRK')\n",
        "plt.xlabel('PRK')\n",
        "plt.ylabel('Count')\n",
        "plt.xticks(rotation=90)\n",
        "plt.show()"
      ]
    },
    {
      "cell_type": "code",
      "execution_count": null,
      "metadata": {
        "id": "ZJ09lcyjH4Ch"
      },
      "outputs": [],
      "source": [
        "\n",
        "df = le.fit_transform(ed['PRK'])\n",
        "ed['PRK']=df\n"
      ]
    },
    {
      "cell_type": "code",
      "execution_count": null,
      "metadata": {
        "colab": {
          "base_uri": "https://localhost:8080/",
          "height": 206
        },
        "id": "vqwbAF2wH77e",
        "outputId": "5becbb3e-637b-40d9-c87c-19200aa333a7"
      },
      "outputs": [
        {
          "output_type": "execute_result",
          "data": {
            "text/plain": [
              "     PID  AGE  SEX  DATE  PCM  DGS  EXM  STR  PRK  LB\n",
              "0  15863   46    1     1    5   10    3   16    3   0\n",
              "1  15863   46    1    65    5   10    3   16    2   0\n",
              "2  15864   42    0     1    5   13    3   21    3   0\n",
              "3  15864   42    0    42    5   13    3   21    2   0\n",
              "4  15865    9    1     1    5   10    3   16    3   0"
            ],
            "text/html": [
              "\n",
              "  <div id=\"df-84d0e265-0b1e-4e9d-a975-8dd287d544bd\">\n",
              "    <div class=\"colab-df-container\">\n",
              "      <div>\n",
              "<style scoped>\n",
              "    .dataframe tbody tr th:only-of-type {\n",
              "        vertical-align: middle;\n",
              "    }\n",
              "\n",
              "    .dataframe tbody tr th {\n",
              "        vertical-align: top;\n",
              "    }\n",
              "\n",
              "    .dataframe thead th {\n",
              "        text-align: right;\n",
              "    }\n",
              "</style>\n",
              "<table border=\"1\" class=\"dataframe\">\n",
              "  <thead>\n",
              "    <tr style=\"text-align: right;\">\n",
              "      <th></th>\n",
              "      <th>PID</th>\n",
              "      <th>AGE</th>\n",
              "      <th>SEX</th>\n",
              "      <th>DATE</th>\n",
              "      <th>PCM</th>\n",
              "      <th>DGS</th>\n",
              "      <th>EXM</th>\n",
              "      <th>STR</th>\n",
              "      <th>PRK</th>\n",
              "      <th>LB</th>\n",
              "    </tr>\n",
              "  </thead>\n",
              "  <tbody>\n",
              "    <tr>\n",
              "      <th>0</th>\n",
              "      <td>15863</td>\n",
              "      <td>46</td>\n",
              "      <td>1</td>\n",
              "      <td>1</td>\n",
              "      <td>5</td>\n",
              "      <td>10</td>\n",
              "      <td>3</td>\n",
              "      <td>16</td>\n",
              "      <td>3</td>\n",
              "      <td>0</td>\n",
              "    </tr>\n",
              "    <tr>\n",
              "      <th>1</th>\n",
              "      <td>15863</td>\n",
              "      <td>46</td>\n",
              "      <td>1</td>\n",
              "      <td>65</td>\n",
              "      <td>5</td>\n",
              "      <td>10</td>\n",
              "      <td>3</td>\n",
              "      <td>16</td>\n",
              "      <td>2</td>\n",
              "      <td>0</td>\n",
              "    </tr>\n",
              "    <tr>\n",
              "      <th>2</th>\n",
              "      <td>15864</td>\n",
              "      <td>42</td>\n",
              "      <td>0</td>\n",
              "      <td>1</td>\n",
              "      <td>5</td>\n",
              "      <td>13</td>\n",
              "      <td>3</td>\n",
              "      <td>21</td>\n",
              "      <td>3</td>\n",
              "      <td>0</td>\n",
              "    </tr>\n",
              "    <tr>\n",
              "      <th>3</th>\n",
              "      <td>15864</td>\n",
              "      <td>42</td>\n",
              "      <td>0</td>\n",
              "      <td>42</td>\n",
              "      <td>5</td>\n",
              "      <td>13</td>\n",
              "      <td>3</td>\n",
              "      <td>21</td>\n",
              "      <td>2</td>\n",
              "      <td>0</td>\n",
              "    </tr>\n",
              "    <tr>\n",
              "      <th>4</th>\n",
              "      <td>15865</td>\n",
              "      <td>9</td>\n",
              "      <td>1</td>\n",
              "      <td>1</td>\n",
              "      <td>5</td>\n",
              "      <td>10</td>\n",
              "      <td>3</td>\n",
              "      <td>16</td>\n",
              "      <td>3</td>\n",
              "      <td>0</td>\n",
              "    </tr>\n",
              "  </tbody>\n",
              "</table>\n",
              "</div>\n",
              "      <button class=\"colab-df-convert\" onclick=\"convertToInteractive('df-84d0e265-0b1e-4e9d-a975-8dd287d544bd')\"\n",
              "              title=\"Convert this dataframe to an interactive table.\"\n",
              "              style=\"display:none;\">\n",
              "        \n",
              "  <svg xmlns=\"http://www.w3.org/2000/svg\" height=\"24px\"viewBox=\"0 0 24 24\"\n",
              "       width=\"24px\">\n",
              "    <path d=\"M0 0h24v24H0V0z\" fill=\"none\"/>\n",
              "    <path d=\"M18.56 5.44l.94 2.06.94-2.06 2.06-.94-2.06-.94-.94-2.06-.94 2.06-2.06.94zm-11 1L8.5 8.5l.94-2.06 2.06-.94-2.06-.94L8.5 2.5l-.94 2.06-2.06.94zm10 10l.94 2.06.94-2.06 2.06-.94-2.06-.94-.94-2.06-.94 2.06-2.06.94z\"/><path d=\"M17.41 7.96l-1.37-1.37c-.4-.4-.92-.59-1.43-.59-.52 0-1.04.2-1.43.59L10.3 9.45l-7.72 7.72c-.78.78-.78 2.05 0 2.83L4 21.41c.39.39.9.59 1.41.59.51 0 1.02-.2 1.41-.59l7.78-7.78 2.81-2.81c.8-.78.8-2.07 0-2.86zM5.41 20L4 18.59l7.72-7.72 1.47 1.35L5.41 20z\"/>\n",
              "  </svg>\n",
              "      </button>\n",
              "      \n",
              "  <style>\n",
              "    .colab-df-container {\n",
              "      display:flex;\n",
              "      flex-wrap:wrap;\n",
              "      gap: 12px;\n",
              "    }\n",
              "\n",
              "    .colab-df-convert {\n",
              "      background-color: #E8F0FE;\n",
              "      border: none;\n",
              "      border-radius: 50%;\n",
              "      cursor: pointer;\n",
              "      display: none;\n",
              "      fill: #1967D2;\n",
              "      height: 32px;\n",
              "      padding: 0 0 0 0;\n",
              "      width: 32px;\n",
              "    }\n",
              "\n",
              "    .colab-df-convert:hover {\n",
              "      background-color: #E2EBFA;\n",
              "      box-shadow: 0px 1px 2px rgba(60, 64, 67, 0.3), 0px 1px 3px 1px rgba(60, 64, 67, 0.15);\n",
              "      fill: #174EA6;\n",
              "    }\n",
              "\n",
              "    [theme=dark] .colab-df-convert {\n",
              "      background-color: #3B4455;\n",
              "      fill: #D2E3FC;\n",
              "    }\n",
              "\n",
              "    [theme=dark] .colab-df-convert:hover {\n",
              "      background-color: #434B5C;\n",
              "      box-shadow: 0px 1px 3px 1px rgba(0, 0, 0, 0.15);\n",
              "      filter: drop-shadow(0px 1px 2px rgba(0, 0, 0, 0.3));\n",
              "      fill: #FFFFFF;\n",
              "    }\n",
              "  </style>\n",
              "\n",
              "      <script>\n",
              "        const buttonEl =\n",
              "          document.querySelector('#df-84d0e265-0b1e-4e9d-a975-8dd287d544bd button.colab-df-convert');\n",
              "        buttonEl.style.display =\n",
              "          google.colab.kernel.accessAllowed ? 'block' : 'none';\n",
              "\n",
              "        async function convertToInteractive(key) {\n",
              "          const element = document.querySelector('#df-84d0e265-0b1e-4e9d-a975-8dd287d544bd');\n",
              "          const dataTable =\n",
              "            await google.colab.kernel.invokeFunction('convertToInteractive',\n",
              "                                                     [key], {});\n",
              "          if (!dataTable) return;\n",
              "\n",
              "          const docLinkHtml = 'Like what you see? Visit the ' +\n",
              "            '<a target=\"_blank\" href=https://colab.research.google.com/notebooks/data_table.ipynb>data table notebook</a>'\n",
              "            + ' to learn more about interactive tables.';\n",
              "          element.innerHTML = '';\n",
              "          dataTable['output_type'] = 'display_data';\n",
              "          await google.colab.output.renderOutput(dataTable, element);\n",
              "          const docLink = document.createElement('div');\n",
              "          docLink.innerHTML = docLinkHtml;\n",
              "          element.appendChild(docLink);\n",
              "        }\n",
              "      </script>\n",
              "    </div>\n",
              "  </div>\n",
              "  "
            ]
          },
          "metadata": {},
          "execution_count": 34
        }
      ],
      "source": [
        "ed.head()"
      ]
    },
    {
      "cell_type": "code",
      "execution_count": null,
      "metadata": {
        "colab": {
          "base_uri": "https://localhost:8080/"
        },
        "id": "KPz6W9PvrW95",
        "outputId": "9306a12a-4b9f-4812-bb1e-05d05bbbc964"
      },
      "outputs": [
        {
          "output_type": "stream",
          "name": "stdout",
          "text": [
            "<class 'pandas.core.frame.DataFrame'>\n",
            "RangeIndex: 835 entries, 0 to 834\n",
            "Data columns (total 10 columns):\n",
            " #   Column  Non-Null Count  Dtype\n",
            "---  ------  --------------  -----\n",
            " 0   PID     835 non-null    int64\n",
            " 1   AGE     835 non-null    int64\n",
            " 2   SEX     835 non-null    int64\n",
            " 3   DATE    835 non-null    int64\n",
            " 4   PCM     835 non-null    int64\n",
            " 5   DGS     835 non-null    int64\n",
            " 6   EXM     835 non-null    int64\n",
            " 7   STR     835 non-null    int64\n",
            " 8   PRK     835 non-null    int64\n",
            " 9   LB      835 non-null    int64\n",
            "dtypes: int64(10)\n",
            "memory usage: 65.4 KB\n"
          ]
        }
      ],
      "source": [
        "ed.info()"
      ]
    },
    {
      "cell_type": "code",
      "execution_count": null,
      "metadata": {
        "colab": {
          "base_uri": "https://localhost:8080/"
        },
        "id": "RFSJTW2srYtQ",
        "outputId": "c499538b-f94f-4edb-8af6-e8f56c2169d5"
      },
      "outputs": [
        {
          "output_type": "execute_result",
          "data": {
            "text/plain": [
              "PID     int64\n",
              "AGE     int64\n",
              "SEX     int64\n",
              "DATE    int64\n",
              "PCM     int64\n",
              "DGS     int64\n",
              "EXM     int64\n",
              "STR     int64\n",
              "PRK     int64\n",
              "LB      int64\n",
              "dtype: object"
            ]
          },
          "metadata": {},
          "execution_count": 36
        }
      ],
      "source": [
        "ed.dtypes"
      ]
    },
    {
      "cell_type": "code",
      "execution_count": null,
      "metadata": {
        "colab": {
          "base_uri": "https://localhost:8080/",
          "height": 364
        },
        "id": "18WHZ-NkrbN3",
        "outputId": "f8f9315e-f1fc-412f-9f32-0556d25f98bc"
      },
      "outputs": [
        {
          "output_type": "execute_result",
          "data": {
            "text/plain": [
              "                PID         AGE         SEX        DATE         PCM  \\\n",
              "count    835.000000  835.000000  835.000000  835.000000  835.000000   \n",
              "mean   16465.417964   44.676647    0.590419   76.504192    1.876647   \n",
              "std      366.516398   20.023808    0.492051   41.704176    2.056835   \n",
              "min    15863.000000    1.000000    0.000000    0.000000    0.000000   \n",
              "25%    16129.500000   30.000000    0.000000   42.000000    0.000000   \n",
              "50%    16445.000000   50.000000    1.000000   77.000000    1.000000   \n",
              "75%    16789.000000   60.000000    1.000000  111.000000    4.000000   \n",
              "max    17113.000000   86.000000    1.000000  145.000000    5.000000   \n",
              "\n",
              "              DGS         EXM         STR         PRK         LB  \n",
              "count  835.000000  835.000000  835.000000  835.000000  835.00000  \n",
              "mean     7.749701    4.177246   17.435928    2.335329    0.20479  \n",
              "std      4.967362    1.930994    5.808218    1.086271    0.40379  \n",
              "min      0.000000    0.000000    0.000000    0.000000    0.00000  \n",
              "25%      3.000000    3.000000   16.000000    2.000000    0.00000  \n",
              "50%     10.000000    3.000000   21.000000    2.000000    0.00000  \n",
              "75%     13.000000    6.000000   21.000000    3.000000    0.00000  \n",
              "max     13.000000    7.000000   23.000000    4.000000    1.00000  "
            ],
            "text/html": [
              "\n",
              "  <div id=\"df-ba1e209a-4b19-46ae-a58f-ed7c1b722ee2\">\n",
              "    <div class=\"colab-df-container\">\n",
              "      <div>\n",
              "<style scoped>\n",
              "    .dataframe tbody tr th:only-of-type {\n",
              "        vertical-align: middle;\n",
              "    }\n",
              "\n",
              "    .dataframe tbody tr th {\n",
              "        vertical-align: top;\n",
              "    }\n",
              "\n",
              "    .dataframe thead th {\n",
              "        text-align: right;\n",
              "    }\n",
              "</style>\n",
              "<table border=\"1\" class=\"dataframe\">\n",
              "  <thead>\n",
              "    <tr style=\"text-align: right;\">\n",
              "      <th></th>\n",
              "      <th>PID</th>\n",
              "      <th>AGE</th>\n",
              "      <th>SEX</th>\n",
              "      <th>DATE</th>\n",
              "      <th>PCM</th>\n",
              "      <th>DGS</th>\n",
              "      <th>EXM</th>\n",
              "      <th>STR</th>\n",
              "      <th>PRK</th>\n",
              "      <th>LB</th>\n",
              "    </tr>\n",
              "  </thead>\n",
              "  <tbody>\n",
              "    <tr>\n",
              "      <th>count</th>\n",
              "      <td>835.000000</td>\n",
              "      <td>835.000000</td>\n",
              "      <td>835.000000</td>\n",
              "      <td>835.000000</td>\n",
              "      <td>835.000000</td>\n",
              "      <td>835.000000</td>\n",
              "      <td>835.000000</td>\n",
              "      <td>835.000000</td>\n",
              "      <td>835.000000</td>\n",
              "      <td>835.00000</td>\n",
              "    </tr>\n",
              "    <tr>\n",
              "      <th>mean</th>\n",
              "      <td>16465.417964</td>\n",
              "      <td>44.676647</td>\n",
              "      <td>0.590419</td>\n",
              "      <td>76.504192</td>\n",
              "      <td>1.876647</td>\n",
              "      <td>7.749701</td>\n",
              "      <td>4.177246</td>\n",
              "      <td>17.435928</td>\n",
              "      <td>2.335329</td>\n",
              "      <td>0.20479</td>\n",
              "    </tr>\n",
              "    <tr>\n",
              "      <th>std</th>\n",
              "      <td>366.516398</td>\n",
              "      <td>20.023808</td>\n",
              "      <td>0.492051</td>\n",
              "      <td>41.704176</td>\n",
              "      <td>2.056835</td>\n",
              "      <td>4.967362</td>\n",
              "      <td>1.930994</td>\n",
              "      <td>5.808218</td>\n",
              "      <td>1.086271</td>\n",
              "      <td>0.40379</td>\n",
              "    </tr>\n",
              "    <tr>\n",
              "      <th>min</th>\n",
              "      <td>15863.000000</td>\n",
              "      <td>1.000000</td>\n",
              "      <td>0.000000</td>\n",
              "      <td>0.000000</td>\n",
              "      <td>0.000000</td>\n",
              "      <td>0.000000</td>\n",
              "      <td>0.000000</td>\n",
              "      <td>0.000000</td>\n",
              "      <td>0.000000</td>\n",
              "      <td>0.00000</td>\n",
              "    </tr>\n",
              "    <tr>\n",
              "      <th>25%</th>\n",
              "      <td>16129.500000</td>\n",
              "      <td>30.000000</td>\n",
              "      <td>0.000000</td>\n",
              "      <td>42.000000</td>\n",
              "      <td>0.000000</td>\n",
              "      <td>3.000000</td>\n",
              "      <td>3.000000</td>\n",
              "      <td>16.000000</td>\n",
              "      <td>2.000000</td>\n",
              "      <td>0.00000</td>\n",
              "    </tr>\n",
              "    <tr>\n",
              "      <th>50%</th>\n",
              "      <td>16445.000000</td>\n",
              "      <td>50.000000</td>\n",
              "      <td>1.000000</td>\n",
              "      <td>77.000000</td>\n",
              "      <td>1.000000</td>\n",
              "      <td>10.000000</td>\n",
              "      <td>3.000000</td>\n",
              "      <td>21.000000</td>\n",
              "      <td>2.000000</td>\n",
              "      <td>0.00000</td>\n",
              "    </tr>\n",
              "    <tr>\n",
              "      <th>75%</th>\n",
              "      <td>16789.000000</td>\n",
              "      <td>60.000000</td>\n",
              "      <td>1.000000</td>\n",
              "      <td>111.000000</td>\n",
              "      <td>4.000000</td>\n",
              "      <td>13.000000</td>\n",
              "      <td>6.000000</td>\n",
              "      <td>21.000000</td>\n",
              "      <td>3.000000</td>\n",
              "      <td>0.00000</td>\n",
              "    </tr>\n",
              "    <tr>\n",
              "      <th>max</th>\n",
              "      <td>17113.000000</td>\n",
              "      <td>86.000000</td>\n",
              "      <td>1.000000</td>\n",
              "      <td>145.000000</td>\n",
              "      <td>5.000000</td>\n",
              "      <td>13.000000</td>\n",
              "      <td>7.000000</td>\n",
              "      <td>23.000000</td>\n",
              "      <td>4.000000</td>\n",
              "      <td>1.00000</td>\n",
              "    </tr>\n",
              "  </tbody>\n",
              "</table>\n",
              "</div>\n",
              "      <button class=\"colab-df-convert\" onclick=\"convertToInteractive('df-ba1e209a-4b19-46ae-a58f-ed7c1b722ee2')\"\n",
              "              title=\"Convert this dataframe to an interactive table.\"\n",
              "              style=\"display:none;\">\n",
              "        \n",
              "  <svg xmlns=\"http://www.w3.org/2000/svg\" height=\"24px\"viewBox=\"0 0 24 24\"\n",
              "       width=\"24px\">\n",
              "    <path d=\"M0 0h24v24H0V0z\" fill=\"none\"/>\n",
              "    <path d=\"M18.56 5.44l.94 2.06.94-2.06 2.06-.94-2.06-.94-.94-2.06-.94 2.06-2.06.94zm-11 1L8.5 8.5l.94-2.06 2.06-.94-2.06-.94L8.5 2.5l-.94 2.06-2.06.94zm10 10l.94 2.06.94-2.06 2.06-.94-2.06-.94-.94-2.06-.94 2.06-2.06.94z\"/><path d=\"M17.41 7.96l-1.37-1.37c-.4-.4-.92-.59-1.43-.59-.52 0-1.04.2-1.43.59L10.3 9.45l-7.72 7.72c-.78.78-.78 2.05 0 2.83L4 21.41c.39.39.9.59 1.41.59.51 0 1.02-.2 1.41-.59l7.78-7.78 2.81-2.81c.8-.78.8-2.07 0-2.86zM5.41 20L4 18.59l7.72-7.72 1.47 1.35L5.41 20z\"/>\n",
              "  </svg>\n",
              "      </button>\n",
              "      \n",
              "  <style>\n",
              "    .colab-df-container {\n",
              "      display:flex;\n",
              "      flex-wrap:wrap;\n",
              "      gap: 12px;\n",
              "    }\n",
              "\n",
              "    .colab-df-convert {\n",
              "      background-color: #E8F0FE;\n",
              "      border: none;\n",
              "      border-radius: 50%;\n",
              "      cursor: pointer;\n",
              "      display: none;\n",
              "      fill: #1967D2;\n",
              "      height: 32px;\n",
              "      padding: 0 0 0 0;\n",
              "      width: 32px;\n",
              "    }\n",
              "\n",
              "    .colab-df-convert:hover {\n",
              "      background-color: #E2EBFA;\n",
              "      box-shadow: 0px 1px 2px rgba(60, 64, 67, 0.3), 0px 1px 3px 1px rgba(60, 64, 67, 0.15);\n",
              "      fill: #174EA6;\n",
              "    }\n",
              "\n",
              "    [theme=dark] .colab-df-convert {\n",
              "      background-color: #3B4455;\n",
              "      fill: #D2E3FC;\n",
              "    }\n",
              "\n",
              "    [theme=dark] .colab-df-convert:hover {\n",
              "      background-color: #434B5C;\n",
              "      box-shadow: 0px 1px 3px 1px rgba(0, 0, 0, 0.15);\n",
              "      filter: drop-shadow(0px 1px 2px rgba(0, 0, 0, 0.3));\n",
              "      fill: #FFFFFF;\n",
              "    }\n",
              "  </style>\n",
              "\n",
              "      <script>\n",
              "        const buttonEl =\n",
              "          document.querySelector('#df-ba1e209a-4b19-46ae-a58f-ed7c1b722ee2 button.colab-df-convert');\n",
              "        buttonEl.style.display =\n",
              "          google.colab.kernel.accessAllowed ? 'block' : 'none';\n",
              "\n",
              "        async function convertToInteractive(key) {\n",
              "          const element = document.querySelector('#df-ba1e209a-4b19-46ae-a58f-ed7c1b722ee2');\n",
              "          const dataTable =\n",
              "            await google.colab.kernel.invokeFunction('convertToInteractive',\n",
              "                                                     [key], {});\n",
              "          if (!dataTable) return;\n",
              "\n",
              "          const docLinkHtml = 'Like what you see? Visit the ' +\n",
              "            '<a target=\"_blank\" href=https://colab.research.google.com/notebooks/data_table.ipynb>data table notebook</a>'\n",
              "            + ' to learn more about interactive tables.';\n",
              "          element.innerHTML = '';\n",
              "          dataTable['output_type'] = 'display_data';\n",
              "          await google.colab.output.renderOutput(dataTable, element);\n",
              "          const docLink = document.createElement('div');\n",
              "          docLink.innerHTML = docLinkHtml;\n",
              "          element.appendChild(docLink);\n",
              "        }\n",
              "      </script>\n",
              "    </div>\n",
              "  </div>\n",
              "  "
            ]
          },
          "metadata": {},
          "execution_count": 37
        }
      ],
      "source": [
        "ed.describe()"
      ]
    },
    {
      "cell_type": "markdown",
      "metadata": {
        "id": "D2ez21y6QztS"
      },
      "source": [
        "**OUTLIER DETECTION AND REMOVAL**"
      ]
    },
    {
      "cell_type": "code",
      "execution_count": null,
      "metadata": {
        "id": "3zi236LgzcAN"
      },
      "outputs": [],
      "source": [
        "columns=['PID','AGE','SEX','DATE','PCM','DGS','EXM','STR','PRK']"
      ]
    },
    {
      "cell_type": "code",
      "execution_count": null,
      "metadata": {
        "colab": {
          "base_uri": "https://localhost:8080/",
          "height": 358
        },
        "id": "hwUs-BMczZtv",
        "outputId": "88806cd5-1ca0-4459-9267-73e1db6e45cc"
      },
      "outputs": [
        {
          "output_type": "display_data",
          "data": {
            "text/plain": [
              "<Figure size 2000x1000 with 9 Axes>"
            ],
            "image/png": "[encoded data removed]"
          },
          "metadata": {}
        }
      ],
      "source": [
        "def boxplots_custom(dataset, columns_list, rows, cols, suptitle):\n",
        "    fig, axs = plt.subplots(rows, cols, sharey=True, figsize=(20,10))\n",
        "    fig.suptitle(suptitle,y=1, size=25)\n",
        "    axs = axs.flatten()\n",
        "    for i, data in enumerate(columns_list):\n",
        "        sns.boxplot(data=dataset[data], orient='h', ax=axs[i])\n",
        "        axs[i].set_title(data + ', skewness is: '+str(round(dataset[data].skew(axis = 0, skipna = True),2)))\n",
        "boxplots_custom(dataset=ed, columns_list=columns, rows=3, cols=3, suptitle='Boxplots for each variable')\n",
        "plt.tight_layout()"
      ]
    },
    {
      "cell_type": "code",
      "source": [
        "import matplotlib.pyplot as plt\n",
        "import numpy as np\n",
        "from scipy.stats import norm\n",
        "columns=['PID','AGE','SEX','DATE','PCM','DGS','EXM','STR','PRK']\n",
        "for column in columns:\n",
        "    mu, std = norm.fit(ed[column])\n",
        "    plt.hist(ed[column], bins=25, density=True, alpha=0.6, color='g')\n",
        "    xmin, xmax = plt.xlim()\n",
        "    x = np.linspace(xmin, xmax, 100)\n",
        "    y = norm.pdf(x, mu, std)\n",
        "    plt.plot(x, y, 'r', linewidth=2)\n",
        "    plt.legend([f'Normal distribution\\n(mean={mu:.2f}, std={std:.2f})', 'Data'])\n",
        "    plt.xlabel(column)\n",
        "    plt.ylabel('Density')\n",
        "    plt.title(f'Normal distribution of {column}')\n",
        "    plt.show()\n"
      ],
      "metadata": {
        "colab": {
          "base_uri": "https://localhost:8080/",
          "height": 1000
        },
        "id": "YzORIxmqeJd3",
        "outputId": "80925d77-e86a-4b0e-d37f-635dfc3d6b93"
      },
      "execution_count": null,
      "outputs": [
        {
          "output_type": "display_data",
          "data": {
            "text/plain": [
              "<Figure size 640x480 with 1 Axes>"
            ],
            "image/png": "[encoded data removed]"
          },
          "metadata": {}
        },
        {
          "output_type": "display_data",
          "data": {
            "text/plain": [
              "<Figure size 640x480 with 1 Axes>"
            ],
            "image/png": "[encoded data removed]"
          },
          "metadata": {}
        },
        {
          "output_type": "display_data",
          "data": {
            "text/plain": [
              "<Figure size 640x480 with 1 Axes>"
            ],
            "image/png": "[encoded data removed]"
          },
          "metadata": {}
        },
        {
          "output_type": "display_data",
          "data": {
            "text/plain": [
              "<Figure size 640x480 with 1 Axes>"
            ],
            "image/png": "[encoded data removed]"
          },
          "metadata": {}
        },
        {
          "output_type": "display_data",
          "data": {
            "text/plain": [
              "<Figure size 640x480 with 1 Axes>"
            ],
            "image/png": "[encoded data removed]"
          },
          "metadata": {}
        },
        {
          "output_type": "display_data",
          "data": {
            "text/plain": [
              "<Figure size 640x480 with 1 Axes>"
            ],
            "image/png": "[encoded data removed]"
          },
          "metadata": {}
        },
        {
          "output_type": "display_data",
          "data": {
            "text/plain": [
              "<Figure size 640x480 with 1 Axes>"
            ],
            "image/png": "[encoded data removed]"
          },
          "metadata": {}
        },
        {
          "output_type": "display_data",
          "data": {
            "text/plain": [
              "<Figure size 640x480 with 1 Axes>"
            ],
            "image/png": "[encoded data removed]"
          },
          "metadata": {}
        },
        {
          "output_type": "display_data",
          "data": {
            "text/plain": [
              "<Figure size 640x480 with 1 Axes>"
            ],
            "image/png": "[encoded data removed]"
          },
          "metadata": {}
        }
      ]
    },
    {
      "cell_type": "code",
      "source": [
        "from scipy.stats import shapiro\n",
        "columns = ['STR','PRK']\n",
        "for col in columns:\n",
        "  stat, p = shapiro(ed)\n",
        "  alpha = 0.05\n",
        "  if p > alpha:\n",
        "    print(\"The data is normally distributed\")\n",
        "  else:\n",
        "    print(\"The data is not normally distributed\")\n"
      ],
      "metadata": {
        "colab": {
          "base_uri": "https://localhost:8080/"
        },
        "id": "CXc-m7C1e7MV",
        "outputId": "c6bc0d2b-436a-41f1-c081-5fe49297c89b"
      },
      "execution_count": null,
      "outputs": [
        {
          "output_type": "stream",
          "name": "stdout",
          "text": [
            "The data is not normally distributed\n",
            "The data is not normally distributed\n"
          ]
        }
      ]
    },
    {
      "cell_type": "code",
      "execution_count": null,
      "metadata": {
        "id": "bQUEKBlDChnb"
      },
      "outputs": [],
      "source": [
        "def remove_outliers_zscore(df, columns, threshold=3):\n",
        "    for col in columns:\n",
        "        z_scores = np.abs((df[col] - df[col].mean()) / df[col].std())\n",
        "        df[col][z_scores > threshold] = np.nan\n",
        "    df.dropna(inplace=True)\n",
        "columns=['STR','PRK']\n",
        "remove_outliers_zscore(ed, columns)\n"
      ]
    },
    {
      "cell_type": "code",
      "execution_count": null,
      "metadata": {
        "colab": {
          "base_uri": "https://localhost:8080/"
        },
        "id": "hWToxb4Bz6MW",
        "outputId": "87c259d4-b918-4c47-86ad-55c9f062429c"
      },
      "outputs": [
        {
          "output_type": "execute_result",
          "data": {
            "text/plain": [
              "(790, 10)"
            ]
          },
          "metadata": {},
          "execution_count": 43
        }
      ],
      "source": [
        "ed.shape"
      ]
    },
    {
      "cell_type": "code",
      "source": [
        "ed.isnull().sum()"
      ],
      "metadata": {
        "colab": {
          "base_uri": "https://localhost:8080/"
        },
        "id": "4Bc5zOpg9_zd",
        "outputId": "5d96b2eb-ca56-4a54-c6a5-737e9a13454f"
      },
      "execution_count": null,
      "outputs": [
        {
          "output_type": "execute_result",
          "data": {
            "text/plain": [
              "PID     0\n",
              "AGE     0\n",
              "SEX     0\n",
              "DATE    0\n",
              "PCM     0\n",
              "DGS     0\n",
              "EXM     0\n",
              "STR     0\n",
              "PRK     0\n",
              "LB      0\n",
              "dtype: int64"
            ]
          },
          "metadata": {},
          "execution_count": 44
        }
      ]
    },
    {
      "cell_type": "markdown",
      "metadata": {
        "id": "WbVveXTGRDXS"
      },
      "source": [
        "#**DATA PREDICTION**"
      ]
    },
    {
      "cell_type": "markdown",
      "metadata": {
        "id": "ex5ZMBOQUQj9"
      },
      "source": [
        "# **STAGE-1**"
      ]
    },
    {
      "cell_type": "code",
      "execution_count": null,
      "metadata": {
        "id": "DsYZXkFmrdWY"
      },
      "outputs": [],
      "source": [
        "X=ed.iloc[:,[1,2,4,5,6,8]]\n",
        "y=ed.iloc[:,9]"
      ]
    },
    {
      "cell_type": "code",
      "execution_count": null,
      "metadata": {
        "colab": {
          "base_uri": "https://localhost:8080/",
          "height": 224
        },
        "id": "sMNu7MkBSJCK",
        "outputId": "d5312081-c126-46bf-b13d-1666b858f109"
      },
      "outputs": [
        {
          "output_type": "stream",
          "name": "stdout",
          "text": [
            "(790, 6)\n"
          ]
        },
        {
          "output_type": "execute_result",
          "data": {
            "text/plain": [
              "   AGE  SEX  PCM  DGS  EXM  PRK\n",
              "0   46    1    5   10    3    3\n",
              "1   46    1    5   10    3    2\n",
              "2   42    0    5   13    3    3\n",
              "3   42    0    5   13    3    2\n",
              "4    9    1    5   10    3    3"
            ],
            "text/html": [
              "\n",
              "  <div id=\"df-3156c7d4-706c-42a4-b072-941a657db723\">\n",
              "    <div class=\"colab-df-container\">\n",
              "      <div>\n",
              "<style scoped>\n",
              "    .dataframe tbody tr th:only-of-type {\n",
              "        vertical-align: middle;\n",
              "    }\n",
              "\n",
              "    .dataframe tbody tr th {\n",
              "        vertical-align: top;\n",
              "    }\n",
              "\n",
              "    .dataframe thead th {\n",
              "        text-align: right;\n",
              "    }\n",
              "</style>\n",
              "<table border=\"1\" class=\"dataframe\">\n",
              "  <thead>\n",
              "    <tr style=\"text-align: right;\">\n",
              "      <th></th>\n",
              "      <th>AGE</th>\n",
              "      <th>SEX</th>\n",
              "      <th>PCM</th>\n",
              "      <th>DGS</th>\n",
              "      <th>EXM</th>\n",
              "      <th>PRK</th>\n",
              "    </tr>\n",
              "  </thead>\n",
              "  <tbody>\n",
              "    <tr>\n",
              "      <th>0</th>\n",
              "      <td>46</td>\n",
              "      <td>1</td>\n",
              "      <td>5</td>\n",
              "      <td>10</td>\n",
              "      <td>3</td>\n",
              "      <td>3</td>\n",
              "    </tr>\n",
              "    <tr>\n",
              "      <th>1</th>\n",
              "      <td>46</td>\n",
              "      <td>1</td>\n",
              "      <td>5</td>\n",
              "      <td>10</td>\n",
              "      <td>3</td>\n",
              "      <td>2</td>\n",
              "    </tr>\n",
              "    <tr>\n",
              "      <th>2</th>\n",
              "      <td>42</td>\n",
              "      <td>0</td>\n",
              "      <td>5</td>\n",
              "      <td>13</td>\n",
              "      <td>3</td>\n",
              "      <td>3</td>\n",
              "    </tr>\n",
              "    <tr>\n",
              "      <th>3</th>\n",
              "      <td>42</td>\n",
              "      <td>0</td>\n",
              "      <td>5</td>\n",
              "      <td>13</td>\n",
              "      <td>3</td>\n",
              "      <td>2</td>\n",
              "    </tr>\n",
              "    <tr>\n",
              "      <th>4</th>\n",
              "      <td>9</td>\n",
              "      <td>1</td>\n",
              "      <td>5</td>\n",
              "      <td>10</td>\n",
              "      <td>3</td>\n",
              "      <td>3</td>\n",
              "    </tr>\n",
              "  </tbody>\n",
              "</table>\n",
              "</div>\n",
              "      <button class=\"colab-df-convert\" onclick=\"convertToInteractive('df-3156c7d4-706c-42a4-b072-941a657db723')\"\n",
              "              title=\"Convert this dataframe to an interactive table.\"\n",
              "              style=\"display:none;\">\n",
              "        \n",
              "  <svg xmlns=\"http://www.w3.org/2000/svg\" height=\"24px\"viewBox=\"0 0 24 24\"\n",
              "       width=\"24px\">\n",
              "    <path d=\"M0 0h24v24H0V0z\" fill=\"none\"/>\n",
              "    <path d=\"M18.56 5.44l.94 2.06.94-2.06 2.06-.94-2.06-.94-.94-2.06-.94 2.06-2.06.94zm-11 1L8.5 8.5l.94-2.06 2.06-.94-2.06-.94L8.5 2.5l-.94 2.06-2.06.94zm10 10l.94 2.06.94-2.06 2.06-.94-2.06-.94-.94-2.06-.94 2.06-2.06.94z\"/><path d=\"M17.41 7.96l-1.37-1.37c-.4-.4-.92-.59-1.43-.59-.52 0-1.04.2-1.43.59L10.3 9.45l-7.72 7.72c-.78.78-.78 2.05 0 2.83L4 21.41c.39.39.9.59 1.41.59.51 0 1.02-.2 1.41-.59l7.78-7.78 2.81-2.81c.8-.78.8-2.07 0-2.86zM5.41 20L4 18.59l7.72-7.72 1.47 1.35L5.41 20z\"/>\n",
              "  </svg>\n",
              "      </button>\n",
              "      \n",
              "  <style>\n",
              "    .colab-df-container {\n",
              "      display:flex;\n",
              "      flex-wrap:wrap;\n",
              "      gap: 12px;\n",
              "    }\n",
              "\n",
              "    .colab-df-convert {\n",
              "      background-color: #E8F0FE;\n",
              "      border: none;\n",
              "      border-radius: 50%;\n",
              "      cursor: pointer;\n",
              "      display: none;\n",
              "      fill: #1967D2;\n",
              "      height: 32px;\n",
              "      padding: 0 0 0 0;\n",
              "      width: 32px;\n",
              "    }\n",
              "\n",
              "    .colab-df-convert:hover {\n",
              "      background-color: #E2EBFA;\n",
              "      box-shadow: 0px 1px 2px rgba(60, 64, 67, 0.3), 0px 1px 3px 1px rgba(60, 64, 67, 0.15);\n",
              "      fill: #174EA6;\n",
              "    }\n",
              "\n",
              "    [theme=dark] .colab-df-convert {\n",
              "      background-color: #3B4455;\n",
              "      fill: #D2E3FC;\n",
              "    }\n",
              "\n",
              "    [theme=dark] .colab-df-convert:hover {\n",
              "      background-color: #434B5C;\n",
              "      box-shadow: 0px 1px 3px 1px rgba(0, 0, 0, 0.15);\n",
              "      filter: drop-shadow(0px 1px 2px rgba(0, 0, 0, 0.3));\n",
              "      fill: #FFFFFF;\n",
              "    }\n",
              "  </style>\n",
              "\n",
              "      <script>\n",
              "        const buttonEl =\n",
              "          document.querySelector('#df-3156c7d4-706c-42a4-b072-941a657db723 button.colab-df-convert');\n",
              "        buttonEl.style.display =\n",
              "          google.colab.kernel.accessAllowed ? 'block' : 'none';\n",
              "\n",
              "        async function convertToInteractive(key) {\n",
              "          const element = document.querySelector('#df-3156c7d4-706c-42a4-b072-941a657db723');\n",
              "          const dataTable =\n",
              "            await google.colab.kernel.invokeFunction('convertToInteractive',\n",
              "                                                     [key], {});\n",
              "          if (!dataTable) return;\n",
              "\n",
              "          const docLinkHtml = 'Like what you see? Visit the ' +\n",
              "            '<a target=\"_blank\" href=https://colab.research.google.com/notebooks/data_table.ipynb>data table notebook</a>'\n",
              "            + ' to learn more about interactive tables.';\n",
              "          element.innerHTML = '';\n",
              "          dataTable['output_type'] = 'display_data';\n",
              "          await google.colab.output.renderOutput(dataTable, element);\n",
              "          const docLink = document.createElement('div');\n",
              "          docLink.innerHTML = docLinkHtml;\n",
              "          element.appendChild(docLink);\n",
              "        }\n",
              "      </script>\n",
              "    </div>\n",
              "  </div>\n",
              "  "
            ]
          },
          "metadata": {},
          "execution_count": 46
        }
      ],
      "source": [
        "Xdf=pd.DataFrame(X)\n",
        "print(Xdf.shape)\n",
        "Xdf.head()"
      ]
    },
    {
      "cell_type": "code",
      "execution_count": null,
      "metadata": {
        "colab": {
          "base_uri": "https://localhost:8080/"
        },
        "id": "N52_EUHmSO-m",
        "outputId": "f0c123d4-39f5-426e-ee6d-380ba97f43f7"
      },
      "outputs": [
        {
          "output_type": "execute_result",
          "data": {
            "text/plain": [
              "(790,)"
            ]
          },
          "metadata": {},
          "execution_count": 47
        }
      ],
      "source": [
        "y.shape"
      ]
    },
    {
      "cell_type": "code",
      "execution_count": null,
      "metadata": {
        "colab": {
          "base_uri": "https://localhost:8080/",
          "height": 206
        },
        "id": "vmkEPaqMTXzC",
        "outputId": "0486991e-2adc-46e7-ee5a-b013c6ad76bc"
      },
      "outputs": [
        {
          "output_type": "execute_result",
          "data": {
            "text/plain": [
              "   LB\n",
              "0   0\n",
              "1   0\n",
              "2   0\n",
              "3   0\n",
              "4   0"
            ],
            "text/html": [
              "\n",
              "  <div id=\"df-b4e146e2-c2ca-479d-b44f-1c740665a731\">\n",
              "    <div class=\"colab-df-container\">\n",
              "      <div>\n",
              "<style scoped>\n",
              "    .dataframe tbody tr th:only-of-type {\n",
              "        vertical-align: middle;\n",
              "    }\n",
              "\n",
              "    .dataframe tbody tr th {\n",
              "        vertical-align: top;\n",
              "    }\n",
              "\n",
              "    .dataframe thead th {\n",
              "        text-align: right;\n",
              "    }\n",
              "</style>\n",
              "<table border=\"1\" class=\"dataframe\">\n",
              "  <thead>\n",
              "    <tr style=\"text-align: right;\">\n",
              "      <th></th>\n",
              "      <th>LB</th>\n",
              "    </tr>\n",
              "  </thead>\n",
              "  <tbody>\n",
              "    <tr>\n",
              "      <th>0</th>\n",
              "      <td>0</td>\n",
              "    </tr>\n",
              "    <tr>\n",
              "      <th>1</th>\n",
              "      <td>0</td>\n",
              "    </tr>\n",
              "    <tr>\n",
              "      <th>2</th>\n",
              "      <td>0</td>\n",
              "    </tr>\n",
              "    <tr>\n",
              "      <th>3</th>\n",
              "      <td>0</td>\n",
              "    </tr>\n",
              "    <tr>\n",
              "      <th>4</th>\n",
              "      <td>0</td>\n",
              "    </tr>\n",
              "  </tbody>\n",
              "</table>\n",
              "</div>\n",
              "      <button class=\"colab-df-convert\" onclick=\"convertToInteractive('df-b4e146e2-c2ca-479d-b44f-1c740665a731')\"\n",
              "              title=\"Convert this dataframe to an interactive table.\"\n",
              "              style=\"display:none;\">\n",
              "        \n",
              "  <svg xmlns=\"http://www.w3.org/2000/svg\" height=\"24px\"viewBox=\"0 0 24 24\"\n",
              "       width=\"24px\">\n",
              "    <path d=\"M0 0h24v24H0V0z\" fill=\"none\"/>\n",
              "    <path d=\"M18.56 5.44l.94 2.06.94-2.06 2.06-.94-2.06-.94-.94-2.06-.94 2.06-2.06.94zm-11 1L8.5 8.5l.94-2.06 2.06-.94-2.06-.94L8.5 2.5l-.94 2.06-2.06.94zm10 10l.94 2.06.94-2.06 2.06-.94-2.06-.94-.94-2.06-.94 2.06-2.06.94z\"/><path d=\"M17.41 7.96l-1.37-1.37c-.4-.4-.92-.59-1.43-.59-.52 0-1.04.2-1.43.59L10.3 9.45l-7.72 7.72c-.78.78-.78 2.05 0 2.83L4 21.41c.39.39.9.59 1.41.59.51 0 1.02-.2 1.41-.59l7.78-7.78 2.81-2.81c.8-.78.8-2.07 0-2.86zM5.41 20L4 18.59l7.72-7.72 1.47 1.35L5.41 20z\"/>\n",
              "  </svg>\n",
              "      </button>\n",
              "      \n",
              "  <style>\n",
              "    .colab-df-container {\n",
              "      display:flex;\n",
              "      flex-wrap:wrap;\n",
              "      gap: 12px;\n",
              "    }\n",
              "\n",
              "    .colab-df-convert {\n",
              "      background-color: #E8F0FE;\n",
              "      border: none;\n",
              "      border-radius: 50%;\n",
              "      cursor: pointer;\n",
              "      display: none;\n",
              "      fill: #1967D2;\n",
              "      height: 32px;\n",
              "      padding: 0 0 0 0;\n",
              "      width: 32px;\n",
              "    }\n",
              "\n",
              "    .colab-df-convert:hover {\n",
              "      background-color: #E2EBFA;\n",
              "      box-shadow: 0px 1px 2px rgba(60, 64, 67, 0.3), 0px 1px 3px 1px rgba(60, 64, 67, 0.15);\n",
              "      fill: #174EA6;\n",
              "    }\n",
              "\n",
              "    [theme=dark] .colab-df-convert {\n",
              "      background-color: #3B4455;\n",
              "      fill: #D2E3FC;\n",
              "    }\n",
              "\n",
              "    [theme=dark] .colab-df-convert:hover {\n",
              "      background-color: #434B5C;\n",
              "      box-shadow: 0px 1px 3px 1px rgba(0, 0, 0, 0.15);\n",
              "      filter: drop-shadow(0px 1px 2px rgba(0, 0, 0, 0.3));\n",
              "      fill: #FFFFFF;\n",
              "    }\n",
              "  </style>\n",
              "\n",
              "      <script>\n",
              "        const buttonEl =\n",
              "          document.querySelector('#df-b4e146e2-c2ca-479d-b44f-1c740665a731 button.colab-df-convert');\n",
              "        buttonEl.style.display =\n",
              "          google.colab.kernel.accessAllowed ? 'block' : 'none';\n",
              "\n",
              "        async function convertToInteractive(key) {\n",
              "          const element = document.querySelector('#df-b4e146e2-c2ca-479d-b44f-1c740665a731');\n",
              "          const dataTable =\n",
              "            await google.colab.kernel.invokeFunction('convertToInteractive',\n",
              "                                                     [key], {});\n",
              "          if (!dataTable) return;\n",
              "\n",
              "          const docLinkHtml = 'Like what you see? Visit the ' +\n",
              "            '<a target=\"_blank\" href=https://colab.research.google.com/notebooks/data_table.ipynb>data table notebook</a>'\n",
              "            + ' to learn more about interactive tables.';\n",
              "          element.innerHTML = '';\n",
              "          dataTable['output_type'] = 'display_data';\n",
              "          await google.colab.output.renderOutput(dataTable, element);\n",
              "          const docLink = document.createElement('div');\n",
              "          docLink.innerHTML = docLinkHtml;\n",
              "          element.appendChild(docLink);\n",
              "        }\n",
              "      </script>\n",
              "    </div>\n",
              "  </div>\n",
              "  "
            ]
          },
          "metadata": {},
          "execution_count": 48
        }
      ],
      "source": [
        "ydf=pd.DataFrame(y)\n",
        "ydf.head(5)"
      ]
    },
    {
      "cell_type": "markdown",
      "metadata": {
        "id": "5XumAKr4ReAr"
      },
      "source": [
        "## **MACHINE LEARNING ALGORITHMS**"
      ]
    },
    {
      "cell_type": "code",
      "execution_count": null,
      "metadata": {
        "id": "bYAd-98tN5ah"
      },
      "outputs": [],
      "source": [
        "from sklearn.naive_bayes import GaussianNB\n",
        "from sklearn.naive_bayes import BernoulliNB\n",
        "from sklearn.naive_bayes import MultinomialNB\n",
        "from sklearn.neural_network import MLPClassifier\n",
        "from sklearn.tree import DecisionTreeClassifier\n",
        "from sklearn.ensemble import RandomForestClassifier\n",
        "from sklearn.svm import SVC\n",
        "\n",
        "models=[]\n",
        "models.append(('NB',GaussianNB()))\n",
        "models.append(('MLP',MLPClassifier(hidden_layer_sizes=(8,7,6),verbose=False,learning_rate_init=0.01,learning_rate='constant',activation='tanh',max_iter=300,solver='adam', alpha=0.0001)))\n",
        "models.append(('DT',DecisionTreeClassifier(criterion='entropy',max_depth=2)))\n",
        "models.append(('RF',RandomForestClassifier(n_estimators=27,random_state=7,max_depth=6)))\n",
        "models.append(('SVM',SVC(kernel='linear',decision_function_shape='ovr',C=0.001,gamma=15)))"
      ]
    },
    {
      "cell_type": "markdown",
      "metadata": {
        "id": "6RWfv-NmR26K"
      },
      "source": [
        "## **BASELINE IMPLEMENTATION**"
      ]
    },
    {
      "cell_type": "markdown",
      "metadata": {
        "id": "QE4JAPcVGpXA"
      },
      "source": [
        "**10(k)-fold**"
      ]
    },
    {
      "cell_type": "code",
      "execution_count": null,
      "metadata": {
        "colab": {
          "base_uri": "https://localhost:8080/"
        },
        "id": "_KYIeTsHRJg2",
        "outputId": "4dfcd8fe-5184-4de2-f0e9-313b8350d2e8"
      },
      "outputs": [
        {
          "output_type": "stream",
          "name": "stdout",
          "text": [
            "ACCURACY:\n",
            "NB 0.9050632911392406\n",
            "MLP 0.930379746835443\n",
            "DT 0.930379746835443\n",
            "RF 0.9835443037974685\n",
            "SVM 0.8658227848101265\n",
            "\n",
            "TIME:\n",
            "NB 0.03876781463623047\n",
            "MLP 3.8712079524993896\n",
            "DT 0.035395145416259766\n",
            "RF 0.44231367111206055\n",
            "SVM 0.09107422828674316\n"
          ]
        }
      ],
      "source": [
        "import time\n",
        "accuracy=dict()\n",
        "tt=dict()\n",
        "\n",
        "from sklearn.model_selection import cross_val_score,KFold\n",
        "for name,model in models:\n",
        "    kfold=KFold(n_splits=10)\n",
        "\n",
        "    st=time.time()\n",
        "    acc=cross_val_score(model,X,y,cv=kfold,scoring='accuracy')\n",
        "    et=time.time()\n",
        "    accuracy[name]=(acc.mean())\n",
        "    tt[name]=et-st\n",
        "\n",
        "print(\"ACCURACY:\")\n",
        "for key,value in accuracy.items():\n",
        "    print(key,value)\n",
        "\n",
        "print(\"\\nTIME:\")\n",
        "for key,value in tt.items():\n",
        "    print(key,value)\n",
        "\n"
      ]
    },
    {
      "cell_type": "markdown",
      "source": [
        "**VARIANCE AND STANDARD DEVIATION**"
      ],
      "metadata": {
        "id": "aH5WjkGGCU-W"
      }
    },
    {
      "cell_type": "code",
      "source": [
        "import numpy as np\n",
        "from sklearn.metrics import mean_squared_error\n",
        "from sklearn.model_selection import KFold\n",
        "\n",
        "num_folds = 10\n",
        "\n",
        "kf = KFold(n_splits=num_folds, shuffle=True)\n",
        "variances = dict()\n",
        "std_devs = dict()\n",
        "\n",
        "for name, model in models:\n",
        "    fold_variances = []\n",
        "    fold_std_devs = []\n",
        "\n",
        "    for fold_num, (train_indices, test_indices) in enumerate(kf.split(X,y)):\n",
        "        model.fit(X.iloc[train_indices], y.iloc[train_indices])\n",
        "        y_pred = model.predict(X.iloc[test_indices])\n",
        "        mse = mean_squared_error(y.iloc[test_indices], y_pred)\n",
        "        variance = np.var(y.iloc[test_indices] - y_pred)\n",
        "        std_dev = np.sqrt(mse)\n",
        "\n",
        "        fold_variances.append(variance)\n",
        "        fold_std_devs.append(std_dev)\n",
        "  \n",
        "    variances[name] = (np.mean(fold_variances))/10\n",
        "    std_devs[name] = (np.mean(fold_std_devs))/10\n",
        "\n",
        "\n",
        "print(\"\\nVariance:\")\n",
        "for key, value in variances.items():\n",
        "    print(key, value)\n",
        "\n",
        "print(\"\\nStandard Deviation:\")\n",
        "for key, value in std_devs.items():\n",
        "    print(key, value)\n"
      ],
      "metadata": {
        "colab": {
          "base_uri": "https://localhost:8080/"
        },
        "id": "HDvW-cOg8jMT",
        "outputId": "8e3e3e49-6307-445c-df40-71af4a3b786f"
      },
      "execution_count": null,
      "outputs": [
        {
          "output_type": "stream",
          "name": "stdout",
          "text": [
            "\n",
            "Variance:\n",
            "NB 0.008290338086845057\n",
            "MLP 0.005790738663675693\n",
            "DT 0.006428456978048389\n",
            "RF 0.0012530043262297707\n",
            "SVM 0.011530203493029963\n",
            "\n",
            "Standard Deviation:\n",
            "NB 0.029671149654116557\n",
            "MLP 0.023597094355293197\n",
            "DT 0.02608221791722653\n",
            "RF 0.008506202246865885\n",
            "SVM 0.03638102054624597\n"
          ]
        }
      ]
    },
    {
      "cell_type": "markdown",
      "metadata": {
        "id": "dYDJvmgprjOw"
      },
      "source": [
        "**50-50**"
      ]
    },
    {
      "cell_type": "code",
      "execution_count": null,
      "metadata": {
        "colab": {
          "base_uri": "https://localhost:8080/"
        },
        "id": "zq7Tv7i0r67W",
        "outputId": "49f5aa98-5747-41f9-d5d7-446fa4c4d014"
      },
      "outputs": [
        {
          "output_type": "stream",
          "name": "stdout",
          "text": [
            "ACCURACY:\n",
            "NB 0.9088607594936708\n",
            "MLP 0.9291139240506329\n",
            "DT 0.9367088607594937\n",
            "RF 0.9772151898734177\n",
            "SVM 0.8481012658227848\n",
            "\n",
            "TIME:\n",
            "NB 0.0030863285064697266\n",
            "MLP 0.3370981216430664\n",
            "DT 0.0036475658416748047\n",
            "RF 0.041872262954711914\n",
            "SVM 0.0056972503662109375\n"
          ]
        }
      ],
      "source": [
        "from sklearn.model_selection import train_test_split,cross_val_score\n",
        "from sklearn import metrics\n",
        "\n",
        "accuracy=dict()\n",
        "precision=dict()\n",
        "recall=dict()\n",
        "ttfFontProperty=dict()\n",
        "\n",
        "for name,model in models:\n",
        "    x_train, x_test, y_train, y_test = train_test_split(X, y, test_size=0.50, random_state=7)\n",
        "    st=time.time()\n",
        "    model.fit(x_train, y_train)\n",
        "    y_pred = model.predict(x_test)\n",
        "    et=time.time()\n",
        "\n",
        "    accuracy[name]=metrics.accuracy_score(y_test, y_pred)\n",
        "    tt[name]=et-st\n",
        "\n",
        "print(\"ACCURACY:\")\n",
        "for key,value in accuracy.items():\n",
        "    print(key,value)\n",
        "\n",
        "print(\"\\nTIME:\")\n",
        "for key,value in tt.items():\n",
        "    print(key,value)"
      ]
    },
    {
      "cell_type": "markdown",
      "metadata": {
        "id": "ksnDXWhn1xE_"
      },
      "source": [
        "**60-40**"
      ]
    },
    {
      "cell_type": "code",
      "execution_count": null,
      "metadata": {
        "colab": {
          "base_uri": "https://localhost:8080/"
        },
        "id": "fiEz99mS0jGT",
        "outputId": "442048d6-d9b3-4242-952c-2c013bf2c3c4"
      },
      "outputs": [
        {
          "output_type": "stream",
          "name": "stdout",
          "text": [
            "ACCURACY:\n",
            "NB 0.9145569620253164\n",
            "MLP 0.9208860759493671\n",
            "DT 0.9367088607594937\n",
            "RF 0.9683544303797469\n",
            "SVM 0.8449367088607594\n",
            "\n",
            "TIME:\n",
            "NB 0.005468606948852539\n",
            "MLP 0.10184478759765625\n",
            "DT 0.0022377967834472656\n",
            "RF 0.04037737846374512\n",
            "SVM 0.006241559982299805\n"
          ]
        }
      ],
      "source": [
        "from sklearn.model_selection import train_test_split,cross_val_score\n",
        "from sklearn import metrics\n",
        "\n",
        "accuracy=dict()\n",
        "tt=dict()\n",
        "\n",
        "for name,model in models:\n",
        "    x_train, x_test, y_train, y_test = train_test_split(X, y, test_size=0.40, random_state=7)\n",
        "    st=time.time()\n",
        "    model.fit(x_train, y_train)\n",
        "    y_pred = model.predict(x_test)\n",
        "    et=time.time()\n",
        "    accuracy[name]=metrics.accuracy_score(y_test, y_pred)\n",
        "    tt[name]=et-st\n",
        "\n",
        "print(\"ACCURACY:\")\n",
        "for key,value in accuracy.items():\n",
        "    print(key,value)\n",
        "\n",
        "print(\"\\nTIME:\")\n",
        "for key,value in tt.items():\n",
        "    print(key,value)"
      ]
    },
    {
      "cell_type": "markdown",
      "metadata": {
        "id": "eVeTrvox2l-k"
      },
      "source": [
        "**70-30**"
      ]
    },
    {
      "cell_type": "code",
      "execution_count": null,
      "metadata": {
        "colab": {
          "base_uri": "https://localhost:8080/"
        },
        "id": "qy4vIgRg2RLS",
        "outputId": "0120e009-7b6e-4e32-f6ff-791ba4a99f99"
      },
      "outputs": [
        {
          "output_type": "stream",
          "name": "stdout",
          "text": [
            "ACCURACY:\n",
            "NB 0.8987341772151899\n",
            "MLP 0.9451476793248945\n",
            "DT 0.9324894514767933\n",
            "RF 0.9789029535864979\n",
            "SVM 0.8312236286919831\n",
            "\n",
            "TIME:\n",
            "NB 0.0073969364166259766\n",
            "MLP 0.3581516742706299\n",
            "DT 0.002240419387817383\n",
            "RF 0.04094409942626953\n",
            "SVM 0.0058803558349609375\n"
          ]
        }
      ],
      "source": [
        "from sklearn.model_selection import train_test_split,cross_val_score\n",
        "from sklearn import metrics\n",
        "from sklearn.metrics import confusion_matrix\n",
        "from sklearn.metrics import ConfusionMatrixDisplay\n",
        "from sklearn.metrics import classification_report\n",
        "\n",
        "accuracy=dict()\n",
        "tt=dict()\n",
        "\n",
        "for name,model in models:\n",
        "    x_train, x_test, y_train, y_test = train_test_split(X, y, test_size=0.30, random_state=43)\n",
        "    st=time.time()\n",
        "    model.fit(x_train, y_train)\n",
        "    y_pred = model.predict(x_test)\n",
        "    et=time.time()\n",
        "    accuracy[name]=metrics.accuracy_score(y_test, y_pred)\n",
        "    tt[name]=et-st\n",
        "\n",
        "print(\"ACCURACY:\")\n",
        "for key,value in accuracy.items():\n",
        "    print(key,value)\n",
        "\n",
        "print(\"\\nTIME:\")\n",
        "for key,value in tt.items():\n",
        "    print(key,value)"
      ]
    },
    {
      "cell_type": "markdown",
      "metadata": {
        "id": "Kj5WV97LC2-A"
      },
      "source": [
        "**80-20**"
      ]
    },
    {
      "cell_type": "code",
      "execution_count": null,
      "metadata": {
        "colab": {
          "base_uri": "https://localhost:8080/"
        },
        "id": "hzfUnDbsCvdU",
        "outputId": "5dac77fa-6b54-45d5-9cd1-e203ac561006"
      },
      "outputs": [
        {
          "output_type": "stream",
          "name": "stdout",
          "text": [
            "ACCURACY:\n",
            "NB 0.930379746835443\n",
            "MLP 0.9493670886075949\n",
            "DT 0.9430379746835443\n",
            "RF 0.9746835443037974\n",
            "SVM 0.8734177215189873\n",
            "\n",
            "PRECISION:\n",
            "NB 0.930379746835443\n",
            "MLP 0.9493670886075949\n",
            "DT 0.9430379746835443\n",
            "RF 0.9746835443037974\n",
            "SVM 0.8734177215189873\n",
            "\n",
            "RECALL:\n",
            "NB 0.930379746835443\n",
            "MLP 0.9493670886075949\n",
            "DT 0.9430379746835443\n",
            "RF 0.9746835443037974\n",
            "SVM 0.8734177215189873\n",
            "\n",
            "F1 SCORE:\n",
            "NB 0.717948717948718\n",
            "MLP 0.8333333333333333\n",
            "DT 0.7804878048780487\n",
            "RF 0.92\n",
            "SVM 0.33333333333333337\n",
            "\n",
            "ROC:\n",
            "NB 0.78\n",
            "MLP 0.8887218045112784\n",
            "DT 0.8200000000000001\n",
            "RF 0.9524812030075187\n",
            "SVM 0.6\n",
            "\n",
            "TIME:\n",
            "NB 0.0042476654052734375\n",
            "MLP 0.17189812660217285\n",
            "DT 0.0024874210357666016\n",
            "RF 0.04233908653259277\n",
            "SVM 0.0064945220947265625\n"
          ]
        }
      ],
      "source": [
        "from sklearn.model_selection import train_test_split,cross_val_score\n",
        "from sklearn import metrics\n",
        "from sklearn.metrics import confusion_matrix\n",
        "from sklearn.metrics import ConfusionMatrixDisplay\n",
        "from sklearn.metrics import classification_report\n",
        "from sklearn.metrics import roc_curve, auc\n",
        "import matplotlib.pyplot as plt\n",
        "\n",
        "accuracy=dict()\n",
        "precision=dict()\n",
        "recall=dict()\n",
        "f1score=dict()\n",
        "roc=dict()\n",
        "tt=dict()\n",
        "for name,model in models:\n",
        "    x_train, x_test, y_train, y_test = train_test_split(X, y, test_size=0.20, random_state=11)\n",
        "    st=time.time()\n",
        "    model.fit(x_train, y_train)\n",
        "    y_pred = model.predict(x_test)\n",
        "    et=time.time()\n",
        "    accuracy[name]=metrics.accuracy_score(y_test, y_pred)\n",
        "    precision[name]=metrics.precision_score(y_test, y_pred,average='micro')\n",
        "    f1score[name]=metrics.f1_score(y_test,y_pred)\n",
        "    recall[name]=metrics.recall_score(y_test, y_pred,average='micro')\n",
        "    fpr, tpr, _ = roc_curve(y_test, y_pred)\n",
        "    roc[name]=auc(fpr, tpr)\n",
        "    tt[name]=et-st\n",
        "    \n",
        "print(\"ACCURACY:\")\n",
        "for key,value in accuracy.items():\n",
        "    print(key,value)\n",
        "\n",
        "print(\"\\nPRECISION:\")\n",
        "for key,value in precision.items():\n",
        "    print(key,value)\n",
        "\n",
        "print(\"\\nRECALL:\")\n",
        "for key,value in recall.items():\n",
        "    print(key,value)\n",
        "\n",
        "print(\"\\nF1 SCORE:\")\n",
        "for key,value in f1score.items():\n",
        "    print(key,value)\n",
        "\n",
        "\n",
        "print(\"\\nROC:\")\n",
        "for key,value in roc.items():\n",
        "    print(key,value)\n",
        "\n",
        "print(\"\\nTIME:\")\n",
        "for key,value in tt.items():\n",
        "    print(key,value)"
      ]
    },
    {
      "cell_type": "markdown",
      "metadata": {
        "id": "A1TBHz0nkhLe"
      },
      "source": [
        "##**VOTING IMPLEMENTATION**"
      ]
    },
    {
      "cell_type": "code",
      "execution_count": null,
      "metadata": {
        "id": "U_F9Qkg3w0bY"
      },
      "outputs": [],
      "source": [
        "from sklearn.ensemble import VotingClassifier\n",
        "nb1 = GaussianNB()\n",
        "nb2 = GaussianNB()\n",
        "nb3 = GaussianNB()\n",
        "\n",
        "voting_clfnb = VotingClassifier(estimators=[('naivebayes1', nb1), ('naivebayes2', nb2),('naivebayes3', nb3)], voting='hard')"
      ]
    },
    {
      "cell_type": "code",
      "execution_count": null,
      "metadata": {
        "id": "KHBgAajQodrG"
      },
      "outputs": [],
      "source": [
        "mlp1 = MLPClassifier(hidden_layer_sizes=(8,7),random_state=7,verbose=False,max_iter=500)\n",
        "mlp2 = MLPClassifier(hidden_layer_sizes=(9,8),random_state=7,verbose=False,max_iter=500)\n",
        "\n",
        "voting_clfmlp = VotingClassifier(estimators=[('multilp1', mlp1), ('multilp2', mlp2)], voting='soft')"
      ]
    },
    {
      "cell_type": "code",
      "execution_count": null,
      "metadata": {
        "id": "ayEoolEGw1Wq"
      },
      "outputs": [],
      "source": [
        "clf1 = DecisionTreeClassifier(criterion='entropy', max_depth=1)\n",
        "clf3 = DecisionTreeClassifier(criterion='entropy', max_depth=2)\n",
        "\n",
        "voting_clfdt = VotingClassifier(estimators=[('clf1', clf1), ('clf3', clf3)], voting='soft')"
      ]
    },
    {
      "cell_type": "code",
      "execution_count": null,
      "metadata": {
        "id": "_gICiMOrw1ew"
      },
      "outputs": [],
      "source": [
        "rfc1 = RandomForestClassifier(n_estimators=15, max_depth=5, random_state=42)\n",
        "rfc2 = RandomForestClassifier(n_estimators=10, max_depth=8, random_state=42)\n",
        "rfc3 = RandomForestClassifier(n_estimators=15, max_depth=6, random_state=42)\n",
        "\n",
        "voting_clfrf = VotingClassifier(estimators=[('rf1', rfc1), ('rf2', rfc2), ('rf3', rfc3)], voting='hard')"
      ]
    },
    {
      "cell_type": "code",
      "execution_count": null,
      "metadata": {
        "id": "mdxv1ULRw1qB"
      },
      "outputs": [],
      "source": [
        "svm1 = SVC(kernel='sigmoid', decision_function_shape='ovr')\n",
        "svm2 = SVC(kernel='rbf',decision_function_shape='ovr')\n",
        "svm3 = SVC(kernel='poly',decision_function_shape='ovr')\n",
        "\n",
        "voting_clfsvm = VotingClassifier(estimators=[('svm1', svm1), ('svm2', svm2), ('svm3', svm3)], voting='hard')"
      ]
    },
    {
      "cell_type": "code",
      "source": [
        "votingmodel=[]\n",
        "votingmodel.append(('MLP',VotingClassifier(estimators=[('multilp1', mlp1), ('multilp2', mlp2)], voting='hard')))\n",
        "votingmodel.append(('DT',VotingClassifier(estimators=[('clf1', clf1), ('clf3', clf3)], voting='hard')))\n",
        "votingmodel.append(('RF',VotingClassifier(estimators=[('rf1', rfc1), ('rf2', rfc2), ('rf3', rfc3)], voting='hard')))\n",
        "votingmodel.append(('SVC',VotingClassifier(estimators=[('svm1', svm1), ('svm2', svm2), ('svm3', svm3)], voting='hard')))"
      ],
      "metadata": {
        "id": "SOpA4a1hxjpq"
      },
      "execution_count": null,
      "outputs": []
    },
    {
      "cell_type": "markdown",
      "metadata": {
        "id": "08oV-MBbTHDY"
      },
      "source": [
        " **10(k)-fold**"
      ]
    },
    {
      "cell_type": "code",
      "execution_count": null,
      "metadata": {
        "colab": {
          "base_uri": "https://localhost:8080/"
        },
        "id": "jBrE_IF6w-IQ",
        "outputId": "e655645a-515a-4673-b95c-55434bf3b51e"
      },
      "outputs": [
        {
          "output_type": "stream",
          "name": "stdout",
          "text": [
            "Voting(10-fold)- NB  0.8955549209975253\n",
            "Voting(10-fold)- MLP  0.916990291262136\n",
            "Voting(10-fold)- DT  0.9092137826004189\n",
            "Voting(10-fold)- RF  0.9209594517418619\n",
            "Voting(10-fold)- SVC  0.9101751380163717\n"
          ]
        }
      ],
      "source": [
        "from sklearn.datasets import make_classification\n",
        "def votingclffold(voting_clf):\n",
        "  X, y = make_classification(n_samples=1024, n_features=14, random_state=7) \n",
        "  kfold = KFold(n_splits=10, shuffle=True, random_state=7) \n",
        "  scores = cross_val_score(voting_clf, X, y, cv=kfold)\n",
        "  accuracy=scores.mean()\n",
        "  return accuracy\n",
        "\n",
        "print(\"Voting(10-fold)- NB \",votingclffold(voting_clfnb))\n",
        "print(\"Voting(10-fold)- MLP \",votingclffold(voting_clfmlp))\n",
        "print(\"Voting(10-fold)- DT \",votingclffold(voting_clfdt))\n",
        "print(\"Voting(10-fold)- RF \",votingclffold(voting_clfrf))\n",
        "print(\"Voting(10-fold)- SVC \",votingclffold(voting_clfsvm))"
      ]
    },
    {
      "cell_type": "markdown",
      "metadata": {
        "id": "lYK1-z-zxQ3A"
      },
      "source": [
        "**50-50**"
      ]
    },
    {
      "cell_type": "code",
      "execution_count": null,
      "metadata": {
        "colab": {
          "base_uri": "https://localhost:8080/"
        },
        "id": "PzsE74PZxX20",
        "outputId": "2d192907-cdf5-4421-ca76-6eff22959687"
      },
      "outputs": [
        {
          "output_type": "execute_result",
          "data": {
            "text/plain": [
              "(395, 6)"
            ]
          },
          "metadata": {},
          "execution_count": 63
        }
      ],
      "source": [
        "x_train, x_test, y_train, y_test = train_test_split(X, y, test_size=0.50, random_state=7)\n",
        "traindf=pd.DataFrame(x_train)\n",
        "traindf.shape"
      ]
    },
    {
      "cell_type": "code",
      "execution_count": null,
      "metadata": {
        "colab": {
          "base_uri": "https://localhost:8080/"
        },
        "id": "hyjPFVJ2xaaE",
        "outputId": "f5a175c4-0771-45d6-fb5d-24702b088b03"
      },
      "outputs": [
        {
          "output_type": "stream",
          "name": "stdout",
          "text": [
            "Voting(50-50)- NB  0.9088607594936708\n"
          ]
        }
      ],
      "source": [
        "from sklearn.naive_bayes import GaussianNB\n",
        "\n",
        "nb1 = GaussianNB()\n",
        "nb2 = GaussianNB()\n",
        "X_train_df = pd.DataFrame(x_train)\n",
        "X_test_df = pd.DataFrame(x_test)\n",
        "nb1.fit(X_train_df.iloc[:100], y_train[:100])\n",
        "nb2.fit(X_train_df.iloc[100:230], y_train[100:230])\n",
        "nb3.fit(X_train_df.iloc[230:395], y_train[230:395])\n",
        "ensemble = VotingClassifier(estimators=[('nb1', nb1), ('nb2', nb2),('nb3',nb3)], voting='hard')\n",
        "ensemble.fit(X_train_df, y_train)\n",
        "accuracy = ensemble.score(x_test, y_test)\n",
        "print(\"Voting(50-50)- NB \",(accuracy))\n"
      ]
    },
    {
      "cell_type": "code",
      "execution_count": null,
      "metadata": {
        "colab": {
          "base_uri": "https://localhost:8080/"
        },
        "id": "dIhMXJxQxQci",
        "outputId": "da74c845-19a1-43c7-a13a-73bbfb0a1777"
      },
      "outputs": [
        {
          "output_type": "stream",
          "name": "stdout",
          "text": [
            "Voting(50-50)-  MLP 0.9189873417721519\n",
            "Voting(50-50)-  DT 0.9367088607594937\n",
            "Voting(50-50)-  RF 0.979746835443038\n",
            "Voting(50-50)-  SVC 0.8481012658227848\n"
          ]
        }
      ],
      "source": [
        "from sklearn.ensemble import VotingClassifier\n",
        "from sklearn.metrics import accuracy_score\n",
        "\n",
        "def votingclf_fiftysplit(voting_clf):\n",
        "  x_train, x_test, y_train, y_test = train_test_split(X, y, test_size=0.50, random_state=7)\n",
        "  voting_clf.fit(x_train, y_train)\n",
        "  y_pred = voting_clf.predict(x_test)\n",
        "  accuracy = accuracy_score(y_test, y_pred)\n",
        "  return accuracy\n",
        "\n",
        "for estimator in votingmodel:\n",
        "  print(\"Voting(50-50)- \",estimator[0],votingclf_fiftysplit(estimator[1]))"
      ]
    },
    {
      "cell_type": "markdown",
      "metadata": {
        "id": "FuA36-iVVRsi"
      },
      "source": [
        "**60-40**"
      ]
    },
    {
      "cell_type": "code",
      "execution_count": null,
      "metadata": {
        "colab": {
          "base_uri": "https://localhost:8080/"
        },
        "id": "aHmV6zmvxf2t",
        "outputId": "58c53420-e1ca-4919-c31e-d401c3c9cf7f"
      },
      "outputs": [
        {
          "output_type": "execute_result",
          "data": {
            "text/plain": [
              "(474, 6)"
            ]
          },
          "metadata": {},
          "execution_count": 66
        }
      ],
      "source": [
        "x_train, x_test, y_train, y_test = train_test_split(X, y, test_size=0.40, random_state=7)\n",
        "traindf=pd.DataFrame(x_train)\n",
        "traindf.shape"
      ]
    },
    {
      "cell_type": "code",
      "execution_count": null,
      "metadata": {
        "colab": {
          "base_uri": "https://localhost:8080/"
        },
        "id": "LdLN5NfMxiSu",
        "outputId": "c5683641-2c1c-4fe6-ee22-5f73f0aaafa0"
      },
      "outputs": [
        {
          "output_type": "stream",
          "name": "stdout",
          "text": [
            "Voting(60-40)- NB 0.9145569620253164\n"
          ]
        }
      ],
      "source": [
        "nb1 = GaussianNB()\n",
        "nb2 = GaussianNB()\n",
        "X_train_df = pd.DataFrame(x_train)\n",
        "X_test_df = pd.DataFrame(x_test)\n",
        "nb1.fit(X_train_df.iloc[:150], y_train[:150])\n",
        "nb2.fit(X_train_df.iloc[150:300], y_train[150:300])\n",
        "nb3.fit(X_train_df.iloc[300:474], y_train[300:474])\n",
        "ensemble = VotingClassifier(estimators=[('nb1', nb1), ('nb2', nb2),('nb3',nb3)], voting='hard')\n",
        "ensemble.fit(X_train_df, y_train)\n",
        "accuracy = ensemble.score(x_test, y_test)\n",
        "print(\"Voting(60-40)- NB\",(accuracy))\n"
      ]
    },
    {
      "cell_type": "code",
      "execution_count": null,
      "metadata": {
        "colab": {
          "base_uri": "https://localhost:8080/"
        },
        "id": "WZrknyS_VUGc",
        "outputId": "9048d043-ba17-49f9-80da-d2512334cafd"
      },
      "outputs": [
        {
          "output_type": "stream",
          "name": "stdout",
          "text": [
            "Voting(60-40)-  MLP 0.9240506329113924\n",
            "Voting(60-40)-  DT 0.9367088607594937\n",
            "Voting(60-40)-  RF 0.9683544303797469\n",
            "Voting(60-40)-  SVC 0.8449367088607594\n"
          ]
        }
      ],
      "source": [
        "def votingclf_sixtysplit(voting_clf):\n",
        "  x_train, x_test, y_train, y_test = train_test_split(X, y, test_size=0.40, random_state=7)\n",
        "  voting_clf.fit(x_train, y_train)\n",
        "  y_pred = voting_clf.predict(x_test)\n",
        "  accuracy = accuracy_score(y_test, y_pred)\n",
        "  return accuracy\n",
        "\n",
        "for estimator in votingmodel:\n",
        "  print(\"Voting(60-40)- \",estimator[0],votingclf_sixtysplit(estimator[1]))"
      ]
    },
    {
      "cell_type": "markdown",
      "metadata": {
        "id": "ZMfv6XBXVgwo"
      },
      "source": [
        "**70-30**"
      ]
    },
    {
      "cell_type": "code",
      "execution_count": null,
      "metadata": {
        "colab": {
          "base_uri": "https://localhost:8080/"
        },
        "id": "uuVeq-FVxoLr",
        "outputId": "fd3a1880-034e-4615-b5ab-5af42716b27e"
      },
      "outputs": [
        {
          "output_type": "execute_result",
          "data": {
            "text/plain": [
              "(553, 6)"
            ]
          },
          "metadata": {},
          "execution_count": 69
        }
      ],
      "source": [
        "x_train, x_test, y_train, y_test = train_test_split(X, y, test_size=0.30, random_state=7)\n",
        "traindf=pd.DataFrame(x_train)\n",
        "traindf.shape"
      ]
    },
    {
      "cell_type": "code",
      "execution_count": null,
      "metadata": {
        "colab": {
          "base_uri": "https://localhost:8080/"
        },
        "id": "DBvyLUcaxofW",
        "outputId": "a30b53e1-bd10-4f2f-e5c9-3c03abfe2714"
      },
      "outputs": [
        {
          "output_type": "stream",
          "name": "stdout",
          "text": [
            "Voting(70-30)- NB  0.9029535864978903\n"
          ]
        }
      ],
      "source": [
        "nb1 = GaussianNB()\n",
        "nb2 = GaussianNB()\n",
        "X_train_df = pd.DataFrame(x_train)\n",
        "X_test_df = pd.DataFrame(x_test)\n",
        "nb1.fit(X_train_df.iloc[:200], y_train[:200])\n",
        "nb2.fit(X_train_df.iloc[200:350], y_train[200:350])\n",
        "nb3.fit(X_train_df.iloc[350:553], y_train[350:553])\n",
        "ensemble = VotingClassifier(estimators=[('nb1', nb1), ('nb2', nb2),('nb3',nb3)], voting='hard')\n",
        "ensemble.fit(x_train, y_train)\n",
        "y_pred = ensemble.predict(x_test)\n",
        "accuracy = accuracy_score(y_test, y_pred)\n",
        "print(\"Voting(70-30)- NB \",(accuracy))\n"
      ]
    },
    {
      "cell_type": "code",
      "execution_count": null,
      "metadata": {
        "colab": {
          "base_uri": "https://localhost:8080/"
        },
        "id": "oq3jwtqbVfnZ",
        "outputId": "6d514fce-a3ee-4836-c5a7-6ecfff4fcc07"
      },
      "outputs": [
        {
          "output_type": "stream",
          "name": "stdout",
          "text": [
            "Voting(70-30)-  MLP 0.9113924050632911\n",
            "Voting(70-30)-  DT 0.9282700421940928\n",
            "Voting(70-30)-  RF 0.9746835443037974\n",
            "Voting(70-30)-  SVC 0.8354430379746836\n"
          ]
        }
      ],
      "source": [
        "def votingclf_seventysplit(voting_clf):\n",
        "  x_train, x_test, y_train, y_test = train_test_split(X, y, test_size=0.30, random_state=7)\n",
        "  voting_clf.fit(x_train, y_train)\n",
        "  y_pred = voting_clf.predict(x_test)\n",
        "  accuracy = accuracy_score(y_test, y_pred)\n",
        "  return accuracy\n",
        "\n",
        "for estimator in votingmodel:\n",
        "  print(\"Voting(70-30)- \",estimator[0],votingclf_seventysplit(estimator[1]))"
      ]
    },
    {
      "cell_type": "markdown",
      "metadata": {
        "id": "alIpx3NWxubR"
      },
      "source": [
        "**80-20**"
      ]
    },
    {
      "cell_type": "code",
      "execution_count": null,
      "metadata": {
        "colab": {
          "base_uri": "https://localhost:8080/"
        },
        "id": "A8J5OAzsVykD",
        "outputId": "2f33ec5f-7fb7-4fff-ee06-bd5a2d253ea8"
      },
      "outputs": [
        {
          "output_type": "execute_result",
          "data": {
            "text/plain": [
              "(632, 6)"
            ]
          },
          "metadata": {},
          "execution_count": 72
        }
      ],
      "source": [
        "x_train, x_test, y_train, y_test = train_test_split(X, y, test_size=0.20, random_state=7)\n",
        "traindf=pd.DataFrame(x_train)\n",
        "traindf.shape"
      ]
    },
    {
      "cell_type": "code",
      "source": [
        "traindf.shape"
      ],
      "metadata": {
        "colab": {
          "base_uri": "https://localhost:8080/"
        },
        "id": "HJkeKdpIf7m0",
        "outputId": "3f523a54-b367-45b9-ffe1-115519562c6e"
      },
      "execution_count": null,
      "outputs": [
        {
          "output_type": "execute_result",
          "data": {
            "text/plain": [
              "(632, 6)"
            ]
          },
          "metadata": {},
          "execution_count": 73
        }
      ]
    },
    {
      "cell_type": "code",
      "execution_count": null,
      "metadata": {
        "colab": {
          "base_uri": "https://localhost:8080/"
        },
        "id": "CjdZgOy8V0US",
        "outputId": "88ea8a6d-7a73-413d-bbba-7f22dc174496"
      },
      "outputs": [
        {
          "output_type": "stream",
          "name": "stdout",
          "text": [
            "(632, 6)\n",
            "Voting(70-30)- NB Accuracy  0.8924050632911392\n",
            "Voting(70-30)- NB Precision 0.8924050632911392\n",
            "Voting(70-30)- NB Fi Score 0.5641025641025641\n",
            "Voting(70-30)- NB Recall 0.8924050632911392\n",
            "Voting(70-30)- NB ROC 0.6964285714285714\n"
          ]
        }
      ],
      "source": [
        "from sklearn.metrics import roc_curve, auc\n",
        "nb1 = MultinomialNB()\n",
        "nb2 = GaussianNB()\n",
        "nb3 = GaussianNB()\n",
        "X_train_df = pd.DataFrame(x_train)\n",
        "print(X_train_df.shape)\n",
        "X_test_df = pd.DataFrame(x_test)\n",
        "nb1.fit(X_train_df.iloc[:200], y_train[:200])\n",
        "nb2.fit(X_train_df.iloc[200:450], y_train[200:450])\n",
        "nb3.fit(X_train_df.iloc[450:632], y_train[450:632])\n",
        "ensemble = VotingClassifier(estimators=[('nb1', nb1), ('nb2', nb2),('nb3',nb3)], voting='hard')\n",
        "ensemble.fit(x_train, y_train)\n",
        "accuracy = ensemble.score(x_test, y_test)\n",
        "y_pred = ensemble.predict(x_test)\n",
        "fpr, tpr, _ = roc_curve(y_test, y_pred)\n",
        "rocc=auc(fpr, tpr)\n",
        "print(\"Voting(70-30)- NB Accuracy \",(accuracy))\n",
        "print(\"Voting(70-30)- NB Precision\",(metrics.precision_score(y_test, y_pred,average='micro')))\n",
        "print(\"Voting(70-30)- NB Fi Score\",(metrics.f1_score(y_test, y_pred)))\n",
        "print(\"Voting(70-30)- NB Recall\",(metrics.recall_score(y_test, y_pred,average='weighted')))\n",
        "print(\"Voting(70-30)- NB ROC\",(rocc))\n"
      ]
    },
    {
      "cell_type": "code",
      "execution_count": null,
      "metadata": {
        "colab": {
          "base_uri": "https://localhost:8080/"
        },
        "id": "Fe6yeZO-VtiM",
        "outputId": "70b87f36-5d64-45cf-b3d3-b7dea1955170"
      },
      "outputs": [
        {
          "output_type": "stream",
          "name": "stdout",
          "text": [
            "\n",
            "ACCURACY\n",
            "Voting(80-20)-  MLP 0.9240506329113924\n",
            "Voting(80-20)-  DT 0.9240506329113924\n",
            "Voting(80-20)-  RF 0.9746835443037974\n",
            "Voting(80-20)-  SVC 0.8354430379746836\n",
            "\n",
            "PRECISION\n",
            "Voting(80-20)-  MLP 1.0\n",
            "Voting(80-20)-  DT 1.0\n",
            "Voting(80-20)-  RF 1.0\n",
            "Voting(80-20)-  SVC 1.0\n",
            "\n",
            "F1 SCORE\n",
            "Voting(80-20)-  MLP 0.7391304347826086\n",
            "Voting(80-20)-  DT 0.7391304347826086\n",
            "Voting(80-20)-  RF 0.9259259259259259\n",
            "Voting(80-20)-  SVC 0.1875\n",
            "\n",
            "RECALL\n",
            "Voting(80-20)-  MLP 0.5862068965517241\n",
            "Voting(80-20)-  DT 0.5862068965517241\n",
            "Voting(80-20)-  RF 0.8620689655172413\n",
            "Voting(80-20)-  SVC 0.10344827586206896\n",
            "\n",
            "ROC\n",
            "Voting(80-20)-  MLP 0.7931034482758621\n",
            "Voting(80-20)-  DT 0.7931034482758621\n",
            "Voting(80-20)-  RF 0.9310344827586207\n",
            "Voting(80-20)-  SVC 0.5517241379310345\n"
          ]
        }
      ],
      "source": [
        "from sklearn.metrics import roc_curve, auc\n",
        "from sklearn import metrics\n",
        "def votingclf_eightysplit_acc(voting_clf):\n",
        "  x_train, x_test, y_train, y_test = train_test_split(X, y, test_size=0.20, random_state=43)\n",
        "  voting_clf.fit(x_train, y_train)\n",
        "  y_pred = voting_clf.predict(x_test)\n",
        "  accuracy = metrics.accuracy_score(y_test, y_pred)\n",
        "  return accuracy\n",
        "print(\"\\nACCURACY\")\n",
        "for estimator in votingmodel:\n",
        "  print(\"Voting(80-20)- \",estimator[0],votingclf_eightysplit_acc(estimator[1]))\n",
        "\n",
        "def votingclf_eightysplit_pre(voting_clf):\n",
        "  x_train, x_test, y_train, y_test = train_test_split(X, y, test_size=0.20, random_state=43)\n",
        "  voting_clf.fit(x_train, y_train)\n",
        "  y_pred = voting_clf.predict(x_test)\n",
        "  precision = metrics.precision_score(y_test, y_pred)\n",
        "  return precision\n",
        "print(\"\\nPRECISION\")\n",
        "for estimator in votingmodel:\n",
        "  print(\"Voting(80-20)- \",estimator[0],votingclf_eightysplit_pre(estimator[1]))\n",
        "\n",
        "def votingclf_eightysplit_f1(voting_clf):\n",
        "  x_train, x_test, y_train, y_test = train_test_split(X, y, test_size=0.20, random_state=43)\n",
        "  voting_clf.fit(x_train, y_train)\n",
        "  y_pred = voting_clf.predict(x_test)\n",
        "  f1 = metrics.f1_score(y_test, y_pred)\n",
        "  return f1\n",
        "print(\"\\nF1 SCORE\")\n",
        "for estimator in votingmodel:\n",
        "  print(\"Voting(80-20)- \",estimator[0],votingclf_eightysplit_f1(estimator[1]))\n",
        "\n",
        "def votingclf_eightysplit_rec(voting_clf):\n",
        "  x_train, x_test, y_train, y_test = train_test_split(X, y, test_size=0.20, random_state=43)\n",
        "  voting_clf.fit(x_train, y_train)\n",
        "  y_pred = voting_clf.predict(x_test)\n",
        "  recall = metrics.recall_score(y_test, y_pred)\n",
        "  return recall\n",
        "print(\"\\nRECALL\")\n",
        "for estimator in votingmodel:\n",
        "  print(\"Voting(80-20)- \",estimator[0],votingclf_eightysplit_rec(estimator[1]))\n",
        "\n",
        "\n",
        "def votingclf_eightysplit_roc(voting_clf):\n",
        "  x_train, x_test, y_train, y_test = train_test_split(X, y, test_size=0.20, random_state=43)\n",
        "  voting_clf.fit(x_train, y_train)\n",
        "  y_pred = voting_clf.predict(x_test)\n",
        "  fpr, tpr, _ = roc_curve(y_test, y_pred)\n",
        "  rocc=auc(fpr, tpr)\n",
        "  return rocc\n",
        "print(\"\\nROC\")\n",
        "for estimator in votingmodel:\n",
        "  print(\"Voting(80-20)- \",estimator[0],votingclf_eightysplit_roc(estimator[1]))"
      ]
    },
    {
      "cell_type": "markdown",
      "metadata": {
        "id": "b4gEvtcu-xDY"
      },
      "source": [
        "## **BAGGING IMPLEMENTATION**"
      ]
    },
    {
      "cell_type": "markdown",
      "metadata": {
        "id": "WPl5QI5jUxvd"
      },
      "source": [
        "**10(k)-fold**"
      ]
    },
    {
      "cell_type": "code",
      "execution_count": null,
      "metadata": {
        "id": "VRVuG83p_9aE"
      },
      "outputs": [],
      "source": [
        "from sklearn.model_selection import cross_val_score\n",
        "from sklearn.ensemble import BaggingClassifier\n",
        "from sklearn.naive_bayes import MultinomialNB\n",
        "models=[]\n",
        "models.append(('NB', GaussianNB()))\n",
        "models.append(('MLP',MLPClassifier(hidden_layer_sizes=(8,8,5),verbose=False,learning_rate_init=0.01,learning_rate='constant',activation='tanh',max_iter=300,solver='adam', alpha=0.0001)))\n",
        "models.append(('DT',DecisionTreeClassifier(criterion='gini',max_depth=2)))\n",
        "models.append(('RF',RandomForestClassifier(n_estimators=27,random_state=11,max_depth=7)))\n",
        "models.append(('SVM',SVC(kernel='rbf',decision_function_shape='ovr',C=0.001,gamma=20)))"
      ]
    },
    {
      "cell_type": "code",
      "execution_count": null,
      "metadata": {
        "colab": {
          "base_uri": "https://localhost:8080/"
        },
        "id": "8g6IamxHA052",
        "outputId": "1c08523a-e310-4fa6-b58f-7a359254f83d"
      },
      "outputs": [
        {
          "output_type": "stream",
          "name": "stdout",
          "text": [
            "Bagging(10-fold)-  NB 0.9050632911392406\n",
            "Bagging(10-fold)-  MLP 0.9139240506329113\n",
            "Bagging(10-fold)-  DT 0.930379746835443\n",
            "Bagging(10-fold)-  RF 0.9620253164556962\n",
            "Bagging(10-fold)-  SVM 0.8405063291139241\n"
          ]
        }
      ],
      "source": [
        "for estimator in models:\n",
        "    bagging_clf = BaggingClassifier(base_estimator=estimator[1],n_estimators=15,max_features=6,max_samples=100,bootstrap=True, random_state=42)\n",
        "    kf = KFold(n_splits=10, shuffle=True)\n",
        "    all_predictions = []\n",
        "    for train_index, test_index in kf.split(X):\n",
        "      X_train, X_test = X.iloc[train_index], X.iloc[test_index]\n",
        "      y_train, y_test = y.iloc[train_index], y.iloc[test_index]\n",
        "      bagging_clf.fit(X_train, y_train)\n",
        "      predictions = bagging_clf.predict(X_test)\n",
        "      all_predictions.append(metrics.accuracy_score(y_test,predictions))\n",
        "    final_predictions = np.mean(all_predictions, axis=0)\n",
        "    print(\"Bagging(10-fold)- \",estimator[0], final_predictions)"
      ]
    },
    {
      "cell_type": "markdown",
      "metadata": {
        "id": "AvbvBBXrHGaH"
      },
      "source": [
        "**50-50**"
      ]
    },
    {
      "cell_type": "code",
      "execution_count": null,
      "metadata": {
        "colab": {
          "base_uri": "https://localhost:8080/"
        },
        "id": "VfTlO3099rTJ",
        "outputId": "e4d4c96c-1715-4e0f-ad67-8865cad6b0b0"
      },
      "outputs": [
        {
          "output_type": "stream",
          "name": "stdout",
          "text": [
            "ACCURACY\n",
            "Bagging(50-50)-  NB 0.9088607594936708\n",
            "Bagging(50-50)-  MLP 0.9215189873417722\n",
            "Bagging(50-50)-  DT 0.9392405063291139\n",
            "Bagging(50-50)-  RF 0.9544303797468354\n",
            "Bagging(50-50)-  SVM 0.8430379746835444\n"
          ]
        }
      ],
      "source": [
        "x_train, x_test, y_train, y_test = train_test_split(X, y, test_size=0.50, random_state=43)\n",
        "print(\"ACCURACY\")\n",
        "for estimator in models:\n",
        "    bagging_clf = BaggingClassifier(base_estimator=estimator[1],n_estimators=15,max_features=6,max_samples=100,bootstrap=True, random_state=42)\n",
        "    bagging_clf.fit(x_train, y_train)\n",
        "    y_pred = bagging_clf.predict(x_test)\n",
        "    accuracy = metrics.accuracy_score(y_test, y_pred)\n",
        "    print(\"Bagging(50-50)- \",estimator[0], accuracy)\n"
      ]
    },
    {
      "cell_type": "markdown",
      "metadata": {
        "id": "MxcKopBmApO0"
      },
      "source": [
        "**60-40**"
      ]
    },
    {
      "cell_type": "code",
      "execution_count": null,
      "metadata": {
        "colab": {
          "base_uri": "https://localhost:8080/"
        },
        "id": "0M5vZIpiAS8Y",
        "outputId": "bfb83144-0fda-4884-aa56-955edb9bcd3d"
      },
      "outputs": [
        {
          "output_type": "stream",
          "name": "stdout",
          "text": [
            "ACCURACY\n",
            "Bagging(60-40)-  NB 0.8987341772151899\n",
            "Bagging(60-40)-  MLP 0.9113924050632911\n",
            "Bagging(60-40)-  DT 0.939873417721519\n",
            "Bagging(60-40)-  RF 0.9683544303797469\n",
            "Bagging(60-40)-  SVM 0.8481012658227848\n"
          ]
        }
      ],
      "source": [
        "x_train, x_test, y_train, y_test = train_test_split(X, y, test_size=0.40, random_state=43)\n",
        "print(\"ACCURACY\")\n",
        "for estimator in models:\n",
        "    bagging_clf = BaggingClassifier(base_estimator=estimator[1],n_estimators=15,max_features=6,max_samples=100,bootstrap=True, random_state=42)\n",
        "    bagging_clf.fit(x_train, y_train)\n",
        "    y_pred = bagging_clf.predict(x_test)\n",
        "    accuracy = metrics.accuracy_score(y_test, y_pred)\n",
        "    print(\"Bagging(60-40)- \",estimator[0], accuracy)"
      ]
    },
    {
      "cell_type": "markdown",
      "metadata": {
        "id": "Zyzt_gxrAuCz"
      },
      "source": [
        "**70-30**"
      ]
    },
    {
      "cell_type": "code",
      "execution_count": null,
      "metadata": {
        "id": "iGBc6KTm_0CR",
        "colab": {
          "base_uri": "https://localhost:8080/"
        },
        "outputId": "ee9c828a-18e4-4342-82ab-b96caac7cd5a"
      },
      "outputs": [
        {
          "output_type": "stream",
          "name": "stdout",
          "text": [
            "ACCURACY\n",
            "Bagging(70-30)-  NB 0.9029535864978903\n",
            "Bagging(70-30)-  MLP 0.9029535864978903\n",
            "Bagging(70-30)-  DT 0.9324894514767933\n",
            "Bagging(70-30)-  RF 0.9409282700421941\n",
            "Bagging(70-30)-  SVM 0.8312236286919831\n"
          ]
        }
      ],
      "source": [
        "x_train, x_test, y_train, y_test = train_test_split(X, y, test_size=0.30, random_state=43)\n",
        "print(\"ACCURACY\")\n",
        "for estimator in models:\n",
        "    bagging_clf = BaggingClassifier(base_estimator=estimator[1],n_estimators=15,max_features=6,max_samples=100,bootstrap=True, random_state=42)\n",
        "    bagging_clf.fit(x_train, y_train)\n",
        "    y_pred = bagging_clf.predict(x_test)\n",
        "    accuracy = metrics.accuracy_score(y_test, y_pred)\n",
        "    print(\"Bagging(70-30)- \",estimator[0], accuracy)"
      ]
    },
    {
      "cell_type": "markdown",
      "metadata": {
        "id": "4FDvYIa3Aw4O"
      },
      "source": [
        "**80-20**"
      ]
    },
    {
      "cell_type": "code",
      "execution_count": null,
      "metadata": {
        "id": "ROxOLQewAwHc",
        "colab": {
          "base_uri": "https://localhost:8080/"
        },
        "outputId": "f74efdb7-113c-40a5-9059-fbb2e6c34c15"
      },
      "outputs": [
        {
          "output_type": "stream",
          "name": "stdout",
          "text": [
            "ACCURACY\n",
            "Bagging(80-20)-  NB 0.9113924050632911\n",
            "Bagging(80-20)-  MLP 0.8987341772151899\n",
            "Bagging(80-20)-  DT 0.9240506329113924\n",
            "Bagging(80-20)-  RF 0.9367088607594937\n",
            "Bagging(80-20)-  SVM 0.8164556962025317\n",
            "\n",
            "PRECISION\n",
            "Bagging(80-20)-  NB 0.9113924050632911\n",
            "Bagging(80-20)-  MLP 0.8987341772151899\n",
            "Bagging(80-20)-  DT 0.9240506329113924\n",
            "Bagging(80-20)-  RF 0.9367088607594937\n",
            "Bagging(80-20)-  SVM 0.8164556962025317\n",
            "\n",
            "F1 SCORE\n",
            "Bagging(80-20)-  NB 0.6818181818181819\n",
            "Bagging(80-20)-  MLP 0.6363636363636364\n",
            "Bagging(80-20)-  DT 0.7391304347826086\n",
            "Bagging(80-20)-  RF 0.7916666666666666\n",
            "Bagging(80-20)-  SVM 0.0\n",
            "\n",
            "RECALL\n",
            "Bagging(80-20)-  NB 0.9113924050632911\n",
            "Bagging(80-20)-  MLP 0.8987341772151899\n",
            "Bagging(80-20)-  DT 0.9240506329113924\n",
            "Bagging(80-20)-  RF 0.9367088607594937\n",
            "Bagging(80-20)-  SVM 0.8164556962025317\n",
            "\n",
            "ROC\n",
            "Bagging(80-20)-  NB 0.7586206896551724\n",
            "Bagging(80-20)-  MLP 0.7375033413525796\n",
            "Bagging(80-20)-  DT 0.7931034482758621\n",
            "Bagging(80-20)-  RF 0.8275862068965517\n",
            "Bagging(80-20)-  SVM 0.5\n"
          ]
        }
      ],
      "source": [
        "from sklearn.metrics import confusion_matrix\n",
        "from sklearn.metrics import roc_curve, auc\n",
        "x_train, x_test, y_train, y_test = train_test_split(X, y, test_size=0.20, random_state=43)\n",
        "print(\"ACCURACY\")\n",
        "for estimator in models:\n",
        "    bagging_clf = BaggingClassifier(base_estimator=estimator[1],n_estimators=15,max_features=6,max_samples=100,bootstrap=True, random_state=42)\n",
        "    bagging_clf.fit(x_train, y_train)\n",
        "    y_pred = bagging_clf.predict(x_test)\n",
        "    accuracy = metrics.accuracy_score(y_test, y_pred)\n",
        "    print(\"Bagging(80-20)- \",estimator[0], accuracy)\n",
        "\n",
        "print(\"\\nPRECISION\")\n",
        "for estimator in models:\n",
        "    bagging_clf = BaggingClassifier(base_estimator=estimator[1],n_estimators=15,max_features=6,max_samples=100,bootstrap=True, random_state=42)\n",
        "    bagging_clf.fit(x_train, y_train)\n",
        "    y_pred = bagging_clf.predict(x_test)\n",
        "    precision = metrics.precision_score(y_test, y_pred,average='micro')\n",
        "    print(\"Bagging(80-20)- \",estimator[0], precision)\n",
        "\n",
        "print(\"\\nF1 SCORE\")\n",
        "for estimator in models:\n",
        "    bagging_clf = BaggingClassifier(base_estimator=estimator[1],n_estimators=15,max_features=6,max_samples=100,bootstrap=True, random_state=42)\n",
        "    bagging_clf.fit(x_train, y_train)\n",
        "    y_pred = bagging_clf.predict(x_test)\n",
        "    f1score = metrics.f1_score(y_test,y_pred)\n",
        "    print(\"Bagging(80-20)- \",estimator[0], f1score)\n",
        "  \n",
        "print(\"\\nRECALL\")\n",
        "for estimator in models:\n",
        "    bagging_clf = BaggingClassifier(base_estimator=estimator[1],n_estimators=15,max_features=6,max_samples=100,bootstrap=True, random_state=42)\n",
        "    bagging_clf.fit(x_train, y_train)\n",
        "    y_pred = bagging_clf.predict(x_test)\n",
        "    recall = metrics.recall_score(y_test, y_pred,average='micro')\n",
        "    print(\"Bagging(80-20)- \",estimator[0], recall)\n",
        "\n",
        "print(\"\\nROC\")\n",
        "for estimator in models:\n",
        "    bagging_clf = BaggingClassifier(base_estimator=estimator[1],n_estimators=15,max_features=6,max_samples=100,bootstrap=True, random_state=42)\n",
        "    bagging_clf.fit(x_train, y_train)\n",
        "    y_pred = bagging_clf.predict(x_test)\n",
        "    fpr, tpr, _ = roc_curve(y_test, y_pred)\n",
        "    rocc=auc(fpr, tpr)\n",
        "    print(\"Bagging(80-20)- \",estimator[0], rocc)"
      ]
    }
  ],
  "metadata": {
    "accelerator": "GPU",
    "colab": {
      "provenance": []
    },
    "gpuClass": "standard",
    "kernelspec": {
      "display_name": "Python 3",
      "name": "python3"
    },
    "language_info": {
      "name": "python"
    }
  },
  "nbformat": 4,
  "nbformat_minor": 0
}