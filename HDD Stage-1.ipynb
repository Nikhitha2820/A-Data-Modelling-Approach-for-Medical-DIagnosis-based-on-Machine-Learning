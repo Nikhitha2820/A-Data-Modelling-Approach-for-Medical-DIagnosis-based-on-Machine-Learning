{
  "cells": [
    {
      "cell_type": "markdown",
      "metadata": {
        "id": "AORXoP0tOVAt"
      },
      "source": [
        "#**HEART DISEASE DATASET(STAGE-1)**"
      ]
    },
    {
      "cell_type": "markdown",
      "metadata": {
        "id": "FiGHduaNPKmo"
      },
      "source": [
        "##**DATA ACQUISITION**"
      ]
    },
    {
      "cell_type": "code",
      "execution_count": null,
      "metadata": {
        "id": "kc141Oopq1Q_"
      },
      "outputs": [],
      "source": [
        "import numpy as np\n",
        "import pandas as pd \n",
        "import matplotlib.pyplot as plt \n",
        "%matplotlib inline \n",
        "import seaborn as sns\n",
        "import warnings\n",
        "warnings.filterwarnings(\"ignore\")"
      ]
    },
    {
      "cell_type": "code",
      "execution_count": null,
      "metadata": {
        "colab": {
          "base_uri": "https://localhost:8080/",
          "height": 206
        },
        "id": "z_GH9TcCrJEN",
        "outputId": "d762d522-730d-4132-ae25-577f5d551704"
      },
      "outputs": [
        {
          "output_type": "execute_result",
          "data": {
            "text/plain": [
              "   AGE  SEX  CP  RBP  SCH  FBS  RES  MHR  EIA  OPK  PES  VCA  THA  LB\n",
              "0   52    1   0  125  212    0    1  168    0  1.0    2    2    3   0\n",
              "1   53    1   0  140  203    1    0  155    1  3.1    0    0    3   0\n",
              "2   70    1   0  145  174    0    1  125    1  2.6    0    0    3   0\n",
              "3   61    1   0  148  203    0    1  161    0  0.0    2    1    3   0\n",
              "4   62    0   0  138  294    1    1  106    0  1.9    1    3    2   0"
            ],
            "text/html": [
              "\n",
              "  <div id=\"df-0e7a8260-d7b9-4e47-b1c2-327b0c2d8533\">\n",
              "    <div class=\"colab-df-container\">\n",
              "      <div>\n",
              "<style scoped>\n",
              "    .dataframe tbody tr th:only-of-type {\n",
              "        vertical-align: middle;\n",
              "    }\n",
              "\n",
              "    .dataframe tbody tr th {\n",
              "        vertical-align: top;\n",
              "    }\n",
              "\n",
              "    .dataframe thead th {\n",
              "        text-align: right;\n",
              "    }\n",
              "</style>\n",
              "<table border=\"1\" class=\"dataframe\">\n",
              "  <thead>\n",
              "    <tr style=\"text-align: right;\">\n",
              "      <th></th>\n",
              "      <th>AGE</th>\n",
              "      <th>SEX</th>\n",
              "      <th>CP</th>\n",
              "      <th>RBP</th>\n",
              "      <th>SCH</th>\n",
              "      <th>FBS</th>\n",
              "      <th>RES</th>\n",
              "      <th>MHR</th>\n",
              "      <th>EIA</th>\n",
              "      <th>OPK</th>\n",
              "      <th>PES</th>\n",
              "      <th>VCA</th>\n",
              "      <th>THA</th>\n",
              "      <th>LB</th>\n",
              "    </tr>\n",
              "  </thead>\n",
              "  <tbody>\n",
              "    <tr>\n",
              "      <th>0</th>\n",
              "      <td>52</td>\n",
              "      <td>1</td>\n",
              "      <td>0</td>\n",
              "      <td>125</td>\n",
              "      <td>212</td>\n",
              "      <td>0</td>\n",
              "      <td>1</td>\n",
              "      <td>168</td>\n",
              "      <td>0</td>\n",
              "      <td>1.0</td>\n",
              "      <td>2</td>\n",
              "      <td>2</td>\n",
              "      <td>3</td>\n",
              "      <td>0</td>\n",
              "    </tr>\n",
              "    <tr>\n",
              "      <th>1</th>\n",
              "      <td>53</td>\n",
              "      <td>1</td>\n",
              "      <td>0</td>\n",
              "      <td>140</td>\n",
              "      <td>203</td>\n",
              "      <td>1</td>\n",
              "      <td>0</td>\n",
              "      <td>155</td>\n",
              "      <td>1</td>\n",
              "      <td>3.1</td>\n",
              "      <td>0</td>\n",
              "      <td>0</td>\n",
              "      <td>3</td>\n",
              "      <td>0</td>\n",
              "    </tr>\n",
              "    <tr>\n",
              "      <th>2</th>\n",
              "      <td>70</td>\n",
              "      <td>1</td>\n",
              "      <td>0</td>\n",
              "      <td>145</td>\n",
              "      <td>174</td>\n",
              "      <td>0</td>\n",
              "      <td>1</td>\n",
              "      <td>125</td>\n",
              "      <td>1</td>\n",
              "      <td>2.6</td>\n",
              "      <td>0</td>\n",
              "      <td>0</td>\n",
              "      <td>3</td>\n",
              "      <td>0</td>\n",
              "    </tr>\n",
              "    <tr>\n",
              "      <th>3</th>\n",
              "      <td>61</td>\n",
              "      <td>1</td>\n",
              "      <td>0</td>\n",
              "      <td>148</td>\n",
              "      <td>203</td>\n",
              "      <td>0</td>\n",
              "      <td>1</td>\n",
              "      <td>161</td>\n",
              "      <td>0</td>\n",
              "      <td>0.0</td>\n",
              "      <td>2</td>\n",
              "      <td>1</td>\n",
              "      <td>3</td>\n",
              "      <td>0</td>\n",
              "    </tr>\n",
              "    <tr>\n",
              "      <th>4</th>\n",
              "      <td>62</td>\n",
              "      <td>0</td>\n",
              "      <td>0</td>\n",
              "      <td>138</td>\n",
              "      <td>294</td>\n",
              "      <td>1</td>\n",
              "      <td>1</td>\n",
              "      <td>106</td>\n",
              "      <td>0</td>\n",
              "      <td>1.9</td>\n",
              "      <td>1</td>\n",
              "      <td>3</td>\n",
              "      <td>2</td>\n",
              "      <td>0</td>\n",
              "    </tr>\n",
              "  </tbody>\n",
              "</table>\n",
              "</div>\n",
              "      <button class=\"colab-df-convert\" onclick=\"convertToInteractive('df-0e7a8260-d7b9-4e47-b1c2-327b0c2d8533')\"\n",
              "              title=\"Convert this dataframe to an interactive table.\"\n",
              "              style=\"display:none;\">\n",
              "        \n",
              "  <svg xmlns=\"http://www.w3.org/2000/svg\" height=\"24px\"viewBox=\"0 0 24 24\"\n",
              "       width=\"24px\">\n",
              "    <path d=\"M0 0h24v24H0V0z\" fill=\"none\"/>\n",
              "    <path d=\"M18.56 5.44l.94 2.06.94-2.06 2.06-.94-2.06-.94-.94-2.06-.94 2.06-2.06.94zm-11 1L8.5 8.5l.94-2.06 2.06-.94-2.06-.94L8.5 2.5l-.94 2.06-2.06.94zm10 10l.94 2.06.94-2.06 2.06-.94-2.06-.94-.94-2.06-.94 2.06-2.06.94z\"/><path d=\"M17.41 7.96l-1.37-1.37c-.4-.4-.92-.59-1.43-.59-.52 0-1.04.2-1.43.59L10.3 9.45l-7.72 7.72c-.78.78-.78 2.05 0 2.83L4 21.41c.39.39.9.59 1.41.59.51 0 1.02-.2 1.41-.59l7.78-7.78 2.81-2.81c.8-.78.8-2.07 0-2.86zM5.41 20L4 18.59l7.72-7.72 1.47 1.35L5.41 20z\"/>\n",
              "  </svg>\n",
              "      </button>\n",
              "      \n",
              "  <style>\n",
              "    .colab-df-container {\n",
              "      display:flex;\n",
              "      flex-wrap:wrap;\n",
              "      gap: 12px;\n",
              "    }\n",
              "\n",
              "    .colab-df-convert {\n",
              "      background-color: #E8F0FE;\n",
              "      border: none;\n",
              "      border-radius: 50%;\n",
              "      cursor: pointer;\n",
              "      display: none;\n",
              "      fill: #1967D2;\n",
              "      height: 32px;\n",
              "      padding: 0 0 0 0;\n",
              "      width: 32px;\n",
              "    }\n",
              "\n",
              "    .colab-df-convert:hover {\n",
              "      background-color: #E2EBFA;\n",
              "      box-shadow: 0px 1px 2px rgba(60, 64, 67, 0.3), 0px 1px 3px 1px rgba(60, 64, 67, 0.15);\n",
              "      fill: #174EA6;\n",
              "    }\n",
              "\n",
              "    [theme=dark] .colab-df-convert {\n",
              "      background-color: #3B4455;\n",
              "      fill: #D2E3FC;\n",
              "    }\n",
              "\n",
              "    [theme=dark] .colab-df-convert:hover {\n",
              "      background-color: #434B5C;\n",
              "      box-shadow: 0px 1px 3px 1px rgba(0, 0, 0, 0.15);\n",
              "      filter: drop-shadow(0px 1px 2px rgba(0, 0, 0, 0.3));\n",
              "      fill: #FFFFFF;\n",
              "    }\n",
              "  </style>\n",
              "\n",
              "      <script>\n",
              "        const buttonEl =\n",
              "          document.querySelector('#df-0e7a8260-d7b9-4e47-b1c2-327b0c2d8533 button.colab-df-convert');\n",
              "        buttonEl.style.display =\n",
              "          google.colab.kernel.accessAllowed ? 'block' : 'none';\n",
              "\n",
              "        async function convertToInteractive(key) {\n",
              "          const element = document.querySelector('#df-0e7a8260-d7b9-4e47-b1c2-327b0c2d8533');\n",
              "          const dataTable =\n",
              "            await google.colab.kernel.invokeFunction('convertToInteractive',\n",
              "                                                     [key], {});\n",
              "          if (!dataTable) return;\n",
              "\n",
              "          const docLinkHtml = 'Like what you see? Visit the ' +\n",
              "            '<a target=\"_blank\" href=https://colab.research.google.com/notebooks/data_table.ipynb>data table notebook</a>'\n",
              "            + ' to learn more about interactive tables.';\n",
              "          element.innerHTML = '';\n",
              "          dataTable['output_type'] = 'display_data';\n",
              "          await google.colab.output.renderOutput(dataTable, element);\n",
              "          const docLink = document.createElement('div');\n",
              "          docLink.innerHTML = docLinkHtml;\n",
              "          element.appendChild(docLink);\n",
              "        }\n",
              "      </script>\n",
              "    </div>\n",
              "  </div>\n",
              "  "
            ]
          },
          "metadata": {},
          "execution_count": 2
        }
      ],
      "source": [
        "hr=pd.read_csv('heart_dataset.csv',on_bad_lines='skip') \n",
        "hr=hr.rename(columns={'age':'AGE','sex':'SEX','cp':'CP','trestbps':'RBP','chol':'SCH','fbs':'FBS','restecg':'RES','thalach':'MHR','exang':'EIA','oldpeak':'OPK','slope':'PES','ca':'VCA','thal':'THA','target':'LB'})\n",
        "hr.head()"
      ]
    },
    {
      "cell_type": "code",
      "execution_count": null,
      "metadata": {
        "colab": {
          "base_uri": "https://localhost:8080/",
          "height": 206
        },
        "id": "SMbKMdwZrSwS",
        "outputId": "35877ccb-ef8c-42cb-e81f-59326037bef3"
      },
      "outputs": [
        {
          "output_type": "execute_result",
          "data": {
            "text/plain": [
              "      AGE  SEX  CP  RBP  SCH  FBS  RES  MHR  EIA  OPK  PES  VCA  THA  LB\n",
              "1020   59    1   1  140  221    0    1  164    1  0.0    2    0    2   1\n",
              "1021   60    1   0  125  258    0    0  141    1  2.8    1    1    3   0\n",
              "1022   47    1   0  110  275    0    0  118    1  1.0    1    1    2   0\n",
              "1023   50    0   0  110  254    0    0  159    0  0.0    2    0    2   1\n",
              "1024   54    1   0  120  188    0    1  113    0  1.4    1    1    3   0"
            ],
            "text/html": [
              "\n",
              "  <div id=\"df-5c8ababc-5091-4f4c-9046-7c56814c5825\">\n",
              "    <div class=\"colab-df-container\">\n",
              "      <div>\n",
              "<style scoped>\n",
              "    .dataframe tbody tr th:only-of-type {\n",
              "        vertical-align: middle;\n",
              "    }\n",
              "\n",
              "    .dataframe tbody tr th {\n",
              "        vertical-align: top;\n",
              "    }\n",
              "\n",
              "    .dataframe thead th {\n",
              "        text-align: right;\n",
              "    }\n",
              "</style>\n",
              "<table border=\"1\" class=\"dataframe\">\n",
              "  <thead>\n",
              "    <tr style=\"text-align: right;\">\n",
              "      <th></th>\n",
              "      <th>AGE</th>\n",
              "      <th>SEX</th>\n",
              "      <th>CP</th>\n",
              "      <th>RBP</th>\n",
              "      <th>SCH</th>\n",
              "      <th>FBS</th>\n",
              "      <th>RES</th>\n",
              "      <th>MHR</th>\n",
              "      <th>EIA</th>\n",
              "      <th>OPK</th>\n",
              "      <th>PES</th>\n",
              "      <th>VCA</th>\n",
              "      <th>THA</th>\n",
              "      <th>LB</th>\n",
              "    </tr>\n",
              "  </thead>\n",
              "  <tbody>\n",
              "    <tr>\n",
              "      <th>1020</th>\n",
              "      <td>59</td>\n",
              "      <td>1</td>\n",
              "      <td>1</td>\n",
              "      <td>140</td>\n",
              "      <td>221</td>\n",
              "      <td>0</td>\n",
              "      <td>1</td>\n",
              "      <td>164</td>\n",
              "      <td>1</td>\n",
              "      <td>0.0</td>\n",
              "      <td>2</td>\n",
              "      <td>0</td>\n",
              "      <td>2</td>\n",
              "      <td>1</td>\n",
              "    </tr>\n",
              "    <tr>\n",
              "      <th>1021</th>\n",
              "      <td>60</td>\n",
              "      <td>1</td>\n",
              "      <td>0</td>\n",
              "      <td>125</td>\n",
              "      <td>258</td>\n",
              "      <td>0</td>\n",
              "      <td>0</td>\n",
              "      <td>141</td>\n",
              "      <td>1</td>\n",
              "      <td>2.8</td>\n",
              "      <td>1</td>\n",
              "      <td>1</td>\n",
              "      <td>3</td>\n",
              "      <td>0</td>\n",
              "    </tr>\n",
              "    <tr>\n",
              "      <th>1022</th>\n",
              "      <td>47</td>\n",
              "      <td>1</td>\n",
              "      <td>0</td>\n",
              "      <td>110</td>\n",
              "      <td>275</td>\n",
              "      <td>0</td>\n",
              "      <td>0</td>\n",
              "      <td>118</td>\n",
              "      <td>1</td>\n",
              "      <td>1.0</td>\n",
              "      <td>1</td>\n",
              "      <td>1</td>\n",
              "      <td>2</td>\n",
              "      <td>0</td>\n",
              "    </tr>\n",
              "    <tr>\n",
              "      <th>1023</th>\n",
              "      <td>50</td>\n",
              "      <td>0</td>\n",
              "      <td>0</td>\n",
              "      <td>110</td>\n",
              "      <td>254</td>\n",
              "      <td>0</td>\n",
              "      <td>0</td>\n",
              "      <td>159</td>\n",
              "      <td>0</td>\n",
              "      <td>0.0</td>\n",
              "      <td>2</td>\n",
              "      <td>0</td>\n",
              "      <td>2</td>\n",
              "      <td>1</td>\n",
              "    </tr>\n",
              "    <tr>\n",
              "      <th>1024</th>\n",
              "      <td>54</td>\n",
              "      <td>1</td>\n",
              "      <td>0</td>\n",
              "      <td>120</td>\n",
              "      <td>188</td>\n",
              "      <td>0</td>\n",
              "      <td>1</td>\n",
              "      <td>113</td>\n",
              "      <td>0</td>\n",
              "      <td>1.4</td>\n",
              "      <td>1</td>\n",
              "      <td>1</td>\n",
              "      <td>3</td>\n",
              "      <td>0</td>\n",
              "    </tr>\n",
              "  </tbody>\n",
              "</table>\n",
              "</div>\n",
              "      <button class=\"colab-df-convert\" onclick=\"convertToInteractive('df-5c8ababc-5091-4f4c-9046-7c56814c5825')\"\n",
              "              title=\"Convert this dataframe to an interactive table.\"\n",
              "              style=\"display:none;\">\n",
              "        \n",
              "  <svg xmlns=\"http://www.w3.org/2000/svg\" height=\"24px\"viewBox=\"0 0 24 24\"\n",
              "       width=\"24px\">\n",
              "    <path d=\"M0 0h24v24H0V0z\" fill=\"none\"/>\n",
              "    <path d=\"M18.56 5.44l.94 2.06.94-2.06 2.06-.94-2.06-.94-.94-2.06-.94 2.06-2.06.94zm-11 1L8.5 8.5l.94-2.06 2.06-.94-2.06-.94L8.5 2.5l-.94 2.06-2.06.94zm10 10l.94 2.06.94-2.06 2.06-.94-2.06-.94-.94-2.06-.94 2.06-2.06.94z\"/><path d=\"M17.41 7.96l-1.37-1.37c-.4-.4-.92-.59-1.43-.59-.52 0-1.04.2-1.43.59L10.3 9.45l-7.72 7.72c-.78.78-.78 2.05 0 2.83L4 21.41c.39.39.9.59 1.41.59.51 0 1.02-.2 1.41-.59l7.78-7.78 2.81-2.81c.8-.78.8-2.07 0-2.86zM5.41 20L4 18.59l7.72-7.72 1.47 1.35L5.41 20z\"/>\n",
              "  </svg>\n",
              "      </button>\n",
              "      \n",
              "  <style>\n",
              "    .colab-df-container {\n",
              "      display:flex;\n",
              "      flex-wrap:wrap;\n",
              "      gap: 12px;\n",
              "    }\n",
              "\n",
              "    .colab-df-convert {\n",
              "      background-color: #E8F0FE;\n",
              "      border: none;\n",
              "      border-radius: 50%;\n",
              "      cursor: pointer;\n",
              "      display: none;\n",
              "      fill: #1967D2;\n",
              "      height: 32px;\n",
              "      padding: 0 0 0 0;\n",
              "      width: 32px;\n",
              "    }\n",
              "\n",
              "    .colab-df-convert:hover {\n",
              "      background-color: #E2EBFA;\n",
              "      box-shadow: 0px 1px 2px rgba(60, 64, 67, 0.3), 0px 1px 3px 1px rgba(60, 64, 67, 0.15);\n",
              "      fill: #174EA6;\n",
              "    }\n",
              "\n",
              "    [theme=dark] .colab-df-convert {\n",
              "      background-color: #3B4455;\n",
              "      fill: #D2E3FC;\n",
              "    }\n",
              "\n",
              "    [theme=dark] .colab-df-convert:hover {\n",
              "      background-color: #434B5C;\n",
              "      box-shadow: 0px 1px 3px 1px rgba(0, 0, 0, 0.15);\n",
              "      filter: drop-shadow(0px 1px 2px rgba(0, 0, 0, 0.3));\n",
              "      fill: #FFFFFF;\n",
              "    }\n",
              "  </style>\n",
              "\n",
              "      <script>\n",
              "        const buttonEl =\n",
              "          document.querySelector('#df-5c8ababc-5091-4f4c-9046-7c56814c5825 button.colab-df-convert');\n",
              "        buttonEl.style.display =\n",
              "          google.colab.kernel.accessAllowed ? 'block' : 'none';\n",
              "\n",
              "        async function convertToInteractive(key) {\n",
              "          const element = document.querySelector('#df-5c8ababc-5091-4f4c-9046-7c56814c5825');\n",
              "          const dataTable =\n",
              "            await google.colab.kernel.invokeFunction('convertToInteractive',\n",
              "                                                     [key], {});\n",
              "          if (!dataTable) return;\n",
              "\n",
              "          const docLinkHtml = 'Like what you see? Visit the ' +\n",
              "            '<a target=\"_blank\" href=https://colab.research.google.com/notebooks/data_table.ipynb>data table notebook</a>'\n",
              "            + ' to learn more about interactive tables.';\n",
              "          element.innerHTML = '';\n",
              "          dataTable['output_type'] = 'display_data';\n",
              "          await google.colab.output.renderOutput(dataTable, element);\n",
              "          const docLink = document.createElement('div');\n",
              "          docLink.innerHTML = docLinkHtml;\n",
              "          element.appendChild(docLink);\n",
              "        }\n",
              "      </script>\n",
              "    </div>\n",
              "  </div>\n",
              "  "
            ]
          },
          "metadata": {},
          "execution_count": 3
        }
      ],
      "source": [
        "hr.tail()"
      ]
    },
    {
      "cell_type": "markdown",
      "metadata": {
        "id": "P2QuSZMVPiYQ"
      },
      "source": [
        "**DATA PREPROCESSING**"
      ]
    },
    {
      "cell_type": "code",
      "execution_count": null,
      "metadata": {
        "id": "EsPH1-mV-oUl"
      },
      "outputs": [],
      "source": [
        "hr=hr.replace('?',np.NaN)"
      ]
    },
    {
      "cell_type": "code",
      "execution_count": null,
      "metadata": {
        "colab": {
          "base_uri": "https://localhost:8080/"
        },
        "id": "dTiG9i4rrVCk",
        "outputId": "22705a74-d63d-453b-93ac-0694ab3d7d88"
      },
      "outputs": [
        {
          "output_type": "execute_result",
          "data": {
            "text/plain": [
              "AGE    0\n",
              "SEX    0\n",
              "CP     0\n",
              "RBP    0\n",
              "SCH    0\n",
              "FBS    0\n",
              "RES    0\n",
              "MHR    0\n",
              "EIA    0\n",
              "OPK    0\n",
              "PES    0\n",
              "VCA    0\n",
              "THA    0\n",
              "LB     0\n",
              "dtype: int64"
            ]
          },
          "metadata": {},
          "execution_count": 5
        }
      ],
      "source": [
        "hr.isnull().sum()"
      ]
    },
    {
      "cell_type": "code",
      "execution_count": null,
      "metadata": {
        "colab": {
          "base_uri": "https://localhost:8080/"
        },
        "id": "KPz6W9PvrW95",
        "outputId": "72e5c66b-5c9a-41f0-dc94-4fea9ac4c3aa"
      },
      "outputs": [
        {
          "output_type": "stream",
          "name": "stdout",
          "text": [
            "<class 'pandas.core.frame.DataFrame'>\n",
            "RangeIndex: 1025 entries, 0 to 1024\n",
            "Data columns (total 14 columns):\n",
            " #   Column  Non-Null Count  Dtype  \n",
            "---  ------  --------------  -----  \n",
            " 0   AGE     1025 non-null   int64  \n",
            " 1   SEX     1025 non-null   int64  \n",
            " 2   CP      1025 non-null   int64  \n",
            " 3   RBP     1025 non-null   int64  \n",
            " 4   SCH     1025 non-null   int64  \n",
            " 5   FBS     1025 non-null   int64  \n",
            " 6   RES     1025 non-null   int64  \n",
            " 7   MHR     1025 non-null   int64  \n",
            " 8   EIA     1025 non-null   int64  \n",
            " 9   OPK     1025 non-null   float64\n",
            " 10  PES     1025 non-null   int64  \n",
            " 11  VCA     1025 non-null   int64  \n",
            " 12  THA     1025 non-null   int64  \n",
            " 13  LB      1025 non-null   int64  \n",
            "dtypes: float64(1), int64(13)\n",
            "memory usage: 112.2 KB\n"
          ]
        }
      ],
      "source": [
        "hr.info()"
      ]
    },
    {
      "cell_type": "code",
      "execution_count": null,
      "metadata": {
        "colab": {
          "base_uri": "https://localhost:8080/"
        },
        "id": "RFSJTW2srYtQ",
        "outputId": "291f32e5-2808-4766-820d-ea3e510e5191"
      },
      "outputs": [
        {
          "output_type": "execute_result",
          "data": {
            "text/plain": [
              "AGE      int64\n",
              "SEX      int64\n",
              "CP       int64\n",
              "RBP      int64\n",
              "SCH      int64\n",
              "FBS      int64\n",
              "RES      int64\n",
              "MHR      int64\n",
              "EIA      int64\n",
              "OPK    float64\n",
              "PES      int64\n",
              "VCA      int64\n",
              "THA      int64\n",
              "LB       int64\n",
              "dtype: object"
            ]
          },
          "metadata": {},
          "execution_count": 7
        }
      ],
      "source": [
        "hr.dtypes"
      ]
    },
    {
      "cell_type": "code",
      "execution_count": null,
      "metadata": {
        "colab": {
          "base_uri": "https://localhost:8080/",
          "height": 344
        },
        "id": "18WHZ-NkrbN3",
        "outputId": "25823221-69eb-40a7-99c2-fbdd5242ffb2"
      },
      "outputs": [
        {
          "output_type": "execute_result",
          "data": {
            "text/plain": [
              "               AGE          SEX           CP          RBP         SCH  \\\n",
              "count  1025.000000  1025.000000  1025.000000  1025.000000  1025.00000   \n",
              "mean     54.434146     0.695610     0.942439   131.611707   246.00000   \n",
              "std       9.072290     0.460373     1.029641    17.516718    51.59251   \n",
              "min      29.000000     0.000000     0.000000    94.000000   126.00000   \n",
              "25%      48.000000     0.000000     0.000000   120.000000   211.00000   \n",
              "50%      56.000000     1.000000     1.000000   130.000000   240.00000   \n",
              "75%      61.000000     1.000000     2.000000   140.000000   275.00000   \n",
              "max      77.000000     1.000000     3.000000   200.000000   564.00000   \n",
              "\n",
              "               FBS          RES          MHR          EIA          OPK  \\\n",
              "count  1025.000000  1025.000000  1025.000000  1025.000000  1025.000000   \n",
              "mean      0.149268     0.529756   149.114146     0.336585     1.071512   \n",
              "std       0.356527     0.527878    23.005724     0.472772     1.175053   \n",
              "min       0.000000     0.000000    71.000000     0.000000     0.000000   \n",
              "25%       0.000000     0.000000   132.000000     0.000000     0.000000   \n",
              "50%       0.000000     1.000000   152.000000     0.000000     0.800000   \n",
              "75%       0.000000     1.000000   166.000000     1.000000     1.800000   \n",
              "max       1.000000     2.000000   202.000000     1.000000     6.200000   \n",
              "\n",
              "               PES          VCA          THA           LB  \n",
              "count  1025.000000  1025.000000  1025.000000  1025.000000  \n",
              "mean      1.385366     0.754146     2.323902     0.513171  \n",
              "std       0.617755     1.030798     0.620660     0.500070  \n",
              "min       0.000000     0.000000     0.000000     0.000000  \n",
              "25%       1.000000     0.000000     2.000000     0.000000  \n",
              "50%       1.000000     0.000000     2.000000     1.000000  \n",
              "75%       2.000000     1.000000     3.000000     1.000000  \n",
              "max       2.000000     4.000000     3.000000     1.000000  "
            ],
            "text/html": [
              "\n",
              "  <div id=\"df-a41c140b-f023-42ef-b1e5-cc619355279e\">\n",
              "    <div class=\"colab-df-container\">\n",
              "      <div>\n",
              "<style scoped>\n",
              "    .dataframe tbody tr th:only-of-type {\n",
              "        vertical-align: middle;\n",
              "    }\n",
              "\n",
              "    .dataframe tbody tr th {\n",
              "        vertical-align: top;\n",
              "    }\n",
              "\n",
              "    .dataframe thead th {\n",
              "        text-align: right;\n",
              "    }\n",
              "</style>\n",
              "<table border=\"1\" class=\"dataframe\">\n",
              "  <thead>\n",
              "    <tr style=\"text-align: right;\">\n",
              "      <th></th>\n",
              "      <th>AGE</th>\n",
              "      <th>SEX</th>\n",
              "      <th>CP</th>\n",
              "      <th>RBP</th>\n",
              "      <th>SCH</th>\n",
              "      <th>FBS</th>\n",
              "      <th>RES</th>\n",
              "      <th>MHR</th>\n",
              "      <th>EIA</th>\n",
              "      <th>OPK</th>\n",
              "      <th>PES</th>\n",
              "      <th>VCA</th>\n",
              "      <th>THA</th>\n",
              "      <th>LB</th>\n",
              "    </tr>\n",
              "  </thead>\n",
              "  <tbody>\n",
              "    <tr>\n",
              "      <th>count</th>\n",
              "      <td>1025.000000</td>\n",
              "      <td>1025.000000</td>\n",
              "      <td>1025.000000</td>\n",
              "      <td>1025.000000</td>\n",
              "      <td>1025.00000</td>\n",
              "      <td>1025.000000</td>\n",
              "      <td>1025.000000</td>\n",
              "      <td>1025.000000</td>\n",
              "      <td>1025.000000</td>\n",
              "      <td>1025.000000</td>\n",
              "      <td>1025.000000</td>\n",
              "      <td>1025.000000</td>\n",
              "      <td>1025.000000</td>\n",
              "      <td>1025.000000</td>\n",
              "    </tr>\n",
              "    <tr>\n",
              "      <th>mean</th>\n",
              "      <td>54.434146</td>\n",
              "      <td>0.695610</td>\n",
              "      <td>0.942439</td>\n",
              "      <td>131.611707</td>\n",
              "      <td>246.00000</td>\n",
              "      <td>0.149268</td>\n",
              "      <td>0.529756</td>\n",
              "      <td>149.114146</td>\n",
              "      <td>0.336585</td>\n",
              "      <td>1.071512</td>\n",
              "      <td>1.385366</td>\n",
              "      <td>0.754146</td>\n",
              "      <td>2.323902</td>\n",
              "      <td>0.513171</td>\n",
              "    </tr>\n",
              "    <tr>\n",
              "      <th>std</th>\n",
              "      <td>9.072290</td>\n",
              "      <td>0.460373</td>\n",
              "      <td>1.029641</td>\n",
              "      <td>17.516718</td>\n",
              "      <td>51.59251</td>\n",
              "      <td>0.356527</td>\n",
              "      <td>0.527878</td>\n",
              "      <td>23.005724</td>\n",
              "      <td>0.472772</td>\n",
              "      <td>1.175053</td>\n",
              "      <td>0.617755</td>\n",
              "      <td>1.030798</td>\n",
              "      <td>0.620660</td>\n",
              "      <td>0.500070</td>\n",
              "    </tr>\n",
              "    <tr>\n",
              "      <th>min</th>\n",
              "      <td>29.000000</td>\n",
              "      <td>0.000000</td>\n",
              "      <td>0.000000</td>\n",
              "      <td>94.000000</td>\n",
              "      <td>126.00000</td>\n",
              "      <td>0.000000</td>\n",
              "      <td>0.000000</td>\n",
              "      <td>71.000000</td>\n",
              "      <td>0.000000</td>\n",
              "      <td>0.000000</td>\n",
              "      <td>0.000000</td>\n",
              "      <td>0.000000</td>\n",
              "      <td>0.000000</td>\n",
              "      <td>0.000000</td>\n",
              "    </tr>\n",
              "    <tr>\n",
              "      <th>25%</th>\n",
              "      <td>48.000000</td>\n",
              "      <td>0.000000</td>\n",
              "      <td>0.000000</td>\n",
              "      <td>120.000000</td>\n",
              "      <td>211.00000</td>\n",
              "      <td>0.000000</td>\n",
              "      <td>0.000000</td>\n",
              "      <td>132.000000</td>\n",
              "      <td>0.000000</td>\n",
              "      <td>0.000000</td>\n",
              "      <td>1.000000</td>\n",
              "      <td>0.000000</td>\n",
              "      <td>2.000000</td>\n",
              "      <td>0.000000</td>\n",
              "    </tr>\n",
              "    <tr>\n",
              "      <th>50%</th>\n",
              "      <td>56.000000</td>\n",
              "      <td>1.000000</td>\n",
              "      <td>1.000000</td>\n",
              "      <td>130.000000</td>\n",
              "      <td>240.00000</td>\n",
              "      <td>0.000000</td>\n",
              "      <td>1.000000</td>\n",
              "      <td>152.000000</td>\n",
              "      <td>0.000000</td>\n",
              "      <td>0.800000</td>\n",
              "      <td>1.000000</td>\n",
              "      <td>0.000000</td>\n",
              "      <td>2.000000</td>\n",
              "      <td>1.000000</td>\n",
              "    </tr>\n",
              "    <tr>\n",
              "      <th>75%</th>\n",
              "      <td>61.000000</td>\n",
              "      <td>1.000000</td>\n",
              "      <td>2.000000</td>\n",
              "      <td>140.000000</td>\n",
              "      <td>275.00000</td>\n",
              "      <td>0.000000</td>\n",
              "      <td>1.000000</td>\n",
              "      <td>166.000000</td>\n",
              "      <td>1.000000</td>\n",
              "      <td>1.800000</td>\n",
              "      <td>2.000000</td>\n",
              "      <td>1.000000</td>\n",
              "      <td>3.000000</td>\n",
              "      <td>1.000000</td>\n",
              "    </tr>\n",
              "    <tr>\n",
              "      <th>max</th>\n",
              "      <td>77.000000</td>\n",
              "      <td>1.000000</td>\n",
              "      <td>3.000000</td>\n",
              "      <td>200.000000</td>\n",
              "      <td>564.00000</td>\n",
              "      <td>1.000000</td>\n",
              "      <td>2.000000</td>\n",
              "      <td>202.000000</td>\n",
              "      <td>1.000000</td>\n",
              "      <td>6.200000</td>\n",
              "      <td>2.000000</td>\n",
              "      <td>4.000000</td>\n",
              "      <td>3.000000</td>\n",
              "      <td>1.000000</td>\n",
              "    </tr>\n",
              "  </tbody>\n",
              "</table>\n",
              "</div>\n",
              "      <button class=\"colab-df-convert\" onclick=\"convertToInteractive('df-a41c140b-f023-42ef-b1e5-cc619355279e')\"\n",
              "              title=\"Convert this dataframe to an interactive table.\"\n",
              "              style=\"display:none;\">\n",
              "        \n",
              "  <svg xmlns=\"http://www.w3.org/2000/svg\" height=\"24px\"viewBox=\"0 0 24 24\"\n",
              "       width=\"24px\">\n",
              "    <path d=\"M0 0h24v24H0V0z\" fill=\"none\"/>\n",
              "    <path d=\"M18.56 5.44l.94 2.06.94-2.06 2.06-.94-2.06-.94-.94-2.06-.94 2.06-2.06.94zm-11 1L8.5 8.5l.94-2.06 2.06-.94-2.06-.94L8.5 2.5l-.94 2.06-2.06.94zm10 10l.94 2.06.94-2.06 2.06-.94-2.06-.94-.94-2.06-.94 2.06-2.06.94z\"/><path d=\"M17.41 7.96l-1.37-1.37c-.4-.4-.92-.59-1.43-.59-.52 0-1.04.2-1.43.59L10.3 9.45l-7.72 7.72c-.78.78-.78 2.05 0 2.83L4 21.41c.39.39.9.59 1.41.59.51 0 1.02-.2 1.41-.59l7.78-7.78 2.81-2.81c.8-.78.8-2.07 0-2.86zM5.41 20L4 18.59l7.72-7.72 1.47 1.35L5.41 20z\"/>\n",
              "  </svg>\n",
              "      </button>\n",
              "      \n",
              "  <style>\n",
              "    .colab-df-container {\n",
              "      display:flex;\n",
              "      flex-wrap:wrap;\n",
              "      gap: 12px;\n",
              "    }\n",
              "\n",
              "    .colab-df-convert {\n",
              "      background-color: #E8F0FE;\n",
              "      border: none;\n",
              "      border-radius: 50%;\n",
              "      cursor: pointer;\n",
              "      display: none;\n",
              "      fill: #1967D2;\n",
              "      height: 32px;\n",
              "      padding: 0 0 0 0;\n",
              "      width: 32px;\n",
              "    }\n",
              "\n",
              "    .colab-df-convert:hover {\n",
              "      background-color: #E2EBFA;\n",
              "      box-shadow: 0px 1px 2px rgba(60, 64, 67, 0.3), 0px 1px 3px 1px rgba(60, 64, 67, 0.15);\n",
              "      fill: #174EA6;\n",
              "    }\n",
              "\n",
              "    [theme=dark] .colab-df-convert {\n",
              "      background-color: #3B4455;\n",
              "      fill: #D2E3FC;\n",
              "    }\n",
              "\n",
              "    [theme=dark] .colab-df-convert:hover {\n",
              "      background-color: #434B5C;\n",
              "      box-shadow: 0px 1px 3px 1px rgba(0, 0, 0, 0.15);\n",
              "      filter: drop-shadow(0px 1px 2px rgba(0, 0, 0, 0.3));\n",
              "      fill: #FFFFFF;\n",
              "    }\n",
              "  </style>\n",
              "\n",
              "      <script>\n",
              "        const buttonEl =\n",
              "          document.querySelector('#df-a41c140b-f023-42ef-b1e5-cc619355279e button.colab-df-convert');\n",
              "        buttonEl.style.display =\n",
              "          google.colab.kernel.accessAllowed ? 'block' : 'none';\n",
              "\n",
              "        async function convertToInteractive(key) {\n",
              "          const element = document.querySelector('#df-a41c140b-f023-42ef-b1e5-cc619355279e');\n",
              "          const dataTable =\n",
              "            await google.colab.kernel.invokeFunction('convertToInteractive',\n",
              "                                                     [key], {});\n",
              "          if (!dataTable) return;\n",
              "\n",
              "          const docLinkHtml = 'Like what you see? Visit the ' +\n",
              "            '<a target=\"_blank\" href=https://colab.research.google.com/notebooks/data_table.ipynb>data table notebook</a>'\n",
              "            + ' to learn more about interactive tables.';\n",
              "          element.innerHTML = '';\n",
              "          dataTable['output_type'] = 'display_data';\n",
              "          await google.colab.output.renderOutput(dataTable, element);\n",
              "          const docLink = document.createElement('div');\n",
              "          docLink.innerHTML = docLinkHtml;\n",
              "          element.appendChild(docLink);\n",
              "        }\n",
              "      </script>\n",
              "    </div>\n",
              "  </div>\n",
              "  "
            ]
          },
          "metadata": {},
          "execution_count": 8
        }
      ],
      "source": [
        "hr.describe()"
      ]
    },
    {
      "cell_type": "code",
      "execution_count": null,
      "metadata": {
        "colab": {
          "base_uri": "https://localhost:8080/",
          "height": 466
        },
        "id": "o5ua0dHZGjaw",
        "outputId": "dab2b38f-29bf-4dd9-c890-d596ff8bda5b"
      },
      "outputs": [
        {
          "output_type": "execute_result",
          "data": {
            "text/plain": [
              "<Axes: xlabel='LB', ylabel='Density'>"
            ]
          },
          "metadata": {},
          "execution_count": 9
        },
        {
          "output_type": "display_data",
          "data": {
            "text/plain": [
              "<Figure size 640x480 with 1 Axes>"
            ],
            "image/png": "[encoded data removed]"
          },
          "metadata": {}
        }
      ],
      "source": [
        "sns.distplot(hr['LB'])"
      ]
    },
    {
      "cell_type": "markdown",
      "metadata": {
        "id": "lo3wyP2nQNn9"
      },
      "source": [
        "**OUTLIER DETECTION AND REMOVAL**"
      ]
    },
    {
      "cell_type": "code",
      "execution_count": null,
      "metadata": {
        "colab": {
          "base_uri": "https://localhost:8080/",
          "height": 434
        },
        "id": "j8wRlmhhONSZ",
        "outputId": "058c7d01-12f8-4273-bdb1-69be90bef6bf"
      },
      "outputs": [
        {
          "output_type": "stream",
          "name": "stdout",
          "text": [
            "[526, 499]\n"
          ]
        },
        {
          "output_type": "display_data",
          "data": {
            "text/html": [
              "<html>\n",
              "<head><meta charset=\"utf-8\" /></head>\n",
              "<body>\n",
              "    <div>            <script src=\"https://cdnjs.cloudflare.com/ajax/libs/mathjax/2.7.5/MathJax.js?config=TeX-AMS-MML_SVG\"></script><script type=\"text/javascript\">if (window.MathJax && window.MathJax.Hub && window.MathJax.Hub.Config) {window.MathJax.Hub.Config({SVG: {font: \"STIX-Web\"}});}</script>                <script type=\"text/javascript\">window.PlotlyConfig = {MathJaxConfig: 'local'};</script>\n",
              "        <script src=\"https://cdn.plot.ly/plotly-2.18.2.min.js\"></script>                <div id=\"2112c7c6-1f18-466a-a241-615f610f4780\" class=\"plotly-graph-div\" style=\"height:400px; width:700px;\"></div>            <script type=\"text/javascript\">                                    window.PLOTLYENV=window.PLOTLYENV || {};                                    if (document.getElementById(\"2112c7c6-1f18-466a-a241-615f610f4780\")) {                    Plotly.newPlot(                        \"2112c7c6-1f18-466a-a241-615f610f4780\",                        [{\"domain\":{\"x\":[0.0,1.0],\"y\":[0.0,1.0]},\"hovertemplate\":\"label=%{label}<br>value=%{value}<extra></extra>\",\"labels\":[\"Healthy\",\"Not Healthy\"],\"legendgroup\":\"\",\"name\":\"\",\"showlegend\":true,\"values\":[526,499],\"type\":\"pie\"}],                        {\"template\":{\"data\":{\"histogram2dcontour\":[{\"type\":\"histogram2dcontour\",\"colorbar\":{\"outlinewidth\":0,\"ticks\":\"\"},\"colorscale\":[[0.0,\"#0d0887\"],[0.1111111111111111,\"#46039f\"],[0.2222222222222222,\"#7201a8\"],[0.3333333333333333,\"#9c179e\"],[0.4444444444444444,\"#bd3786\"],[0.5555555555555556,\"#d8576b\"],[0.6666666666666666,\"#ed7953\"],[0.7777777777777778,\"#fb9f3a\"],[0.8888888888888888,\"#fdca26\"],[1.0,\"#f0f921\"]]}],\"choropleth\":[{\"type\":\"choropleth\",\"colorbar\":{\"outlinewidth\":0,\"ticks\":\"\"}}],\"histogram2d\":[{\"type\":\"histogram2d\",\"colorbar\":{\"outlinewidth\":0,\"ticks\":\"\"},\"colorscale\":[[0.0,\"#0d0887\"],[0.1111111111111111,\"#46039f\"],[0.2222222222222222,\"#7201a8\"],[0.3333333333333333,\"#9c179e\"],[0.4444444444444444,\"#bd3786\"],[0.5555555555555556,\"#d8576b\"],[0.6666666666666666,\"#ed7953\"],[0.7777777777777778,\"#fb9f3a\"],[0.8888888888888888,\"#fdca26\"],[1.0,\"#f0f921\"]]}],\"heatmap\":[{\"type\":\"heatmap\",\"colorbar\":{\"outlinewidth\":0,\"ticks\":\"\"},\"colorscale\":[[0.0,\"#0d0887\"],[0.1111111111111111,\"#46039f\"],[0.2222222222222222,\"#7201a8\"],[0.3333333333333333,\"#9c179e\"],[0.4444444444444444,\"#bd3786\"],[0.5555555555555556,\"#d8576b\"],[0.6666666666666666,\"#ed7953\"],[0.7777777777777778,\"#fb9f3a\"],[0.8888888888888888,\"#fdca26\"],[1.0,\"#f0f921\"]]}],\"heatmapgl\":[{\"type\":\"heatmapgl\",\"colorbar\":{\"outlinewidth\":0,\"ticks\":\"\"},\"colorscale\":[[0.0,\"#0d0887\"],[0.1111111111111111,\"#46039f\"],[0.2222222222222222,\"#7201a8\"],[0.3333333333333333,\"#9c179e\"],[0.4444444444444444,\"#bd3786\"],[0.5555555555555556,\"#d8576b\"],[0.6666666666666666,\"#ed7953\"],[0.7777777777777778,\"#fb9f3a\"],[0.8888888888888888,\"#fdca26\"],[1.0,\"#f0f921\"]]}],\"contourcarpet\":[{\"type\":\"contourcarpet\",\"colorbar\":{\"outlinewidth\":0,\"ticks\":\"\"}}],\"contour\":[{\"type\":\"contour\",\"colorbar\":{\"outlinewidth\":0,\"ticks\":\"\"},\"colorscale\":[[0.0,\"#0d0887\"],[0.1111111111111111,\"#46039f\"],[0.2222222222222222,\"#7201a8\"],[0.3333333333333333,\"#9c179e\"],[0.4444444444444444,\"#bd3786\"],[0.5555555555555556,\"#d8576b\"],[0.6666666666666666,\"#ed7953\"],[0.7777777777777778,\"#fb9f3a\"],[0.8888888888888888,\"#fdca26\"],[1.0,\"#f0f921\"]]}],\"surface\":[{\"type\":\"surface\",\"colorbar\":{\"outlinewidth\":0,\"ticks\":\"\"},\"colorscale\":[[0.0,\"#0d0887\"],[0.1111111111111111,\"#46039f\"],[0.2222222222222222,\"#7201a8\"],[0.3333333333333333,\"#9c179e\"],[0.4444444444444444,\"#bd3786\"],[0.5555555555555556,\"#d8576b\"],[0.6666666666666666,\"#ed7953\"],[0.7777777777777778,\"#fb9f3a\"],[0.8888888888888888,\"#fdca26\"],[1.0,\"#f0f921\"]]}],\"mesh3d\":[{\"type\":\"mesh3d\",\"colorbar\":{\"outlinewidth\":0,\"ticks\":\"\"}}],\"scatter\":[{\"fillpattern\":{\"fillmode\":\"overlay\",\"size\":10,\"solidity\":0.2},\"type\":\"scatter\"}],\"parcoords\":[{\"type\":\"parcoords\",\"line\":{\"colorbar\":{\"outlinewidth\":0,\"ticks\":\"\"}}}],\"scatterpolargl\":[{\"type\":\"scatterpolargl\",\"marker\":{\"colorbar\":{\"outlinewidth\":0,\"ticks\":\"\"}}}],\"bar\":[{\"error_x\":{\"color\":\"#2a3f5f\"},\"error_y\":{\"color\":\"#2a3f5f\"},\"marker\":{\"line\":{\"color\":\"#E5ECF6\",\"width\":0.5},\"pattern\":{\"fillmode\":\"overlay\",\"size\":10,\"solidity\":0.2}},\"type\":\"bar\"}],\"scattergeo\":[{\"type\":\"scattergeo\",\"marker\":{\"colorbar\":{\"outlinewidth\":0,\"ticks\":\"\"}}}],\"scatterpolar\":[{\"type\":\"scatterpolar\",\"marker\":{\"colorbar\":{\"outlinewidth\":0,\"ticks\":\"\"}}}],\"histogram\":[{\"marker\":{\"pattern\":{\"fillmode\":\"overlay\",\"size\":10,\"solidity\":0.2}},\"type\":\"histogram\"}],\"scattergl\":[{\"type\":\"scattergl\",\"marker\":{\"colorbar\":{\"outlinewidth\":0,\"ticks\":\"\"}}}],\"scatter3d\":[{\"type\":\"scatter3d\",\"line\":{\"colorbar\":{\"outlinewidth\":0,\"ticks\":\"\"}},\"marker\":{\"colorbar\":{\"outlinewidth\":0,\"ticks\":\"\"}}}],\"scattermapbox\":[{\"type\":\"scattermapbox\",\"marker\":{\"colorbar\":{\"outlinewidth\":0,\"ticks\":\"\"}}}],\"scatterternary\":[{\"type\":\"scatterternary\",\"marker\":{\"colorbar\":{\"outlinewidth\":0,\"ticks\":\"\"}}}],\"scattercarpet\":[{\"type\":\"scattercarpet\",\"marker\":{\"colorbar\":{\"outlinewidth\":0,\"ticks\":\"\"}}}],\"carpet\":[{\"aaxis\":{\"endlinecolor\":\"#2a3f5f\",\"gridcolor\":\"white\",\"linecolor\":\"white\",\"minorgridcolor\":\"white\",\"startlinecolor\":\"#2a3f5f\"},\"baxis\":{\"endlinecolor\":\"#2a3f5f\",\"gridcolor\":\"white\",\"linecolor\":\"white\",\"minorgridcolor\":\"white\",\"startlinecolor\":\"#2a3f5f\"},\"type\":\"carpet\"}],\"table\":[{\"cells\":{\"fill\":{\"color\":\"#EBF0F8\"},\"line\":{\"color\":\"white\"}},\"header\":{\"fill\":{\"color\":\"#C8D4E3\"},\"line\":{\"color\":\"white\"}},\"type\":\"table\"}],\"barpolar\":[{\"marker\":{\"line\":{\"color\":\"#E5ECF6\",\"width\":0.5},\"pattern\":{\"fillmode\":\"overlay\",\"size\":10,\"solidity\":0.2}},\"type\":\"barpolar\"}],\"pie\":[{\"automargin\":true,\"type\":\"pie\"}]},\"layout\":{\"autotypenumbers\":\"strict\",\"colorway\":[\"#636efa\",\"#EF553B\",\"#00cc96\",\"#ab63fa\",\"#FFA15A\",\"#19d3f3\",\"#FF6692\",\"#B6E880\",\"#FF97FF\",\"#FECB52\"],\"font\":{\"color\":\"#2a3f5f\"},\"hovermode\":\"closest\",\"hoverlabel\":{\"align\":\"left\"},\"paper_bgcolor\":\"white\",\"plot_bgcolor\":\"#E5ECF6\",\"polar\":{\"bgcolor\":\"#E5ECF6\",\"angularaxis\":{\"gridcolor\":\"white\",\"linecolor\":\"white\",\"ticks\":\"\"},\"radialaxis\":{\"gridcolor\":\"white\",\"linecolor\":\"white\",\"ticks\":\"\"}},\"ternary\":{\"bgcolor\":\"#E5ECF6\",\"aaxis\":{\"gridcolor\":\"white\",\"linecolor\":\"white\",\"ticks\":\"\"},\"baxis\":{\"gridcolor\":\"white\",\"linecolor\":\"white\",\"ticks\":\"\"},\"caxis\":{\"gridcolor\":\"white\",\"linecolor\":\"white\",\"ticks\":\"\"}},\"coloraxis\":{\"colorbar\":{\"outlinewidth\":0,\"ticks\":\"\"}},\"colorscale\":{\"sequential\":[[0.0,\"#0d0887\"],[0.1111111111111111,\"#46039f\"],[0.2222222222222222,\"#7201a8\"],[0.3333333333333333,\"#9c179e\"],[0.4444444444444444,\"#bd3786\"],[0.5555555555555556,\"#d8576b\"],[0.6666666666666666,\"#ed7953\"],[0.7777777777777778,\"#fb9f3a\"],[0.8888888888888888,\"#fdca26\"],[1.0,\"#f0f921\"]],\"sequentialminus\":[[0.0,\"#0d0887\"],[0.1111111111111111,\"#46039f\"],[0.2222222222222222,\"#7201a8\"],[0.3333333333333333,\"#9c179e\"],[0.4444444444444444,\"#bd3786\"],[0.5555555555555556,\"#d8576b\"],[0.6666666666666666,\"#ed7953\"],[0.7777777777777778,\"#fb9f3a\"],[0.8888888888888888,\"#fdca26\"],[1.0,\"#f0f921\"]],\"diverging\":[[0,\"#8e0152\"],[0.1,\"#c51b7d\"],[0.2,\"#de77ae\"],[0.3,\"#f1b6da\"],[0.4,\"#fde0ef\"],[0.5,\"#f7f7f7\"],[0.6,\"#e6f5d0\"],[0.7,\"#b8e186\"],[0.8,\"#7fbc41\"],[0.9,\"#4d9221\"],[1,\"#276419\"]]},\"xaxis\":{\"gridcolor\":\"white\",\"linecolor\":\"white\",\"ticks\":\"\",\"title\":{\"standoff\":15},\"zerolinecolor\":\"white\",\"automargin\":true,\"zerolinewidth\":2},\"yaxis\":{\"gridcolor\":\"white\",\"linecolor\":\"white\",\"ticks\":\"\",\"title\":{\"standoff\":15},\"zerolinecolor\":\"white\",\"automargin\":true,\"zerolinewidth\":2},\"scene\":{\"xaxis\":{\"backgroundcolor\":\"#E5ECF6\",\"gridcolor\":\"white\",\"linecolor\":\"white\",\"showbackground\":true,\"ticks\":\"\",\"zerolinecolor\":\"white\",\"gridwidth\":2},\"yaxis\":{\"backgroundcolor\":\"#E5ECF6\",\"gridcolor\":\"white\",\"linecolor\":\"white\",\"showbackground\":true,\"ticks\":\"\",\"zerolinecolor\":\"white\",\"gridwidth\":2},\"zaxis\":{\"backgroundcolor\":\"#E5ECF6\",\"gridcolor\":\"white\",\"linecolor\":\"white\",\"showbackground\":true,\"ticks\":\"\",\"zerolinecolor\":\"white\",\"gridwidth\":2}},\"shapedefaults\":{\"line\":{\"color\":\"#2a3f5f\"}},\"annotationdefaults\":{\"arrowcolor\":\"#2a3f5f\",\"arrowhead\":0,\"arrowwidth\":1},\"geo\":{\"bgcolor\":\"white\",\"landcolor\":\"#E5ECF6\",\"subunitcolor\":\"white\",\"showland\":true,\"showlakes\":true,\"lakecolor\":\"white\"},\"title\":{\"x\":0.05},\"mapbox\":{\"style\":\"light\"}}},\"legend\":{\"tracegroupgap\":0},\"title\":{\"text\":\"Healthy vs Heart Disease\"},\"piecolorway\":[\"skyblue\",\"black\"],\"height\":400,\"width\":700},                        {\"responsive\": true}                    ).then(function(){\n",
              "                            \n",
              "var gd = document.getElementById('2112c7c6-1f18-466a-a241-615f610f4780');\n",
              "var x = new MutationObserver(function (mutations, observer) {{\n",
              "        var display = window.getComputedStyle(gd).display;\n",
              "        if (!display || display === 'none') {{\n",
              "            console.log([gd, 'removed!']);\n",
              "            Plotly.purge(gd);\n",
              "            observer.disconnect();\n",
              "        }}\n",
              "}});\n",
              "\n",
              "// Listen for the removal of the full notebook cells\n",
              "var notebookContainer = gd.closest('#notebook-container');\n",
              "if (notebookContainer) {{\n",
              "    x.observe(notebookContainer, {childList: true});\n",
              "}}\n",
              "\n",
              "// Listen for the clearing of the current output cell\n",
              "var outputEl = gd.closest('.output');\n",
              "if (outputEl) {{\n",
              "    x.observe(outputEl, {childList: true});\n",
              "}}\n",
              "\n",
              "                        })                };                            </script>        </div>\n",
              "</body>\n",
              "</html>"
            ]
          },
          "metadata": {}
        }
      ],
      "source": [
        "import plotly.express as px\n",
        "labels=[\"Healthy\",\"Not Healthy\"]\n",
        "healthy_or_not = hr['LB'].value_counts().tolist()\n",
        "values = [healthy_or_not[0], healthy_or_not[1]]\n",
        "print(values)\n",
        "fig = px.pie(values=hr['LB'].value_counts(), names=labels , width=700, height=400, color_discrete_sequence=[\"skyblue\",\"black\"],title=\"Healthy vs Heart Disease\")\n",
        "fig.show()\n"
      ]
    },
    {
      "cell_type": "code",
      "execution_count": null,
      "metadata": {
        "colab": {
          "base_uri": "https://localhost:8080/",
          "height": 847
        },
        "id": "XEToeIEpBEs9",
        "outputId": "a9c19072-b982-4f6b-8f7d-37e37008b0d1"
      },
      "outputs": [
        {
          "output_type": "execute_result",
          "data": {
            "text/plain": [
              "<Axes: >"
            ]
          },
          "metadata": {},
          "execution_count": 11
        },
        {
          "output_type": "display_data",
          "data": {
            "text/plain": [
              "<Figure size 1000x1000 with 1 Axes>"
            ],
            "image/png": "[encoded data removed]"
          },
          "metadata": {}
        }
      ],
      "source": [
        "hr.boxplot(figsize=(10,10))"
      ]
    },
    {
      "cell_type": "code",
      "execution_count": null,
      "metadata": {
        "colab": {
          "base_uri": "https://localhost:8080/",
          "height": 447
        },
        "id": "q4LIcLq7BMaC",
        "outputId": "e53afed0-bdda-4917-b57b-84143ebde7fe"
      },
      "outputs": [
        {
          "output_type": "execute_result",
          "data": {
            "text/plain": [
              "<Axes: >"
            ]
          },
          "metadata": {},
          "execution_count": 12
        },
        {
          "output_type": "display_data",
          "data": {
            "text/plain": [
              "<Figure size 640x480 with 1 Axes>"
            ],
            "image/png": "[encoded data removed]"
          },
          "metadata": {}
        }
      ],
      "source": [
        "hr.plot()"
      ]
    },
    {
      "cell_type": "code",
      "execution_count": null,
      "metadata": {
        "id": "pskwEsr2Unpm"
      },
      "outputs": [],
      "source": [
        "columns = ['AGE', 'RBP', 'SCH', 'MHR', 'OPK','SEX', 'CP', 'FBS', 'RES', 'EIA', 'PES','VCA','THA','LB']"
      ]
    },
    {
      "cell_type": "code",
      "execution_count": null,
      "metadata": {
        "colab": {
          "base_uri": "https://localhost:8080/",
          "height": 730
        },
        "id": "VP_6qksbUAA7",
        "outputId": "a243d06a-a0cc-4159-c56a-8baa1c2a26bb"
      },
      "outputs": [
        {
          "output_type": "display_data",
          "data": {
            "text/plain": [
              "<Figure size 2000x1000 with 15 Axes>"
            ],
            "image/png": "[encoded data removed]"
          },
          "metadata": {}
        }
      ],
      "source": [
        "def boxplots_custom(dataset, columns_list, rows, cols, suptitle):\n",
        "    fig, axs = plt.subplots(rows, cols, sharey=True, figsize=(20,10)) #create a figure with multiple subplots arranged in a grid\n",
        "    #fig, which represents the entire figure, and an array of Axes objects axs, which represent the individual subplots\n",
        "    fig.suptitle(suptitle,y=1, size=25) #y-coordinate is 1 and font size is 25 pts\n",
        "    axs = axs.flatten() #flatten() method returns a new 1D array that contains all the elements of the original 2D array in row-major order.\n",
        "    for i, data in enumerate(columns_list):\n",
        "        #orient='h' argument specifies that the boxplot should be horizontal, with the column names displayed on the y-axis\n",
        "        sns.boxplot(data=dataset[data], orient='h', ax=axs[i])\n",
        "        axs[i].set_title(data + ', skewness is: '+str(round(dataset[data].skew(axis = 0, skipna = True),2)))\n",
        "        #Skewness is a measure of the asymmetry of the data distribution. A skewness value of 0 indicates a perfectly symmetrical distribution, while positive or negative values indicate a right or left skew, respectively\n",
        "boxplots_custom(dataset=hr, columns_list=columns, rows=5, cols=3, suptitle='Boxplots for each variable') #suptitle-a secondary or explanatory title\n",
        "plt.tight_layout()"
      ]
    },
    {
      "cell_type": "code",
      "source": [
        "import matplotlib.pyplot as plt\n",
        "import numpy as np\n",
        "from scipy.stats import norm\n",
        "columns = ['RBP', 'SCH', 'MHR', 'OPK']\n",
        "for column in columns:\n",
        "    mu, std = norm.fit(hr[column])\n",
        "    plt.hist(hr[column], bins=25, density=True, alpha=0.6, color='g')\n",
        "    xmin, xmax = plt.xlim()\n",
        "    x = np.linspace(xmin, xmax, 100)\n",
        "    y = norm.pdf(x, mu, std)\n",
        "    plt.plot(x, y, 'r', linewidth=2)\n",
        "    plt.legend([f'Normal distribution\\n(mean={mu:.2f}, std={std:.2f})', 'Data'])\n",
        "    plt.xlabel(column)\n",
        "    plt.ylabel('Density')\n",
        "    plt.title(f'Normal distribution of {column}')\n",
        "    plt.show()\n"
      ],
      "metadata": {
        "colab": {
          "base_uri": "https://localhost:8080/",
          "height": 1000
        },
        "id": "6P3iQkWtgzi-",
        "outputId": "3fe5a432-174f-41b6-c738-6b75a575bb40"
      },
      "execution_count": null,
      "outputs": [
        {
          "output_type": "display_data",
          "data": {
            "text/plain": [
              "<Figure size 640x480 with 1 Axes>"
            ],
            "image/png": "[encoded data removed]"
          },
          "metadata": {}
        },
        {
          "output_type": "display_data",
          "data": {
            "text/plain": [
              "<Figure size 640x480 with 1 Axes>"
            ],
            "image/png": "[encoded data removed]"
          },
          "metadata": {}
        },
        {
          "output_type": "display_data",
          "data": {
            "text/plain": [
              "<Figure size 640x480 with 1 Axes>"
            ],
            "image/png": "[encoded data removed]"
          },
          "metadata": {}
        },
        {
          "output_type": "display_data",
          "data": {
            "text/plain": [
              "<Figure size 640x480 with 1 Axes>"
            ],
            "image/png": "[encoded data removed]"
          },
          "metadata": {}
        }
      ]
    },
    {
      "cell_type": "code",
      "source": [
        "from scipy.stats import shapiro\n",
        "columns = ['RBP', 'SCH', 'VCA', 'OPK']\n",
        "for col in columns:\n",
        "  stat, p = shapiro(hr)\n",
        "  alpha = 0.05\n",
        "  if p > alpha:\n",
        "    print(\"The data is normally distributed\")\n",
        "  else:\n",
        "    print(\"The data is not normally distributed\")\n"
      ],
      "metadata": {
        "colab": {
          "base_uri": "https://localhost:8080/"
        },
        "id": "YCQ-pAvylTEO",
        "outputId": "71db75be-c23f-4ce9-86a5-8986e26af643"
      },
      "execution_count": null,
      "outputs": [
        {
          "output_type": "stream",
          "name": "stdout",
          "text": [
            "The data is not normally distributed\n",
            "The data is not normally distributed\n",
            "The data is not normally distributed\n",
            "The data is not normally distributed\n"
          ]
        }
      ]
    },
    {
      "cell_type": "code",
      "execution_count": null,
      "metadata": {
        "id": "xSyXMd3AUDAB"
      },
      "outputs": [],
      "source": [
        "def remove_outliers_zscore(df, columns, threshold=3):\n",
        "    for col in columns:\n",
        "        df[col][z_scores > threshold] = np.nan\n",
        "    df.dropna(inplace=True)\n",
        "columns = ['RBP', 'SCH', 'MHR', 'OPK','FBS','VCA','THA']\n",
        "remove_outliers_zscore(hr, columns)\n"
      ]
    },
    {
      "cell_type": "code",
      "execution_count": null,
      "metadata": {
        "colab": {
          "base_uri": "https://localhost:8080/"
        },
        "id": "-CqIEBlqUEnk",
        "outputId": "ffb4bc42-10e8-4beb-e9e5-97bba65ba54b"
      },
      "outputs": [
        {
          "output_type": "execute_result",
          "data": {
            "text/plain": [
              "(969, 14)"
            ]
          },
          "metadata": {},
          "execution_count": 18
        }
      ],
      "source": [
        "hr.shape"
      ]
    },
    {
      "cell_type": "markdown",
      "metadata": {
        "id": "EBObV1X6RMgL"
      },
      "source": [
        "#**DATA PREDICTION**"
      ]
    },
    {
      "cell_type": "markdown",
      "metadata": {
        "id": "J_5zGrYwUGjF"
      },
      "source": [
        "##**STAGE-1**"
      ]
    },
    {
      "cell_type": "code",
      "execution_count": null,
      "metadata": {
        "id": "DsYZXkFmrdWY",
        "colab": {
          "base_uri": "https://localhost:8080/"
        },
        "outputId": "bc31ba72-f6bc-43b2-f285-7d5ecc3fcbaa"
      },
      "outputs": [
        {
          "output_type": "stream",
          "name": "stdout",
          "text": [
            "(969, 13) (969,)\n"
          ]
        }
      ],
      "source": [
        "X=hr.iloc[:,:-1].values\n",
        "y=hr.iloc[:,-1].values\n",
        "print(X.shape,y.shape)"
      ]
    },
    {
      "cell_type": "code",
      "source": [
        "plt.scatter(X[:,0],y)\n",
        "plt.xlabel('Age')\n",
        "plt.ylabel('LB')\n",
        "plt.show()"
      ],
      "metadata": {
        "colab": {
          "base_uri": "https://localhost:8080/",
          "height": 449
        },
        "id": "dBMVTJpbF1Ki",
        "outputId": "d792b23d-69cb-4a4a-ddc5-6fffeba7cf39"
      },
      "execution_count": null,
      "outputs": [
        {
          "output_type": "display_data",
          "data": {
            "text/plain": [
              "<Figure size 640x480 with 1 Axes>"
            ],
            "image/png": "[encoded data removed]"
          },
          "metadata": {}
        }
      ]
    },
    {
      "cell_type": "code",
      "execution_count": null,
      "metadata": {
        "colab": {
          "base_uri": "https://localhost:8080/"
        },
        "id": "sMNu7MkBSJCK",
        "outputId": "9a0e321d-9a69-49e8-cacc-45f309282f57"
      },
      "outputs": [
        {
          "output_type": "execute_result",
          "data": {
            "text/plain": [
              "(969, 13)"
            ]
          },
          "metadata": {},
          "execution_count": 21
        }
      ],
      "source": [
        "Xdf=pd.DataFrame(X)\n",
        "Xdf.shape\n"
      ]
    },
    {
      "cell_type": "code",
      "source": [
        "Xdf.head()"
      ],
      "metadata": {
        "colab": {
          "base_uri": "https://localhost:8080/",
          "height": 206
        },
        "id": "-urORdVIlHmz",
        "outputId": "9035544f-8f37-424c-8ba3-8f6682d4e41e"
      },
      "execution_count": null,
      "outputs": [
        {
          "output_type": "execute_result",
          "data": {
            "text/plain": [
              "     0    1    2      3      4    5    6      7    8    9    10   11   12\n",
              "0  52.0  1.0  0.0  125.0  212.0  0.0  1.0  168.0  0.0  1.0  2.0  2.0  3.0\n",
              "1  53.0  1.0  0.0  140.0  203.0  1.0  0.0  155.0  1.0  3.1  0.0  0.0  3.0\n",
              "2  70.0  1.0  0.0  145.0  174.0  0.0  1.0  125.0  1.0  2.6  0.0  0.0  3.0\n",
              "3  61.0  1.0  0.0  148.0  203.0  0.0  1.0  161.0  0.0  0.0  2.0  1.0  3.0\n",
              "4  62.0  0.0  0.0  138.0  294.0  1.0  1.0  106.0  0.0  1.9  1.0  3.0  2.0"
            ],
            "text/html": [
              "\n",
              "  <div id=\"df-8ee061e0-b41e-4a46-943f-5d2a32cfb06e\">\n",
              "    <div class=\"colab-df-container\">\n",
              "      <div>\n",
              "<style scoped>\n",
              "    .dataframe tbody tr th:only-of-type {\n",
              "        vertical-align: middle;\n",
              "    }\n",
              "\n",
              "    .dataframe tbody tr th {\n",
              "        vertical-align: top;\n",
              "    }\n",
              "\n",
              "    .dataframe thead th {\n",
              "        text-align: right;\n",
              "    }\n",
              "</style>\n",
              "<table border=\"1\" class=\"dataframe\">\n",
              "  <thead>\n",
              "    <tr style=\"text-align: right;\">\n",
              "      <th></th>\n",
              "      <th>0</th>\n",
              "      <th>1</th>\n",
              "      <th>2</th>\n",
              "      <th>3</th>\n",
              "      <th>4</th>\n",
              "      <th>5</th>\n",
              "      <th>6</th>\n",
              "      <th>7</th>\n",
              "      <th>8</th>\n",
              "      <th>9</th>\n",
              "      <th>10</th>\n",
              "      <th>11</th>\n",
              "      <th>12</th>\n",
              "    </tr>\n",
              "  </thead>\n",
              "  <tbody>\n",
              "    <tr>\n",
              "      <th>0</th>\n",
              "      <td>52.0</td>\n",
              "      <td>1.0</td>\n",
              "      <td>0.0</td>\n",
              "      <td>125.0</td>\n",
              "      <td>212.0</td>\n",
              "      <td>0.0</td>\n",
              "      <td>1.0</td>\n",
              "      <td>168.0</td>\n",
              "      <td>0.0</td>\n",
              "      <td>1.0</td>\n",
              "      <td>2.0</td>\n",
              "      <td>2.0</td>\n",
              "      <td>3.0</td>\n",
              "    </tr>\n",
              "    <tr>\n",
              "      <th>1</th>\n",
              "      <td>53.0</td>\n",
              "      <td>1.0</td>\n",
              "      <td>0.0</td>\n",
              "      <td>140.0</td>\n",
              "      <td>203.0</td>\n",
              "      <td>1.0</td>\n",
              "      <td>0.0</td>\n",
              "      <td>155.0</td>\n",
              "      <td>1.0</td>\n",
              "      <td>3.1</td>\n",
              "      <td>0.0</td>\n",
              "      <td>0.0</td>\n",
              "      <td>3.0</td>\n",
              "    </tr>\n",
              "    <tr>\n",
              "      <th>2</th>\n",
              "      <td>70.0</td>\n",
              "      <td>1.0</td>\n",
              "      <td>0.0</td>\n",
              "      <td>145.0</td>\n",
              "      <td>174.0</td>\n",
              "      <td>0.0</td>\n",
              "      <td>1.0</td>\n",
              "      <td>125.0</td>\n",
              "      <td>1.0</td>\n",
              "      <td>2.6</td>\n",
              "      <td>0.0</td>\n",
              "      <td>0.0</td>\n",
              "      <td>3.0</td>\n",
              "    </tr>\n",
              "    <tr>\n",
              "      <th>3</th>\n",
              "      <td>61.0</td>\n",
              "      <td>1.0</td>\n",
              "      <td>0.0</td>\n",
              "      <td>148.0</td>\n",
              "      <td>203.0</td>\n",
              "      <td>0.0</td>\n",
              "      <td>1.0</td>\n",
              "      <td>161.0</td>\n",
              "      <td>0.0</td>\n",
              "      <td>0.0</td>\n",
              "      <td>2.0</td>\n",
              "      <td>1.0</td>\n",
              "      <td>3.0</td>\n",
              "    </tr>\n",
              "    <tr>\n",
              "      <th>4</th>\n",
              "      <td>62.0</td>\n",
              "      <td>0.0</td>\n",
              "      <td>0.0</td>\n",
              "      <td>138.0</td>\n",
              "      <td>294.0</td>\n",
              "      <td>1.0</td>\n",
              "      <td>1.0</td>\n",
              "      <td>106.0</td>\n",
              "      <td>0.0</td>\n",
              "      <td>1.9</td>\n",
              "      <td>1.0</td>\n",
              "      <td>3.0</td>\n",
              "      <td>2.0</td>\n",
              "    </tr>\n",
              "  </tbody>\n",
              "</table>\n",
              "</div>\n",
              "      <button class=\"colab-df-convert\" onclick=\"convertToInteractive('df-8ee061e0-b41e-4a46-943f-5d2a32cfb06e')\"\n",
              "              title=\"Convert this dataframe to an interactive table.\"\n",
              "              style=\"display:none;\">\n",
              "        \n",
              "  <svg xmlns=\"http://www.w3.org/2000/svg\" height=\"24px\"viewBox=\"0 0 24 24\"\n",
              "       width=\"24px\">\n",
              "    <path d=\"M0 0h24v24H0V0z\" fill=\"none\"/>\n",
              "    <path d=\"M18.56 5.44l.94 2.06.94-2.06 2.06-.94-2.06-.94-.94-2.06-.94 2.06-2.06.94zm-11 1L8.5 8.5l.94-2.06 2.06-.94-2.06-.94L8.5 2.5l-.94 2.06-2.06.94zm10 10l.94 2.06.94-2.06 2.06-.94-2.06-.94-.94-2.06-.94 2.06-2.06.94z\"/><path d=\"M17.41 7.96l-1.37-1.37c-.4-.4-.92-.59-1.43-.59-.52 0-1.04.2-1.43.59L10.3 9.45l-7.72 7.72c-.78.78-.78 2.05 0 2.83L4 21.41c.39.39.9.59 1.41.59.51 0 1.02-.2 1.41-.59l7.78-7.78 2.81-2.81c.8-.78.8-2.07 0-2.86zM5.41 20L4 18.59l7.72-7.72 1.47 1.35L5.41 20z\"/>\n",
              "  </svg>\n",
              "      </button>\n",
              "      \n",
              "  <style>\n",
              "    .colab-df-container {\n",
              "      display:flex;\n",
              "      flex-wrap:wrap;\n",
              "      gap: 12px;\n",
              "    }\n",
              "\n",
              "    .colab-df-convert {\n",
              "      background-color: #E8F0FE;\n",
              "      border: none;\n",
              "      border-radius: 50%;\n",
              "      cursor: pointer;\n",
              "      display: none;\n",
              "      fill: #1967D2;\n",
              "      height: 32px;\n",
              "      padding: 0 0 0 0;\n",
              "      width: 32px;\n",
              "    }\n",
              "\n",
              "    .colab-df-convert:hover {\n",
              "      background-color: #E2EBFA;\n",
              "      box-shadow: 0px 1px 2px rgba(60, 64, 67, 0.3), 0px 1px 3px 1px rgba(60, 64, 67, 0.15);\n",
              "      fill: #174EA6;\n",
              "    }\n",
              "\n",
              "    [theme=dark] .colab-df-convert {\n",
              "      background-color: #3B4455;\n",
              "      fill: #D2E3FC;\n",
              "    }\n",
              "\n",
              "    [theme=dark] .colab-df-convert:hover {\n",
              "      background-color: #434B5C;\n",
              "      box-shadow: 0px 1px 3px 1px rgba(0, 0, 0, 0.15);\n",
              "      filter: drop-shadow(0px 1px 2px rgba(0, 0, 0, 0.3));\n",
              "      fill: #FFFFFF;\n",
              "    }\n",
              "  </style>\n",
              "\n",
              "      <script>\n",
              "        const buttonEl =\n",
              "          document.querySelector('#df-8ee061e0-b41e-4a46-943f-5d2a32cfb06e button.colab-df-convert');\n",
              "        buttonEl.style.display =\n",
              "          google.colab.kernel.accessAllowed ? 'block' : 'none';\n",
              "\n",
              "        async function convertToInteractive(key) {\n",
              "          const element = document.querySelector('#df-8ee061e0-b41e-4a46-943f-5d2a32cfb06e');\n",
              "          const dataTable =\n",
              "            await google.colab.kernel.invokeFunction('convertToInteractive',\n",
              "                                                     [key], {});\n",
              "          if (!dataTable) return;\n",
              "\n",
              "          const docLinkHtml = 'Like what you see? Visit the ' +\n",
              "            '<a target=\"_blank\" href=https://colab.research.google.com/notebooks/data_table.ipynb>data table notebook</a>'\n",
              "            + ' to learn more about interactive tables.';\n",
              "          element.innerHTML = '';\n",
              "          dataTable['output_type'] = 'display_data';\n",
              "          await google.colab.output.renderOutput(dataTable, element);\n",
              "          const docLink = document.createElement('div');\n",
              "          docLink.innerHTML = docLinkHtml;\n",
              "          element.appendChild(docLink);\n",
              "        }\n",
              "      </script>\n",
              "    </div>\n",
              "  </div>\n",
              "  "
            ]
          },
          "metadata": {},
          "execution_count": 39
        }
      ]
    },
    {
      "cell_type": "code",
      "execution_count": null,
      "metadata": {
        "colab": {
          "base_uri": "https://localhost:8080/"
        },
        "id": "N52_EUHmSO-m",
        "outputId": "6cb211e0-3fdd-4519-f8a7-580dd2ae853a"
      },
      "outputs": [
        {
          "output_type": "execute_result",
          "data": {
            "text/plain": [
              "(969,)"
            ]
          },
          "metadata": {},
          "execution_count": 22
        }
      ],
      "source": [
        "y.shape"
      ]
    },
    {
      "cell_type": "code",
      "execution_count": null,
      "metadata": {
        "colab": {
          "base_uri": "https://localhost:8080/",
          "height": 676
        },
        "id": "vmkEPaqMTXzC",
        "outputId": "5cf52420-be63-431f-e01a-4e38d59d32d2"
      },
      "outputs": [
        {
          "output_type": "execute_result",
          "data": {
            "text/plain": [
              "    0\n",
              "0   0\n",
              "1   0\n",
              "2   0\n",
              "3   0\n",
              "4   0\n",
              "5   1\n",
              "6   0\n",
              "7   0\n",
              "8   0\n",
              "9   0\n",
              "10  1\n",
              "11  0\n",
              "12  1\n",
              "13  0\n",
              "14  1\n",
              "15  1\n",
              "16  0\n",
              "17  1\n",
              "18  1\n",
              "19  0"
            ],
            "text/html": [
              "\n",
              "  <div id=\"df-05429d33-e3af-452b-9f22-345cb8e95e5f\">\n",
              "    <div class=\"colab-df-container\">\n",
              "      <div>\n",
              "<style scoped>\n",
              "    .dataframe tbody tr th:only-of-type {\n",
              "        vertical-align: middle;\n",
              "    }\n",
              "\n",
              "    .dataframe tbody tr th {\n",
              "        vertical-align: top;\n",
              "    }\n",
              "\n",
              "    .dataframe thead th {\n",
              "        text-align: right;\n",
              "    }\n",
              "</style>\n",
              "<table border=\"1\" class=\"dataframe\">\n",
              "  <thead>\n",
              "    <tr style=\"text-align: right;\">\n",
              "      <th></th>\n",
              "      <th>0</th>\n",
              "    </tr>\n",
              "  </thead>\n",
              "  <tbody>\n",
              "    <tr>\n",
              "      <th>0</th>\n",
              "      <td>0</td>\n",
              "    </tr>\n",
              "    <tr>\n",
              "      <th>1</th>\n",
              "      <td>0</td>\n",
              "    </tr>\n",
              "    <tr>\n",
              "      <th>2</th>\n",
              "      <td>0</td>\n",
              "    </tr>\n",
              "    <tr>\n",
              "      <th>3</th>\n",
              "      <td>0</td>\n",
              "    </tr>\n",
              "    <tr>\n",
              "      <th>4</th>\n",
              "      <td>0</td>\n",
              "    </tr>\n",
              "    <tr>\n",
              "      <th>5</th>\n",
              "      <td>1</td>\n",
              "    </tr>\n",
              "    <tr>\n",
              "      <th>6</th>\n",
              "      <td>0</td>\n",
              "    </tr>\n",
              "    <tr>\n",
              "      <th>7</th>\n",
              "      <td>0</td>\n",
              "    </tr>\n",
              "    <tr>\n",
              "      <th>8</th>\n",
              "      <td>0</td>\n",
              "    </tr>\n",
              "    <tr>\n",
              "      <th>9</th>\n",
              "      <td>0</td>\n",
              "    </tr>\n",
              "    <tr>\n",
              "      <th>10</th>\n",
              "      <td>1</td>\n",
              "    </tr>\n",
              "    <tr>\n",
              "      <th>11</th>\n",
              "      <td>0</td>\n",
              "    </tr>\n",
              "    <tr>\n",
              "      <th>12</th>\n",
              "      <td>1</td>\n",
              "    </tr>\n",
              "    <tr>\n",
              "      <th>13</th>\n",
              "      <td>0</td>\n",
              "    </tr>\n",
              "    <tr>\n",
              "      <th>14</th>\n",
              "      <td>1</td>\n",
              "    </tr>\n",
              "    <tr>\n",
              "      <th>15</th>\n",
              "      <td>1</td>\n",
              "    </tr>\n",
              "    <tr>\n",
              "      <th>16</th>\n",
              "      <td>0</td>\n",
              "    </tr>\n",
              "    <tr>\n",
              "      <th>17</th>\n",
              "      <td>1</td>\n",
              "    </tr>\n",
              "    <tr>\n",
              "      <th>18</th>\n",
              "      <td>1</td>\n",
              "    </tr>\n",
              "    <tr>\n",
              "      <th>19</th>\n",
              "      <td>0</td>\n",
              "    </tr>\n",
              "  </tbody>\n",
              "</table>\n",
              "</div>\n",
              "      <button class=\"colab-df-convert\" onclick=\"convertToInteractive('df-05429d33-e3af-452b-9f22-345cb8e95e5f')\"\n",
              "              title=\"Convert this dataframe to an interactive table.\"\n",
              "              style=\"display:none;\">\n",
              "        \n",
              "  <svg xmlns=\"http://www.w3.org/2000/svg\" height=\"24px\"viewBox=\"0 0 24 24\"\n",
              "       width=\"24px\">\n",
              "    <path d=\"M0 0h24v24H0V0z\" fill=\"none\"/>\n",
              "    <path d=\"M18.56 5.44l.94 2.06.94-2.06 2.06-.94-2.06-.94-.94-2.06-.94 2.06-2.06.94zm-11 1L8.5 8.5l.94-2.06 2.06-.94-2.06-.94L8.5 2.5l-.94 2.06-2.06.94zm10 10l.94 2.06.94-2.06 2.06-.94-2.06-.94-.94-2.06-.94 2.06-2.06.94z\"/><path d=\"M17.41 7.96l-1.37-1.37c-.4-.4-.92-.59-1.43-.59-.52 0-1.04.2-1.43.59L10.3 9.45l-7.72 7.72c-.78.78-.78 2.05 0 2.83L4 21.41c.39.39.9.59 1.41.59.51 0 1.02-.2 1.41-.59l7.78-7.78 2.81-2.81c.8-.78.8-2.07 0-2.86zM5.41 20L4 18.59l7.72-7.72 1.47 1.35L5.41 20z\"/>\n",
              "  </svg>\n",
              "      </button>\n",
              "      \n",
              "  <style>\n",
              "    .colab-df-container {\n",
              "      display:flex;\n",
              "      flex-wrap:wrap;\n",
              "      gap: 12px;\n",
              "    }\n",
              "\n",
              "    .colab-df-convert {\n",
              "      background-color: #E8F0FE;\n",
              "      border: none;\n",
              "      border-radius: 50%;\n",
              "      cursor: pointer;\n",
              "      display: none;\n",
              "      fill: #1967D2;\n",
              "      height: 32px;\n",
              "      padding: 0 0 0 0;\n",
              "      width: 32px;\n",
              "    }\n",
              "\n",
              "    .colab-df-convert:hover {\n",
              "      background-color: #E2EBFA;\n",
              "      box-shadow: 0px 1px 2px rgba(60, 64, 67, 0.3), 0px 1px 3px 1px rgba(60, 64, 67, 0.15);\n",
              "      fill: #174EA6;\n",
              "    }\n",
              "\n",
              "    [theme=dark] .colab-df-convert {\n",
              "      background-color: #3B4455;\n",
              "      fill: #D2E3FC;\n",
              "    }\n",
              "\n",
              "    [theme=dark] .colab-df-convert:hover {\n",
              "      background-color: #434B5C;\n",
              "      box-shadow: 0px 1px 3px 1px rgba(0, 0, 0, 0.15);\n",
              "      filter: drop-shadow(0px 1px 2px rgba(0, 0, 0, 0.3));\n",
              "      fill: #FFFFFF;\n",
              "    }\n",
              "  </style>\n",
              "\n",
              "      <script>\n",
              "        const buttonEl =\n",
              "          document.querySelector('#df-05429d33-e3af-452b-9f22-345cb8e95e5f button.colab-df-convert');\n",
              "        buttonEl.style.display =\n",
              "          google.colab.kernel.accessAllowed ? 'block' : 'none';\n",
              "\n",
              "        async function convertToInteractive(key) {\n",
              "          const element = document.querySelector('#df-05429d33-e3af-452b-9f22-345cb8e95e5f');\n",
              "          const dataTable =\n",
              "            await google.colab.kernel.invokeFunction('convertToInteractive',\n",
              "                                                     [key], {});\n",
              "          if (!dataTable) return;\n",
              "\n",
              "          const docLinkHtml = 'Like what you see? Visit the ' +\n",
              "            '<a target=\"_blank\" href=https://colab.research.google.com/notebooks/data_table.ipynb>data table notebook</a>'\n",
              "            + ' to learn more about interactive tables.';\n",
              "          element.innerHTML = '';\n",
              "          dataTable['output_type'] = 'display_data';\n",
              "          await google.colab.output.renderOutput(dataTable, element);\n",
              "          const docLink = document.createElement('div');\n",
              "          docLink.innerHTML = docLinkHtml;\n",
              "          element.appendChild(docLink);\n",
              "        }\n",
              "      </script>\n",
              "    </div>\n",
              "  </div>\n",
              "  "
            ]
          },
          "metadata": {},
          "execution_count": 23
        }
      ],
      "source": [
        "ydf=pd.DataFrame(y)\n",
        "ydf.head(20)"
      ]
    },
    {
      "cell_type": "markdown",
      "metadata": {
        "id": "R5z6fKMbReuP"
      },
      "source": [
        "##**MACHINE LEARNING ALGORITHMS**"
      ]
    },
    {
      "cell_type": "code",
      "execution_count": null,
      "metadata": {
        "id": "tW93nSZgJ_Xy"
      },
      "outputs": [],
      "source": [
        "from sklearn.naive_bayes import GaussianNB\n",
        "from sklearn.neural_network import MLPClassifier\n",
        "from sklearn.tree import DecisionTreeClassifier\n",
        "from sklearn.ensemble import RandomForestClassifier\n",
        "from sklearn.svm import SVC\n",
        "models=[]\n",
        "models.append(('NB',GaussianNB()))\n",
        "models.append(('MLP',MLPClassifier(hidden_layer_sizes=(8,7),random_state=5,verbose=False,learning_rate_init=0.01)))\n",
        "models.append(('DT',DecisionTreeClassifier(criterion='entropy',max_depth=6)))\n",
        "models.append(('RF',RandomForestClassifier(n_estimators=20,random_state=7,max_depth=7)))\n",
        "models.append(('SVM',SVC(kernel='linear')))"
      ]
    },
    {
      "cell_type": "code",
      "source": [
        "from sklearn.model_selection import GridSearchCV\n",
        "from sklearn.model_selection import GridSearchCV, train_test_split\n",
        "from sklearn.metrics import accuracy_score, confusion_matrix\n",
        "model_param=[]\n",
        "model_param.append(('param_grid_NB', {'var_smoothing': np.logspace(0,-9, num=100)}))\n",
        "model_param.append(('param_grid_MLP' , {'hidden_layer_sizes': [(10,), (20,), (30,)],'activation': ['logistic', 'relu','sigmoid'],'alpha': [0.0001, 0.001, 0.01]}))\n",
        "model_param.append(('param_grid_DT',{'max_depth': [2, 4, 6, 8, 10], 'min_samples_split': [2, 5, 10], 'min_samples_leaf': [1, 2, 4, 6, 8],'criterion':['entropy','gini']}))\n",
        "model_param.append(('param_grid_RF',{'n_estimators': [10, 20, 30],'max_depth': [5, 6, 10],'min_samples_split': [2, 5, 10],'min_samples_leaf': [1, 2, 4]}))\n",
        "model_param.append(('param_grid_SVC', {'C': [0.1, 1, 10], 'kernel': ['linear','rbf'], 'gamma': ['scale', 'auto']}))\n"
      ],
      "metadata": {
        "id": "-sg2s-hVtQqj"
      },
      "execution_count": null,
      "outputs": []
    },
    {
      "cell_type": "code",
      "source": [
        "models_new=[]\n",
        "models_new.append(('NB',GaussianNB(var_smoothing = 8.111308307896872e-05)))\n",
        "models_new.append(('MLP',MLPClassifier(activation= 'logistic', alpha = 0.01, hidden_layer_sizes = (10,8),learning_rate_init=0.01,random_state=5)))\n",
        "models_new.append(('DT',DecisionTreeClassifier(criterion='entropy',max_depth=3,min_samples_leaf= 20, min_samples_split=20,random_state=5)))\n",
        "models_new.append(('RF',RandomForestClassifier(n_estimators=15,min_samples_leaf=1, min_samples_split= 2,max_depth=3,random_state=5)))\n",
        "models_new.append(('SVM',SVC(kernel='linear',gamma = 20,C= 0.0001,random_state=5)))"
      ],
      "metadata": {
        "id": "HP7CuKK4LDmv"
      },
      "execution_count": null,
      "outputs": []
    },
    {
      "cell_type": "markdown",
      "metadata": {
        "id": "55p2zD_AR2ov"
      },
      "source": [
        "## **BASELINE IMPLEMENTATION**"
      ]
    },
    {
      "cell_type": "markdown",
      "metadata": {
        "id": "P-dytOqlDKRa"
      },
      "source": [
        "**10(k)-fold**"
      ]
    },
    {
      "cell_type": "code",
      "execution_count": null,
      "metadata": {
        "colab": {
          "base_uri": "https://localhost:8080/"
        },
        "id": "iu6QjxF-DRo0",
        "outputId": "84f5007f-b8c5-435f-eddb-41c320f66a71"
      },
      "outputs": [
        {
          "output_type": "stream",
          "name": "stdout",
          "text": [
            "ACCURACY:\n",
            "NB 0.8441365979381444\n",
            "MLP 0.8420747422680412\n",
            "DT 0.8400021477663231\n",
            "RF 0.8616731099656357\n",
            "SVM 0.7141000859106529\n",
            "\n",
            "Time(10-K):\n",
            "NB 0.030173063278198242\n",
            "MLP 1.9786860942840576\n",
            "DT 0.04632973670959473\n",
            "RF 0.5082981586456299\n",
            "SVM 0.5280077457427979\n"
          ]
        }
      ],
      "source": [
        "import time\n",
        "accuracy=dict()\n",
        "precision=dict()\n",
        "recall=dict()\n",
        "tt=dict()\n",
        "\n",
        "from sklearn.model_selection import cross_val_score,KFold\n",
        "for name,model in models_new:\n",
        "    st=time.time()\n",
        "    kfold=KFold(n_splits=10)\n",
        "    acc=cross_val_score(model,X,y,cv=kfold,scoring='accuracy')\n",
        "    accuracy[name]=(acc.mean())\n",
        "    et=time.time()\n",
        "    tt[name]=et-st\n",
        "\n",
        "print(\"ACCURACY:\")\n",
        "for key,value in accuracy.items():\n",
        "    print(key,value)\n",
        "\n",
        "print(\"\\nTime(10-K):\")\n",
        "for key,value in tt.items():\n",
        "    print(key,value)\n"
      ]
    },
    {
      "cell_type": "markdown",
      "source": [
        "**VARIANCE AND STANDARD DEVIATION**"
      ],
      "metadata": {
        "id": "kIbLWHnnBieK"
      }
    },
    {
      "cell_type": "code",
      "source": [
        "import numpy as np\n",
        "from sklearn.metrics import mean_squared_error\n",
        "from sklearn.model_selection import KFold\n",
        "\n",
        "num_folds = 10\n",
        "kf = KFold(n_splits=num_folds, shuffle=True)\n",
        "variances = dict()\n",
        "std_devs = dict()\n",
        "for name, model in models_new:\n",
        "    fold_variances = []\n",
        "    fold_std_devs = []\n",
        "    for fold_num, (train_indices, test_indices) in enumerate(kf.split(X)):\n",
        "        model.fit(X[train_indices], y[train_indices])\n",
        "        y_pred = model.predict(X[test_indices])\n",
        "        mse = mean_squared_error(y[test_indices], y_pred)\n",
        "        variance = np.var(y[test_indices] - y_pred)\n",
        "        std_dev = np.sqrt(mse)\n",
        "        fold_variances.append(variance)\n",
        "        fold_std_devs.append(std_dev)\n",
        "    variances[name] = (np.mean(fold_variances))/10\n",
        "    std_devs[name] = (np.mean(fold_std_devs))/10\n",
        "\n",
        "print(\"\\nVariance:\")\n",
        "for key, value in variances.items():\n",
        "    print(key, value)\n",
        "print(\"\\nStandard Deviation:\")\n",
        "for key, value in std_devs.items():\n",
        "    print(key, value)\n"
      ],
      "metadata": {
        "colab": {
          "base_uri": "https://localhost:8080/"
        },
        "id": "GZ_WxKXzBhdn",
        "outputId": "bc7517e6-f79b-442a-aa4a-93c607bead99"
      },
      "execution_count": null,
      "outputs": [
        {
          "output_type": "stream",
          "name": "stdout",
          "text": [
            "\n",
            "Variance:\n",
            "NB 0.014661059663435427\n",
            "MLP 0.014715769582130292\n",
            "DT 0.015531363546537886\n",
            "RF 0.012742043369933929\n",
            "SVM 0.02826601774232118\n",
            "\n",
            "Standard Deviation:\n",
            "NB 0.038919266371289875\n",
            "MLP 0.03848244811368166\n",
            "DT 0.03972080185935981\n",
            "RF 0.03547128971921622\n",
            "SVM 0.05352444909550132\n"
          ]
        }
      ]
    },
    {
      "cell_type": "markdown",
      "metadata": {
        "id": "dYDJvmgprjOw"
      },
      "source": [
        "\n",
        "\n",
        "**50-50**"
      ]
    },
    {
      "cell_type": "code",
      "execution_count": null,
      "metadata": {
        "colab": {
          "base_uri": "https://localhost:8080/"
        },
        "id": "c7v0jxjLKSFY",
        "outputId": "cded510b-02da-4fb9-e6f5-967f08162968"
      },
      "outputs": [
        {
          "output_type": "stream",
          "name": "stdout",
          "text": [
            "ACCURACY:\n",
            "NB 0.8144329896907216\n",
            "MLP 0.8391752577319588\n",
            "DT 0.8185567010309278\n",
            "RF 0.8515463917525773\n",
            "SVM 0.6804123711340206\n",
            "\n",
            "Time(10-K):\n",
            "NB 0.004309415817260742\n",
            "MLP 0.1522977352142334\n",
            "DT 0.0023217201232910156\n",
            "RF 0.028908491134643555\n",
            "SVM 0.013538360595703125\n"
          ]
        }
      ],
      "source": [
        "accuracy=dict()\n",
        "precision=dict()\n",
        "recall=dict()\n",
        "tt=dict()\n",
        "\n",
        "from sklearn.model_selection import cross_val_score,KFold\n",
        "from sklearn.model_selection import train_test_split,cross_val_score\n",
        "from sklearn import metrics\n",
        "from sklearn.metrics import confusion_matrix\n",
        "from sklearn.metrics import ConfusionMatrixDisplay\n",
        "from sklearn.metrics import classification_report\n",
        "import time\n",
        "\n",
        "for name,model in models_new:\n",
        "    st=time.time()\n",
        "    x_train, x_test, y_train, y_test = train_test_split(X, y, test_size=0.50, random_state=43)\n",
        "    model.fit(x_train, y_train)\n",
        "    y_pred = model.predict(x_test)\n",
        "    et=time.time()\n",
        "\n",
        "    from sklearn.preprocessing import StandardScaler \n",
        "    st_x= StandardScaler() \n",
        "    x_train= st_x.fit_transform(x_train)\n",
        "\n",
        "    accuracy[name]=metrics.accuracy_score(y_test, y_pred)\n",
        "    tt[name]=et-st\n",
        "\n",
        "print(\"ACCURACY:\")\n",
        "for key,value in accuracy.items():\n",
        "    print(key,value)\n",
        "\n",
        "print(\"\\nTime(10-K):\")\n",
        "for key,value in tt.items():\n",
        "    print(key,value)"
      ]
    },
    {
      "cell_type": "markdown",
      "metadata": {
        "id": "ksnDXWhn1xE_"
      },
      "source": [
        "**60-40**"
      ]
    },
    {
      "cell_type": "code",
      "execution_count": null,
      "metadata": {
        "colab": {
          "base_uri": "https://localhost:8080/"
        },
        "id": "CMGcMaS4PGts",
        "outputId": "07f5a593-3c21-48a5-d730-8c7286f810a5"
      },
      "outputs": [
        {
          "output_type": "stream",
          "name": "stdout",
          "text": [
            "ACCURACY:\n",
            "NB 0.8273195876288659\n",
            "MLP 0.8273195876288659\n",
            "DT 0.8170103092783505\n",
            "RF 0.8582474226804123\n",
            "SVM 0.6804123711340206\n",
            "\n",
            "Time(10-K):\n",
            "NB 0.003386259078979492\n",
            "MLP 0.09986686706542969\n",
            "DT 0.0017554759979248047\n",
            "RF 0.02889561653137207\n",
            "SVM 0.01606273651123047\n"
          ]
        }
      ],
      "source": [
        "accuracy=dict()\n",
        "precision=dict()\n",
        "recall=dict()\n",
        "tt=dict()\n",
        "\n",
        "from sklearn.model_selection import cross_val_score,KFold\n",
        "from sklearn.model_selection import train_test_split,cross_val_score\n",
        "from sklearn import metrics\n",
        "from sklearn.metrics import confusion_matrix\n",
        "from sklearn.metrics import ConfusionMatrixDisplay\n",
        "from sklearn.metrics import classification_report\n",
        "import time\n",
        "\n",
        "for name,model in models_new:\n",
        "    x_train, x_test, y_train, y_test = train_test_split(X, y, test_size=0.40, random_state=43)\n",
        "    st=time.time()\n",
        "    model.fit(x_train, y_train)\n",
        "    y_pred = model.predict(x_test)\n",
        "    et=time.time()\n",
        "\n",
        "    from sklearn.preprocessing import StandardScaler \n",
        "    st_x= StandardScaler() \n",
        "    x_train= st_x.fit_transform(x_train)\n",
        "\n",
        "    accuracy[name]=metrics.accuracy_score(y_test, y_pred)\n",
        "    tt[name]=et-st\n",
        "print(\"ACCURACY:\")\n",
        "for key,value in accuracy.items():\n",
        "    print(key,value)\n",
        "\n",
        "print(\"\\nTime(10-K):\")\n",
        "for key,value in tt.items():\n",
        "    print(key,value)"
      ]
    },
    {
      "cell_type": "markdown",
      "metadata": {
        "id": "eVeTrvox2l-k"
      },
      "source": [
        "**70-30**"
      ]
    },
    {
      "cell_type": "code",
      "execution_count": null,
      "metadata": {
        "colab": {
          "base_uri": "https://localhost:8080/"
        },
        "id": "Q3Ro8XmXPJz4",
        "outputId": "05138741-1f74-47d1-a2d3-0d73fb6ecfbf"
      },
      "outputs": [
        {
          "output_type": "stream",
          "name": "stdout",
          "text": [
            "ACCURACY:\n",
            "NB 0.8316151202749141\n",
            "MLP 0.8694158075601375\n",
            "DT 0.8419243986254296\n",
            "RF 0.865979381443299\n",
            "SVM 0.7010309278350515\n",
            "\n",
            "Time(10-K):\n",
            "NB 0.0036766529083251953\n",
            "MLP 0.18903374671936035\n",
            "DT 0.0018465518951416016\n",
            "RF 0.03043508529663086\n",
            "SVM 0.019280672073364258\n"
          ]
        }
      ],
      "source": [
        "accuracy=dict()\n",
        "precision=dict()\n",
        "recall=dict()\n",
        "tt=dict()\n",
        "from sklearn.model_selection import cross_val_score,KFold\n",
        "from sklearn.model_selection import train_test_split,cross_val_score\n",
        "from sklearn import metrics\n",
        "from sklearn.metrics import confusion_matrix\n",
        "from sklearn.metrics import ConfusionMatrixDisplay\n",
        "from sklearn.metrics import classification_report\n",
        "import time\n",
        "for name,model in models_new:\n",
        "    x_train, x_test, y_train, y_test = train_test_split(X, y, test_size=0.30, random_state=43)\n",
        "    st=time.time()\n",
        "    model.fit(x_train, y_train)\n",
        "    y_pred = model.predict(x_test)\n",
        "    et=time.time()\n",
        "    from sklearn.preprocessing import StandardScaler \n",
        "    st_x= StandardScaler() \n",
        "    x_train= st_x.fit_transform(x_train)\n",
        "    tt[name]=et-st\n",
        "    accuracy[name]=metrics.accuracy_score(y_test, y_pred)\n",
        "   \n",
        "\n",
        "print(\"ACCURACY:\")\n",
        "for key,value in accuracy.items():\n",
        "    print(key,value)\n",
        "print(\"\\nTime(10-K):\")\n",
        "for key,value in tt.items():\n",
        "    print(key,value)"
      ]
    },
    {
      "cell_type": "markdown",
      "metadata": {
        "id": "NkZDQ1QQO-d5"
      },
      "source": [
        "**80-20**"
      ]
    },
    {
      "cell_type": "code",
      "execution_count": null,
      "metadata": {
        "colab": {
          "base_uri": "https://localhost:8080/"
        },
        "id": "iQZnpm-MPNWk",
        "outputId": "7919173f-d65a-4630-f5f1-864c47772078"
      },
      "outputs": [
        {
          "output_type": "stream",
          "name": "stdout",
          "text": [
            "ACCURACY:\n",
            "NB 0.865979381443299\n",
            "MLP 0.8711340206185567\n",
            "DT 0.8298969072164949\n",
            "RF 0.8762886597938144\n",
            "SVM 0.7474226804123711\n",
            "\n",
            "PRECISION:\n",
            "NB 0.865979381443299\n",
            "MLP 0.8711340206185567\n",
            "DT 0.8298969072164949\n",
            "RF 0.8762886597938144\n",
            "SVM 0.7474226804123711\n",
            "\n",
            "RECALL:\n",
            "NB 0.865979381443299\n",
            "MLP 0.8711340206185567\n",
            "DT 0.8298969072164949\n",
            "RF 0.8762886597938144\n",
            "SVM 0.7474226804123711\n",
            "\n",
            "F1 SCORE:\n",
            "NB 0.8785046728971964\n",
            "MLP 0.8847926267281105\n",
            "DT 0.8465116279069768\n",
            "RF 0.8878504672897195\n",
            "SVM 0.7609756097560977\n",
            "\n",
            "ROC:\n",
            "NB 0.8631959970190566\n",
            "MLP 0.8677206430320451\n",
            "DT 0.8268391355264558\n",
            "RF 0.8735228361545831\n",
            "SVM 0.746353667624827\n",
            "\n",
            "Time(10-K):\n",
            "NB 0.0026116371154785156\n",
            "MLP 0.21768999099731445\n",
            "DT 0.0020220279693603516\n",
            "RF 0.03448295593261719\n",
            "SVM 0.022256851196289062\n"
          ]
        }
      ],
      "source": [
        "from sklearn.model_selection import train_test_split,cross_val_score\n",
        "from sklearn import metrics\n",
        "from sklearn.metrics import confusion_matrix\n",
        "from sklearn.metrics import ConfusionMatrixDisplay\n",
        "from sklearn.metrics import classification_report\n",
        "from sklearn.metrics import roc_curve, auc\n",
        "import matplotlib.pyplot as plt\n",
        "import time\n",
        "accuracy=dict()\n",
        "precision=dict()\n",
        "recall=dict()\n",
        "f1score=dict()\n",
        "roc=dict()\n",
        "tt=dict()\n",
        "for name,model in models_new:\n",
        "    x_train, x_test, y_train, y_test = train_test_split(X, y, test_size=0.20, random_state=7)\n",
        "    st=time.time()\n",
        "    model.fit(x_train, y_train)\n",
        "    y_pred = model.predict(x_test)\n",
        "    et=time.time()\n",
        "\n",
        "    accuracy[name]=metrics.accuracy_score(y_test, y_pred)\n",
        "    precision[name]=metrics.precision_score(y_test, y_pred,average='micro')\n",
        "    f1score[name]=metrics.f1_score(y_test,y_pred)\n",
        "    recall[name]=metrics.recall_score(y_test, y_pred,average='micro')\n",
        "    fpr, tpr, _ = roc_curve(y_test, y_pred)\n",
        "    roc[name]=auc(fpr, tpr)\n",
        "    tt[name]=et-st\n",
        "\n",
        "print(\"ACCURACY:\")\n",
        "for key,value in accuracy.items():\n",
        "    print(key,value)\n",
        "\n",
        "print(\"\\nPRECISION:\")\n",
        "for key,value in precision.items():\n",
        "    print(key,value)\n",
        "\n",
        "print(\"\\nRECALL:\")\n",
        "for key,value in recall.items():\n",
        "    print(key,value)\n",
        "\n",
        "print(\"\\nF1 SCORE:\")\n",
        "for key,value in f1score.items():\n",
        "    print(key,value)\n",
        "\n",
        "print(\"\\nROC:\")\n",
        "for key,value in roc.items():\n",
        "    print(key,value)\n",
        "\n",
        "print(\"\\nTime(10-K):\")\n",
        "for key,value in tt.items():\n",
        "    print(key,value)\n"
      ]
    },
    {
      "cell_type": "markdown",
      "metadata": {
        "id": "A1TBHz0nkhLe"
      },
      "source": [
        "\n",
        "##**VOTING IMPLEMENTATION**"
      ]
    },
    {
      "cell_type": "code",
      "execution_count": null,
      "metadata": {
        "id": "jN6wlJdFO88z"
      },
      "outputs": [],
      "source": [
        "from sklearn.ensemble import VotingClassifier\n",
        "nb1 = GaussianNB(priors=[0.4, 0.6], var_smoothing=1e-9)\n",
        "nb2 = GaussianNB(priors=[0.3, 0.7], var_smoothing=1e-8)\n",
        "nb3 = GaussianNB(priors=[0.2, 0.8], var_smoothing=1e-10)\n",
        "voting_clfnb = VotingClassifier(estimators=[('naivebayes1', nb1), ('naivebayes2', nb2), ('naivebayes3', nb3)], voting='hard')"
      ]
    },
    {
      "cell_type": "code",
      "execution_count": null,
      "metadata": {
        "id": "6sYBW206SPbb"
      },
      "outputs": [],
      "source": [
        "mlp1 = MLPClassifier(hidden_layer_sizes=(8,7),random_state=5,verbose=False,learning_rate_init=0.01,max_iter=1000)\n",
        "mlp2 = MLPClassifier(hidden_layer_sizes=(7,6),random_state=5,verbose=False,learning_rate_init=0.01,max_iter=1000)\n",
        "voting_clfmlp = VotingClassifier(estimators=[('multilp1', mlp1), ('multilp2', mlp2)], voting='hard')"
      ]
    },
    {
      "cell_type": "code",
      "execution_count": null,
      "metadata": {
        "id": "BL57iYFxPAkn"
      },
      "outputs": [],
      "source": [
        "clf1 = DecisionTreeClassifier(criterion='entropy',min_samples_leaf=10, max_depth=3)\n",
        "clf2 = DecisionTreeClassifier(criterion='gini',min_samples_leaf=15, max_depth=5)\n",
        "clf3 = DecisionTreeClassifier(criterion='entropy',min_samples_leaf=20, max_depth=4)\n",
        "voting_clfdt = VotingClassifier(estimators=[('clf1', clf1), ('clf2', clf2), ('clf3', clf3)], voting='hard')"
      ]
    },
    {
      "cell_type": "code",
      "execution_count": null,
      "metadata": {
        "id": "joJQ_u1qPC3d"
      },
      "outputs": [],
      "source": [
        "rfc1 = RandomForestClassifier(n_estimators=5, max_depth=3, min_samples_leaf=6,random_state=7)\n",
        "rfc2 = RandomForestClassifier(n_estimators=10, max_depth=4,min_samples_leaf=5, random_state=7)\n",
        "rfc3 = RandomForestClassifier(n_estimators=15, max_depth=5,min_samples_leaf=4, random_state=7)\n",
        "voting_clfrf = VotingClassifier(estimators=[('rf1', rfc1), ('rf2', rfc2), ('rf3', rfc3)], voting='hard')"
      ]
    },
    {
      "cell_type": "code",
      "execution_count": null,
      "metadata": {
        "id": "t7pJJAX5RWtQ"
      },
      "outputs": [],
      "source": [
        "svm1 = SVC(kernel='linear', C=0.01,gamma=10)\n",
        "svm2 = SVC(kernel='rbf', gamma=20.0, C=0.001)\n",
        "svm3 = SVC(kernel='poly', degree=2, C=0.1)\n",
        "voting_clfsvm = VotingClassifier(estimators=[('svm1', svm1), ('svm2', svm2), ('svm3', svm3)], voting='hard')"
      ]
    },
    {
      "cell_type": "code",
      "source": [
        "votingmodel=[]\n",
        "votingmodel.append(('MLP',VotingClassifier(estimators=[('multilp1', mlp1), ('multilp2', mlp2)], voting='hard')))\n",
        "votingmodel.append(('DT',VotingClassifier(estimators=[('clf1', clf1), ('clf3', clf3)], voting='hard')))\n",
        "votingmodel.append(('RF',VotingClassifier(estimators=[('rf1', rfc1), ('rf2', rfc2), ('rf3', rfc3)], voting='hard')))\n",
        "votingmodel.append(('SVC',VotingClassifier(estimators=[('svm1', svm1), ('svm2', svm2), ('svm3', svm3)], voting='hard')))"
      ],
      "metadata": {
        "id": "-C-wYBCSuL2H"
      },
      "execution_count": null,
      "outputs": []
    },
    {
      "cell_type": "markdown",
      "metadata": {
        "id": "GjwNOzhLOvfp"
      },
      "source": [
        "**10(K)-Fold**"
      ]
    },
    {
      "cell_type": "code",
      "execution_count": null,
      "metadata": {
        "colab": {
          "base_uri": "https://localhost:8080/"
        },
        "id": "Vwy-Yyx2sEwX",
        "outputId": "91856de8-ffdb-4e3c-dfa7-9ae02df8a2db"
      },
      "outputs": [
        {
          "output_type": "stream",
          "name": "stdout",
          "text": [
            "Voting(10-fold)- NB  0.8349012027491408\n",
            "Voting(10-fold)- MLP  0.8265571305841923\n",
            "Voting(10-fold)- DT  0.8524591924398626\n",
            "Voting(10-fold)- RF  0.8844394329896907\n",
            "Voting(10-fold)- SVC  0.7018256013745704\n"
          ]
        }
      ],
      "source": [
        "def votingclffold(voting_clf): \n",
        "  kfold = KFold(n_splits=10, shuffle=True, random_state=42) \n",
        "  scores = cross_val_score(voting_clf, X, y, cv=kfold)\n",
        "  accuracy=scores.mean()\n",
        "  return accuracy\n",
        "\n",
        "print(\"Voting(10-fold)- NB \",votingclffold(voting_clfnb))\n",
        "print(\"Voting(10-fold)- MLP \",votingclffold(voting_clfmlp))\n",
        "print(\"Voting(10-fold)- DT \",votingclffold(voting_clfdt))\n",
        "print(\"Voting(10-fold)- RF \",votingclffold(voting_clfrf))\n",
        "print(\"Voting(10-fold)- SVC \",votingclffold(voting_clfsvm))"
      ]
    },
    {
      "cell_type": "markdown",
      "metadata": {
        "id": "R3s9pCGvPG2S"
      },
      "source": [
        "**50-50**"
      ]
    },
    {
      "cell_type": "code",
      "execution_count": null,
      "metadata": {
        "id": "gOTp4RlnZiV7",
        "colab": {
          "base_uri": "https://localhost:8080/"
        },
        "outputId": "fb0f5877-f2be-4889-c859-0aae4bb3b166"
      },
      "outputs": [
        {
          "output_type": "execute_result",
          "data": {
            "text/plain": [
              "(484, 13)"
            ]
          },
          "metadata": {},
          "execution_count": 42
        }
      ],
      "source": [
        "x_train, x_test, y_train, y_test = train_test_split(X, y, test_size=0.50, random_state=43)\n",
        "traindf=pd.DataFrame(x_train)\n",
        "traindf.shape"
      ]
    },
    {
      "cell_type": "code",
      "execution_count": null,
      "metadata": {
        "id": "NJdJZCrzkf1c",
        "colab": {
          "base_uri": "https://localhost:8080/"
        },
        "outputId": "c3d51628-df14-48e0-eb07-eb50c119bbd2"
      },
      "outputs": [
        {
          "output_type": "stream",
          "name": "stdout",
          "text": [
            "Voting(50-50)- NB  0.8164948453608247\n"
          ]
        }
      ],
      "source": [
        "from sklearn.naive_bayes import GaussianNB\n",
        "X_train_df = pd.DataFrame(x_train)\n",
        "X_test_df = pd.DataFrame(x_test)\n",
        "nb1.fit(X_train_df.iloc[:100], y_train[:100])\n",
        "nb2.fit(X_train_df.iloc[100:250], y_train[100:250])\n",
        "nb3.fit(X_train_df.iloc[250:484], y_train[250:484])\n",
        "ensemble = VotingClassifier(estimators=[('nb1', nb1), ('nb2', nb2),('nb3', nb3)], voting='hard')\n",
        "ensemble.fit(X_train_df, y_train)\n",
        "accuracy = ensemble.score(x_test, y_test)\n",
        "print(\"Voting(50-50)- NB \",(accuracy))"
      ]
    },
    {
      "cell_type": "code",
      "execution_count": null,
      "metadata": {
        "id": "wLHeiWLppsGj",
        "colab": {
          "base_uri": "https://localhost:8080/"
        },
        "outputId": "6125185e-1cde-45f2-c613-b1d3b8791201"
      },
      "outputs": [
        {
          "output_type": "stream",
          "name": "stdout",
          "text": [
            "Voting(50-50)- MLP  0.845360824742268\n",
            "Voting(50-50)- DT  0.8268041237113402\n",
            "Voting(50-50)- RF  0.8783505154639175\n",
            "Voting(50-50)- SVC  0.6783505154639176\n"
          ]
        }
      ],
      "source": [
        "from sklearn.ensemble import VotingClassifier\n",
        "from sklearn.metrics import accuracy_score\n",
        "\n",
        "def votingclf_fiftysplit(voting_clf):\n",
        "  x_train, x_test, y_train, y_test = train_test_split(X, y, test_size=0.50, random_state=43)\n",
        "  voting_clf.fit(x_train, y_train)\n",
        "  y_pred = voting_clf.predict(x_test)\n",
        "  accuracy = accuracy_score(y_test, y_pred)\n",
        "  return accuracy\n",
        "\n",
        "print(\"Voting(50-50)- MLP \",votingclf_fiftysplit(voting_clfmlp))\n",
        "print(\"Voting(50-50)- DT \",votingclf_fiftysplit(voting_clfdt))\n",
        "print(\"Voting(50-50)- RF \",votingclf_fiftysplit(voting_clfrf))\n",
        "print(\"Voting(50-50)- SVC \",votingclf_fiftysplit(voting_clfsvm))"
      ]
    },
    {
      "cell_type": "markdown",
      "metadata": {
        "id": "Ih8VQlcLZo5F"
      },
      "source": [
        "**60-40**"
      ]
    },
    {
      "cell_type": "code",
      "execution_count": null,
      "metadata": {
        "id": "MzQSVVg-PjJu",
        "colab": {
          "base_uri": "https://localhost:8080/"
        },
        "outputId": "fa2b43b3-a59d-46c8-f110-cff5cca0ff34"
      },
      "outputs": [
        {
          "output_type": "execute_result",
          "data": {
            "text/plain": [
              "(581, 13)"
            ]
          },
          "metadata": {},
          "execution_count": 45
        }
      ],
      "source": [
        "x_train, x_test, y_train, y_test = train_test_split(X, y, test_size=0.40, random_state=43)\n",
        "traindf=pd.DataFrame(x_train)\n",
        "traindf.shape"
      ]
    },
    {
      "cell_type": "code",
      "execution_count": null,
      "metadata": {
        "id": "EPVgulGFwc2w",
        "colab": {
          "base_uri": "https://localhost:8080/"
        },
        "outputId": "7ecb215a-fc8c-47f8-dd8a-3c5ca1122aa3"
      },
      "outputs": [
        {
          "output_type": "stream",
          "name": "stdout",
          "text": [
            "Voting(60-40)- NB  0.8170103092783505\n"
          ]
        }
      ],
      "source": [
        "X_train_df = pd.DataFrame(x_train)\n",
        "X_test_df = pd.DataFrame(x_test)\n",
        "nb1.fit(X_train_df.iloc[:200], y_train[:200])\n",
        "nb2.fit(X_train_df.iloc[200:400], y_train[200:400])\n",
        "nb3.fit(X_train_df.iloc[400:584], y_train[400:584])\n",
        "ensemble = VotingClassifier(estimators=[('nb1', nb1), ('nb2', nb2),('nb3', nb3)], voting='hard')\n",
        "ensemble.fit(X_train_df, y_train)\n",
        "accuracy = ensemble.score(x_test, y_test)\n",
        "print(\"Voting(60-40)- NB \",(accuracy))"
      ]
    },
    {
      "cell_type": "code",
      "execution_count": null,
      "metadata": {
        "id": "af07EjqBp3be",
        "colab": {
          "base_uri": "https://localhost:8080/"
        },
        "outputId": "9954c1a2-2a6b-47f3-feb7-73de65870962"
      },
      "outputs": [
        {
          "output_type": "stream",
          "name": "stdout",
          "text": [
            "Voting(60-40)- MLP  0.8221649484536082\n",
            "Voting(60-40)- DT  0.8092783505154639\n",
            "Voting(60-40)- RF  0.8737113402061856\n",
            "Voting(60-40)- SVC  0.6649484536082474\n"
          ]
        }
      ],
      "source": [
        "def votingclf_sixtysplit(voting_clf):\n",
        "  x_train, x_test, y_train, y_test = train_test_split(X, y, test_size=0.40, random_state=43)\n",
        "  voting_clf.fit(x_train, y_train)\n",
        "  y_pred = voting_clf.predict(x_test)\n",
        "  accuracy = accuracy_score(y_test, y_pred)\n",
        "  return accuracy\n",
        "\n",
        "print(\"Voting(60-40)- MLP \",votingclf_sixtysplit(voting_clfmlp))\n",
        "print(\"Voting(60-40)- DT \",votingclf_sixtysplit(voting_clfdt))\n",
        "print(\"Voting(60-40)- RF \",votingclf_sixtysplit(voting_clfrf))\n",
        "print(\"Voting(60-40)- SVC \",votingclf_sixtysplit(voting_clfsvm))"
      ]
    },
    {
      "cell_type": "markdown",
      "metadata": {
        "id": "59ALSm13P3m8"
      },
      "source": [
        "**70-30**"
      ]
    },
    {
      "cell_type": "code",
      "execution_count": null,
      "metadata": {
        "id": "yZXW2J3pP-SH",
        "colab": {
          "base_uri": "https://localhost:8080/"
        },
        "outputId": "19f94f96-ee6c-47d6-b057-ccec1cef7ee3"
      },
      "outputs": [
        {
          "output_type": "execute_result",
          "data": {
            "text/plain": [
              "(678, 13)"
            ]
          },
          "metadata": {},
          "execution_count": 48
        }
      ],
      "source": [
        "x_train, x_test, y_train, y_test = train_test_split(X, y, test_size=0.30, random_state=43)\n",
        "traindf=pd.DataFrame(x_train)\n",
        "traindf.shape"
      ]
    },
    {
      "cell_type": "code",
      "execution_count": null,
      "metadata": {
        "id": "vRDNtkQVwzm2",
        "colab": {
          "base_uri": "https://localhost:8080/"
        },
        "outputId": "abea6707-2015-424d-f14e-60e3b360a852"
      },
      "outputs": [
        {
          "output_type": "stream",
          "name": "stdout",
          "text": [
            "Voting(70-30)- NB  0.8350515463917526\n"
          ]
        }
      ],
      "source": [
        "X_train_df = pd.DataFrame(x_train)\n",
        "X_test_df = pd.DataFrame(x_test)\n",
        "nb1.fit(X_train_df.iloc[:200], y_train[:200])\n",
        "nb2.fit(X_train_df.iloc[200:400], y_train[200:400])\n",
        "nb3.fit(X_train_df.iloc[400:678], y_train[400:678])\n",
        "ensemble = VotingClassifier(estimators=[('nb1', nb1), ('nb2', nb2),('nb3',nb3)], voting='hard')\n",
        "ensemble.fit(X_train_df, y_train)\n",
        "accuracy = ensemble.score(x_test, y_test)\n",
        "print(\"Voting(70-30)- NB \",(accuracy))"
      ]
    },
    {
      "cell_type": "code",
      "execution_count": null,
      "metadata": {
        "id": "qaTU9RNEqDDf",
        "colab": {
          "base_uri": "https://localhost:8080/"
        },
        "outputId": "2d5370e0-0d30-407f-9cee-51f5c6e13c0a"
      },
      "outputs": [
        {
          "output_type": "stream",
          "name": "stdout",
          "text": [
            "Voting(70-30)- MLP  0.8591065292096219\n",
            "Voting(70-30)- DT  0.8178694158075601\n",
            "Voting(70-30)- RF  0.9072164948453608\n",
            "Voting(70-30)- SVM  0.6701030927835051\n"
          ]
        }
      ],
      "source": [
        "def votingclf_seventysplit(voting_clf):\n",
        "  x_train, x_test, y_train, y_test = train_test_split(X, y, test_size=0.30, random_state=43)\n",
        "  voting_clf.fit(x_train, y_train)\n",
        "  y_pred = voting_clf.predict(x_test)\n",
        "  accuracy = accuracy_score(y_test, y_pred)\n",
        "  return accuracy\n",
        "\n",
        "print(\"Voting(70-30)- MLP \",votingclf_seventysplit(voting_clfmlp))\n",
        "print(\"Voting(70-30)- DT \",votingclf_seventysplit(voting_clfdt))\n",
        "print(\"Voting(70-30)- RF \",votingclf_seventysplit(voting_clfrf))\n",
        "print(\"Voting(70-30)- SVM \",votingclf_seventysplit(voting_clfsvm))"
      ]
    },
    {
      "cell_type": "markdown",
      "metadata": {
        "id": "wr9YbyNnQG6j"
      },
      "source": [
        "**80-20**"
      ]
    },
    {
      "cell_type": "code",
      "execution_count": null,
      "metadata": {
        "id": "RzucucEdQNId",
        "colab": {
          "base_uri": "https://localhost:8080/"
        },
        "outputId": "1f98f99b-522a-42a7-901e-7f3faa77993e"
      },
      "outputs": [
        {
          "output_type": "execute_result",
          "data": {
            "text/plain": [
              "(775, 13)"
            ]
          },
          "metadata": {},
          "execution_count": 51
        }
      ],
      "source": [
        "\n",
        "x_train, x_test, y_train, y_test = train_test_split(X, y, test_size=0.20, random_state=43)\n",
        "traindf=pd.DataFrame(x_train)\n",
        "traindf.shape"
      ]
    },
    {
      "cell_type": "code",
      "execution_count": null,
      "metadata": {
        "id": "j4H4kGWuxXrS",
        "colab": {
          "base_uri": "https://localhost:8080/"
        },
        "outputId": "6ca1ca84-b3fa-4e21-819c-b63f04d06fa8"
      },
      "outputs": [
        {
          "output_type": "stream",
          "name": "stdout",
          "text": [
            "Voting(80-20)- NB Accuracy  0.8556701030927835\n",
            "Voting(80-20)- NB Precision 0.8556701030927835\n",
            "Voting(80-20)- NB Fi Score 0.8727272727272727\n",
            "Voting(80-20)- NB Recall 0.8556701030927835\n",
            "Voting(80-20)- NB ROC 0.8504273504273504\n"
          ]
        }
      ],
      "source": [
        "from sklearn.metrics import roc_curve, auc\n",
        "X_train_df = pd.DataFrame(x_train)\n",
        "X_test_df = pd.DataFrame(x_test)\n",
        "nb1.fit(X_train_df.iloc[:250], y_train[:250])\n",
        "nb2.fit(X_train_df.iloc[250:450], y_train[250:450])\n",
        "nb3.fit(X_train_df.iloc[450:775], y_train[450:775])\n",
        "ensemble = VotingClassifier(estimators=[('nb1', nb1), ('nb2', nb2),('nb3',nb3)], voting='hard')\n",
        "ensemble.fit(X_train_df, y_train)\n",
        "accuracy = ensemble.score(x_test, y_test)\n",
        "y_pred = ensemble.predict(x_test)\n",
        "fpr, tpr, _ = roc_curve(y_test, y_pred)\n",
        "rocc=auc(fpr, tpr)\n",
        "print(\"Voting(80-20)- NB Accuracy \",(accuracy))\n",
        "print(\"Voting(80-20)- NB Precision\",(metrics.precision_score(y_test, y_pred,average='micro')))\n",
        "print(\"Voting(80-20)- NB Fi Score\",(metrics.f1_score(y_test, y_pred)))\n",
        "print(\"Voting(80-20)- NB Recall\",(metrics.recall_score(y_test, y_pred,average='weighted')))\n",
        "print(\"Voting(80-20)- NB ROC\",(rocc))"
      ]
    },
    {
      "cell_type": "code",
      "execution_count": null,
      "metadata": {
        "id": "-W4Q8F2iqD-x",
        "colab": {
          "base_uri": "https://localhost:8080/"
        },
        "outputId": "adc3ee25-5403-48ee-86c4-b030538f42b8"
      },
      "outputs": [
        {
          "output_type": "stream",
          "name": "stdout",
          "text": [
            "\n",
            "ACCURACY\n",
            "Voting(80-20)-  MLP 0.8711340206185567\n",
            "Voting(80-20)-  DT 0.8247422680412371\n",
            "Voting(80-20)-  RF 0.8814432989690721\n",
            "Voting(80-20)-  SVC 0.6958762886597938\n",
            "\n",
            "PRECISION\n",
            "Voting(80-20)-  MLP 0.8623853211009175\n",
            "Voting(80-20)-  DT 0.926829268292683\n",
            "Voting(80-20)-  RF 0.8785046728971962\n",
            "Voting(80-20)-  SVC 0.643312101910828\n",
            "\n",
            "F1 SCORE\n",
            "Voting(80-20)-  MLP 0.8826291079812206\n",
            "Voting(80-20)-  DT 0.8172043010752689\n",
            "Voting(80-20)-  RF 0.8909952606635071\n",
            "Voting(80-20)-  SVC 0.7739463601532568\n",
            "\n",
            "RECALL\n",
            "Voting(80-20)-  MLP 0.9038461538461539\n",
            "Voting(80-20)-  DT 0.7307692307692307\n",
            "Voting(80-20)-  RF 0.9038461538461539\n",
            "Voting(80-20)-  SVC 0.9711538461538461\n",
            "\n",
            "ROC\n",
            "Voting(80-20)-  MLP 0.8685897435897435\n",
            "Voting(80-20)-  DT 0.8320512820512821\n",
            "Voting(80-20)-  RF 0.8797008547008547\n",
            "Voting(80-20)-  SVC 0.674465811965812\n"
          ]
        }
      ],
      "source": [
        "from sklearn.metrics import roc_curve, auc\n",
        "from sklearn import metrics\n",
        "def votingclf_eightysplit_acc(voting_clf):\n",
        "  x_train, x_test, y_train, y_test = train_test_split(X, y, test_size=0.20, random_state=43)\n",
        "  voting_clf.fit(x_train, y_train)\n",
        "  y_pred = voting_clf.predict(x_test)\n",
        "  accuracy = metrics.accuracy_score(y_test, y_pred)\n",
        "  return accuracy\n",
        "print(\"\\nACCURACY\")\n",
        "for estimator in votingmodel:\n",
        "  print(\"Voting(80-20)- \",estimator[0],votingclf_eightysplit_acc(estimator[1]))\n",
        "\n",
        "def votingclf_eightysplit_pre(voting_clf):\n",
        "  x_train, x_test, y_train, y_test = train_test_split(X, y, test_size=0.20, random_state=43)\n",
        "  voting_clf.fit(x_train, y_train)\n",
        "  y_pred = voting_clf.predict(x_test)\n",
        "  precision = metrics.precision_score(y_test, y_pred)\n",
        "  return precision\n",
        "print(\"\\nPRECISION\")\n",
        "for estimator in votingmodel:\n",
        "  print(\"Voting(80-20)- \",estimator[0],votingclf_eightysplit_pre(estimator[1]))\n",
        "\n",
        "def votingclf_eightysplit_f1(voting_clf):\n",
        "  x_train, x_test, y_train, y_test = train_test_split(X, y, test_size=0.20, random_state=43)\n",
        "  voting_clf.fit(x_train, y_train)\n",
        "  y_pred = voting_clf.predict(x_test)\n",
        "  f1 = metrics.f1_score(y_test, y_pred)\n",
        "  return f1\n",
        "print(\"\\nF1 SCORE\")\n",
        "for estimator in votingmodel:\n",
        "  print(\"Voting(80-20)- \",estimator[0],votingclf_eightysplit_f1(estimator[1]))\n",
        "\n",
        "def votingclf_eightysplit_rec(voting_clf):\n",
        "  x_train, x_test, y_train, y_test = train_test_split(X, y, test_size=0.20, random_state=43)\n",
        "  voting_clf.fit(x_train, y_train)\n",
        "  y_pred = voting_clf.predict(x_test)\n",
        "  recall = metrics.recall_score(y_test, y_pred)\n",
        "  return recall\n",
        "print(\"\\nRECALL\")\n",
        "for estimator in votingmodel:\n",
        "  print(\"Voting(80-20)- \",estimator[0],votingclf_eightysplit_rec(estimator[1]))\n",
        "\n",
        "\n",
        "def votingclf_eightysplit_roc(voting_clf):\n",
        "  x_train, x_test, y_train, y_test = train_test_split(X, y, test_size=0.20, random_state=43)\n",
        "  voting_clf.fit(x_train, y_train)\n",
        "  y_pred = voting_clf.predict(x_test)\n",
        "  fpr, tpr, _ = roc_curve(y_test, y_pred)\n",
        "  rocc=auc(fpr, tpr)\n",
        "  return rocc\n",
        "print(\"\\nROC\")\n",
        "for estimator in votingmodel:\n",
        "  print(\"Voting(80-20)- \",estimator[0],votingclf_eightysplit_roc(estimator[1]))"
      ]
    },
    {
      "cell_type": "markdown",
      "metadata": {
        "id": "lVSsLmV7Iq9V"
      },
      "source": [
        "# **BAGGING IMPLEMENTATION**"
      ]
    },
    {
      "cell_type": "code",
      "execution_count": null,
      "metadata": {
        "id": "VRVuG83p_9aE"
      },
      "outputs": [],
      "source": [
        "from sklearn.model_selection import cross_val_score\n",
        "from sklearn.ensemble import BaggingClassifier"
      ]
    },
    {
      "cell_type": "code",
      "source": [
        "models_new=[]\n",
        "models_new.append(('NB',GaussianNB(var_smoothing = 8.111308307896872e-15)))\n",
        "models_new.append(('MLP', MLPClassifier(activation='relu', alpha=0.001, hidden_layer_sizes=(8,4), learning_rate_init=0.01, random_state=42)))\n",
        "models_new.append(('DT',DecisionTreeClassifier(criterion='entropy',max_depth=3,min_samples_leaf= 20,random_state=42)))\n",
        "models_new.append(('RF',RandomForestClassifier(n_estimators=5,min_samples_leaf=20,max_depth=3,random_state=42)))\n",
        "models_new.append(('SVM',SVC(kernel='linear',gamma = 20,C= 0.0001,random_state=42)))"
      ],
      "metadata": {
        "id": "3H4xgtmOoi9L"
      },
      "execution_count": null,
      "outputs": []
    },
    {
      "cell_type": "markdown",
      "metadata": {
        "id": "0uyE_DqxIzjK"
      },
      "source": [
        "**10(K)-fold**"
      ]
    },
    {
      "cell_type": "code",
      "execution_count": null,
      "metadata": {
        "colab": {
          "base_uri": "https://localhost:8080/"
        },
        "id": "8g6IamxHA052",
        "outputId": "dffe6473-abd0-4467-9aba-e79b421bc34e"
      },
      "outputs": [
        {
          "output_type": "stream",
          "name": "stdout",
          "text": [
            "Bagging(10-fold)-  NB 0.8410975085910651\n",
            "Bagging(10-fold)-  MLP 0.8266215635738832\n",
            "Bagging(10-fold)-  DT 0.8421284364261167\n",
            "Bagging(10-fold)-  RF 0.8390034364261169\n",
            "Bagging(10-fold)-  SVM 0.7079574742268041\n"
          ]
        }
      ],
      "source": [
        "from sklearn.model_selection import KFold\n",
        "from sklearn.ensemble import BaggingClassifier\n",
        "from sklearn.tree import DecisionTreeClassifier\n",
        "\n",
        "for estimator in models_new:\n",
        "    bagging_clf = BaggingClassifier(base_estimator=estimator[1],n_estimators=15,max_features=13,max_samples=200,bootstrap=True, random_state=42)\n",
        "    kf = KFold(n_splits=10, shuffle=True)\n",
        "    all_predictions = []\n",
        "    for train_index, test_index in kf.split(X):\n",
        "      X_train, X_test = X[train_index], X[test_index]\n",
        "      y_train, y_test = y[train_index], y[test_index]\n",
        "      bagging_clf.fit(X_train, y_train)\n",
        "      predictions = bagging_clf.predict(X_test)\n",
        "      all_predictions.append(metrics.accuracy_score(y_test,predictions))\n",
        "    final_predictions = np.mean(all_predictions, axis=0)\n",
        "    print(\"Bagging(10-fold)- \",estimator[0], final_predictions)\n"
      ]
    },
    {
      "cell_type": "markdown",
      "metadata": {
        "id": "FCfwaRvqI3hb"
      },
      "source": [
        "**50-50**"
      ]
    },
    {
      "cell_type": "code",
      "execution_count": null,
      "metadata": {
        "colab": {
          "base_uri": "https://localhost:8080/"
        },
        "id": "ROxOLQewAwHc",
        "outputId": "4b488c3a-b3c5-4bcc-adad-ef7957525d37"
      },
      "outputs": [
        {
          "output_type": "stream",
          "name": "stdout",
          "text": [
            "Bagging(50-50)-  NB 0.8329896907216495\n",
            "Bagging(50-50)-  MLP 0.8020618556701031\n",
            "Bagging(50-50)-  DT 0.8309278350515464\n",
            "Bagging(50-50)-  RF 0.822680412371134\n",
            "Bagging(50-50)-  SVM 0.6824742268041237\n"
          ]
        }
      ],
      "source": [
        "x_train, x_test, y_train, y_test = train_test_split(X, y, test_size=0.50, random_state=43)\n",
        "for estimator in models_new:\n",
        "    bagging_clf = BaggingClassifier(base_estimator=estimator[1],n_estimators=15,max_features=13,max_samples=200,bootstrap=True, random_state=42)\n",
        "    bagging_clf.fit(x_train, y_train)\n",
        "    y_pred=bagging_clf.predict(x_test)\n",
        "    print(\"Bagging(50-50)- \",estimator[0], metrics.accuracy_score(y_pred, y_test))"
      ]
    },
    {
      "cell_type": "markdown",
      "metadata": {
        "id": "zMNjRGZWI74K"
      },
      "source": [
        "**60-40**"
      ]
    },
    {
      "cell_type": "code",
      "execution_count": null,
      "metadata": {
        "colab": {
          "base_uri": "https://localhost:8080/"
        },
        "id": "iGBc6KTm_0CR",
        "outputId": "abcc8ded-9895-4c7b-ca80-f2549979009d"
      },
      "outputs": [
        {
          "output_type": "stream",
          "name": "stdout",
          "text": [
            "Bagging(60-40)-  NB 0.8273195876288659\n",
            "Bagging(60-40)-  MLP 0.7938144329896907\n",
            "Bagging(60-40)-  DT 0.8350515463917526\n",
            "Bagging(60-40)-  RF 0.8273195876288659\n",
            "Bagging(60-40)-  SVM 0.6726804123711341\n"
          ]
        }
      ],
      "source": [
        "x_train, x_test, y_train, y_test = train_test_split(X, y, test_size=0.40, random_state=43)\n",
        "for estimator in models_new:\n",
        "    bagging_clf = BaggingClassifier(base_estimator=estimator[1],n_estimators=15,max_features=13,max_samples=200,bootstrap=True, random_state=42)\n",
        "    bagging_clf.fit(x_train, y_train)\n",
        "    y_pred=bagging_clf.predict(x_test)\n",
        "    print(\"Bagging(60-40)- \",estimator[0], metrics.accuracy_score(y_pred, y_test))"
      ]
    },
    {
      "cell_type": "markdown",
      "metadata": {
        "id": "tvy3KXktI-Z6"
      },
      "source": [
        "**70-30**"
      ]
    },
    {
      "cell_type": "code",
      "execution_count": null,
      "metadata": {
        "colab": {
          "base_uri": "https://localhost:8080/"
        },
        "id": "0M5vZIpiAS8Y",
        "outputId": "26cbf725-05be-4a54-d866-fbc0ea211f87"
      },
      "outputs": [
        {
          "output_type": "stream",
          "name": "stdout",
          "text": [
            "Bagging(70-30)-  NB 0.8556701030927835\n",
            "Bagging(70-30)-  MLP 0.8144329896907216\n",
            "Bagging(70-30)-  DT 0.8316151202749141\n",
            "Bagging(70-30)-  RF 0.8384879725085911\n",
            "Bagging(70-30)-  SVM 0.7147766323024055\n"
          ]
        }
      ],
      "source": [
        "x_train, x_test, y_train, y_test = train_test_split(X, y, test_size=0.30, random_state=43)\n",
        "for estimator in models_new:\n",
        "    bagging_clf = BaggingClassifier(base_estimator=estimator[1],n_estimators=15,max_features=13,max_samples=200,bootstrap=True, random_state=42)\n",
        "    bagging_clf.fit(x_train, y_train)\n",
        "    y_pred=bagging_clf.predict(x_test)\n",
        "    print(\"Bagging(70-30)- \",estimator[0], metrics.accuracy_score(y_pred, y_test))"
      ]
    },
    {
      "cell_type": "markdown",
      "metadata": {
        "id": "n9qhRJiBJArA"
      },
      "source": [
        "**80-20**"
      ]
    },
    {
      "cell_type": "code",
      "execution_count": null,
      "metadata": {
        "colab": {
          "base_uri": "https://localhost:8080/"
        },
        "id": "VfTlO3099rTJ",
        "outputId": "e25a6098-5b64-44a4-a37b-161378716630"
      },
      "outputs": [
        {
          "output_type": "stream",
          "name": "stdout",
          "text": [
            "\n",
            "ACCURACY\n",
            "Bagging(80-20)-  NB 0.8505154639175257\n",
            "Bagging(80-20)-  MLP 0.8865979381443299\n",
            "Bagging(80-20)-  DT 0.8865979381443299\n",
            "Bagging(80-20)-  RF 0.8865979381443299\n",
            "Bagging(80-20)-  SVM 0.7061855670103093\n",
            "\n",
            "PRECISION\n",
            "Bagging(80-20)-  NB 0.8505154639175257\n",
            "Bagging(80-20)-  MLP 0.8865979381443299\n",
            "Bagging(80-20)-  DT 0.8865979381443299\n",
            "Bagging(80-20)-  RF 0.8865979381443299\n",
            "Bagging(80-20)-  SVM 0.7061855670103093\n",
            "\n",
            "F1 SCORE\n",
            "Bagging(80-20)-  NB 0.867579908675799\n",
            "Bagging(80-20)-  MLP 0.8962264150943395\n",
            "Bagging(80-20)-  DT 0.8942307692307693\n",
            "Bagging(80-20)-  RF 0.8981481481481481\n",
            "Bagging(80-20)-  SVM 0.7298578199052134\n",
            "\n",
            "RECALL\n",
            "Bagging(80-20)-  NB 0.8505154639175257\n",
            "Bagging(80-20)-  MLP 0.8865979381443299\n",
            "Bagging(80-20)-  DT 0.8865979381443299\n",
            "Bagging(80-20)-  RF 0.8865979381443299\n",
            "Bagging(80-20)-  SVM 0.7061855670103093\n",
            "\n",
            "ROC\n",
            "Bagging(80-20)-  NB 0.845619658119658\n",
            "Bagging(80-20)-  MLP 0.884508547008547\n",
            "Bagging(80-20)-  DT 0.8860042735042735\n",
            "Bagging(80-20)-  RF 0.8830128205128205\n",
            "Bagging(80-20)-  SVM 0.7035256410256411\n"
          ]
        }
      ],
      "source": [
        "from sklearn import metrics\n",
        "from sklearn.metrics import roc_curve, auc\n",
        "print(\"\\nACCURACY\")\n",
        "x_train, x_test, y_train, y_test = train_test_split(X, y, test_size=0.20, random_state=43)\n",
        "for estimator in models_new:\n",
        "    bagging_clf = BaggingClassifier(base_estimator=estimator[1],n_estimators=15,max_features=13,max_samples=200,bootstrap=True, random_state=42)\n",
        "    bagging_clf.fit(x_train, y_train)\n",
        "    y_pred=bagging_clf.predict(x_test)\n",
        "    accuracy = metrics.accuracy_score(y_test, y_pred)\n",
        "    print(\"Bagging(80-20)- \",estimator[0], accuracy)\n",
        "\n",
        "print(\"\\nPRECISION\")\n",
        "for estimator in models_new:\n",
        "    bagging_clf = BaggingClassifier(base_estimator=estimator[1],n_estimators=15,max_features=13,max_samples=200,bootstrap=True, random_state=42)\n",
        "    bagging_clf.fit(x_train, y_train)\n",
        "    y_pred = bagging_clf.predict(x_test)\n",
        "    precision = metrics.precision_score(y_test, y_pred,average='micro')\n",
        "    print(\"Bagging(80-20)- \",estimator[0], precision)\n",
        "\n",
        "print(\"\\nF1 SCORE\")\n",
        "for estimator in models_new:\n",
        "    bagging_clf = BaggingClassifier(base_estimator=estimator[1],n_estimators=15,max_features=13,max_samples=200,bootstrap=True, random_state=42)\n",
        "    bagging_clf.fit(x_train, y_train)\n",
        "    y_pred = bagging_clf.predict(x_test)\n",
        "    f1score = metrics.f1_score(y_test,y_pred)\n",
        "    print(\"Bagging(80-20)- \",estimator[0], f1score)\n",
        "  \n",
        "print(\"\\nRECALL\")\n",
        "for estimator in models_new:\n",
        "    bagging_clf = BaggingClassifier(base_estimator=estimator[1],n_estimators=15,max_features=13,max_samples=200,bootstrap=True, random_state=42)\n",
        "    bagging_clf.fit(x_train, y_train)\n",
        "    y_pred = bagging_clf.predict(x_test)\n",
        "    recall = metrics.recall_score(y_test, y_pred,average='micro')\n",
        "    print(\"Bagging(80-20)- \",estimator[0], recall)\n",
        "\n",
        "print(\"\\nROC\")\n",
        "for estimator in models_new:\n",
        "    bagging_clf = BaggingClassifier(base_estimator=estimator[1],n_estimators=15,max_features=13,max_samples=200,bootstrap=True, random_state=42)\n",
        "    bagging_clf.fit(x_train, y_train)\n",
        "    y_pred = bagging_clf.predict(x_test)\n",
        "    fpr, tpr, _ = roc_curve(y_test, y_pred)\n",
        "    rocc=auc(fpr, tpr)\n",
        "    print(\"Bagging(80-20)- \",estimator[0], rocc)"
      ]
    },
    {
      "cell_type": "code",
      "source": [],
      "metadata": {
        "id": "EqDMI6Iq1_43"
      },
      "execution_count": null,
      "outputs": []
    }
  ],
  "metadata": {
    "colab": {
      "provenance": []
    },
    "kernelspec": {
      "display_name": "Python 3",
      "name": "python3"
    },
    "language_info": {
      "name": "python"
    }
  },
  "nbformat": 4,
  "nbformat_minor": 0
}